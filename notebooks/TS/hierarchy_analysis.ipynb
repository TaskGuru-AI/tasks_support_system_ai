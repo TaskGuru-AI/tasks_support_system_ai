{
 "cells": [
  {
   "cell_type": "code",
   "execution_count": 1,
   "metadata": {},
   "outputs": [],
   "source": [
    "import pandas as pd\n",
    "import matplotlib.pyplot as plt\n",
    "import seaborn as sns\n",
    "from tasks_support_system_ai.utils import get_correct_data_path\n",
    "from tasks_support_system_ai.readers import (\n",
    "    read_ts_tree,\n",
    "    ts_read_daily_tickets,\n",
    "    get_proper_tree,\n",
    ")"
   ]
  },
  {
   "cell_type": "markdown",
   "metadata": {},
   "source": [
    "У нас есть два датасета:\n",
    "- подневные агрегаты кол-ва тикетов в разрезе очереди\n",
    "- иерархия тикетов"
   ]
  },
  {
   "cell_type": "code",
   "execution_count": 2,
   "metadata": {},
   "outputs": [],
   "source": [
    "df = ts_read_daily_tickets(get_correct_data_path(\"tickets_daily/tickets_daily.csv\"))\n",
    "tree = read_ts_tree(get_correct_data_path(\"dataset_tickets_timeseries/tree_queue.tsv\"))"
   ]
  },
  {
   "cell_type": "markdown",
   "metadata": {},
   "source": [
    "### Краткий обзор данных по кол-ву тикетов"
   ]
  },
  {
   "cell_type": "code",
   "execution_count": 3,
   "metadata": {},
   "outputs": [
    {
     "data": {
      "text/html": [
       "<div>\n",
       "<style scoped>\n",
       "    .dataframe tbody tr th:only-of-type {\n",
       "        vertical-align: middle;\n",
       "    }\n",
       "\n",
       "    .dataframe tbody tr th {\n",
       "        vertical-align: top;\n",
       "    }\n",
       "\n",
       "    .dataframe thead th {\n",
       "        text-align: right;\n",
       "    }\n",
       "</style>\n",
       "<table border=\"1\" class=\"dataframe\">\n",
       "  <thead>\n",
       "    <tr style=\"text-align: right;\">\n",
       "      <th></th>\n",
       "      <th>queueId</th>\n",
       "      <th>date</th>\n",
       "      <th>new_tickets</th>\n",
       "    </tr>\n",
       "  </thead>\n",
       "  <tbody>\n",
       "    <tr>\n",
       "      <th>0</th>\n",
       "      <td>1</td>\n",
       "      <td>2017-01-01</td>\n",
       "      <td>15</td>\n",
       "    </tr>\n",
       "    <tr>\n",
       "      <th>1</th>\n",
       "      <td>1</td>\n",
       "      <td>2017-01-02</td>\n",
       "      <td>26</td>\n",
       "    </tr>\n",
       "    <tr>\n",
       "      <th>2</th>\n",
       "      <td>1</td>\n",
       "      <td>2017-01-03</td>\n",
       "      <td>25</td>\n",
       "    </tr>\n",
       "    <tr>\n",
       "      <th>3</th>\n",
       "      <td>1</td>\n",
       "      <td>2017-01-04</td>\n",
       "      <td>29</td>\n",
       "    </tr>\n",
       "    <tr>\n",
       "      <th>4</th>\n",
       "      <td>1</td>\n",
       "      <td>2017-01-05</td>\n",
       "      <td>26</td>\n",
       "    </tr>\n",
       "  </tbody>\n",
       "</table>\n",
       "</div>"
      ],
      "text/plain": [
       "   queueId       date  new_tickets\n",
       "0        1 2017-01-01           15\n",
       "1        1 2017-01-02           26\n",
       "2        1 2017-01-03           25\n",
       "3        1 2017-01-04           29\n",
       "4        1 2017-01-05           26"
      ]
     },
     "execution_count": 3,
     "metadata": {},
     "output_type": "execute_result"
    }
   ],
   "source": [
    "df.head()"
   ]
  },
  {
   "cell_type": "code",
   "execution_count": 4,
   "metadata": {},
   "outputs": [
    {
     "data": {
      "text/plain": [
       "(418327, 3)"
      ]
     },
     "execution_count": 4,
     "metadata": {},
     "output_type": "execute_result"
    }
   ],
   "source": [
    "df.shape"
   ]
  },
  {
   "cell_type": "code",
   "execution_count": 5,
   "metadata": {},
   "outputs": [
    {
     "name": "stdout",
     "output_type": "stream",
     "text": [
      "Данные с 2017-01-01 по 2020-09-30, 1369 дней\n"
     ]
    }
   ],
   "source": [
    "dmin, dmax = df[\"date\"].min().date(), df[\"date\"].max().date()\n",
    "print(f\"Данные с {dmin} по {dmax}, {(dmax-dmin).days + 1} дней\")"
   ]
  },
  {
   "cell_type": "markdown",
   "metadata": {},
   "source": [
    "В среднем на день приходилось 11 тысяч тикетов"
   ]
  },
  {
   "cell_type": "code",
   "execution_count": 6,
   "metadata": {},
   "outputs": [
    {
     "data": {
      "text/plain": [
       "count     1369.0\n",
       "mean     11279.0\n",
       "std       5814.0\n",
       "min       1648.0\n",
       "25%       6745.0\n",
       "50%       9821.0\n",
       "75%      14395.0\n",
       "max      31888.0\n",
       "Name: new_tickets, dtype: float64"
      ]
     },
     "execution_count": 6,
     "metadata": {},
     "output_type": "execute_result"
    }
   ],
   "source": [
    "df_total = df.groupby(\"date\")[\"new_tickets\"].sum()\n",
    "df_total.describe().round()"
   ]
  },
  {
   "cell_type": "code",
   "execution_count": 7,
   "metadata": {},
   "outputs": [
    {
     "name": "stdout",
     "output_type": "stream",
     "text": [
      "Нет дубликатов очередей в разрезе даты\n"
     ]
    }
   ],
   "source": [
    "if df.duplicated([\"date\", \"queueId\"]).sum() == 0:\n",
    "    print(\"Нет дубликатов очередей в разрезе даты\")"
   ]
  },
  {
   "cell_type": "markdown",
   "metadata": {},
   "source": [
    "В среднем в сутки приходили тикеты в 300 очередей."
   ]
  },
  {
   "cell_type": "code",
   "execution_count": 8,
   "metadata": {},
   "outputs": [
    {
     "data": {
      "text/plain": [
       "count    1369.0\n",
       "mean      306.0\n",
       "std        85.0\n",
       "min       158.0\n",
       "25%       233.0\n",
       "50%       282.0\n",
       "75%       377.0\n",
       "max       532.0\n",
       "Name: queueId, dtype: float64"
      ]
     },
     "execution_count": 8,
     "metadata": {},
     "output_type": "execute_result"
    }
   ],
   "source": [
    "df.groupby(\"date\").count()[\"queueId\"].describe().round()"
   ]
  },
  {
   "cell_type": "markdown",
   "metadata": {},
   "source": [
    "### Обзор данных по иерархии очередей"
   ]
  },
  {
   "cell_type": "code",
   "execution_count": 9,
   "metadata": {},
   "outputs": [
    {
     "data": {
      "text/html": [
       "<div>\n",
       "<style scoped>\n",
       "    .dataframe tbody tr th:only-of-type {\n",
       "        vertical-align: middle;\n",
       "    }\n",
       "\n",
       "    .dataframe tbody tr th {\n",
       "        vertical-align: top;\n",
       "    }\n",
       "\n",
       "    .dataframe thead th {\n",
       "        text-align: right;\n",
       "    }\n",
       "</style>\n",
       "<table border=\"1\" class=\"dataframe\">\n",
       "  <thead>\n",
       "    <tr style=\"text-align: right;\">\n",
       "      <th></th>\n",
       "      <th>parentQueueId</th>\n",
       "      <th>childrenIds</th>\n",
       "    </tr>\n",
       "  </thead>\n",
       "  <tbody>\n",
       "    <tr>\n",
       "      <th>0</th>\n",
       "      <td>2010</td>\n",
       "      <td>[2330, 2010]</td>\n",
       "    </tr>\n",
       "    <tr>\n",
       "      <th>1</th>\n",
       "      <td>1571</td>\n",
       "      <td>[3085, 1571]</td>\n",
       "    </tr>\n",
       "    <tr>\n",
       "      <th>2</th>\n",
       "      <td>100153</td>\n",
       "      <td>[3546, 100153, 2732, 1162, 100113, 2980, 3810,...</td>\n",
       "    </tr>\n",
       "    <tr>\n",
       "      <th>3</th>\n",
       "      <td>2538</td>\n",
       "      <td>[3252, 2583, 2538]</td>\n",
       "    </tr>\n",
       "    <tr>\n",
       "      <th>4</th>\n",
       "      <td>100192</td>\n",
       "      <td>[100193, 100192]</td>\n",
       "    </tr>\n",
       "  </tbody>\n",
       "</table>\n",
       "</div>"
      ],
      "text/plain": [
       "   parentQueueId                                        childrenIds\n",
       "0           2010                                       [2330, 2010]\n",
       "1           1571                                       [3085, 1571]\n",
       "2         100153  [3546, 100153, 2732, 1162, 100113, 2980, 3810,...\n",
       "3           2538                                 [3252, 2583, 2538]\n",
       "4         100192                                   [100193, 100192]"
      ]
     },
     "execution_count": 9,
     "metadata": {},
     "output_type": "execute_result"
    }
   ],
   "source": [
    "tree.head()"
   ]
  },
  {
   "cell_type": "code",
   "execution_count": 10,
   "metadata": {},
   "outputs": [
    {
     "data": {
      "text/plain": [
       "(337, 2)"
      ]
     },
     "execution_count": 10,
     "metadata": {},
     "output_type": "execute_result"
    }
   ],
   "source": [
    "tree.shape"
   ]
  },
  {
   "cell_type": "markdown",
   "metadata": {},
   "source": [
    "В childrenIds хранятся ID всех дочерних очередей (включая все поддерево). Также всегда включена сама очередь в childrenIds. Есть проблема частичных данных, так как у некоторых корневых очередей была слишком длинная строка, и в файле эти очереди обрезаны."
   ]
  },
  {
   "cell_type": "code",
   "execution_count": 11,
   "metadata": {},
   "outputs": [
    {
     "name": "stdout",
     "output_type": "stream",
     "text": [
      "Максимальная длина, после которой был обрезан список (+1 из-за добавления самой очереди): 101\n"
     ]
    }
   ],
   "source": [
    "print(\n",
    "    f\"Максимальная длина, после которой был обрезан список (+1 из-за добавления самой очереди): {tree['childrenIds'].apply(len).max()}\"\n",
    ")"
   ]
  },
  {
   "cell_type": "markdown",
   "metadata": {},
   "source": [
    "### Сколько выпавших очередей (есть в данных, но нет в иерархии)"
   ]
  },
  {
   "cell_type": "code",
   "execution_count": 12,
   "metadata": {},
   "outputs": [],
   "source": [
    "all_queues_in_hierarchy = set()\n",
    "\n",
    "\n",
    "def update_queues_hierarchy(row):\n",
    "    all_queues_in_hierarchy.add(row[\"parentQueueId\"])\n",
    "    for children in row[\"childrenIds\"]:\n",
    "        all_queues_in_hierarchy.add(children)\n",
    "\n",
    "\n",
    "tree.apply(update_queues_hierarchy, axis=1)\n",
    "None"
   ]
  },
  {
   "cell_type": "code",
   "execution_count": 13,
   "metadata": {},
   "outputs": [
    {
     "name": "stdout",
     "output_type": "stream",
     "text": [
      "В иерархии нет 346 очередей, которые есть в данных\n",
      "В данных 828 уникальных очередей, в иерархии 1651 уникальных очередей\n"
     ]
    }
   ],
   "source": [
    "all_queues = set(df[\"queueId\"].unique())\n",
    "queues_not_in_hierarchy = all_queues - all_queues_in_hierarchy\n",
    "print(f\"В иерархии нет {len(queues_not_in_hierarchy)} очередей, которые есть в данных\")\n",
    "print(\n",
    "    f\"В данных {len(all_queues)} уникальных очередей, в иерархии {len(all_queues_in_hierarchy)} уникальных очередей\"\n",
    ")"
   ]
  },
  {
   "cell_type": "markdown",
   "metadata": {},
   "source": [
    "пример выпавших очередей"
   ]
  },
  {
   "cell_type": "code",
   "execution_count": 14,
   "metadata": {},
   "outputs": [
    {
     "name": "stdout",
     "output_type": "stream",
     "text": [
      "[100353, 100354, 100355, 100356, 100357, 100365, 100401, 100404, 100407, 100408]\n"
     ]
    }
   ],
   "source": [
    "print(list(queues_not_in_hierarchy)[:10])"
   ]
  },
  {
   "cell_type": "markdown",
   "metadata": {},
   "source": [
    "Скорее всего, снапшот иерархии был сделан и выгружен в апреле 2019, а потом мы видим резкий рост потерянных очередей в данных"
   ]
  },
  {
   "cell_type": "code",
   "execution_count": 15,
   "metadata": {},
   "outputs": [
    {
     "data": {
      "image/png": "[encoded data removed]",
      "text/plain": [
       "<Figure size 1200x600 with 1 Axes>"
      ]
     },
     "metadata": {},
     "output_type": "display_data"
    }
   ],
   "source": [
    "unique_queues = (\n",
    "    df[df[\"queueId\"].isin(queues_not_in_hierarchy)]\n",
    "    .groupby(\"date\")[\"queueId\"]\n",
    "    .nunique()\n",
    "    .reset_index()\n",
    ")\n",
    "\n",
    "plt.figure(figsize=(12, 6))\n",
    "plt.plot(unique_queues[\"date\"], unique_queues[\"queueId\"], marker=\"o\")\n",
    "plt.title(\"Кол-во уникальных потерянных очередей в сутки\")\n",
    "plt.xlabel(\"Дата\")\n",
    "plt.ylabel(\"Кол-во уникальных потерянных очередей\")\n",
    "\n",
    "plt.grid(True, linestyle=\"--\", alpha=0.7)\n",
    "\n",
    "months = pd.date_range(\n",
    "    start=unique_queues[\"date\"].min(),\n",
    "    end=unique_queues[\"date\"].max(),\n",
    "    freq=\"MS\",\n",
    ")\n",
    "plt.xticks(months, [d.strftime(\"%Y-%m\") for d in months], rotation=45)\n",
    "\n",
    "plt.tight_layout()\n",
    "plt.show()"
   ]
  },
  {
   "cell_type": "markdown",
   "metadata": {},
   "source": [
    "### Насколько потерянные очереди большие"
   ]
  },
  {
   "cell_type": "code",
   "execution_count": 16,
   "metadata": {},
   "outputs": [
    {
     "data": {
      "text/plain": [
       "queueId\n",
       "100644    225158\n",
       "100814     63307\n",
       "100404     43099\n",
       "100751     34374\n",
       "100907     34271\n",
       "100571     31174\n",
       "100869     29974\n",
       "100919     29759\n",
       "100895     25059\n",
       "100815     24915\n",
       "Name: new_tickets, dtype: int64"
      ]
     },
     "execution_count": 16,
     "metadata": {},
     "output_type": "execute_result"
    }
   ],
   "source": [
    "df_extra_queue = (\n",
    "    df[df.queueId.isin(queues_not_in_hierarchy)]\n",
    "    .groupby(\"queueId\")[\"new_tickets\"]\n",
    "    .sum()\n",
    "    .sort_values(ascending=False)\n",
    ")\n",
    "df_extra_queue[:10]"
   ]
  },
  {
   "cell_type": "code",
   "execution_count": 17,
   "metadata": {},
   "outputs": [
    {
     "name": "stdout",
     "output_type": "stream",
     "text": [
      "Доля тикетов выпавших очередей: 8.03%\n"
     ]
    }
   ],
   "source": [
    "print(\n",
    "    f\"Доля тикетов выпавших очередей: {df_extra_queue.sum() / df['new_tickets'].sum():.2%}\"\n",
    ")"
   ]
  },
  {
   "cell_type": "markdown",
   "metadata": {},
   "source": [
    "Видна выпавшая из иерархии очередь `100644`"
   ]
  },
  {
   "cell_type": "code",
   "execution_count": 18,
   "metadata": {},
   "outputs": [
    {
     "data": {
      "text/plain": [
       "queueId\n",
       "1866      495259\n",
       "3232      483591\n",
       "3730      315986\n",
       "3836      244251\n",
       "2709      235990\n",
       "25        233598\n",
       "3602      230378\n",
       "100644    225158\n",
       "2200      224805\n",
       "29        216448\n",
       "Name: new_tickets, dtype: int64"
      ]
     },
     "execution_count": 18,
     "metadata": {},
     "output_type": "execute_result"
    }
   ],
   "source": [
    "(df.groupby(\"queueId\")[\"new_tickets\"].sum().sort_values(ascending=False))[:10]"
   ]
  },
  {
   "cell_type": "markdown",
   "metadata": {},
   "source": [
    "## Анализ иерархии очередей"
   ]
  },
  {
   "cell_type": "code",
   "execution_count": 19,
   "metadata": {},
   "outputs": [
    {
     "data": {
      "text/html": [
       "<div>\n",
       "<style scoped>\n",
       "    .dataframe tbody tr th:only-of-type {\n",
       "        vertical-align: middle;\n",
       "    }\n",
       "\n",
       "    .dataframe tbody tr th {\n",
       "        vertical-align: top;\n",
       "    }\n",
       "\n",
       "    .dataframe thead th {\n",
       "        text-align: right;\n",
       "    }\n",
       "</style>\n",
       "<table border=\"1\" class=\"dataframe\">\n",
       "  <thead>\n",
       "    <tr style=\"text-align: right;\">\n",
       "      <th></th>\n",
       "      <th>parentQueueId</th>\n",
       "      <th>childrenIds</th>\n",
       "    </tr>\n",
       "  </thead>\n",
       "  <tbody>\n",
       "    <tr>\n",
       "      <th>0</th>\n",
       "      <td>2010</td>\n",
       "      <td>[2330, 2010]</td>\n",
       "    </tr>\n",
       "    <tr>\n",
       "      <th>1</th>\n",
       "      <td>1571</td>\n",
       "      <td>[3085, 1571]</td>\n",
       "    </tr>\n",
       "    <tr>\n",
       "      <th>2</th>\n",
       "      <td>100153</td>\n",
       "      <td>[3546, 100153, 2732, 1162, 100113, 2980, 3810,...</td>\n",
       "    </tr>\n",
       "    <tr>\n",
       "      <th>3</th>\n",
       "      <td>2538</td>\n",
       "      <td>[3252, 2583, 2538]</td>\n",
       "    </tr>\n",
       "    <tr>\n",
       "      <th>4</th>\n",
       "      <td>100192</td>\n",
       "      <td>[100193, 100192]</td>\n",
       "    </tr>\n",
       "    <tr>\n",
       "      <th>...</th>\n",
       "      <td>...</td>\n",
       "      <td>...</td>\n",
       "    </tr>\n",
       "    <tr>\n",
       "      <th>332</th>\n",
       "      <td>9</td>\n",
       "      <td>[9, 1511, 1002]</td>\n",
       "    </tr>\n",
       "    <tr>\n",
       "      <th>333</th>\n",
       "      <td>2438</td>\n",
       "      <td>[2727, 2438]</td>\n",
       "    </tr>\n",
       "    <tr>\n",
       "      <th>334</th>\n",
       "      <td>2321</td>\n",
       "      <td>[2321, 2927]</td>\n",
       "    </tr>\n",
       "    <tr>\n",
       "      <th>335</th>\n",
       "      <td>2842</td>\n",
       "      <td>[2846, 2842, 2820, 2843, 2885]</td>\n",
       "    </tr>\n",
       "    <tr>\n",
       "      <th>336</th>\n",
       "      <td>4167</td>\n",
       "      <td>[4167, 100265, 100152, 2556, 100200, 100309, 1...</td>\n",
       "    </tr>\n",
       "  </tbody>\n",
       "</table>\n",
       "<p>337 rows × 2 columns</p>\n",
       "</div>"
      ],
      "text/plain": [
       "     parentQueueId                                        childrenIds\n",
       "0             2010                                       [2330, 2010]\n",
       "1             1571                                       [3085, 1571]\n",
       "2           100153  [3546, 100153, 2732, 1162, 100113, 2980, 3810,...\n",
       "3             2538                                 [3252, 2583, 2538]\n",
       "4           100192                                   [100193, 100192]\n",
       "..             ...                                                ...\n",
       "332              9                                    [9, 1511, 1002]\n",
       "333           2438                                       [2727, 2438]\n",
       "334           2321                                       [2321, 2927]\n",
       "335           2842                     [2846, 2842, 2820, 2843, 2885]\n",
       "336           4167  [4167, 100265, 100152, 2556, 100200, 100309, 1...\n",
       "\n",
       "[337 rows x 2 columns]"
      ]
     },
     "execution_count": 19,
     "metadata": {},
     "output_type": "execute_result"
    }
   ],
   "source": [
    "tree"
   ]
  },
  {
   "cell_type": "markdown",
   "metadata": {},
   "source": [
    "### Восстановление настоящей иерархии"
   ]
  },
  {
   "cell_type": "markdown",
   "metadata": {},
   "source": [
    "Данный код был получен по запросу в gpt-o1 с описание задачи и требованием восстановить иерархию как возможно, и провести валидацию решения"
   ]
  },
  {
   "cell_type": "code",
   "execution_count": 20,
   "metadata": {},
   "outputs": [
    {
     "name": "stdout",
     "output_type": "stream",
     "text": [
      "The hierarchy is valid.\n"
     ]
    }
   ],
   "source": [
    "tree_full = get_proper_tree(tree)"
   ]
  },
  {
   "cell_type": "markdown",
   "metadata": {},
   "source": [
    "Теперь у нас на очередь есть прямые и все наследники, это полезно для иерархических моделей"
   ]
  },
  {
   "cell_type": "code",
   "execution_count": 21,
   "metadata": {},
   "outputs": [
    {
     "data": {
      "text/html": [
       "<div>\n",
       "<style scoped>\n",
       "    .dataframe tbody tr th:only-of-type {\n",
       "        vertical-align: middle;\n",
       "    }\n",
       "\n",
       "    .dataframe tbody tr th {\n",
       "        vertical-align: top;\n",
       "    }\n",
       "\n",
       "    .dataframe thead th {\n",
       "        text-align: right;\n",
       "    }\n",
       "</style>\n",
       "<table border=\"1\" class=\"dataframe\">\n",
       "  <thead>\n",
       "    <tr style=\"text-align: right;\">\n",
       "      <th></th>\n",
       "      <th>queueId</th>\n",
       "      <th>level</th>\n",
       "      <th>immediateDescendants</th>\n",
       "      <th>allDescendants</th>\n",
       "    </tr>\n",
       "  </thead>\n",
       "  <tbody>\n",
       "    <tr>\n",
       "      <th>0</th>\n",
       "      <td>1</td>\n",
       "      <td>2</td>\n",
       "      <td>[100286]</td>\n",
       "      <td>[1, 100286]</td>\n",
       "    </tr>\n",
       "    <tr>\n",
       "      <th>1</th>\n",
       "      <td>4097</td>\n",
       "      <td>3</td>\n",
       "      <td>[]</td>\n",
       "      <td>[4097]</td>\n",
       "    </tr>\n",
       "    <tr>\n",
       "      <th>2</th>\n",
       "      <td>5</td>\n",
       "      <td>1</td>\n",
       "      <td>[6, 43, 51, 53, 68, 76, 82, 92, 102, 108, 117,...</td>\n",
       "      <td>[5, 6, 43, 51, 53, 68, 76, 82, 92, 102, 108, 1...</td>\n",
       "    </tr>\n",
       "    <tr>\n",
       "      <th>3</th>\n",
       "      <td>6</td>\n",
       "      <td>2</td>\n",
       "      <td>[]</td>\n",
       "      <td>[6]</td>\n",
       "    </tr>\n",
       "    <tr>\n",
       "      <th>4</th>\n",
       "      <td>7</td>\n",
       "      <td>2</td>\n",
       "      <td>[100253]</td>\n",
       "      <td>[7, 100253]</td>\n",
       "    </tr>\n",
       "    <tr>\n",
       "      <th>...</th>\n",
       "      <td>...</td>\n",
       "      <td>...</td>\n",
       "      <td>...</td>\n",
       "      <td>...</td>\n",
       "    </tr>\n",
       "    <tr>\n",
       "      <th>1646</th>\n",
       "      <td>4052</td>\n",
       "      <td>2</td>\n",
       "      <td>[4137, 1062]</td>\n",
       "      <td>[1062, 2835, 4052, 4137]</td>\n",
       "    </tr>\n",
       "    <tr>\n",
       "      <th>1647</th>\n",
       "      <td>4062</td>\n",
       "      <td>4</td>\n",
       "      <td>[]</td>\n",
       "      <td>[4062]</td>\n",
       "    </tr>\n",
       "    <tr>\n",
       "      <th>1648</th>\n",
       "      <td>4082</td>\n",
       "      <td>2</td>\n",
       "      <td>[]</td>\n",
       "      <td>[4082]</td>\n",
       "    </tr>\n",
       "    <tr>\n",
       "      <th>1649</th>\n",
       "      <td>4087</td>\n",
       "      <td>2</td>\n",
       "      <td>[3536, 3836]</td>\n",
       "      <td>[3536, 3836, 4087]</td>\n",
       "    </tr>\n",
       "    <tr>\n",
       "      <th>1650</th>\n",
       "      <td>4092</td>\n",
       "      <td>4</td>\n",
       "      <td>[4487, 3976]</td>\n",
       "      <td>[3976, 4092, 4487]</td>\n",
       "    </tr>\n",
       "  </tbody>\n",
       "</table>\n",
       "<p>1651 rows × 4 columns</p>\n",
       "</div>"
      ],
      "text/plain": [
       "      queueId  level                               immediateDescendants  \\\n",
       "0           1      2                                           [100286]   \n",
       "1        4097      3                                                 []   \n",
       "2           5      1  [6, 43, 51, 53, 68, 76, 82, 92, 102, 108, 117,...   \n",
       "3           6      2                                                 []   \n",
       "4           7      2                                           [100253]   \n",
       "...       ...    ...                                                ...   \n",
       "1646     4052      2                                       [4137, 1062]   \n",
       "1647     4062      4                                                 []   \n",
       "1648     4082      2                                                 []   \n",
       "1649     4087      2                                       [3536, 3836]   \n",
       "1650     4092      4                                       [4487, 3976]   \n",
       "\n",
       "                                         allDescendants  \n",
       "0                                           [1, 100286]  \n",
       "1                                                [4097]  \n",
       "2     [5, 6, 43, 51, 53, 68, 76, 82, 92, 102, 108, 1...  \n",
       "3                                                   [6]  \n",
       "4                                           [7, 100253]  \n",
       "...                                                 ...  \n",
       "1646                           [1062, 2835, 4052, 4137]  \n",
       "1647                                             [4062]  \n",
       "1648                                             [4082]  \n",
       "1649                                 [3536, 3836, 4087]  \n",
       "1650                                 [3976, 4092, 4487]  \n",
       "\n",
       "[1651 rows x 4 columns]"
      ]
     },
     "execution_count": 21,
     "metadata": {},
     "output_type": "execute_result"
    }
   ],
   "source": [
    "tree_full"
   ]
  },
  {
   "cell_type": "markdown",
   "metadata": {},
   "source": [
    "### Анализ уровня очередей"
   ]
  },
  {
   "cell_type": "code",
   "execution_count": 22,
   "metadata": {},
   "outputs": [
    {
     "data": {
      "image/png": "[encoded data removed]",
      "text/plain": [
       "<Figure size 1200x600 with 1 Axes>"
      ]
     },
     "metadata": {},
     "output_type": "display_data"
    }
   ],
   "source": [
    "plt.figure(figsize=(12, 6))\n",
    "depth_counts = tree_full[\"level\"].value_counts().sort_index()\n",
    "sns.barplot(x=depth_counts.index, y=depth_counts.values)\n",
    "plt.title(\"Распределение уровней\")\n",
    "plt.xlabel(\"Уровень\")\n",
    "plt.ylabel(\"кол-во очередей\")\n",
    "plt.show()"
   ]
  },
  {
   "cell_type": "code",
   "execution_count": 23,
   "metadata": {},
   "outputs": [
    {
     "name": "stdout",
     "output_type": "stream",
     "text": [
      "Всего тикетов: 15,440,382\n"
     ]
    }
   ],
   "source": [
    "print(f\"Всего тикетов: {df['new_tickets'].sum():,}\")"
   ]
  },
  {
   "cell_type": "markdown",
   "metadata": {},
   "source": [
    "## Топ очередей (включая всю иерархию)"
   ]
  },
  {
   "cell_type": "markdown",
   "metadata": {},
   "source": [
    "Эти данные не аддитивные, так как они лишь отображают подмножество очередей исходя из иерархии"
   ]
  },
  {
   "cell_type": "code",
   "execution_count": 24,
   "metadata": {},
   "outputs": [],
   "source": [
    "tree_full[\"full_load\"] = tree_full.apply(\n",
    "    lambda row: df[df[\"queueId\"].isin(row[\"allDescendants\"])][\"new_tickets\"].sum(),\n",
    "    axis=1,\n",
    ")"
   ]
  },
  {
   "cell_type": "markdown",
   "metadata": {},
   "source": [
    "Видим ситации, когда у корневой очереди большое кол-во прямых наследников, но все они пустые по данным."
   ]
  },
  {
   "cell_type": "code",
   "execution_count": 25,
   "metadata": {},
   "outputs": [
    {
     "data": {
      "text/html": [
       "<div>\n",
       "<style scoped>\n",
       "    .dataframe tbody tr th:only-of-type {\n",
       "        vertical-align: middle;\n",
       "    }\n",
       "\n",
       "    .dataframe tbody tr th {\n",
       "        vertical-align: top;\n",
       "    }\n",
       "\n",
       "    .dataframe thead th {\n",
       "        text-align: right;\n",
       "    }\n",
       "</style>\n",
       "<table border=\"1\" class=\"dataframe\">\n",
       "  <thead>\n",
       "    <tr style=\"text-align: right;\">\n",
       "      <th></th>\n",
       "      <th>queueId</th>\n",
       "      <th>level</th>\n",
       "      <th>immediateDescendants</th>\n",
       "      <th>allDescendants</th>\n",
       "      <th>full_load</th>\n",
       "      <th>descendants_count</th>\n",
       "    </tr>\n",
       "  </thead>\n",
       "  <tbody>\n",
       "    <tr>\n",
       "      <th>812</th>\n",
       "      <td>2230</td>\n",
       "      <td>1</td>\n",
       "      <td>[32, 36, 37, 38, 100, 106, 109, 342, 4627, 473...</td>\n",
       "      <td>[32, 36, 37, 38, 100, 106, 109, 342, 1082, 133...</td>\n",
       "      <td>0</td>\n",
       "      <td>78</td>\n",
       "    </tr>\n",
       "    <tr>\n",
       "      <th>607</th>\n",
       "      <td>2002</td>\n",
       "      <td>1</td>\n",
       "      <td>[71, 4482, 731, 2226, 2267, 2269, 2298, 2338, ...</td>\n",
       "      <td>[71, 731, 2002, 2226, 2267, 2269, 2298, 2335, ...</td>\n",
       "      <td>825237</td>\n",
       "      <td>36</td>\n",
       "    </tr>\n",
       "    <tr>\n",
       "      <th>1048</th>\n",
       "      <td>2522</td>\n",
       "      <td>1</td>\n",
       "      <td>[12, 27, 31, 49, 91, 93, 105, 4402, 402, 4592,...</td>\n",
       "      <td>[12, 27, 31, 49, 91, 93, 105, 107, 332, 402, 7...</td>\n",
       "      <td>0</td>\n",
       "      <td>28</td>\n",
       "    </tr>\n",
       "    <tr>\n",
       "      <th>115</th>\n",
       "      <td>182</td>\n",
       "      <td>1</td>\n",
       "      <td>[251, 261, 271, 281, 291, 301, 311, 321, 322, ...</td>\n",
       "      <td>[182, 251, 261, 271, 281, 291, 301, 311, 321, ...</td>\n",
       "      <td>0</td>\n",
       "      <td>27</td>\n",
       "    </tr>\n",
       "    <tr>\n",
       "      <th>641</th>\n",
       "      <td>2036</td>\n",
       "      <td>1</td>\n",
       "      <td>[2037, 2040, 2041, 2042, 2043, 2047, 2049, 205...</td>\n",
       "      <td>[2036, 2037, 2040, 2041, 2042, 2043, 2047, 204...</td>\n",
       "      <td>0</td>\n",
       "      <td>24</td>\n",
       "    </tr>\n",
       "    <tr>\n",
       "      <th>90</th>\n",
       "      <td>115</td>\n",
       "      <td>1</td>\n",
       "      <td>[25, 88, 4547, 4763, 1910, 100044, 100085, 216...</td>\n",
       "      <td>[25, 88, 115, 1910, 2163, 2166, 2219, 2259, 22...</td>\n",
       "      <td>896296</td>\n",
       "      <td>23</td>\n",
       "    </tr>\n",
       "    <tr>\n",
       "      <th>2</th>\n",
       "      <td>5</td>\n",
       "      <td>1</td>\n",
       "      <td>[6, 43, 51, 53, 68, 76, 82, 92, 102, 108, 117,...</td>\n",
       "      <td>[5, 6, 43, 51, 53, 68, 76, 82, 92, 102, 108, 1...</td>\n",
       "      <td>0</td>\n",
       "      <td>21</td>\n",
       "    </tr>\n",
       "    <tr>\n",
       "      <th>26</th>\n",
       "      <td>34</td>\n",
       "      <td>1</td>\n",
       "      <td>[1, 111, 4522, 842, 1212, 1471, 1531, 1701, 10...</td>\n",
       "      <td>[1, 34, 42, 85, 111, 392, 842, 1212, 1471, 153...</td>\n",
       "      <td>1247019</td>\n",
       "      <td>21</td>\n",
       "    </tr>\n",
       "    <tr>\n",
       "      <th>485</th>\n",
       "      <td>1871</td>\n",
       "      <td>1</td>\n",
       "      <td>[4202, 4262, 4723, 100264, 2150, 2170, 2321, 2...</td>\n",
       "      <td>[28, 63, 122, 632, 1062, 1201, 1401, 1871, 198...</td>\n",
       "      <td>1006818</td>\n",
       "      <td>16</td>\n",
       "    </tr>\n",
       "    <tr>\n",
       "      <th>91</th>\n",
       "      <td>4212</td>\n",
       "      <td>1</td>\n",
       "      <td>[4222, 4217, 4227, 4232, 4237, 4242, 4247, 465...</td>\n",
       "      <td>[4005, 4009, 4017, 4152, 4212, 4217, 4222, 422...</td>\n",
       "      <td>0</td>\n",
       "      <td>14</td>\n",
       "    </tr>\n",
       "  </tbody>\n",
       "</table>\n",
       "</div>"
      ],
      "text/plain": [
       "      queueId  level                               immediateDescendants  \\\n",
       "812      2230      1  [32, 36, 37, 38, 100, 106, 109, 342, 4627, 473...   \n",
       "607      2002      1  [71, 4482, 731, 2226, 2267, 2269, 2298, 2338, ...   \n",
       "1048     2522      1  [12, 27, 31, 49, 91, 93, 105, 4402, 402, 4592,...   \n",
       "115       182      1  [251, 261, 271, 281, 291, 301, 311, 321, 322, ...   \n",
       "641      2036      1  [2037, 2040, 2041, 2042, 2043, 2047, 2049, 205...   \n",
       "90        115      1  [25, 88, 4547, 4763, 1910, 100044, 100085, 216...   \n",
       "2           5      1  [6, 43, 51, 53, 68, 76, 82, 92, 102, 108, 117,...   \n",
       "26         34      1  [1, 111, 4522, 842, 1212, 1471, 1531, 1701, 10...   \n",
       "485      1871      1  [4202, 4262, 4723, 100264, 2150, 2170, 2321, 2...   \n",
       "91       4212      1  [4222, 4217, 4227, 4232, 4237, 4242, 4247, 465...   \n",
       "\n",
       "                                         allDescendants  full_load  \\\n",
       "812   [32, 36, 37, 38, 100, 106, 109, 342, 1082, 133...          0   \n",
       "607   [71, 731, 2002, 2226, 2267, 2269, 2298, 2335, ...     825237   \n",
       "1048  [12, 27, 31, 49, 91, 93, 105, 107, 332, 402, 7...          0   \n",
       "115   [182, 251, 261, 271, 281, 291, 301, 311, 321, ...          0   \n",
       "641   [2036, 2037, 2040, 2041, 2042, 2043, 2047, 204...          0   \n",
       "90    [25, 88, 115, 1910, 2163, 2166, 2219, 2259, 22...     896296   \n",
       "2     [5, 6, 43, 51, 53, 68, 76, 82, 92, 102, 108, 1...          0   \n",
       "26    [1, 34, 42, 85, 111, 392, 842, 1212, 1471, 153...    1247019   \n",
       "485   [28, 63, 122, 632, 1062, 1201, 1401, 1871, 198...    1006818   \n",
       "91    [4005, 4009, 4017, 4152, 4212, 4217, 4222, 422...          0   \n",
       "\n",
       "      descendants_count  \n",
       "812                  78  \n",
       "607                  36  \n",
       "1048                 28  \n",
       "115                  27  \n",
       "641                  24  \n",
       "90                   23  \n",
       "2                    21  \n",
       "26                   21  \n",
       "485                  16  \n",
       "91                   14  "
      ]
     },
     "execution_count": 25,
     "metadata": {},
     "output_type": "execute_result"
    }
   ],
   "source": [
    "tree_full[\"descendants_count\"] = tree_full[\"immediateDescendants\"].apply(len)\n",
    "\n",
    "tree_full[(tree_full[\"level\"] == 1)].nlargest(10, \"descendants_count\")"
   ]
  },
  {
   "cell_type": "code",
   "execution_count": 26,
   "metadata": {},
   "outputs": [
    {
     "name": "stdout",
     "output_type": "stream",
     "text": [
      "Queue    10, level 1: 2,463,146\n",
      "Queue  1866, level 1: 1,470,013\n",
      "Queue   742, level 1: 1,387,729\n",
      "Queue    34, level 1: 1,247,019\n",
      "Queue  2657, level 2: 1,243,017\n",
      "Queue  4447, level 1: 1,121,534\n",
      "Queue  1871, level 1: 1,006,818\n",
      "Queue  4397, level 1: 986,415\n",
      "Queue   115, level 1: 896,296\n",
      "Queue  2002, level 1: 825,237\n",
      "Queue  4412, level 2: 792,209\n",
      "Queue  4147, level 1: 681,754\n",
      "Queue  2199, level 2: 572,166\n",
      "Queue  3602, level 2: 546,364\n",
      "Queue  3232, level 3: 483,591\n",
      "Queue  3936, level 1: 431,173\n",
      "Queue  2372, level 2: 417,175\n",
      "Queue  4087, level 2: 397,990\n",
      "Queue  2709, level 1: 397,720\n",
      "Queue    25, level 2: 365,692\n"
     ]
    }
   ],
   "source": [
    "top_n = 20\n",
    "print(\n",
    "    \"\\n\".join(\n",
    "        f\"Queue {row['queueId']:>5}, level {row['level']}: {row['full_load']:,}\"\n",
    "        for _, row in tree_full.nlargest(top_n, \"full_load\").iterrows()\n",
    "    )\n",
    ")"
   ]
  },
  {
   "cell_type": "markdown",
   "metadata": {},
   "source": [
    "Заметим, что очередь 2657 входит в очередь 10, но все равно очень большая"
   ]
  },
  {
   "cell_type": "code",
   "execution_count": 27,
   "metadata": {},
   "outputs": [
    {
     "data": {
      "text/html": [
       "<div>\n",
       "<style scoped>\n",
       "    .dataframe tbody tr th:only-of-type {\n",
       "        vertical-align: middle;\n",
       "    }\n",
       "\n",
       "    .dataframe tbody tr th {\n",
       "        vertical-align: top;\n",
       "    }\n",
       "\n",
       "    .dataframe thead th {\n",
       "        text-align: right;\n",
       "    }\n",
       "</style>\n",
       "<table border=\"1\" class=\"dataframe\">\n",
       "  <thead>\n",
       "    <tr style=\"text-align: right;\">\n",
       "      <th></th>\n",
       "      <th>queueId</th>\n",
       "      <th>level</th>\n",
       "      <th>immediateDescendants</th>\n",
       "      <th>allDescendants</th>\n",
       "      <th>full_load</th>\n",
       "      <th>descendants_count</th>\n",
       "    </tr>\n",
       "  </thead>\n",
       "  <tbody>\n",
       "    <tr>\n",
       "      <th>7</th>\n",
       "      <td>10</td>\n",
       "      <td>1</td>\n",
       "      <td>[4472, 472, 4733, 1571, 100118, 2657, 2658, 27...</td>\n",
       "      <td>[10, 104, 462, 472, 1322, 1571, 2190, 2200, 24...</td>\n",
       "      <td>2463146</td>\n",
       "      <td>10</td>\n",
       "    </tr>\n",
       "  </tbody>\n",
       "</table>\n",
       "</div>"
      ],
      "text/plain": [
       "   queueId  level                               immediateDescendants  \\\n",
       "7       10      1  [4472, 472, 4733, 1571, 100118, 2657, 2658, 27...   \n",
       "\n",
       "                                      allDescendants  full_load  \\\n",
       "7  [10, 104, 462, 472, 1322, 1571, 2190, 2200, 24...    2463146   \n",
       "\n",
       "   descendants_count  \n",
       "7                 10  "
      ]
     },
     "execution_count": 27,
     "metadata": {},
     "output_type": "execute_result"
    }
   ],
   "source": [
    "tree_full[tree_full[\"immediateDescendants\"].apply(lambda x: 2657 in x)]"
   ]
  },
  {
   "cell_type": "markdown",
   "metadata": {},
   "source": [
    "А эта очередь входит в очередь 1, 2 уровней и сама в себе"
   ]
  },
  {
   "cell_type": "code",
   "execution_count": 28,
   "metadata": {},
   "outputs": [
    {
     "data": {
      "text/html": [
       "<div>\n",
       "<style scoped>\n",
       "    .dataframe tbody tr th:only-of-type {\n",
       "        vertical-align: middle;\n",
       "    }\n",
       "\n",
       "    .dataframe tbody tr th {\n",
       "        vertical-align: top;\n",
       "    }\n",
       "\n",
       "    .dataframe thead th {\n",
       "        text-align: right;\n",
       "    }\n",
       "</style>\n",
       "<table border=\"1\" class=\"dataframe\">\n",
       "  <thead>\n",
       "    <tr style=\"text-align: right;\">\n",
       "      <th></th>\n",
       "      <th>queueId</th>\n",
       "      <th>level</th>\n",
       "      <th>immediateDescendants</th>\n",
       "      <th>allDescendants</th>\n",
       "      <th>full_load</th>\n",
       "      <th>descendants_count</th>\n",
       "    </tr>\n",
       "  </thead>\n",
       "  <tbody>\n",
       "    <tr>\n",
       "      <th>143</th>\n",
       "      <td>4397</td>\n",
       "      <td>1</td>\n",
       "      <td>[18, 29, 442, 100272, 100042, 2199, 2403, 3750]</td>\n",
       "      <td>[18, 29, 442, 2199, 2240, 2403, 2404, 2535, 32...</td>\n",
       "      <td>986415</td>\n",
       "      <td>8</td>\n",
       "    </tr>\n",
       "    <tr>\n",
       "      <th>791</th>\n",
       "      <td>2199</td>\n",
       "      <td>2</td>\n",
       "      <td>[100115, 3232]</td>\n",
       "      <td>[2199, 3232, 100115]</td>\n",
       "      <td>572166</td>\n",
       "      <td>2</td>\n",
       "    </tr>\n",
       "    <tr>\n",
       "      <th>1506</th>\n",
       "      <td>3232</td>\n",
       "      <td>3</td>\n",
       "      <td>[]</td>\n",
       "      <td>[3232]</td>\n",
       "      <td>483591</td>\n",
       "      <td>0</td>\n",
       "    </tr>\n",
       "  </tbody>\n",
       "</table>\n",
       "</div>"
      ],
      "text/plain": [
       "      queueId  level                             immediateDescendants  \\\n",
       "143      4397      1  [18, 29, 442, 100272, 100042, 2199, 2403, 3750]   \n",
       "791      2199      2                                   [100115, 3232]   \n",
       "1506     3232      3                                               []   \n",
       "\n",
       "                                         allDescendants  full_load  \\\n",
       "143   [18, 29, 442, 2199, 2240, 2403, 2404, 2535, 32...     986415   \n",
       "791                                [2199, 3232, 100115]     572166   \n",
       "1506                                             [3232]     483591   \n",
       "\n",
       "      descendants_count  \n",
       "143                   8  \n",
       "791                   2  \n",
       "1506                  0  "
      ]
     },
     "execution_count": 28,
     "metadata": {},
     "output_type": "execute_result"
    }
   ],
   "source": [
    "tree_full[tree_full[\"allDescendants\"].apply(lambda x: 3232 in x)]"
   ]
  },
  {
   "cell_type": "markdown",
   "metadata": {},
   "source": [
    "Также есть корневые очереди, но с очень малым кол-вом тикетов. Это может быть из-за стертых значений или каких-то ошибок. Так как мы не знаем точную иерархию, то считаем такие очереди корневыми. Или это правда пустые очереди."
   ]
  },
  {
   "cell_type": "code",
   "execution_count": 29,
   "metadata": {},
   "outputs": [
    {
     "data": {
      "text/plain": [
       "<Axes: >"
      ]
     },
     "execution_count": 29,
     "metadata": {},
     "output_type": "execute_result"
    },
    {
     "data": {
      "image/png": "[encoded data removed]",
      "text/plain": [
       "<Figure size 640x480 with 1 Axes>"
      ]
     },
     "metadata": {},
     "output_type": "display_data"
    }
   ],
   "source": [
    "tree_full[tree_full[\"level\"] == 1][\"full_load\"].hist()"
   ]
  },
  {
   "cell_type": "markdown",
   "metadata": {},
   "source": [
    "22 корневые очереди с ненулевой нагрузкой"
   ]
  },
  {
   "cell_type": "code",
   "execution_count": 30,
   "metadata": {},
   "outputs": [
    {
     "data": {
      "text/plain": [
       "0     2463146\n",
       "1     1470013\n",
       "2     1387729\n",
       "3     1247019\n",
       "4     1121534\n",
       "5     1006818\n",
       "6      986415\n",
       "7      896296\n",
       "8      825237\n",
       "9      681754\n",
       "10     431173\n",
       "11     397720\n",
       "12     342116\n",
       "13     332265\n",
       "14     232449\n",
       "15     181486\n",
       "16      95795\n",
       "17      51632\n",
       "18      30301\n",
       "19       9758\n",
       "20       8661\n",
       "21       1242\n",
       "Name: full_load, dtype: int64"
      ]
     },
     "execution_count": 30,
     "metadata": {},
     "output_type": "execute_result"
    }
   ],
   "source": [
    "tree_full[(tree_full[\"level\"] == 1) & (tree_full[\"full_load\"] != 0)][\n",
    "    \"full_load\"\n",
    "].sort_values(ascending=False).reset_index(drop=True)"
   ]
  }
 ],
 "metadata": {
  "kernelspec": {
   "display_name": ".venv",
   "language": "python",
   "name": "python3"
  },
  "language_info": {
   "codemirror_mode": {
    "name": "ipython",
    "version": 3
   },
   "file_extension": ".py",
   "mimetype": "text/x-python",
   "name": "python",
   "nbconvert_exporter": "python",
   "pygments_lexer": "ipython3",
   "version": "3.12.7"
  }
 },
 "nbformat": 4,
 "nbformat_minor": 2
}
