{
 "cells": [
  {
   "cell_type": "code",
   "execution_count": 1,
   "metadata": {},
   "outputs": [],
   "source": [
    "import pandas as pd  # noqa\n",
    "import matplotlib.pyplot as plt  # type: ignore\n",
    "import seaborn as sns  # type: ignore\n",
    "from collections import defaultdict\n",
    "from tasks_support_system_ai.utils import get_correct_data_path\n",
    "from tasks_support_system_ai.readers import (\n",
    "    read_ts_tree,\n",
    "    ts_read_daily_tickets,\n",
    "    get_map_parent_to_children_queues,\n",
    ")"
   ]
  },
  {
   "cell_type": "code",
   "execution_count": 2,
   "metadata": {},
   "outputs": [],
   "source": [
    "df = ts_read_daily_tickets(get_correct_data_path(\"tickets_daily/tickets_daily.csv\"))\n",
    "tree = read_ts_tree(get_correct_data_path(\"dataset_tickets_timeseries/tree_queue.tsv\"))"
   ]
  },
  {
   "cell_type": "code",
   "execution_count": 3,
   "metadata": {},
   "outputs": [
    {
     "data": {
      "text/html": [
       "<div>\n",
       "<style scoped>\n",
       "    .dataframe tbody tr th:only-of-type {\n",
       "        vertical-align: middle;\n",
       "    }\n",
       "\n",
       "    .dataframe tbody tr th {\n",
       "        vertical-align: top;\n",
       "    }\n",
       "\n",
       "    .dataframe thead th {\n",
       "        text-align: right;\n",
       "    }\n",
       "</style>\n",
       "<table border=\"1\" class=\"dataframe\">\n",
       "  <thead>\n",
       "    <tr style=\"text-align: right;\">\n",
       "      <th></th>\n",
       "      <th>queueId</th>\n",
       "      <th>date</th>\n",
       "      <th>new_tickets</th>\n",
       "    </tr>\n",
       "  </thead>\n",
       "  <tbody>\n",
       "    <tr>\n",
       "      <th>0</th>\n",
       "      <td>1</td>\n",
       "      <td>2017-01-01</td>\n",
       "      <td>15</td>\n",
       "    </tr>\n",
       "    <tr>\n",
       "      <th>1</th>\n",
       "      <td>1</td>\n",
       "      <td>2017-01-02</td>\n",
       "      <td>26</td>\n",
       "    </tr>\n",
       "    <tr>\n",
       "      <th>2</th>\n",
       "      <td>1</td>\n",
       "      <td>2017-01-03</td>\n",
       "      <td>25</td>\n",
       "    </tr>\n",
       "    <tr>\n",
       "      <th>3</th>\n",
       "      <td>1</td>\n",
       "      <td>2017-01-04</td>\n",
       "      <td>29</td>\n",
       "    </tr>\n",
       "    <tr>\n",
       "      <th>4</th>\n",
       "      <td>1</td>\n",
       "      <td>2017-01-05</td>\n",
       "      <td>26</td>\n",
       "    </tr>\n",
       "  </tbody>\n",
       "</table>\n",
       "</div>"
      ],
      "text/plain": [
       "   queueId       date  new_tickets\n",
       "0        1 2017-01-01           15\n",
       "1        1 2017-01-02           26\n",
       "2        1 2017-01-03           25\n",
       "3        1 2017-01-04           29\n",
       "4        1 2017-01-05           26"
      ]
     },
     "execution_count": 3,
     "metadata": {},
     "output_type": "execute_result"
    }
   ],
   "source": [
    "df.head()"
   ]
  },
  {
   "cell_type": "code",
   "execution_count": 4,
   "metadata": {},
   "outputs": [
    {
     "data": {
      "text/plain": [
       "(418327, 3)"
      ]
     },
     "execution_count": 4,
     "metadata": {},
     "output_type": "execute_result"
    }
   ],
   "source": [
    "df.shape"
   ]
  },
  {
   "cell_type": "code",
   "execution_count": 5,
   "metadata": {},
   "outputs": [
    {
     "data": {
      "text/html": [
       "<div>\n",
       "<style scoped>\n",
       "    .dataframe tbody tr th:only-of-type {\n",
       "        vertical-align: middle;\n",
       "    }\n",
       "\n",
       "    .dataframe tbody tr th {\n",
       "        vertical-align: top;\n",
       "    }\n",
       "\n",
       "    .dataframe thead th {\n",
       "        text-align: right;\n",
       "    }\n",
       "</style>\n",
       "<table border=\"1\" class=\"dataframe\">\n",
       "  <thead>\n",
       "    <tr style=\"text-align: right;\">\n",
       "      <th></th>\n",
       "      <th>parentQueueId</th>\n",
       "      <th>childrenIds</th>\n",
       "    </tr>\n",
       "  </thead>\n",
       "  <tbody>\n",
       "    <tr>\n",
       "      <th>0</th>\n",
       "      <td>2010</td>\n",
       "      <td>[2330, 2010]</td>\n",
       "    </tr>\n",
       "    <tr>\n",
       "      <th>1</th>\n",
       "      <td>1571</td>\n",
       "      <td>[3085, 1571]</td>\n",
       "    </tr>\n",
       "    <tr>\n",
       "      <th>2</th>\n",
       "      <td>100153</td>\n",
       "      <td>[3546, 100153, 2732, 1162, 100113, 2980, 3810,...</td>\n",
       "    </tr>\n",
       "    <tr>\n",
       "      <th>3</th>\n",
       "      <td>2538</td>\n",
       "      <td>[3252, 2583, 2538]</td>\n",
       "    </tr>\n",
       "    <tr>\n",
       "      <th>4</th>\n",
       "      <td>100192</td>\n",
       "      <td>[100193, 100192]</td>\n",
       "    </tr>\n",
       "  </tbody>\n",
       "</table>\n",
       "</div>"
      ],
      "text/plain": [
       "   parentQueueId                                        childrenIds\n",
       "0           2010                                       [2330, 2010]\n",
       "1           1571                                       [3085, 1571]\n",
       "2         100153  [3546, 100153, 2732, 1162, 100113, 2980, 3810,...\n",
       "3           2538                                 [3252, 2583, 2538]\n",
       "4         100192                                   [100193, 100192]"
      ]
     },
     "execution_count": 5,
     "metadata": {},
     "output_type": "execute_result"
    }
   ],
   "source": [
    "tree.head()"
   ]
  },
  {
   "cell_type": "code",
   "execution_count": 6,
   "metadata": {},
   "outputs": [
    {
     "data": {
      "text/plain": [
       "(337, 2)"
      ]
     },
     "execution_count": 6,
     "metadata": {},
     "output_type": "execute_result"
    }
   ],
   "source": [
    "tree.shape"
   ]
  },
  {
   "cell_type": "markdown",
   "metadata": {},
   "source": [
    "Некоторые очереди только существуют в `childrenIds`, но не в `parentQueueId`"
   ]
  },
  {
   "cell_type": "code",
   "execution_count": 7,
   "metadata": {},
   "outputs": [
    {
     "data": {
      "text/plain": [
       "828"
      ]
     },
     "execution_count": 7,
     "metadata": {},
     "output_type": "execute_result"
    }
   ],
   "source": [
    "all_queues = set(df.queueId.unique())\n",
    "len(all_queues)"
   ]
  },
  {
   "cell_type": "code",
   "execution_count": 8,
   "metadata": {},
   "outputs": [
    {
     "data": {
      "text/plain": [
       "(337, 2)"
      ]
     },
     "execution_count": 8,
     "metadata": {},
     "output_type": "execute_result"
    }
   ],
   "source": [
    "tree.shape"
   ]
  },
  {
   "cell_type": "markdown",
   "metadata": {},
   "source": [
    "Да, может, не все очереди в `parentQueueId` попадают"
   ]
  },
  {
   "cell_type": "markdown",
   "metadata": {},
   "source": [
    "### Сколько выпавших очередей"
   ]
  },
  {
   "cell_type": "code",
   "execution_count": 9,
   "metadata": {},
   "outputs": [],
   "source": [
    "all_queues_in_hierarchy = set()\n",
    "\n",
    "\n",
    "def update_queues_hierarchy(row):\n",
    "    all_queues_in_hierarchy.add(row[\"parentQueueId\"])\n",
    "    for children in row[\"childrenIds\"]:\n",
    "        all_queues_in_hierarchy.add(children)\n",
    "\n",
    "\n",
    "tree.apply(update_queues_hierarchy, axis=1)\n",
    "None"
   ]
  },
  {
   "cell_type": "code",
   "execution_count": 10,
   "metadata": {},
   "outputs": [
    {
     "name": "stdout",
     "output_type": "stream",
     "text": [
      "В данных на 346 больше очередей, чем в иерархии.\n",
      "В иерархии 1651 очередей.\n"
     ]
    }
   ],
   "source": [
    "queues_not_in_hierarchy = all_queues - all_queues_in_hierarchy\n",
    "print(\n",
    "    f\"В данных на {len(queues_not_in_hierarchy)} больше очередей, чем в иерархии.\\nВ иерархии {len(all_queues_in_hierarchy)} очередей.\"\n",
    ")"
   ]
  },
  {
   "cell_type": "markdown",
   "metadata": {},
   "source": [
    "пример"
   ]
  },
  {
   "cell_type": "code",
   "execution_count": 11,
   "metadata": {},
   "outputs": [
    {
     "name": "stdout",
     "output_type": "stream",
     "text": [
      "[100353, 100354, 100355, 100356, 100357, 100365, 100401, 100404, 100407, 100408]\n"
     ]
    }
   ],
   "source": [
    "print(list(queues_not_in_hierarchy)[:10])"
   ]
  },
  {
   "cell_type": "markdown",
   "metadata": {},
   "source": [
    "### Насколько потерянные очереди большие"
   ]
  },
  {
   "cell_type": "code",
   "execution_count": 12,
   "metadata": {},
   "outputs": [
    {
     "data": {
      "text/plain": [
       "queueId\n",
       "100644    225158\n",
       "100814     63307\n",
       "100404     43099\n",
       "100751     34374\n",
       "100907     34271\n",
       "100571     31174\n",
       "100869     29974\n",
       "100919     29759\n",
       "100895     25059\n",
       "100815     24915\n",
       "Name: new_tickets, dtype: int64"
      ]
     },
     "execution_count": 12,
     "metadata": {},
     "output_type": "execute_result"
    }
   ],
   "source": [
    "df_extra_queue = (\n",
    "    df[df.queueId.isin(queues_not_in_hierarchy)]\n",
    "    .groupby(\"queueId\")[\"new_tickets\"]\n",
    "    .sum()\n",
    "    .sort_values(ascending=False)\n",
    ")\n",
    "df_extra_queue[:10]"
   ]
  },
  {
   "cell_type": "code",
   "execution_count": 13,
   "metadata": {},
   "outputs": [
    {
     "name": "stdout",
     "output_type": "stream",
     "text": [
      "extra tickets: 8.03%\n"
     ]
    }
   ],
   "source": [
    "print(f\"extra tickets: {df_extra_queue.sum() / df['new_tickets'].sum():.2%}\")"
   ]
  },
  {
   "cell_type": "markdown",
   "metadata": {},
   "source": [
    "Видна выпавшая из иерархии очередь `100644`"
   ]
  },
  {
   "cell_type": "code",
   "execution_count": 14,
   "metadata": {},
   "outputs": [
    {
     "data": {
      "text/plain": [
       "queueId\n",
       "1866      495259\n",
       "3232      483591\n",
       "3730      315986\n",
       "3836      244251\n",
       "2709      235990\n",
       "25        233598\n",
       "3602      230378\n",
       "100644    225158\n",
       "2200      224805\n",
       "29        216448\n",
       "Name: new_tickets, dtype: int64"
      ]
     },
     "execution_count": 14,
     "metadata": {},
     "output_type": "execute_result"
    }
   ],
   "source": [
    "(df.groupby(\"queueId\")[\"new_tickets\"].sum().sort_values(ascending=False))[:10]"
   ]
  },
  {
   "cell_type": "markdown",
   "metadata": {},
   "source": [
    "### Анализ иерархии очередей"
   ]
  },
  {
   "cell_type": "code",
   "execution_count": 15,
   "metadata": {},
   "outputs": [],
   "source": [
    "def get_depth(queue_id, visited=None):\n",
    "    if visited is None:\n",
    "        visited = set()\n",
    "    if queue_id in visited:\n",
    "        return 0\n",
    "    visited.add(queue_id)\n",
    "    children = tree[tree[\"parentQueueId\"] == queue_id][\"childrenIds\"].values\n",
    "    if len(children) == 0:\n",
    "        return 1\n",
    "    return 1 + max(get_depth(child, visited.copy()) for child in children[0])\n",
    "\n",
    "\n",
    "tree[\"depth\"] = tree[\"parentQueueId\"].apply(get_depth)"
   ]
  },
  {
   "cell_type": "code",
   "execution_count": 16,
   "metadata": {},
   "outputs": [
    {
     "data": {
      "text/plain": [
       "count    337.000\n",
       "mean       2.371\n",
       "std        0.784\n",
       "min        1.000\n",
       "25%        2.000\n",
       "50%        2.000\n",
       "75%        2.000\n",
       "max        6.000\n",
       "Name: depth, dtype: float64"
      ]
     },
     "execution_count": 16,
     "metadata": {},
     "output_type": "execute_result"
    }
   ],
   "source": [
    "tree[\"depth\"].describe().round(3)"
   ]
  },
  {
   "cell_type": "code",
   "execution_count": 17,
   "metadata": {},
   "outputs": [
    {
     "data": {
      "text/html": [
       "<div>\n",
       "<style scoped>\n",
       "    .dataframe tbody tr th:only-of-type {\n",
       "        vertical-align: middle;\n",
       "    }\n",
       "\n",
       "    .dataframe tbody tr th {\n",
       "        vertical-align: top;\n",
       "    }\n",
       "\n",
       "    .dataframe thead th {\n",
       "        text-align: right;\n",
       "    }\n",
       "</style>\n",
       "<table border=\"1\" class=\"dataframe\">\n",
       "  <thead>\n",
       "    <tr style=\"text-align: right;\">\n",
       "      <th></th>\n",
       "      <th>parentQueueId</th>\n",
       "      <th>childrenIds</th>\n",
       "      <th>depth</th>\n",
       "    </tr>\n",
       "  </thead>\n",
       "  <tbody>\n",
       "    <tr>\n",
       "      <th>16</th>\n",
       "      <td>100281</td>\n",
       "      <td>[100281]</td>\n",
       "      <td>1</td>\n",
       "    </tr>\n",
       "    <tr>\n",
       "      <th>306</th>\n",
       "      <td>100307</td>\n",
       "      <td>[100307]</td>\n",
       "      <td>1</td>\n",
       "    </tr>\n",
       "  </tbody>\n",
       "</table>\n",
       "</div>"
      ],
      "text/plain": [
       "     parentQueueId childrenIds  depth\n",
       "16          100281    [100281]      1\n",
       "306         100307    [100307]      1"
      ]
     },
     "execution_count": 17,
     "metadata": {},
     "output_type": "execute_result"
    }
   ],
   "source": [
    "tree[tree[\"depth\"] == 1]"
   ]
  },
  {
   "cell_type": "code",
   "execution_count": 18,
   "metadata": {},
   "outputs": [
    {
     "data": {
      "text/html": [
       "<div>\n",
       "<style scoped>\n",
       "    .dataframe tbody tr th:only-of-type {\n",
       "        vertical-align: middle;\n",
       "    }\n",
       "\n",
       "    .dataframe tbody tr th {\n",
       "        vertical-align: top;\n",
       "    }\n",
       "\n",
       "    .dataframe thead th {\n",
       "        text-align: right;\n",
       "    }\n",
       "</style>\n",
       "<table border=\"1\" class=\"dataframe\">\n",
       "  <thead>\n",
       "    <tr style=\"text-align: right;\">\n",
       "      <th></th>\n",
       "      <th>parentQueueId</th>\n",
       "      <th>childrenIds</th>\n",
       "      <th>depth</th>\n",
       "    </tr>\n",
       "  </thead>\n",
       "  <tbody>\n",
       "    <tr>\n",
       "      <th>0</th>\n",
       "      <td>2010</td>\n",
       "      <td>[2330, 2010]</td>\n",
       "      <td>2</td>\n",
       "    </tr>\n",
       "    <tr>\n",
       "      <th>1</th>\n",
       "      <td>1571</td>\n",
       "      <td>[3085, 1571]</td>\n",
       "      <td>2</td>\n",
       "    </tr>\n",
       "    <tr>\n",
       "      <th>2</th>\n",
       "      <td>100153</td>\n",
       "      <td>[3546, 100153, 2732, 1162, 100113, 2980, 3810,...</td>\n",
       "      <td>2</td>\n",
       "    </tr>\n",
       "    <tr>\n",
       "      <th>3</th>\n",
       "      <td>2538</td>\n",
       "      <td>[3252, 2583, 2538]</td>\n",
       "      <td>2</td>\n",
       "    </tr>\n",
       "    <tr>\n",
       "      <th>4</th>\n",
       "      <td>100192</td>\n",
       "      <td>[100193, 100192]</td>\n",
       "      <td>2</td>\n",
       "    </tr>\n",
       "  </tbody>\n",
       "</table>\n",
       "</div>"
      ],
      "text/plain": [
       "   parentQueueId                                        childrenIds  depth\n",
       "0           2010                                       [2330, 2010]      2\n",
       "1           1571                                       [3085, 1571]      2\n",
       "2         100153  [3546, 100153, 2732, 1162, 100113, 2980, 3810,...      2\n",
       "3           2538                                 [3252, 2583, 2538]      2\n",
       "4         100192                                   [100193, 100192]      2"
      ]
     },
     "execution_count": 18,
     "metadata": {},
     "output_type": "execute_result"
    }
   ],
   "source": [
    "tree[tree[\"depth\"] == 2].head()"
   ]
  },
  {
   "cell_type": "code",
   "execution_count": 19,
   "metadata": {},
   "outputs": [
    {
     "data": {
      "text/html": [
       "<div>\n",
       "<style scoped>\n",
       "    .dataframe tbody tr th:only-of-type {\n",
       "        vertical-align: middle;\n",
       "    }\n",
       "\n",
       "    .dataframe tbody tr th {\n",
       "        vertical-align: top;\n",
       "    }\n",
       "\n",
       "    .dataframe thead th {\n",
       "        text-align: right;\n",
       "    }\n",
       "</style>\n",
       "<table border=\"1\" class=\"dataframe\">\n",
       "  <thead>\n",
       "    <tr style=\"text-align: right;\">\n",
       "      <th></th>\n",
       "      <th>parentQueueId</th>\n",
       "      <th>childrenIds</th>\n",
       "      <th>depth</th>\n",
       "    </tr>\n",
       "  </thead>\n",
       "  <tbody>\n",
       "    <tr>\n",
       "      <th>25</th>\n",
       "      <td>2034</td>\n",
       "      <td>[2713, 2100, 2327, 2326, 2329, 2328, 2079, 266...</td>\n",
       "      <td>6</td>\n",
       "    </tr>\n",
       "    <tr>\n",
       "      <th>35</th>\n",
       "      <td>2870</td>\n",
       "      <td>[211, 2653, 2651, 2650, 2654, 3048, 3047, 3556...</td>\n",
       "      <td>6</td>\n",
       "    </tr>\n",
       "    <tr>\n",
       "      <th>150</th>\n",
       "      <td>742</td>\n",
       "      <td>[3715, 2964, 3496, 1262, 2840, 26, 691, 1142, ...</td>\n",
       "      <td>6</td>\n",
       "    </tr>\n",
       "    <tr>\n",
       "      <th>176</th>\n",
       "      <td>2299</td>\n",
       "      <td>[2717, 2846, 2842, 2843, 3410, 2320, 2480, 248...</td>\n",
       "      <td>6</td>\n",
       "    </tr>\n",
       "  </tbody>\n",
       "</table>\n",
       "</div>"
      ],
      "text/plain": [
       "     parentQueueId                                        childrenIds  depth\n",
       "25            2034  [2713, 2100, 2327, 2326, 2329, 2328, 2079, 266...      6\n",
       "35            2870  [211, 2653, 2651, 2650, 2654, 3048, 3047, 3556...      6\n",
       "150            742  [3715, 2964, 3496, 1262, 2840, 26, 691, 1142, ...      6\n",
       "176           2299  [2717, 2846, 2842, 2843, 3410, 2320, 2480, 248...      6"
      ]
     },
     "execution_count": 19,
     "metadata": {},
     "output_type": "execute_result"
    }
   ],
   "source": [
    "tree[tree[\"depth\"] == 6]"
   ]
  },
  {
   "cell_type": "code",
   "execution_count": 20,
   "metadata": {},
   "outputs": [
    {
     "data": {
      "image/png": "[encoded data removed]",
      "text/plain": [
       "<Figure size 1200x600 with 1 Axes>"
      ]
     },
     "metadata": {},
     "output_type": "display_data"
    }
   ],
   "source": [
    "plt.figure(figsize=(12, 6))\n",
    "depth_counts = tree[\"depth\"].value_counts().sort_index()\n",
    "sns.barplot(x=depth_counts.index, y=depth_counts.values)\n",
    "plt.title(\"Distribution of Hierarchy Depth\")\n",
    "plt.xlabel(\"Depth\")\n",
    "plt.ylabel(\"Count\")\n",
    "plt.show()"
   ]
  },
  {
   "cell_type": "code",
   "execution_count": 21,
   "metadata": {},
   "outputs": [],
   "source": [
    "queue_to_all_children = get_map_parent_to_children_queues(tree)"
   ]
  },
  {
   "cell_type": "code",
   "execution_count": 22,
   "metadata": {},
   "outputs": [
    {
     "name": "stdout",
     "output_type": "stream",
     "text": [
      "Всего тикетов: 15,440,382\n"
     ]
    }
   ],
   "source": [
    "print(f'Всего тикетов: {df['new_tickets'].sum():,}')"
   ]
  },
  {
   "cell_type": "markdown",
   "metadata": {},
   "source": [
    "### Топ очередей (включая всю иерархию)"
   ]
  },
  {
   "cell_type": "code",
   "execution_count": 23,
   "metadata": {},
   "outputs": [
    {
     "name": "stdout",
     "output_type": "stream",
     "text": [
      "Queue 10: 2,463,146\n",
      "Queue 742: 1,619,592\n",
      "Queue 1866: 1,470,013\n",
      "Queue 1871: 1,354,349\n",
      "Queue 34: 1,247,019\n",
      "Queue 2657: 1,243,017\n",
      "Queue 4447: 1,121,534\n",
      "Queue 4397: 986,415\n",
      "Queue 115: 896,296\n",
      "Queue 2002: 825,237\n"
     ]
    }
   ],
   "source": [
    "total_counts = defaultdict(int)\n",
    "\n",
    "for queue_id, children in queue_to_all_children.items():\n",
    "    count = df[df[\"queueId\"].isin(children)][\"new_tickets\"].sum()\n",
    "    total_counts[queue_id] = count\n",
    "\n",
    "sorted_counts = sorted(total_counts.items(), key=lambda x: x[1], reverse=True)\n",
    "\n",
    "top_10_queues = sorted_counts[:10]\n",
    "\n",
    "for queue_id, count in top_10_queues:\n",
    "    print(f\"Queue {queue_id}: {count:,}\")"
   ]
  }
 ],
 "metadata": {
  "kernelspec": {
   "display_name": ".venv",
   "language": "python",
   "name": "python3"
  },
  "language_info": {
   "codemirror_mode": {
    "name": "ipython",
    "version": 3
   },
   "file_extension": ".py",
   "mimetype": "text/x-python",
   "name": "python",
   "nbconvert_exporter": "python",
   "pygments_lexer": "ipython3",
   "version": "3.12.7"
  }
 },
 "nbformat": 4,
 "nbformat_minor": 2
}
