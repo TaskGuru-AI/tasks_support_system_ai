{
 "cells": [
  {
   "cell_type": "code",
   "execution_count": null,
   "id": "8ca40cc1",
   "metadata": {},
   "outputs": [],
   "source": [
    "import pandas as pd\n",
    "import numpy as np\n",
    "from darts import concatenate, TimeSeries\n",
    "from darts.dataprocessing.transformers import MinTReconciliator  # noqa\n",
    "from darts.metrics import mae, rmse, mape  # noqa\n",
    "from darts.models import (\n",
    "    LinearRegressionModel,\n",
    "    NaiveSeasonal,\n",
    "    ExponentialSmoothing \n",
    "\n",
    ")\n",
    "from darts.utils.model_selection import train_test_split\n",
    "from darts.dataprocessing.transformers import Scaler\n",
    "from darts.utils.utils import ModelMode, SeasonalityMode\n",
    "from darts.dataprocessing.transformers import MissingValuesFiller\n",
    "# from darts.utils.likelihood_models import GaussianLikelihood\n",
    "import matplotlib.pyplot as plt\n",
    "from tasks_support_system_ai.utils.utils import get_correct_data_path\n",
    "from tasks_support_system_ai.data.parse_data import read_proper_ts_tree, ts_read_daily_tickets\n",
    "from tasks_support_system_ai.data.inference_preprocesser import create_preprocessing_pipeline, create_transformed_df\n",
    "import seaborn as sns\n",
    "import random\n",
    "import matplotlib.cm as cm\n",
    "from sklearn.ensemble import IsolationForest\n",
    "import warnings\n",
    "from darts.models import NBEATSModel, TransformerModel, TiDEModel, RNNModel\n",
    "from pytorch_lightning.callbacks import EarlyStopping\n",
    "import torch\n",
    "from tqdm import tqdm\n",
    "from pytorch_lightning.loggers import CSVLogger"
   ]
  },
  {
   "cell_type": "markdown",
   "id": "2ae60464",
   "metadata": {},
   "source": [
    "Загружаем данные"
   ]
  },
  {
   "cell_type": "code",
   "execution_count": 4,
   "id": "c5acd5f1",
   "metadata": {},
   "outputs": [],
   "source": [
    "df = ts_read_daily_tickets(get_correct_data_path(\"tickets_daily/tickets_daily.csv\"))\n",
    "tree = read_proper_ts_tree(get_correct_data_path(\"custom_data/tree_proper.csv\"))"
   ]
  },
  {
   "cell_type": "code",
   "execution_count": 5,
   "id": "a10cb143",
   "metadata": {},
   "outputs": [
    {
     "data": {
      "text/html": [
       "<div>\n",
       "<style scoped>\n",
       "    .dataframe tbody tr th:only-of-type {\n",
       "        vertical-align: middle;\n",
       "    }\n",
       "\n",
       "    .dataframe tbody tr th {\n",
       "        vertical-align: top;\n",
       "    }\n",
       "\n",
       "    .dataframe thead th {\n",
       "        text-align: right;\n",
       "    }\n",
       "</style>\n",
       "<table border=\"1\" class=\"dataframe\">\n",
       "  <thead>\n",
       "    <tr style=\"text-align: right;\">\n",
       "      <th></th>\n",
       "      <th>queueId</th>\n",
       "      <th>level</th>\n",
       "      <th>immediateDescendants</th>\n",
       "      <th>allDescendants</th>\n",
       "      <th>full_load</th>\n",
       "    </tr>\n",
       "  </thead>\n",
       "  <tbody>\n",
       "    <tr>\n",
       "      <th>7</th>\n",
       "      <td>10</td>\n",
       "      <td>1</td>\n",
       "      <td>[4472, 472, 4733, 1571, 100118, 2657, 2658, 27...</td>\n",
       "      <td>[10, 104, 462, 472, 1322, 1571, 2190, 2200, 24...</td>\n",
       "      <td>2463146</td>\n",
       "    </tr>\n",
       "    <tr>\n",
       "      <th>481</th>\n",
       "      <td>1866</td>\n",
       "      <td>1</td>\n",
       "      <td>[4307, 4352, 4587, 4667, 4682, 762, 100081, 10...</td>\n",
       "      <td>[762, 1866, 2382, 2733, 3536, 3576, 3617, 3836...</td>\n",
       "      <td>1470013</td>\n",
       "    </tr>\n",
       "    <tr>\n",
       "      <th>285</th>\n",
       "      <td>742</td>\n",
       "      <td>1</td>\n",
       "      <td>[39, 98, 118, 4322, 4412, 2458, 2610, 2921, 3093]</td>\n",
       "      <td>[9, 13, 26, 39, 83, 98, 101, 110, 116, 118, 37...</td>\n",
       "      <td>1387729</td>\n",
       "    </tr>\n",
       "    <tr>\n",
       "      <th>26</th>\n",
       "      <td>34</td>\n",
       "      <td>1</td>\n",
       "      <td>[1, 111, 4522, 842, 1212, 1471, 1531, 1701, 10...</td>\n",
       "      <td>[1, 34, 42, 85, 111, 392, 842, 1212, 1471, 153...</td>\n",
       "      <td>1247019</td>\n",
       "    </tr>\n",
       "    <tr>\n",
       "      <th>163</th>\n",
       "      <td>4447</td>\n",
       "      <td>1</td>\n",
       "      <td>[57, 4457, 4612, 4617, 100254, 100261, 4793, 1...</td>\n",
       "      <td>[57, 382, 1162, 1741, 1881, 1887, 1981, 2007, ...</td>\n",
       "      <td>1121534</td>\n",
       "    </tr>\n",
       "    <tr>\n",
       "      <th>485</th>\n",
       "      <td>1871</td>\n",
       "      <td>1</td>\n",
       "      <td>[4202, 4262, 4723, 100264, 2150, 2170, 2321, 2...</td>\n",
       "      <td>[28, 63, 122, 632, 1062, 1201, 1401, 1871, 198...</td>\n",
       "      <td>1006818</td>\n",
       "    </tr>\n",
       "    <tr>\n",
       "      <th>143</th>\n",
       "      <td>4397</td>\n",
       "      <td>1</td>\n",
       "      <td>[18, 29, 442, 100272, 100042, 2199, 2403, 3750]</td>\n",
       "      <td>[18, 29, 442, 2199, 2240, 2403, 2404, 2535, 32...</td>\n",
       "      <td>986415</td>\n",
       "    </tr>\n",
       "    <tr>\n",
       "      <th>90</th>\n",
       "      <td>115</td>\n",
       "      <td>1</td>\n",
       "      <td>[25, 88, 4547, 4763, 1910, 100044, 100085, 216...</td>\n",
       "      <td>[25, 88, 115, 1910, 2163, 2166, 2219, 2259, 22...</td>\n",
       "      <td>896296</td>\n",
       "    </tr>\n",
       "    <tr>\n",
       "      <th>607</th>\n",
       "      <td>2002</td>\n",
       "      <td>1</td>\n",
       "      <td>[71, 4482, 731, 2226, 2267, 2269, 2298, 2338, ...</td>\n",
       "      <td>[71, 731, 2002, 2226, 2267, 2269, 2298, 2335, ...</td>\n",
       "      <td>825237</td>\n",
       "    </tr>\n",
       "    <tr>\n",
       "      <th>41</th>\n",
       "      <td>4147</td>\n",
       "      <td>1</td>\n",
       "      <td>[7, 14, 4442, 100329, 100034, 100092, 100105, ...</td>\n",
       "      <td>[7, 14, 2544, 3045, 3086, 3095, 3551, 3884, 41...</td>\n",
       "      <td>681754</td>\n",
       "    </tr>\n",
       "    <tr>\n",
       "      <th>1621</th>\n",
       "      <td>3936</td>\n",
       "      <td>1</td>\n",
       "      <td>[172, 100199, 4557, 4647, 100035, 2591, 3805, ...</td>\n",
       "      <td>[172, 2591, 3805, 3842, 3936, 4557, 4647, 1000...</td>\n",
       "      <td>431173</td>\n",
       "    </tr>\n",
       "    <tr>\n",
       "      <th>1193</th>\n",
       "      <td>2709</td>\n",
       "      <td>1</td>\n",
       "      <td>[100206, 4492, 4497, 4542, 100326, 2989, 3795]</td>\n",
       "      <td>[2709, 2752, 2989, 3795, 4492, 4497, 4542, 100...</td>\n",
       "      <td>397720</td>\n",
       "    </tr>\n",
       "    <tr>\n",
       "      <th>623</th>\n",
       "      <td>100322</td>\n",
       "      <td>1</td>\n",
       "      <td>[4142, 4783, 1292, 3133, 3470, 3632]</td>\n",
       "      <td>[1292, 2632, 3133, 3462, 3470, 3632, 3675, 389...</td>\n",
       "      <td>342116</td>\n",
       "    </tr>\n",
       "    <tr>\n",
       "      <th>1144</th>\n",
       "      <td>2641</td>\n",
       "      <td>1</td>\n",
       "      <td>[74, 113, 4758, 1112, 1192, 100112, 2331, 2674...</td>\n",
       "      <td>[74, 113, 352, 872, 882, 892, 1022, 1092, 1112...</td>\n",
       "      <td>332265</td>\n",
       "    </tr>\n",
       "    <tr>\n",
       "      <th>574</th>\n",
       "      <td>100273</td>\n",
       "      <td>1</td>\n",
       "      <td>[4382, 100278, 100279, 1896, 100274]</td>\n",
       "      <td>[1601, 1894, 1896, 1898, 1901, 1902, 1904, 190...</td>\n",
       "      <td>232449</td>\n",
       "    </tr>\n",
       "    <tr>\n",
       "      <th>49</th>\n",
       "      <td>4167</td>\n",
       "      <td>1</td>\n",
       "      <td>[4107, 192, 100200, 100306, 100152, 2178, 2556]</td>\n",
       "      <td>[192, 2178, 2446, 2556, 4107, 4167, 4567, 4788...</td>\n",
       "      <td>181486</td>\n",
       "    </tr>\n",
       "    <tr>\n",
       "      <th>1545</th>\n",
       "      <td>3474</td>\n",
       "      <td>1</td>\n",
       "      <td>[4602, 100318]</td>\n",
       "      <td>[3474, 4602, 100318]</td>\n",
       "      <td>95795</td>\n",
       "    </tr>\n",
       "    <tr>\n",
       "      <th>1358</th>\n",
       "      <td>2922</td>\n",
       "      <td>1</td>\n",
       "      <td>[2923, 2924, 2925, 2974]</td>\n",
       "      <td>[2922, 2923, 2924, 2925, 2974]</td>\n",
       "      <td>51632</td>\n",
       "    </tr>\n",
       "    <tr>\n",
       "      <th>32</th>\n",
       "      <td>40</td>\n",
       "      <td>1</td>\n",
       "      <td>[752]</td>\n",
       "      <td>[40, 752]</td>\n",
       "      <td>30301</td>\n",
       "    </tr>\n",
       "    <tr>\n",
       "      <th>120</th>\n",
       "      <td>201</td>\n",
       "      <td>1</td>\n",
       "      <td>[482, 1182]</td>\n",
       "      <td>[201, 482, 1182]</td>\n",
       "      <td>9758</td>\n",
       "    </tr>\n",
       "    <tr>\n",
       "      <th>184</th>\n",
       "      <td>4537</td>\n",
       "      <td>1</td>\n",
       "      <td>[100043]</td>\n",
       "      <td>[4537, 100043]</td>\n",
       "      <td>8661</td>\n",
       "    </tr>\n",
       "    <tr>\n",
       "      <th>240</th>\n",
       "      <td>4703</td>\n",
       "      <td>1</td>\n",
       "      <td>[100280, 100319]</td>\n",
       "      <td>[4703, 100280, 100319]</td>\n",
       "      <td>1242</td>\n",
       "    </tr>\n",
       "  </tbody>\n",
       "</table>\n",
       "</div>"
      ],
      "text/plain": [
       "      queueId  level                               immediateDescendants  \\\n",
       "7          10      1  [4472, 472, 4733, 1571, 100118, 2657, 2658, 27...   \n",
       "481      1866      1  [4307, 4352, 4587, 4667, 4682, 762, 100081, 10...   \n",
       "285       742      1  [39, 98, 118, 4322, 4412, 2458, 2610, 2921, 3093]   \n",
       "26         34      1  [1, 111, 4522, 842, 1212, 1471, 1531, 1701, 10...   \n",
       "163      4447      1  [57, 4457, 4612, 4617, 100254, 100261, 4793, 1...   \n",
       "485      1871      1  [4202, 4262, 4723, 100264, 2150, 2170, 2321, 2...   \n",
       "143      4397      1    [18, 29, 442, 100272, 100042, 2199, 2403, 3750]   \n",
       "90        115      1  [25, 88, 4547, 4763, 1910, 100044, 100085, 216...   \n",
       "607      2002      1  [71, 4482, 731, 2226, 2267, 2269, 2298, 2338, ...   \n",
       "41       4147      1  [7, 14, 4442, 100329, 100034, 100092, 100105, ...   \n",
       "1621     3936      1  [172, 100199, 4557, 4647, 100035, 2591, 3805, ...   \n",
       "1193     2709      1     [100206, 4492, 4497, 4542, 100326, 2989, 3795]   \n",
       "623    100322      1               [4142, 4783, 1292, 3133, 3470, 3632]   \n",
       "1144     2641      1  [74, 113, 4758, 1112, 1192, 100112, 2331, 2674...   \n",
       "574    100273      1               [4382, 100278, 100279, 1896, 100274]   \n",
       "49       4167      1    [4107, 192, 100200, 100306, 100152, 2178, 2556]   \n",
       "1545     3474      1                                     [4602, 100318]   \n",
       "1358     2922      1                           [2923, 2924, 2925, 2974]   \n",
       "32         40      1                                              [752]   \n",
       "120       201      1                                        [482, 1182]   \n",
       "184      4537      1                                           [100043]   \n",
       "240      4703      1                                   [100280, 100319]   \n",
       "\n",
       "                                         allDescendants  full_load  \n",
       "7     [10, 104, 462, 472, 1322, 1571, 2190, 2200, 24...    2463146  \n",
       "481   [762, 1866, 2382, 2733, 3536, 3576, 3617, 3836...    1470013  \n",
       "285   [9, 13, 26, 39, 83, 98, 101, 110, 116, 118, 37...    1387729  \n",
       "26    [1, 34, 42, 85, 111, 392, 842, 1212, 1471, 153...    1247019  \n",
       "163   [57, 382, 1162, 1741, 1881, 1887, 1981, 2007, ...    1121534  \n",
       "485   [28, 63, 122, 632, 1062, 1201, 1401, 1871, 198...    1006818  \n",
       "143   [18, 29, 442, 2199, 2240, 2403, 2404, 2535, 32...     986415  \n",
       "90    [25, 88, 115, 1910, 2163, 2166, 2219, 2259, 22...     896296  \n",
       "607   [71, 731, 2002, 2226, 2267, 2269, 2298, 2335, ...     825237  \n",
       "41    [7, 14, 2544, 3045, 3086, 3095, 3551, 3884, 41...     681754  \n",
       "1621  [172, 2591, 3805, 3842, 3936, 4557, 4647, 1000...     431173  \n",
       "1193  [2709, 2752, 2989, 3795, 4492, 4497, 4542, 100...     397720  \n",
       "623   [1292, 2632, 3133, 3462, 3470, 3632, 3675, 389...     342116  \n",
       "1144  [74, 113, 352, 872, 882, 892, 1022, 1092, 1112...     332265  \n",
       "574   [1601, 1894, 1896, 1898, 1901, 1902, 1904, 190...     232449  \n",
       "49    [192, 2178, 2446, 2556, 4107, 4167, 4567, 4788...     181486  \n",
       "1545                               [3474, 4602, 100318]      95795  \n",
       "1358                     [2922, 2923, 2924, 2925, 2974]      51632  \n",
       "32                                            [40, 752]      30301  \n",
       "120                                    [201, 482, 1182]       9758  \n",
       "184                                      [4537, 100043]       8661  \n",
       "240                              [4703, 100280, 100319]       1242  "
      ]
     },
     "execution_count": 5,
     "metadata": {},
     "output_type": "execute_result"
    }
   ],
   "source": [
    "top_level_tree = tree[(tree[\"level\"] == 1) & (tree[\"full_load\"] != 0)]\n",
    "top_level_tree.sort_values(\"full_load\", ascending=False)"
   ]
  },
  {
   "cell_type": "code",
   "execution_count": 6,
   "id": "4ba38edd",
   "metadata": {},
   "outputs": [],
   "source": [
    "def get_df_slice(queue_id: int):\n",
    "    queues = tree[tree[\"queueId\"] == queue_id][\"allDescendants\"].values[0]\n",
    "    df_slice = df[df[\"queueId\"].isin(queues)].groupby(\"date\")[[\"new_tickets\"]].sum()\n",
    "    return df_slice"
   ]
  },
  {
   "cell_type": "code",
   "execution_count": 7,
   "id": "16bcbe89",
   "metadata": {},
   "outputs": [],
   "source": [
    "top_level_queue_ids = top_level_tree['queueId'].tolist()"
   ]
  },
  {
   "cell_type": "code",
   "execution_count": null,
   "id": "538b687d",
   "metadata": {},
   "outputs": [
    {
     "data": {
      "text/html": [
       "<div>\n",
       "<style scoped>\n",
       "    .dataframe tbody tr th:only-of-type {\n",
       "        vertical-align: middle;\n",
       "    }\n",
       "\n",
       "    .dataframe tbody tr th {\n",
       "        vertical-align: top;\n",
       "    }\n",
       "\n",
       "    .dataframe thead th {\n",
       "        text-align: right;\n",
       "    }\n",
       "</style>\n",
       "<table border=\"1\" class=\"dataframe\">\n",
       "  <thead>\n",
       "    <tr style=\"text-align: right;\">\n",
       "      <th></th>\n",
       "      <th>date</th>\n",
       "      <th>new_tickets</th>\n",
       "      <th>queue_id</th>\n",
       "    </tr>\n",
       "  </thead>\n",
       "  <tbody>\n",
       "    <tr>\n",
       "      <th>0</th>\n",
       "      <td>2017-01-01</td>\n",
       "      <td>195</td>\n",
       "      <td>10</td>\n",
       "    </tr>\n",
       "    <tr>\n",
       "      <th>1</th>\n",
       "      <td>2017-01-02</td>\n",
       "      <td>274</td>\n",
       "      <td>10</td>\n",
       "    </tr>\n",
       "    <tr>\n",
       "      <th>2</th>\n",
       "      <td>2017-01-03</td>\n",
       "      <td>300</td>\n",
       "      <td>10</td>\n",
       "    </tr>\n",
       "    <tr>\n",
       "      <th>3</th>\n",
       "      <td>2017-01-04</td>\n",
       "      <td>283</td>\n",
       "      <td>10</td>\n",
       "    </tr>\n",
       "    <tr>\n",
       "      <th>4</th>\n",
       "      <td>2017-01-05</td>\n",
       "      <td>311</td>\n",
       "      <td>10</td>\n",
       "    </tr>\n",
       "    <tr>\n",
       "      <th>...</th>\n",
       "      <td>...</td>\n",
       "      <td>...</td>\n",
       "      <td>...</td>\n",
       "    </tr>\n",
       "    <tr>\n",
       "      <th>27819</th>\n",
       "      <td>2020-09-26</td>\n",
       "      <td>299</td>\n",
       "      <td>3936</td>\n",
       "    </tr>\n",
       "    <tr>\n",
       "      <th>27820</th>\n",
       "      <td>2020-09-27</td>\n",
       "      <td>330</td>\n",
       "      <td>3936</td>\n",
       "    </tr>\n",
       "    <tr>\n",
       "      <th>27821</th>\n",
       "      <td>2020-09-28</td>\n",
       "      <td>494</td>\n",
       "      <td>3936</td>\n",
       "    </tr>\n",
       "    <tr>\n",
       "      <th>27822</th>\n",
       "      <td>2020-09-29</td>\n",
       "      <td>554</td>\n",
       "      <td>3936</td>\n",
       "    </tr>\n",
       "    <tr>\n",
       "      <th>27823</th>\n",
       "      <td>2020-09-30</td>\n",
       "      <td>605</td>\n",
       "      <td>3936</td>\n",
       "    </tr>\n",
       "  </tbody>\n",
       "</table>\n",
       "<p>27824 rows × 3 columns</p>\n",
       "</div>"
      ],
      "text/plain": [
       "            date  new_tickets  queue_id\n",
       "0     2017-01-01          195        10\n",
       "1     2017-01-02          274        10\n",
       "2     2017-01-03          300        10\n",
       "3     2017-01-04          283        10\n",
       "4     2017-01-05          311        10\n",
       "...          ...          ...       ...\n",
       "27819 2020-09-26          299      3936\n",
       "27820 2020-09-27          330      3936\n",
       "27821 2020-09-28          494      3936\n",
       "27822 2020-09-29          554      3936\n",
       "27823 2020-09-30          605      3936\n",
       "\n",
       "[27824 rows x 3 columns]"
      ]
     },
     "execution_count": 8,
     "metadata": {},
     "output_type": "execute_result"
    }
   ],
   "source": [
    "global_df_top_level = pd.DataFrame()\n",
    "\n",
    "for queue_id in top_level_queue_ids:\n",
    "    df_queue = get_df_slice(queue_id)\n",
    "    df_queue['queue_id'] = queue_id \n",
    "    global_df_top_level = pd.concat([global_df_top_level, df_queue])\n",
    "\n",
    "global_df_top_level = global_df_top_level.reset_index()\n",
    "\n",
    "global_df_top_level"
   ]
  },
  {
   "cell_type": "code",
   "execution_count": 9,
   "id": "297c17d6",
   "metadata": {},
   "outputs": [],
   "source": [
    "global_df_top_level = global_df_top_level.dropna()"
   ]
  },
  {
   "cell_type": "code",
   "execution_count": 10,
   "id": "5e75acd5",
   "metadata": {},
   "outputs": [],
   "source": [
    "lags_to_create = [1, 2, 3, 7, 14, 21, 28, 30]\n",
    "lags_for_rolling = [1, 7, 14]\n",
    "windows_for_rolling = [3, 7, 14]"
   ]
  },
  {
   "cell_type": "markdown",
   "id": "fbb04cee",
   "metadata": {},
   "source": [
    "Сделаем предобработку данных. Добавим признаки"
   ]
  },
  {
   "cell_type": "code",
   "execution_count": 11,
   "id": "b5d4513d",
   "metadata": {},
   "outputs": [
    {
     "data": {
      "text/html": [
       "<div>\n",
       "<style scoped>\n",
       "    .dataframe tbody tr th:only-of-type {\n",
       "        vertical-align: middle;\n",
       "    }\n",
       "\n",
       "    .dataframe tbody tr th {\n",
       "        vertical-align: top;\n",
       "    }\n",
       "\n",
       "    .dataframe thead th {\n",
       "        text-align: right;\n",
       "    }\n",
       "</style>\n",
       "<table border=\"1\" class=\"dataframe\">\n",
       "  <thead>\n",
       "    <tr style=\"text-align: right;\">\n",
       "      <th></th>\n",
       "      <th>date</th>\n",
       "      <th>new_tickets</th>\n",
       "      <th>queue_id</th>\n",
       "      <th>dayofweek</th>\n",
       "      <th>month</th>\n",
       "      <th>year</th>\n",
       "      <th>new_tickets_lag_1</th>\n",
       "      <th>new_tickets_lag_2</th>\n",
       "      <th>new_tickets_lag_3</th>\n",
       "      <th>new_tickets_lag_7</th>\n",
       "      <th>...</th>\n",
       "      <th>new_tickets_lag_7_rolling_std_14</th>\n",
       "      <th>new_tickets_lag_14_rolling_mean_3</th>\n",
       "      <th>new_tickets_lag_14_rolling_median_3</th>\n",
       "      <th>new_tickets_lag_14_rolling_std_3</th>\n",
       "      <th>new_tickets_lag_14_rolling_mean_7</th>\n",
       "      <th>new_tickets_lag_14_rolling_median_7</th>\n",
       "      <th>new_tickets_lag_14_rolling_std_7</th>\n",
       "      <th>new_tickets_lag_14_rolling_mean_14</th>\n",
       "      <th>new_tickets_lag_14_rolling_median_14</th>\n",
       "      <th>new_tickets_lag_14_rolling_std_14</th>\n",
       "    </tr>\n",
       "  </thead>\n",
       "  <tbody>\n",
       "    <tr>\n",
       "      <th>31</th>\n",
       "      <td>2017-02-01</td>\n",
       "      <td>648</td>\n",
       "      <td>10</td>\n",
       "      <td>2</td>\n",
       "      <td>2</td>\n",
       "      <td>2017</td>\n",
       "      <td>705.0</td>\n",
       "      <td>694.0</td>\n",
       "      <td>305.0</td>\n",
       "      <td>608.0</td>\n",
       "      <td>...</td>\n",
       "      <td>148.492424</td>\n",
       "      <td>718.500000</td>\n",
       "      <td>718.5</td>\n",
       "      <td>112.429978</td>\n",
       "      <td>718.500000</td>\n",
       "      <td>718.5</td>\n",
       "      <td>112.429978</td>\n",
       "      <td>718.500000</td>\n",
       "      <td>718.5</td>\n",
       "      <td>112.429978</td>\n",
       "    </tr>\n",
       "    <tr>\n",
       "      <th>32</th>\n",
       "      <td>2017-02-02</td>\n",
       "      <td>600</td>\n",
       "      <td>10</td>\n",
       "      <td>3</td>\n",
       "      <td>2</td>\n",
       "      <td>2017</td>\n",
       "      <td>648.0</td>\n",
       "      <td>705.0</td>\n",
       "      <td>694.0</td>\n",
       "      <td>689.0</td>\n",
       "      <td>...</td>\n",
       "      <td>105.910339</td>\n",
       "      <td>708.666667</td>\n",
       "      <td>689.0</td>\n",
       "      <td>81.303956</td>\n",
       "      <td>708.666667</td>\n",
       "      <td>689.0</td>\n",
       "      <td>81.303956</td>\n",
       "      <td>708.666667</td>\n",
       "      <td>689.0</td>\n",
       "      <td>81.303956</td>\n",
       "    </tr>\n",
       "    <tr>\n",
       "      <th>33</th>\n",
       "      <td>2017-02-03</td>\n",
       "      <td>640</td>\n",
       "      <td>10</td>\n",
       "      <td>4</td>\n",
       "      <td>2</td>\n",
       "      <td>2017</td>\n",
       "      <td>600.0</td>\n",
       "      <td>648.0</td>\n",
       "      <td>705.0</td>\n",
       "      <td>603.0</td>\n",
       "      <td>...</td>\n",
       "      <td>100.394223</td>\n",
       "      <td>650.666667</td>\n",
       "      <td>639.0</td>\n",
       "      <td>34.034296</td>\n",
       "      <td>687.500000</td>\n",
       "      <td>664.0</td>\n",
       "      <td>78.733728</td>\n",
       "      <td>687.500000</td>\n",
       "      <td>664.0</td>\n",
       "      <td>78.733728</td>\n",
       "    </tr>\n",
       "    <tr>\n",
       "      <th>34</th>\n",
       "      <td>2017-02-04</td>\n",
       "      <td>327</td>\n",
       "      <td>10</td>\n",
       "      <td>5</td>\n",
       "      <td>2</td>\n",
       "      <td>2017</td>\n",
       "      <td>640.0</td>\n",
       "      <td>600.0</td>\n",
       "      <td>648.0</td>\n",
       "      <td>318.0</td>\n",
       "      <td>...</td>\n",
       "      <td>183.563885</td>\n",
       "      <td>558.333333</td>\n",
       "      <td>624.0</td>\n",
       "      <td>173.107866</td>\n",
       "      <td>622.400000</td>\n",
       "      <td>639.0</td>\n",
       "      <td>160.746073</td>\n",
       "      <td>622.400000</td>\n",
       "      <td>639.0</td>\n",
       "      <td>160.746073</td>\n",
       "    </tr>\n",
       "    <tr>\n",
       "      <th>35</th>\n",
       "      <td>2017-02-05</td>\n",
       "      <td>280</td>\n",
       "      <td>10</td>\n",
       "      <td>6</td>\n",
       "      <td>2</td>\n",
       "      <td>2017</td>\n",
       "      <td>327.0</td>\n",
       "      <td>640.0</td>\n",
       "      <td>600.0</td>\n",
       "      <td>305.0</td>\n",
       "      <td>...</td>\n",
       "      <td>205.371290</td>\n",
       "      <td>428.666667</td>\n",
       "      <td>362.0</td>\n",
       "      <td>171.980619</td>\n",
       "      <td>568.666667</td>\n",
       "      <td>631.5</td>\n",
       "      <td>194.923233</td>\n",
       "      <td>568.666667</td>\n",
       "      <td>631.5</td>\n",
       "      <td>194.923233</td>\n",
       "    </tr>\n",
       "  </tbody>\n",
       "</table>\n",
       "<p>5 rows × 42 columns</p>\n",
       "</div>"
      ],
      "text/plain": [
       "         date  new_tickets  queue_id  dayofweek  month  year  \\\n",
       "31 2017-02-01          648        10          2      2  2017   \n",
       "32 2017-02-02          600        10          3      2  2017   \n",
       "33 2017-02-03          640        10          4      2  2017   \n",
       "34 2017-02-04          327        10          5      2  2017   \n",
       "35 2017-02-05          280        10          6      2  2017   \n",
       "\n",
       "    new_tickets_lag_1  new_tickets_lag_2  new_tickets_lag_3  \\\n",
       "31              705.0              694.0              305.0   \n",
       "32              648.0              705.0              694.0   \n",
       "33              600.0              648.0              705.0   \n",
       "34              640.0              600.0              648.0   \n",
       "35              327.0              640.0              600.0   \n",
       "\n",
       "    new_tickets_lag_7  ...  new_tickets_lag_7_rolling_std_14  \\\n",
       "31              608.0  ...                        148.492424   \n",
       "32              689.0  ...                        105.910339   \n",
       "33              603.0  ...                        100.394223   \n",
       "34              318.0  ...                        183.563885   \n",
       "35              305.0  ...                        205.371290   \n",
       "\n",
       "    new_tickets_lag_14_rolling_mean_3  new_tickets_lag_14_rolling_median_3  \\\n",
       "31                         718.500000                                718.5   \n",
       "32                         708.666667                                689.0   \n",
       "33                         650.666667                                639.0   \n",
       "34                         558.333333                                624.0   \n",
       "35                         428.666667                                362.0   \n",
       "\n",
       "    new_tickets_lag_14_rolling_std_3  new_tickets_lag_14_rolling_mean_7  \\\n",
       "31                        112.429978                         718.500000   \n",
       "32                         81.303956                         708.666667   \n",
       "33                         34.034296                         687.500000   \n",
       "34                        173.107866                         622.400000   \n",
       "35                        171.980619                         568.666667   \n",
       "\n",
       "    new_tickets_lag_14_rolling_median_7  new_tickets_lag_14_rolling_std_7  \\\n",
       "31                                718.5                        112.429978   \n",
       "32                                689.0                         81.303956   \n",
       "33                                664.0                         78.733728   \n",
       "34                                639.0                        160.746073   \n",
       "35                                631.5                        194.923233   \n",
       "\n",
       "    new_tickets_lag_14_rolling_mean_14  new_tickets_lag_14_rolling_median_14  \\\n",
       "31                          718.500000                                 718.5   \n",
       "32                          708.666667                                 689.0   \n",
       "33                          687.500000                                 664.0   \n",
       "34                          622.400000                                 639.0   \n",
       "35                          568.666667                                 631.5   \n",
       "\n",
       "    new_tickets_lag_14_rolling_std_14  \n",
       "31                         112.429978  \n",
       "32                          81.303956  \n",
       "33                          78.733728  \n",
       "34                         160.746073  \n",
       "35                         194.923233  \n",
       "\n",
       "[5 rows x 42 columns]"
      ]
     },
     "execution_count": 11,
     "metadata": {},
     "output_type": "execute_result"
    }
   ],
   "source": [
    "global_df_transformed = create_transformed_df(\n",
    "    df= global_df_top_level,\n",
    "    lags_to_create= lags_to_create,\n",
    "    lags_for_rolling= lags_for_rolling,\n",
    "    windows_for_rolling= windows_for_rolling\n",
    ")\n",
    "\n",
    "global_df_transformed.head()"
   ]
  },
  {
   "cell_type": "code",
   "execution_count": 12,
   "id": "e901fd85",
   "metadata": {},
   "outputs": [
    {
     "name": "stdout",
     "output_type": "stream",
     "text": [
      "\n",
      "Определены Future Covariates: ['dayofweek', 'month', 'year']\n",
      "Определены Past Covariates: ['new_tickets_lag_1', 'new_tickets_lag_2', 'new_tickets_lag_3', 'new_tickets_lag_7', 'new_tickets_lag_14', 'new_tickets_lag_21', 'new_tickets_lag_28', 'new_tickets_lag_30', 'is_anomaly', 'new_tickets_lag_1_rolling_mean_3', 'new_tickets_lag_1_rolling_median_3', 'new_tickets_lag_1_rolling_std_3', 'new_tickets_lag_1_rolling_mean_7', 'new_tickets_lag_1_rolling_median_7', 'new_tickets_lag_1_rolling_std_7', 'new_tickets_lag_1_rolling_mean_14', 'new_tickets_lag_1_rolling_median_14', 'new_tickets_lag_1_rolling_std_14', 'new_tickets_lag_7_rolling_mean_3', 'new_tickets_lag_7_rolling_median_3', 'new_tickets_lag_7_rolling_std_3', 'new_tickets_lag_7_rolling_mean_7', 'new_tickets_lag_7_rolling_median_7', 'new_tickets_lag_7_rolling_std_7', 'new_tickets_lag_7_rolling_mean_14', 'new_tickets_lag_7_rolling_median_14', 'new_tickets_lag_7_rolling_std_14', 'new_tickets_lag_14_rolling_mean_3', 'new_tickets_lag_14_rolling_median_3', 'new_tickets_lag_14_rolling_std_3', 'new_tickets_lag_14_rolling_mean_7', 'new_tickets_lag_14_rolling_median_7', 'new_tickets_lag_14_rolling_std_7', 'new_tickets_lag_14_rolling_mean_14', 'new_tickets_lag_14_rolling_median_14', 'new_tickets_lag_14_rolling_std_14']\n"
     ]
    }
   ],
   "source": [
    "all_series = []\n",
    "all_past_covariates = []\n",
    "all_future_covariates = []\n",
    "\n",
    "all_feature_cols = [col for col in global_df_transformed.columns if col not in ['date', 'queue_id', 'new_tickets']]\n",
    "\n",
    "future_covariate_cols = ['dayofweek', 'month', 'year']\n",
    "\n",
    "past_covariate_cols = [col for col in all_feature_cols if col not in future_covariate_cols]\n",
    "\n",
    "print(f\"\\nОпределены Future Covariates: {future_covariate_cols}\")\n",
    "print(f\"Определены Past Covariates: {past_covariate_cols}\")\n",
    "\n",
    "\n",
    "for queue_id in global_df_transformed['queue_id'].unique():\n",
    "    df_queue = global_df_transformed[global_df_transformed['queue_id'] == queue_id].copy()\n",
    "    \n",
    "    target_series = TimeSeries.from_dataframe(df_queue, time_col='date', value_cols='new_tickets', freq=\"D\")\n",
    "    all_series.append(target_series)\n",
    "    \n",
    "    if future_covariate_cols:\n",
    "        future_cov_series = TimeSeries.from_dataframe(df_queue, time_col='date', value_cols=future_covariate_cols, freq=\"D\")\n",
    "        all_future_covariates.append(future_cov_series)\n",
    "    else:\n",
    "        all_future_covariates.append(None) \n",
    "\n",
    "    if past_covariate_cols:\n",
    "        past_cov_series = TimeSeries.from_dataframe(df_queue, time_col='date', value_cols=past_covariate_cols, freq=\"D\")\n",
    "        all_past_covariates.append(past_cov_series)\n",
    "    else:\n",
    "        all_past_covariates.append(None)\n",
    "\n"
   ]
  },
  {
   "cell_type": "markdown",
   "id": "186f8910",
   "metadata": {},
   "source": [
    "Разобьем данные на train/val/test"
   ]
  },
  {
   "cell_type": "code",
   "execution_count": 13,
   "id": "fb4c0fd4",
   "metadata": {},
   "outputs": [],
   "source": [
    "test_size = 0.2\n",
    "\n",
    "train_series, test_series = train_test_split(all_series, test_size=test_size)\n",
    "train_past_cov, test_past_cov = train_test_split(all_past_covariates, test_size=test_size)\n",
    "train_future_cov, test_future_cov = train_test_split(all_future_covariates, test_size=test_size)\n",
    "\n",
    "val_size = 0.15\n",
    "train_series_final, val_series = train_test_split(train_series, test_size=val_size)\n",
    "train_past_cov_final, val_past_cov = train_test_split(train_past_cov, test_size=val_size)\n",
    "train_future_cov_final, val_future_cov = train_test_split(train_future_cov, test_size=val_size)"
   ]
  },
  {
   "cell_type": "markdown",
   "id": "4f4cb3fa",
   "metadata": {},
   "source": [
    "Заполним пропуски"
   ]
  },
  {
   "cell_type": "code",
   "execution_count": 14,
   "id": "d449ec9c",
   "metadata": {},
   "outputs": [
    {
     "name": "stdout",
     "output_type": "stream",
     "text": [
      "NaN в целевых рядах импутированы.\n",
      "NaN в Past covariates импутированы.\n",
      "NaN в Future covariates импутированы.\n"
     ]
    }
   ],
   "source": [
    "filler = MissingValuesFiller(fill='auto')\n",
    "\n",
    "if train_series_final: \n",
    "    train_series_filled = filler.transform(train_series_final)\n",
    "    val_series_filled = filler.transform(val_series)\n",
    "    test_series_filled = filler.transform(test_series)\n",
    "    print(\"NaN в целевых рядах импутированы.\")\n",
    "else:\n",
    "    train_series_filled = train_series_final\n",
    "    val_series_filled = val_series\n",
    "    test_series_filled = test_series\n",
    "    print(\"Список целевых рядов пуст, импутация пропущена.\")\n",
    "\n",
    "\n",
    "if train_past_cov_final and all(cov is not None for cov in train_past_cov_final):\n",
    "    train_past_cov_filled = filler.transform(train_past_cov_final)\n",
    "    val_past_cov_filled = filler.transform(val_past_cov)\n",
    "    test_past_cov_filled = filler.transform(test_past_cov)\n",
    "    print(\"NaN в Past covariates импутированы.\")\n",
    "else:\n",
    "    train_past_cov_filled = train_past_cov_final\n",
    "    val_past_cov_filled = val_past_cov\n",
    "    test_past_cov_filled = test_past_cov\n",
    "    print(\"Список Past covariates пуст или содержит None, импутация пропущена.\")\n",
    "\n",
    "if train_future_cov_final and all(cov is not None for cov in train_future_cov_final):\n",
    "    train_future_cov_filled = filler.transform(train_future_cov_final)\n",
    "    val_future_cov_filled = filler.transform(val_future_cov)\n",
    "    test_future_cov_filled = filler.transform(test_future_cov)\n",
    "    print(\"NaN в Future covariates импутированы.\")\n",
    "else:\n",
    "    train_future_cov_filled = train_future_cov_final\n",
    "    val_future_cov_filled = val_future_cov\n",
    "    test_future_cov_filled = test_future_cov\n",
    "    print(\"Список Future covariates пуст или содержит None, импутация пропущена.\")"
   ]
  },
  {
   "cell_type": "markdown",
   "id": "a0a4cc58",
   "metadata": {},
   "source": [
    "Масштабируем данные"
   ]
  },
  {
   "cell_type": "code",
   "execution_count": null,
   "id": "6f5e84d0",
   "metadata": {},
   "outputs": [
    {
     "name": "stderr",
     "output_type": "stream",
     "text": [
      "Only 3 TimeSeries (lists) were provided which is lower than the number of series (n=14) used to fit Scaler. This can result in a mismatch between the series and the underlying transformers.\n",
      "Only 5 TimeSeries (lists) were provided which is lower than the number of series (n=14) used to fit Scaler. This can result in a mismatch between the series and the underlying transformers.\n",
      "Only 3 TimeSeries (lists) were provided which is lower than the number of series (n=14) used to fit Scaler. This can result in a mismatch between the series and the underlying transformers.\n",
      "Only 5 TimeSeries (lists) were provided which is lower than the number of series (n=14) used to fit Scaler. This can result in a mismatch between the series and the underlying transformers.\n",
      "Only 3 TimeSeries (lists) were provided which is lower than the number of series (n=14) used to fit Scaler. This can result in a mismatch between the series and the underlying transformers.\n",
      "Only 5 TimeSeries (lists) were provided which is lower than the number of series (n=14) used to fit Scaler. This can result in a mismatch between the series and the underlying transformers.\n"
     ]
    },
    {
     "name": "stdout",
     "output_type": "stream",
     "text": [
      "Past covariates масштабированы.\n",
      "Future covariates масштабированы.\n",
      "Масштабирование данных завершено.\n"
     ]
    }
   ],
   "source": [
    "scaler_target = Scaler()\n",
    "scaler_past_cov = Scaler()\n",
    "scaler_future_cov = Scaler()\n",
    "\n",
    "train_series_scaled = scaler_target.fit_transform(train_series_filled)\n",
    "val_series_scaled = scaler_target.transform(val_series_filled)\n",
    "test_series_scaled = scaler_target.transform(test_series_filled)\n",
    "\n",
    "if train_past_cov_filled and all(cov is not None for cov in train_past_cov_filled):\n",
    "    train_past_cov_scaled = scaler_past_cov.fit_transform(train_past_cov_filled)\n",
    "    val_past_cov_scaled = scaler_past_cov.transform(val_past_cov_filled)\n",
    "    test_past_cov_scaled = scaler_past_cov.transform(test_past_cov_filled)\n",
    "    print(\"Past covariates масштабированы.\")\n",
    "\n",
    "if train_future_cov_final and all(cov is not None for cov in train_future_cov_final):\n",
    "    train_future_cov_scaled = scaler_future_cov.fit_transform(train_future_cov_filled)\n",
    "    val_future_cov_scaled = scaler_future_cov.transform(val_future_cov_filled)\n",
    "    test_future_cov_scaled = scaler_future_cov.transform(test_future_cov_filled)\n",
    "    print(\"Future covariates масштабированы.\")\n",
    "\n",
    "print(\"Масштабирование данных завершено.\")"
   ]
  },
  {
   "cell_type": "code",
   "execution_count": null,
   "id": "b8e48661",
   "metadata": {},
   "outputs": [],
   "source": [
    "input_chunk_length = 30\n",
    "output_chunk_length = 7\n",
    "n_epochs = 100\n",
    "batch_size = 32\n",
    "random_state = 42\n",
    "\n",
    "early_stopping = EarlyStopping(\n",
    "    monitor='val_loss', \n",
    "    patience=10,\n",
    "    mode='min'\n",
    ")"
   ]
  },
  {
   "cell_type": "code",
   "execution_count": null,
   "id": "1b5d87f2",
   "metadata": {},
   "outputs": [
    {
     "name": "stdout",
     "output_type": "stream",
     "text": [
      "GPU доступен. Использование GPU для обучения.\n"
     ]
    }
   ],
   "source": [
    "if torch.cuda.is_available():\n",
    "    print(\"GPU доступен. Использование GPU для обучения.\")\n",
    "    trainer_kwargs={\n",
    "        'callbacks': [early_stopping],\n",
    "        'accelerator': 'gpu',  \n",
    "        'devices': -1,           \n",
    "        'enable_progress_bar': True,\n",
    "        'check_val_every_n_epoch': 3,\n",
    "    }\n",
    "elif torch.backends.mps.is_available(): # Проверка для Apple\n",
    "    print(\"MPS (Apple Silicon GPU) доступен. Использование MPS для обучения.\")\n",
    "    trainer_kwargs={\n",
    "        'callbacks': [early_stopping],\n",
    "        'accelerator': 'mps',\n",
    "        'devices': -1,           \n",
    "        'enable_progress_bar': True,\n",
    "        'check_val_every_n_epoch': 3,\n",
    "    }\n",
    "else:\n",
    "    print(\"GPU не доступен. Обучение будет проходить на CPU.\")\n",
    "    trainer_kwargs={\n",
    "        'callbacks': [early_stopping],\n",
    "        'accelerator': 'cpu',\n",
    "        'check_val_every_n_epoch': 3,\n",
    "    }"
   ]
  },
  {
   "cell_type": "code",
   "execution_count": null,
   "id": "61059763",
   "metadata": {},
   "outputs": [
    {
     "name": "stderr",
     "output_type": "stream",
     "text": [
      "  0%|          | 0/2 [00:00<?, ?it/s]"
     ]
    },
    {
     "name": "stdout",
     "output_type": "stream",
     "text": [
      "\n",
      "Обучение глобальной модели NBEATS_Global_A...\n"
     ]
    },
    {
     "name": "stderr",
     "output_type": "stream",
     "text": [
      "GPU available: True (cuda), used: True\n",
      "TPU available: False, using: 0 TPU cores\n",
      "HPU available: False, using: 0 HPUs\n",
      "LOCAL_RANK: 0 - CUDA_VISIBLE_DEVICES: [0]\n",
      "\n",
      "  | Name            | Type             | Params | Mode \n",
      "-------------------------------------------------------------\n",
      "0 | criterion       | MSELoss          | 0      | train\n",
      "1 | train_criterion | MSELoss          | 0      | train\n",
      "2 | val_criterion   | MSELoss          | 0      | train\n",
      "3 | train_metrics   | MetricCollection | 0      | train\n",
      "4 | val_metrics     | MetricCollection | 0      | train\n",
      "5 | stacks          | ModuleList       | 14.8 M | train\n",
      "-------------------------------------------------------------\n",
      "14.8 M    Trainable params\n",
      "7.9 K     Non-trainable params\n",
      "14.8 M    Total params\n",
      "59.109    Total estimated model params size (MB)\n",
      "396       Modules in train mode\n",
      "0         Modules in eval mode\n"
     ]
    },
    {
     "data": {
      "application/vnd.jupyter.widget-view+json": {
       "model_id": "fc8f3a30e78942bf81d2f4013012d95b",
       "version_major": 2,
       "version_minor": 0
      },
      "text/plain": [
       "Sanity Checking: |          | 0/? [00:00<?, ?it/s]"
      ]
     },
     "metadata": {},
     "output_type": "display_data"
    },
    {
     "data": {
      "application/vnd.jupyter.widget-view+json": {
       "model_id": "a21b328adb714673b486a1164b76ab20",
       "version_major": 2,
       "version_minor": 0
      },
      "text/plain": [
       "Training: |          | 0/? [00:00<?, ?it/s]"
      ]
     },
     "metadata": {},
     "output_type": "display_data"
    },
    {
     "data": {
      "application/vnd.jupyter.widget-view+json": {
       "model_id": "fa65f84523fd4878b141cdf30a96db36",
       "version_major": 2,
       "version_minor": 0
      },
      "text/plain": [
       "Validation: |          | 0/? [00:00<?, ?it/s]"
      ]
     },
     "metadata": {},
     "output_type": "display_data"
    },
    {
     "data": {
      "application/vnd.jupyter.widget-view+json": {
       "model_id": "8a16995014c24aa89bda621fa9ca15bd",
       "version_major": 2,
       "version_minor": 0
      },
      "text/plain": [
       "Validation: |          | 0/? [00:00<?, ?it/s]"
      ]
     },
     "metadata": {},
     "output_type": "display_data"
    },
    {
     "data": {
      "application/vnd.jupyter.widget-view+json": {
       "model_id": "2d88e1586ebc4170afe6359445fe04c6",
       "version_major": 2,
       "version_minor": 0
      },
      "text/plain": [
       "Validation: |          | 0/? [00:00<?, ?it/s]"
      ]
     },
     "metadata": {},
     "output_type": "display_data"
    },
    {
     "data": {
      "application/vnd.jupyter.widget-view+json": {
       "model_id": "36d521509b4349cbb303bacb65cf45a3",
       "version_major": 2,
       "version_minor": 0
      },
      "text/plain": [
       "Validation: |          | 0/? [00:00<?, ?it/s]"
      ]
     },
     "metadata": {},
     "output_type": "display_data"
    },
    {
     "data": {
      "application/vnd.jupyter.widget-view+json": {
       "model_id": "1b003629a07e4ce1a5d86bfbb83c07e1",
       "version_major": 2,
       "version_minor": 0
      },
      "text/plain": [
       "Validation: |          | 0/? [00:00<?, ?it/s]"
      ]
     },
     "metadata": {},
     "output_type": "display_data"
    },
    {
     "data": {
      "application/vnd.jupyter.widget-view+json": {
       "model_id": "fc132cabf3114509b9a8f3af2bb6e4c8",
       "version_major": 2,
       "version_minor": 0
      },
      "text/plain": [
       "Validation: |          | 0/? [00:00<?, ?it/s]"
      ]
     },
     "metadata": {},
     "output_type": "display_data"
    },
    {
     "data": {
      "application/vnd.jupyter.widget-view+json": {
       "model_id": "c29c7fe791364e5f8cf3a697103b755b",
       "version_major": 2,
       "version_minor": 0
      },
      "text/plain": [
       "Validation: |          | 0/? [00:00<?, ?it/s]"
      ]
     },
     "metadata": {},
     "output_type": "display_data"
    },
    {
     "name": "stderr",
     "output_type": "stream",
     "text": [
      "\n",
      "Detected KeyboardInterrupt, attempting graceful shutdown ...\n",
      "  0%|          | 0/2 [11:50:08<?, ?it/s]\n"
     ]
    },
    {
     "ename": "NameError",
     "evalue": "name 'exit' is not defined",
     "output_type": "error",
     "traceback": [
      "\u001b[31m---------------------------------------------------------------------------\u001b[39m",
      "\u001b[31mKeyboardInterrupt\u001b[39m                         Traceback (most recent call last)",
      "\u001b[36mFile \u001b[39m\u001b[32mc:\\Users\\SUBRU\\VSCodeProjects\\project_1_new\\tasks_support_system_ai\\.venv\\Lib\\site-packages\\pytorch_lightning\\trainer\\call.py:48\u001b[39m, in \u001b[36m_call_and_handle_interrupt\u001b[39m\u001b[34m(trainer, trainer_fn, *args, **kwargs)\u001b[39m\n\u001b[32m     47\u001b[39m         \u001b[38;5;28;01mreturn\u001b[39;00m trainer.strategy.launcher.launch(trainer_fn, *args, trainer=trainer, **kwargs)\n\u001b[32m---> \u001b[39m\u001b[32m48\u001b[39m     \u001b[38;5;28;01mreturn\u001b[39;00m \u001b[43mtrainer_fn\u001b[49m\u001b[43m(\u001b[49m\u001b[43m*\u001b[49m\u001b[43margs\u001b[49m\u001b[43m,\u001b[49m\u001b[43m \u001b[49m\u001b[43m*\u001b[49m\u001b[43m*\u001b[49m\u001b[43mkwargs\u001b[49m\u001b[43m)\u001b[49m\n\u001b[32m     50\u001b[39m \u001b[38;5;28;01mexcept\u001b[39;00m _TunerExitException:\n",
      "\u001b[36mFile \u001b[39m\u001b[32mc:\\Users\\SUBRU\\VSCodeProjects\\project_1_new\\tasks_support_system_ai\\.venv\\Lib\\site-packages\\pytorch_lightning\\trainer\\trainer.py:599\u001b[39m, in \u001b[36mTrainer._fit_impl\u001b[39m\u001b[34m(self, model, train_dataloaders, val_dataloaders, datamodule, ckpt_path)\u001b[39m\n\u001b[32m    593\u001b[39m ckpt_path = \u001b[38;5;28mself\u001b[39m._checkpoint_connector._select_ckpt_path(\n\u001b[32m    594\u001b[39m     \u001b[38;5;28mself\u001b[39m.state.fn,\n\u001b[32m    595\u001b[39m     ckpt_path,\n\u001b[32m    596\u001b[39m     model_provided=\u001b[38;5;28;01mTrue\u001b[39;00m,\n\u001b[32m    597\u001b[39m     model_connected=\u001b[38;5;28mself\u001b[39m.lightning_module \u001b[38;5;129;01mis\u001b[39;00m \u001b[38;5;129;01mnot\u001b[39;00m \u001b[38;5;28;01mNone\u001b[39;00m,\n\u001b[32m    598\u001b[39m )\n\u001b[32m--> \u001b[39m\u001b[32m599\u001b[39m \u001b[38;5;28;43mself\u001b[39;49m\u001b[43m.\u001b[49m\u001b[43m_run\u001b[49m\u001b[43m(\u001b[49m\u001b[43mmodel\u001b[49m\u001b[43m,\u001b[49m\u001b[43m \u001b[49m\u001b[43mckpt_path\u001b[49m\u001b[43m=\u001b[49m\u001b[43mckpt_path\u001b[49m\u001b[43m)\u001b[49m\n\u001b[32m    601\u001b[39m \u001b[38;5;28;01massert\u001b[39;00m \u001b[38;5;28mself\u001b[39m.state.stopped\n",
      "\u001b[36mFile \u001b[39m\u001b[32mc:\\Users\\SUBRU\\VSCodeProjects\\project_1_new\\tasks_support_system_ai\\.venv\\Lib\\site-packages\\pytorch_lightning\\trainer\\trainer.py:1012\u001b[39m, in \u001b[36mTrainer._run\u001b[39m\u001b[34m(self, model, ckpt_path)\u001b[39m\n\u001b[32m   1009\u001b[39m \u001b[38;5;66;03m# ----------------------------\u001b[39;00m\n\u001b[32m   1010\u001b[39m \u001b[38;5;66;03m# RUN THE TRAINER\u001b[39;00m\n\u001b[32m   1011\u001b[39m \u001b[38;5;66;03m# ----------------------------\u001b[39;00m\n\u001b[32m-> \u001b[39m\u001b[32m1012\u001b[39m results = \u001b[38;5;28;43mself\u001b[39;49m\u001b[43m.\u001b[49m\u001b[43m_run_stage\u001b[49m\u001b[43m(\u001b[49m\u001b[43m)\u001b[49m\n\u001b[32m   1014\u001b[39m \u001b[38;5;66;03m# ----------------------------\u001b[39;00m\n\u001b[32m   1015\u001b[39m \u001b[38;5;66;03m# POST-Training CLEAN UP\u001b[39;00m\n\u001b[32m   1016\u001b[39m \u001b[38;5;66;03m# ----------------------------\u001b[39;00m\n",
      "\u001b[36mFile \u001b[39m\u001b[32mc:\\Users\\SUBRU\\VSCodeProjects\\project_1_new\\tasks_support_system_ai\\.venv\\Lib\\site-packages\\pytorch_lightning\\trainer\\trainer.py:1056\u001b[39m, in \u001b[36mTrainer._run_stage\u001b[39m\u001b[34m(self)\u001b[39m\n\u001b[32m   1055\u001b[39m \u001b[38;5;28;01mwith\u001b[39;00m torch.autograd.set_detect_anomaly(\u001b[38;5;28mself\u001b[39m._detect_anomaly):\n\u001b[32m-> \u001b[39m\u001b[32m1056\u001b[39m     \u001b[38;5;28;43mself\u001b[39;49m\u001b[43m.\u001b[49m\u001b[43mfit_loop\u001b[49m\u001b[43m.\u001b[49m\u001b[43mrun\u001b[49m\u001b[43m(\u001b[49m\u001b[43m)\u001b[49m\n\u001b[32m   1057\u001b[39m \u001b[38;5;28;01mreturn\u001b[39;00m \u001b[38;5;28;01mNone\u001b[39;00m\n",
      "\u001b[36mFile \u001b[39m\u001b[32mc:\\Users\\SUBRU\\VSCodeProjects\\project_1_new\\tasks_support_system_ai\\.venv\\Lib\\site-packages\\pytorch_lightning\\loops\\fit_loop.py:216\u001b[39m, in \u001b[36m_FitLoop.run\u001b[39m\u001b[34m(self)\u001b[39m\n\u001b[32m    215\u001b[39m \u001b[38;5;28mself\u001b[39m.on_advance_start()\n\u001b[32m--> \u001b[39m\u001b[32m216\u001b[39m \u001b[38;5;28;43mself\u001b[39;49m\u001b[43m.\u001b[49m\u001b[43madvance\u001b[49m\u001b[43m(\u001b[49m\u001b[43m)\u001b[49m\n\u001b[32m    217\u001b[39m \u001b[38;5;28mself\u001b[39m.on_advance_end()\n",
      "\u001b[36mFile \u001b[39m\u001b[32mc:\\Users\\SUBRU\\VSCodeProjects\\project_1_new\\tasks_support_system_ai\\.venv\\Lib\\site-packages\\pytorch_lightning\\loops\\fit_loop.py:455\u001b[39m, in \u001b[36m_FitLoop.advance\u001b[39m\u001b[34m(self)\u001b[39m\n\u001b[32m    454\u001b[39m \u001b[38;5;28;01massert\u001b[39;00m \u001b[38;5;28mself\u001b[39m._data_fetcher \u001b[38;5;129;01mis\u001b[39;00m \u001b[38;5;129;01mnot\u001b[39;00m \u001b[38;5;28;01mNone\u001b[39;00m\n\u001b[32m--> \u001b[39m\u001b[32m455\u001b[39m \u001b[38;5;28;43mself\u001b[39;49m\u001b[43m.\u001b[49m\u001b[43mepoch_loop\u001b[49m\u001b[43m.\u001b[49m\u001b[43mrun\u001b[49m\u001b[43m(\u001b[49m\u001b[38;5;28;43mself\u001b[39;49m\u001b[43m.\u001b[49m\u001b[43m_data_fetcher\u001b[49m\u001b[43m)\u001b[49m\n",
      "\u001b[36mFile \u001b[39m\u001b[32mc:\\Users\\SUBRU\\VSCodeProjects\\project_1_new\\tasks_support_system_ai\\.venv\\Lib\\site-packages\\pytorch_lightning\\loops\\training_epoch_loop.py:150\u001b[39m, in \u001b[36m_TrainingEpochLoop.run\u001b[39m\u001b[34m(self, data_fetcher)\u001b[39m\n\u001b[32m    149\u001b[39m \u001b[38;5;28;01mtry\u001b[39;00m:\n\u001b[32m--> \u001b[39m\u001b[32m150\u001b[39m     \u001b[38;5;28;43mself\u001b[39;49m\u001b[43m.\u001b[49m\u001b[43madvance\u001b[49m\u001b[43m(\u001b[49m\u001b[43mdata_fetcher\u001b[49m\u001b[43m)\u001b[49m\n\u001b[32m    151\u001b[39m     \u001b[38;5;28mself\u001b[39m.on_advance_end(data_fetcher)\n",
      "\u001b[36mFile \u001b[39m\u001b[32mc:\\Users\\SUBRU\\VSCodeProjects\\project_1_new\\tasks_support_system_ai\\.venv\\Lib\\site-packages\\pytorch_lightning\\loops\\training_epoch_loop.py:320\u001b[39m, in \u001b[36m_TrainingEpochLoop.advance\u001b[39m\u001b[34m(self, data_fetcher)\u001b[39m\n\u001b[32m    318\u001b[39m \u001b[38;5;28;01mif\u001b[39;00m trainer.lightning_module.automatic_optimization:\n\u001b[32m    319\u001b[39m     \u001b[38;5;66;03m# in automatic optimization, there can only be one optimizer\u001b[39;00m\n\u001b[32m--> \u001b[39m\u001b[32m320\u001b[39m     batch_output = \u001b[38;5;28;43mself\u001b[39;49m\u001b[43m.\u001b[49m\u001b[43mautomatic_optimization\u001b[49m\u001b[43m.\u001b[49m\u001b[43mrun\u001b[49m\u001b[43m(\u001b[49m\u001b[43mtrainer\u001b[49m\u001b[43m.\u001b[49m\u001b[43moptimizers\u001b[49m\u001b[43m[\u001b[49m\u001b[32;43m0\u001b[39;49m\u001b[43m]\u001b[49m\u001b[43m,\u001b[49m\u001b[43m \u001b[49m\u001b[43mbatch_idx\u001b[49m\u001b[43m,\u001b[49m\u001b[43m \u001b[49m\u001b[43mkwargs\u001b[49m\u001b[43m)\u001b[49m\n\u001b[32m    321\u001b[39m \u001b[38;5;28;01melse\u001b[39;00m:\n",
      "\u001b[36mFile \u001b[39m\u001b[32mc:\\Users\\SUBRU\\VSCodeProjects\\project_1_new\\tasks_support_system_ai\\.venv\\Lib\\site-packages\\pytorch_lightning\\loops\\optimization\\automatic.py:192\u001b[39m, in \u001b[36m_AutomaticOptimization.run\u001b[39m\u001b[34m(self, optimizer, batch_idx, kwargs)\u001b[39m\n\u001b[32m    187\u001b[39m \u001b[38;5;66;03m# ------------------------------\u001b[39;00m\n\u001b[32m    188\u001b[39m \u001b[38;5;66;03m# BACKWARD PASS\u001b[39;00m\n\u001b[32m    189\u001b[39m \u001b[38;5;66;03m# ------------------------------\u001b[39;00m\n\u001b[32m    190\u001b[39m \u001b[38;5;66;03m# gradient update with accumulated gradients\u001b[39;00m\n\u001b[32m    191\u001b[39m \u001b[38;5;28;01melse\u001b[39;00m:\n\u001b[32m--> \u001b[39m\u001b[32m192\u001b[39m     \u001b[38;5;28;43mself\u001b[39;49m\u001b[43m.\u001b[49m\u001b[43m_optimizer_step\u001b[49m\u001b[43m(\u001b[49m\u001b[43mbatch_idx\u001b[49m\u001b[43m,\u001b[49m\u001b[43m \u001b[49m\u001b[43mclosure\u001b[49m\u001b[43m)\u001b[49m\n\u001b[32m    194\u001b[39m result = closure.consume_result()\n",
      "\u001b[36mFile \u001b[39m\u001b[32mc:\\Users\\SUBRU\\VSCodeProjects\\project_1_new\\tasks_support_system_ai\\.venv\\Lib\\site-packages\\pytorch_lightning\\loops\\optimization\\automatic.py:270\u001b[39m, in \u001b[36m_AutomaticOptimization._optimizer_step\u001b[39m\u001b[34m(self, batch_idx, train_step_and_backward_closure)\u001b[39m\n\u001b[32m    269\u001b[39m \u001b[38;5;66;03m# model hook\u001b[39;00m\n\u001b[32m--> \u001b[39m\u001b[32m270\u001b[39m \u001b[43mcall\u001b[49m\u001b[43m.\u001b[49m\u001b[43m_call_lightning_module_hook\u001b[49m\u001b[43m(\u001b[49m\n\u001b[32m    271\u001b[39m \u001b[43m    \u001b[49m\u001b[43mtrainer\u001b[49m\u001b[43m,\u001b[49m\n\u001b[32m    272\u001b[39m \u001b[43m    \u001b[49m\u001b[33;43m\"\u001b[39;49m\u001b[33;43moptimizer_step\u001b[39;49m\u001b[33;43m\"\u001b[39;49m\u001b[43m,\u001b[49m\n\u001b[32m    273\u001b[39m \u001b[43m    \u001b[49m\u001b[43mtrainer\u001b[49m\u001b[43m.\u001b[49m\u001b[43mcurrent_epoch\u001b[49m\u001b[43m,\u001b[49m\n\u001b[32m    274\u001b[39m \u001b[43m    \u001b[49m\u001b[43mbatch_idx\u001b[49m\u001b[43m,\u001b[49m\n\u001b[32m    275\u001b[39m \u001b[43m    \u001b[49m\u001b[43moptimizer\u001b[49m\u001b[43m,\u001b[49m\n\u001b[32m    276\u001b[39m \u001b[43m    \u001b[49m\u001b[43mtrain_step_and_backward_closure\u001b[49m\u001b[43m,\u001b[49m\n\u001b[32m    277\u001b[39m \u001b[43m\u001b[49m\u001b[43m)\u001b[49m\n\u001b[32m    279\u001b[39m \u001b[38;5;28;01mif\u001b[39;00m \u001b[38;5;129;01mnot\u001b[39;00m should_accumulate:\n",
      "\u001b[36mFile \u001b[39m\u001b[32mc:\\Users\\SUBRU\\VSCodeProjects\\project_1_new\\tasks_support_system_ai\\.venv\\Lib\\site-packages\\pytorch_lightning\\trainer\\call.py:176\u001b[39m, in \u001b[36m_call_lightning_module_hook\u001b[39m\u001b[34m(trainer, hook_name, pl_module, *args, **kwargs)\u001b[39m\n\u001b[32m    175\u001b[39m \u001b[38;5;28;01mwith\u001b[39;00m trainer.profiler.profile(\u001b[33mf\u001b[39m\u001b[33m\"\u001b[39m\u001b[33m[LightningModule]\u001b[39m\u001b[38;5;132;01m{\u001b[39;00mpl_module.\u001b[34m__class__\u001b[39m.\u001b[34m__name__\u001b[39m\u001b[38;5;132;01m}\u001b[39;00m\u001b[33m.\u001b[39m\u001b[38;5;132;01m{\u001b[39;00mhook_name\u001b[38;5;132;01m}\u001b[39;00m\u001b[33m\"\u001b[39m):\n\u001b[32m--> \u001b[39m\u001b[32m176\u001b[39m     output = \u001b[43mfn\u001b[49m\u001b[43m(\u001b[49m\u001b[43m*\u001b[49m\u001b[43margs\u001b[49m\u001b[43m,\u001b[49m\u001b[43m \u001b[49m\u001b[43m*\u001b[49m\u001b[43m*\u001b[49m\u001b[43mkwargs\u001b[49m\u001b[43m)\u001b[49m\n\u001b[32m    178\u001b[39m \u001b[38;5;66;03m# restore current_fx when nested context\u001b[39;00m\n",
      "\u001b[36mFile \u001b[39m\u001b[32mc:\\Users\\SUBRU\\VSCodeProjects\\project_1_new\\tasks_support_system_ai\\.venv\\Lib\\site-packages\\pytorch_lightning\\core\\module.py:1302\u001b[39m, in \u001b[36mLightningModule.optimizer_step\u001b[39m\u001b[34m(self, epoch, batch_idx, optimizer, optimizer_closure)\u001b[39m\n\u001b[32m   1278\u001b[39m \u001b[38;5;250m\u001b[39m\u001b[33mr\u001b[39m\u001b[33;03m\"\"\"Override this method to adjust the default way the :class:`~pytorch_lightning.trainer.trainer.Trainer` calls\u001b[39;00m\n\u001b[32m   1279\u001b[39m \u001b[33;03mthe optimizer.\u001b[39;00m\n\u001b[32m   1280\u001b[39m \n\u001b[32m   (...)\u001b[39m\u001b[32m   1300\u001b[39m \n\u001b[32m   1301\u001b[39m \u001b[33;03m\"\"\"\u001b[39;00m\n\u001b[32m-> \u001b[39m\u001b[32m1302\u001b[39m \u001b[43moptimizer\u001b[49m\u001b[43m.\u001b[49m\u001b[43mstep\u001b[49m\u001b[43m(\u001b[49m\u001b[43mclosure\u001b[49m\u001b[43m=\u001b[49m\u001b[43moptimizer_closure\u001b[49m\u001b[43m)\u001b[49m\n",
      "\u001b[36mFile \u001b[39m\u001b[32mc:\\Users\\SUBRU\\VSCodeProjects\\project_1_new\\tasks_support_system_ai\\.venv\\Lib\\site-packages\\pytorch_lightning\\core\\optimizer.py:154\u001b[39m, in \u001b[36mLightningOptimizer.step\u001b[39m\u001b[34m(self, closure, **kwargs)\u001b[39m\n\u001b[32m    153\u001b[39m \u001b[38;5;28;01massert\u001b[39;00m \u001b[38;5;28mself\u001b[39m._strategy \u001b[38;5;129;01mis\u001b[39;00m \u001b[38;5;129;01mnot\u001b[39;00m \u001b[38;5;28;01mNone\u001b[39;00m\n\u001b[32m--> \u001b[39m\u001b[32m154\u001b[39m step_output = \u001b[38;5;28;43mself\u001b[39;49m\u001b[43m.\u001b[49m\u001b[43m_strategy\u001b[49m\u001b[43m.\u001b[49m\u001b[43moptimizer_step\u001b[49m\u001b[43m(\u001b[49m\u001b[38;5;28;43mself\u001b[39;49m\u001b[43m.\u001b[49m\u001b[43m_optimizer\u001b[49m\u001b[43m,\u001b[49m\u001b[43m \u001b[49m\u001b[43mclosure\u001b[49m\u001b[43m,\u001b[49m\u001b[43m \u001b[49m\u001b[43m*\u001b[49m\u001b[43m*\u001b[49m\u001b[43mkwargs\u001b[49m\u001b[43m)\u001b[49m\n\u001b[32m    156\u001b[39m \u001b[38;5;28mself\u001b[39m._on_after_step()\n",
      "\u001b[36mFile \u001b[39m\u001b[32mc:\\Users\\SUBRU\\VSCodeProjects\\project_1_new\\tasks_support_system_ai\\.venv\\Lib\\site-packages\\pytorch_lightning\\strategies\\strategy.py:239\u001b[39m, in \u001b[36mStrategy.optimizer_step\u001b[39m\u001b[34m(self, optimizer, closure, model, **kwargs)\u001b[39m\n\u001b[32m    238\u001b[39m \u001b[38;5;28;01massert\u001b[39;00m \u001b[38;5;28misinstance\u001b[39m(model, pl.LightningModule)\n\u001b[32m--> \u001b[39m\u001b[32m239\u001b[39m \u001b[38;5;28;01mreturn\u001b[39;00m \u001b[38;5;28;43mself\u001b[39;49m\u001b[43m.\u001b[49m\u001b[43mprecision_plugin\u001b[49m\u001b[43m.\u001b[49m\u001b[43moptimizer_step\u001b[49m\u001b[43m(\u001b[49m\u001b[43moptimizer\u001b[49m\u001b[43m,\u001b[49m\u001b[43m \u001b[49m\u001b[43mmodel\u001b[49m\u001b[43m=\u001b[49m\u001b[43mmodel\u001b[49m\u001b[43m,\u001b[49m\u001b[43m \u001b[49m\u001b[43mclosure\u001b[49m\u001b[43m=\u001b[49m\u001b[43mclosure\u001b[49m\u001b[43m,\u001b[49m\u001b[43m \u001b[49m\u001b[43m*\u001b[49m\u001b[43m*\u001b[49m\u001b[43mkwargs\u001b[49m\u001b[43m)\u001b[49m\n",
      "\u001b[36mFile \u001b[39m\u001b[32mc:\\Users\\SUBRU\\VSCodeProjects\\project_1_new\\tasks_support_system_ai\\.venv\\Lib\\site-packages\\pytorch_lightning\\plugins\\precision\\precision.py:123\u001b[39m, in \u001b[36mPrecision.optimizer_step\u001b[39m\u001b[34m(self, optimizer, model, closure, **kwargs)\u001b[39m\n\u001b[32m    122\u001b[39m closure = partial(\u001b[38;5;28mself\u001b[39m._wrap_closure, model, optimizer, closure)\n\u001b[32m--> \u001b[39m\u001b[32m123\u001b[39m \u001b[38;5;28;01mreturn\u001b[39;00m \u001b[43moptimizer\u001b[49m\u001b[43m.\u001b[49m\u001b[43mstep\u001b[49m\u001b[43m(\u001b[49m\u001b[43mclosure\u001b[49m\u001b[43m=\u001b[49m\u001b[43mclosure\u001b[49m\u001b[43m,\u001b[49m\u001b[43m \u001b[49m\u001b[43m*\u001b[49m\u001b[43m*\u001b[49m\u001b[43mkwargs\u001b[49m\u001b[43m)\u001b[49m\n",
      "\u001b[36mFile \u001b[39m\u001b[32mc:\\Users\\SUBRU\\VSCodeProjects\\project_1_new\\tasks_support_system_ai\\.venv\\Lib\\site-packages\\torch\\optim\\optimizer.py:485\u001b[39m, in \u001b[36mOptimizer.profile_hook_step.<locals>.wrapper\u001b[39m\u001b[34m(*args, **kwargs)\u001b[39m\n\u001b[32m    481\u001b[39m             \u001b[38;5;28;01mraise\u001b[39;00m \u001b[38;5;167;01mRuntimeError\u001b[39;00m(\n\u001b[32m    482\u001b[39m                 \u001b[33mf\u001b[39m\u001b[33m\"\u001b[39m\u001b[38;5;132;01m{\u001b[39;00mfunc\u001b[38;5;132;01m}\u001b[39;00m\u001b[33m must return None or a tuple of (new_args, new_kwargs), but got \u001b[39m\u001b[38;5;132;01m{\u001b[39;00mresult\u001b[38;5;132;01m}\u001b[39;00m\u001b[33m.\u001b[39m\u001b[33m\"\u001b[39m\n\u001b[32m    483\u001b[39m             )\n\u001b[32m--> \u001b[39m\u001b[32m485\u001b[39m out = \u001b[43mfunc\u001b[49m\u001b[43m(\u001b[49m\u001b[43m*\u001b[49m\u001b[43margs\u001b[49m\u001b[43m,\u001b[49m\u001b[43m \u001b[49m\u001b[43m*\u001b[49m\u001b[43m*\u001b[49m\u001b[43mkwargs\u001b[49m\u001b[43m)\u001b[49m\n\u001b[32m    486\u001b[39m \u001b[38;5;28mself\u001b[39m._optimizer_step_code()\n",
      "\u001b[36mFile \u001b[39m\u001b[32mc:\\Users\\SUBRU\\VSCodeProjects\\project_1_new\\tasks_support_system_ai\\.venv\\Lib\\site-packages\\torch\\optim\\optimizer.py:79\u001b[39m, in \u001b[36m_use_grad_for_differentiable.<locals>._use_grad\u001b[39m\u001b[34m(self, *args, **kwargs)\u001b[39m\n\u001b[32m     78\u001b[39m     torch._dynamo.graph_break()\n\u001b[32m---> \u001b[39m\u001b[32m79\u001b[39m     ret = \u001b[43mfunc\u001b[49m\u001b[43m(\u001b[49m\u001b[38;5;28;43mself\u001b[39;49m\u001b[43m,\u001b[49m\u001b[43m \u001b[49m\u001b[43m*\u001b[49m\u001b[43margs\u001b[49m\u001b[43m,\u001b[49m\u001b[43m \u001b[49m\u001b[43m*\u001b[49m\u001b[43m*\u001b[49m\u001b[43mkwargs\u001b[49m\u001b[43m)\u001b[49m\n\u001b[32m     80\u001b[39m \u001b[38;5;28;01mfinally\u001b[39;00m:\n",
      "\u001b[36mFile \u001b[39m\u001b[32mc:\\Users\\SUBRU\\VSCodeProjects\\project_1_new\\tasks_support_system_ai\\.venv\\Lib\\site-packages\\torch\\optim\\adam.py:225\u001b[39m, in \u001b[36mAdam.step\u001b[39m\u001b[34m(self, closure)\u001b[39m\n\u001b[32m    224\u001b[39m     \u001b[38;5;28;01mwith\u001b[39;00m torch.enable_grad():\n\u001b[32m--> \u001b[39m\u001b[32m225\u001b[39m         loss = \u001b[43mclosure\u001b[49m\u001b[43m(\u001b[49m\u001b[43m)\u001b[49m\n\u001b[32m    227\u001b[39m \u001b[38;5;28;01mfor\u001b[39;00m group \u001b[38;5;129;01min\u001b[39;00m \u001b[38;5;28mself\u001b[39m.param_groups:\n",
      "\u001b[36mFile \u001b[39m\u001b[32mc:\\Users\\SUBRU\\VSCodeProjects\\project_1_new\\tasks_support_system_ai\\.venv\\Lib\\site-packages\\pytorch_lightning\\plugins\\precision\\precision.py:109\u001b[39m, in \u001b[36mPrecision._wrap_closure\u001b[39m\u001b[34m(self, model, optimizer, closure)\u001b[39m\n\u001b[32m    102\u001b[39m \u001b[38;5;250m\u001b[39m\u001b[33;03m\"\"\"This double-closure allows makes sure the ``closure`` is executed before the ``on_before_optimizer_step``\u001b[39;00m\n\u001b[32m    103\u001b[39m \u001b[33;03mhook is called.\u001b[39;00m\n\u001b[32m    104\u001b[39m \n\u001b[32m   (...)\u001b[39m\u001b[32m    107\u001b[39m \n\u001b[32m    108\u001b[39m \u001b[33;03m\"\"\"\u001b[39;00m\n\u001b[32m--> \u001b[39m\u001b[32m109\u001b[39m closure_result = \u001b[43mclosure\u001b[49m\u001b[43m(\u001b[49m\u001b[43m)\u001b[49m\n\u001b[32m    110\u001b[39m \u001b[38;5;28mself\u001b[39m._after_closure(model, optimizer)\n",
      "\u001b[36mFile \u001b[39m\u001b[32mc:\\Users\\SUBRU\\VSCodeProjects\\project_1_new\\tasks_support_system_ai\\.venv\\Lib\\site-packages\\pytorch_lightning\\loops\\optimization\\automatic.py:146\u001b[39m, in \u001b[36mClosure.__call__\u001b[39m\u001b[34m(self, *args, **kwargs)\u001b[39m\n\u001b[32m    144\u001b[39m \u001b[38;5;129m@override\u001b[39m\n\u001b[32m    145\u001b[39m \u001b[38;5;28;01mdef\u001b[39;00m\u001b[38;5;250m \u001b[39m\u001b[34m__call__\u001b[39m(\u001b[38;5;28mself\u001b[39m, *args: Any, **kwargs: Any) -> Optional[Tensor]:\n\u001b[32m--> \u001b[39m\u001b[32m146\u001b[39m     \u001b[38;5;28mself\u001b[39m._result = \u001b[38;5;28;43mself\u001b[39;49m\u001b[43m.\u001b[49m\u001b[43mclosure\u001b[49m\u001b[43m(\u001b[49m\u001b[43m*\u001b[49m\u001b[43margs\u001b[49m\u001b[43m,\u001b[49m\u001b[43m \u001b[49m\u001b[43m*\u001b[49m\u001b[43m*\u001b[49m\u001b[43mkwargs\u001b[49m\u001b[43m)\u001b[49m\n\u001b[32m    147\u001b[39m     \u001b[38;5;28;01mreturn\u001b[39;00m \u001b[38;5;28mself\u001b[39m._result.loss\n",
      "\u001b[36mFile \u001b[39m\u001b[32mc:\\Users\\SUBRU\\VSCodeProjects\\project_1_new\\tasks_support_system_ai\\.venv\\Lib\\site-packages\\torch\\utils\\_contextlib.py:116\u001b[39m, in \u001b[36mcontext_decorator.<locals>.decorate_context\u001b[39m\u001b[34m(*args, **kwargs)\u001b[39m\n\u001b[32m    115\u001b[39m \u001b[38;5;28;01mwith\u001b[39;00m ctx_factory():\n\u001b[32m--> \u001b[39m\u001b[32m116\u001b[39m     \u001b[38;5;28;01mreturn\u001b[39;00m \u001b[43mfunc\u001b[49m\u001b[43m(\u001b[49m\u001b[43m*\u001b[49m\u001b[43margs\u001b[49m\u001b[43m,\u001b[49m\u001b[43m \u001b[49m\u001b[43m*\u001b[49m\u001b[43m*\u001b[49m\u001b[43mkwargs\u001b[49m\u001b[43m)\u001b[49m\n",
      "\u001b[36mFile \u001b[39m\u001b[32mc:\\Users\\SUBRU\\VSCodeProjects\\project_1_new\\tasks_support_system_ai\\.venv\\Lib\\site-packages\\pytorch_lightning\\loops\\optimization\\automatic.py:140\u001b[39m, in \u001b[36mClosure.closure\u001b[39m\u001b[34m(self, *args, **kwargs)\u001b[39m\n\u001b[32m    139\u001b[39m \u001b[38;5;28;01mif\u001b[39;00m \u001b[38;5;28mself\u001b[39m._backward_fn \u001b[38;5;129;01mis\u001b[39;00m \u001b[38;5;129;01mnot\u001b[39;00m \u001b[38;5;28;01mNone\u001b[39;00m \u001b[38;5;129;01mand\u001b[39;00m step_output.closure_loss \u001b[38;5;129;01mis\u001b[39;00m \u001b[38;5;129;01mnot\u001b[39;00m \u001b[38;5;28;01mNone\u001b[39;00m:\n\u001b[32m--> \u001b[39m\u001b[32m140\u001b[39m     \u001b[38;5;28;43mself\u001b[39;49m\u001b[43m.\u001b[49m\u001b[43m_backward_fn\u001b[49m\u001b[43m(\u001b[49m\u001b[43mstep_output\u001b[49m\u001b[43m.\u001b[49m\u001b[43mclosure_loss\u001b[49m\u001b[43m)\u001b[49m\n\u001b[32m    142\u001b[39m \u001b[38;5;28;01mreturn\u001b[39;00m step_output\n",
      "\u001b[36mFile \u001b[39m\u001b[32mc:\\Users\\SUBRU\\VSCodeProjects\\project_1_new\\tasks_support_system_ai\\.venv\\Lib\\site-packages\\pytorch_lightning\\loops\\optimization\\automatic.py:241\u001b[39m, in \u001b[36m_AutomaticOptimization._make_backward_fn.<locals>.backward_fn\u001b[39m\u001b[34m(loss)\u001b[39m\n\u001b[32m    240\u001b[39m \u001b[38;5;28;01mdef\u001b[39;00m\u001b[38;5;250m \u001b[39m\u001b[34mbackward_fn\u001b[39m(loss: Tensor) -> \u001b[38;5;28;01mNone\u001b[39;00m:\n\u001b[32m--> \u001b[39m\u001b[32m241\u001b[39m     \u001b[43mcall\u001b[49m\u001b[43m.\u001b[49m\u001b[43m_call_strategy_hook\u001b[49m\u001b[43m(\u001b[49m\u001b[38;5;28;43mself\u001b[39;49m\u001b[43m.\u001b[49m\u001b[43mtrainer\u001b[49m\u001b[43m,\u001b[49m\u001b[43m \u001b[49m\u001b[33;43m\"\u001b[39;49m\u001b[33;43mbackward\u001b[39;49m\u001b[33;43m\"\u001b[39;49m\u001b[43m,\u001b[49m\u001b[43m \u001b[49m\u001b[43mloss\u001b[49m\u001b[43m,\u001b[49m\u001b[43m \u001b[49m\u001b[43moptimizer\u001b[49m\u001b[43m)\u001b[49m\n",
      "\u001b[36mFile \u001b[39m\u001b[32mc:\\Users\\SUBRU\\VSCodeProjects\\project_1_new\\tasks_support_system_ai\\.venv\\Lib\\site-packages\\pytorch_lightning\\trainer\\call.py:328\u001b[39m, in \u001b[36m_call_strategy_hook\u001b[39m\u001b[34m(trainer, hook_name, *args, **kwargs)\u001b[39m\n\u001b[32m    327\u001b[39m \u001b[38;5;28;01mwith\u001b[39;00m trainer.profiler.profile(\u001b[33mf\u001b[39m\u001b[33m\"\u001b[39m\u001b[33m[Strategy]\u001b[39m\u001b[38;5;132;01m{\u001b[39;00mtrainer.strategy.\u001b[34m__class__\u001b[39m.\u001b[34m__name__\u001b[39m\u001b[38;5;132;01m}\u001b[39;00m\u001b[33m.\u001b[39m\u001b[38;5;132;01m{\u001b[39;00mhook_name\u001b[38;5;132;01m}\u001b[39;00m\u001b[33m\"\u001b[39m):\n\u001b[32m--> \u001b[39m\u001b[32m328\u001b[39m     output = \u001b[43mfn\u001b[49m\u001b[43m(\u001b[49m\u001b[43m*\u001b[49m\u001b[43margs\u001b[49m\u001b[43m,\u001b[49m\u001b[43m \u001b[49m\u001b[43m*\u001b[49m\u001b[43m*\u001b[49m\u001b[43mkwargs\u001b[49m\u001b[43m)\u001b[49m\n\u001b[32m    330\u001b[39m \u001b[38;5;66;03m# restore current_fx when nested context\u001b[39;00m\n",
      "\u001b[36mFile \u001b[39m\u001b[32mc:\\Users\\SUBRU\\VSCodeProjects\\project_1_new\\tasks_support_system_ai\\.venv\\Lib\\site-packages\\pytorch_lightning\\strategies\\strategy.py:213\u001b[39m, in \u001b[36mStrategy.backward\u001b[39m\u001b[34m(self, closure_loss, optimizer, *args, **kwargs)\u001b[39m\n\u001b[32m    211\u001b[39m closure_loss = \u001b[38;5;28mself\u001b[39m.precision_plugin.pre_backward(closure_loss, \u001b[38;5;28mself\u001b[39m.lightning_module)\n\u001b[32m--> \u001b[39m\u001b[32m213\u001b[39m \u001b[38;5;28;43mself\u001b[39;49m\u001b[43m.\u001b[49m\u001b[43mprecision_plugin\u001b[49m\u001b[43m.\u001b[49m\u001b[43mbackward\u001b[49m\u001b[43m(\u001b[49m\u001b[43mclosure_loss\u001b[49m\u001b[43m,\u001b[49m\u001b[43m \u001b[49m\u001b[38;5;28;43mself\u001b[39;49m\u001b[43m.\u001b[49m\u001b[43mlightning_module\u001b[49m\u001b[43m,\u001b[49m\u001b[43m \u001b[49m\u001b[43moptimizer\u001b[49m\u001b[43m,\u001b[49m\u001b[43m \u001b[49m\u001b[43m*\u001b[49m\u001b[43margs\u001b[49m\u001b[43m,\u001b[49m\u001b[43m \u001b[49m\u001b[43m*\u001b[49m\u001b[43m*\u001b[49m\u001b[43mkwargs\u001b[49m\u001b[43m)\u001b[49m\n\u001b[32m    215\u001b[39m closure_loss = \u001b[38;5;28mself\u001b[39m.precision_plugin.post_backward(closure_loss, \u001b[38;5;28mself\u001b[39m.lightning_module)\n",
      "\u001b[36mFile \u001b[39m\u001b[32mc:\\Users\\SUBRU\\VSCodeProjects\\project_1_new\\tasks_support_system_ai\\.venv\\Lib\\site-packages\\pytorch_lightning\\plugins\\precision\\precision.py:73\u001b[39m, in \u001b[36mPrecision.backward\u001b[39m\u001b[34m(self, tensor, model, optimizer, *args, **kwargs)\u001b[39m\n\u001b[32m     62\u001b[39m \u001b[38;5;250m\u001b[39m\u001b[33mr\u001b[39m\u001b[33;03m\"\"\"Performs the actual backpropagation.\u001b[39;00m\n\u001b[32m     63\u001b[39m \n\u001b[32m     64\u001b[39m \u001b[33;03mArgs:\u001b[39;00m\n\u001b[32m   (...)\u001b[39m\u001b[32m     71\u001b[39m \n\u001b[32m     72\u001b[39m \u001b[33;03m\"\"\"\u001b[39;00m\n\u001b[32m---> \u001b[39m\u001b[32m73\u001b[39m \u001b[43mmodel\u001b[49m\u001b[43m.\u001b[49m\u001b[43mbackward\u001b[49m\u001b[43m(\u001b[49m\u001b[43mtensor\u001b[49m\u001b[43m,\u001b[49m\u001b[43m \u001b[49m\u001b[43m*\u001b[49m\u001b[43margs\u001b[49m\u001b[43m,\u001b[49m\u001b[43m \u001b[49m\u001b[43m*\u001b[49m\u001b[43m*\u001b[49m\u001b[43mkwargs\u001b[49m\u001b[43m)\u001b[49m\n",
      "\u001b[36mFile \u001b[39m\u001b[32mc:\\Users\\SUBRU\\VSCodeProjects\\project_1_new\\tasks_support_system_ai\\.venv\\Lib\\site-packages\\pytorch_lightning\\core\\module.py:1097\u001b[39m, in \u001b[36mLightningModule.backward\u001b[39m\u001b[34m(self, loss, *args, **kwargs)\u001b[39m\n\u001b[32m   1096\u001b[39m \u001b[38;5;28;01melse\u001b[39;00m:\n\u001b[32m-> \u001b[39m\u001b[32m1097\u001b[39m     \u001b[43mloss\u001b[49m\u001b[43m.\u001b[49m\u001b[43mbackward\u001b[49m\u001b[43m(\u001b[49m\u001b[43m*\u001b[49m\u001b[43margs\u001b[49m\u001b[43m,\u001b[49m\u001b[43m \u001b[49m\u001b[43m*\u001b[49m\u001b[43m*\u001b[49m\u001b[43mkwargs\u001b[49m\u001b[43m)\u001b[49m\n",
      "\u001b[36mFile \u001b[39m\u001b[32mc:\\Users\\SUBRU\\VSCodeProjects\\project_1_new\\tasks_support_system_ai\\.venv\\Lib\\site-packages\\torch\\_tensor.py:648\u001b[39m, in \u001b[36mTensor.backward\u001b[39m\u001b[34m(self, gradient, retain_graph, create_graph, inputs)\u001b[39m\n\u001b[32m    639\u001b[39m     \u001b[38;5;28;01mreturn\u001b[39;00m handle_torch_function(\n\u001b[32m    640\u001b[39m         Tensor.backward,\n\u001b[32m    641\u001b[39m         (\u001b[38;5;28mself\u001b[39m,),\n\u001b[32m   (...)\u001b[39m\u001b[32m    646\u001b[39m         inputs=inputs,\n\u001b[32m    647\u001b[39m     )\n\u001b[32m--> \u001b[39m\u001b[32m648\u001b[39m \u001b[43mtorch\u001b[49m\u001b[43m.\u001b[49m\u001b[43mautograd\u001b[49m\u001b[43m.\u001b[49m\u001b[43mbackward\u001b[49m\u001b[43m(\u001b[49m\n\u001b[32m    649\u001b[39m \u001b[43m    \u001b[49m\u001b[38;5;28;43mself\u001b[39;49m\u001b[43m,\u001b[49m\u001b[43m \u001b[49m\u001b[43mgradient\u001b[49m\u001b[43m,\u001b[49m\u001b[43m \u001b[49m\u001b[43mretain_graph\u001b[49m\u001b[43m,\u001b[49m\u001b[43m \u001b[49m\u001b[43mcreate_graph\u001b[49m\u001b[43m,\u001b[49m\u001b[43m \u001b[49m\u001b[43minputs\u001b[49m\u001b[43m=\u001b[49m\u001b[43minputs\u001b[49m\n\u001b[32m    650\u001b[39m \u001b[43m\u001b[49m\u001b[43m)\u001b[49m\n",
      "\u001b[36mFile \u001b[39m\u001b[32mc:\\Users\\SUBRU\\VSCodeProjects\\project_1_new\\tasks_support_system_ai\\.venv\\Lib\\site-packages\\torch\\autograd\\__init__.py:353\u001b[39m, in \u001b[36mbackward\u001b[39m\u001b[34m(tensors, grad_tensors, retain_graph, create_graph, grad_variables, inputs)\u001b[39m\n\u001b[32m    350\u001b[39m \u001b[38;5;66;03m# The reason we repeat the same comment below is that\u001b[39;00m\n\u001b[32m    351\u001b[39m \u001b[38;5;66;03m# some Python versions print out the first line of a multi-line function\u001b[39;00m\n\u001b[32m    352\u001b[39m \u001b[38;5;66;03m# calls in the traceback and some print out the last line\u001b[39;00m\n\u001b[32m--> \u001b[39m\u001b[32m353\u001b[39m \u001b[43m_engine_run_backward\u001b[49m\u001b[43m(\u001b[49m\n\u001b[32m    354\u001b[39m \u001b[43m    \u001b[49m\u001b[43mtensors\u001b[49m\u001b[43m,\u001b[49m\n\u001b[32m    355\u001b[39m \u001b[43m    \u001b[49m\u001b[43mgrad_tensors_\u001b[49m\u001b[43m,\u001b[49m\n\u001b[32m    356\u001b[39m \u001b[43m    \u001b[49m\u001b[43mretain_graph\u001b[49m\u001b[43m,\u001b[49m\n\u001b[32m    357\u001b[39m \u001b[43m    \u001b[49m\u001b[43mcreate_graph\u001b[49m\u001b[43m,\u001b[49m\n\u001b[32m    358\u001b[39m \u001b[43m    \u001b[49m\u001b[43minputs\u001b[49m\u001b[43m,\u001b[49m\n\u001b[32m    359\u001b[39m \u001b[43m    \u001b[49m\u001b[43mallow_unreachable\u001b[49m\u001b[43m=\u001b[49m\u001b[38;5;28;43;01mTrue\u001b[39;49;00m\u001b[43m,\u001b[49m\n\u001b[32m    360\u001b[39m \u001b[43m    \u001b[49m\u001b[43maccumulate_grad\u001b[49m\u001b[43m=\u001b[49m\u001b[38;5;28;43;01mTrue\u001b[39;49;00m\u001b[43m,\u001b[49m\n\u001b[32m    361\u001b[39m \u001b[43m\u001b[49m\u001b[43m)\u001b[49m\n",
      "\u001b[36mFile \u001b[39m\u001b[32mc:\\Users\\SUBRU\\VSCodeProjects\\project_1_new\\tasks_support_system_ai\\.venv\\Lib\\site-packages\\torch\\autograd\\graph.py:824\u001b[39m, in \u001b[36m_engine_run_backward\u001b[39m\u001b[34m(t_outputs, *args, **kwargs)\u001b[39m\n\u001b[32m    823\u001b[39m \u001b[38;5;28;01mtry\u001b[39;00m:\n\u001b[32m--> \u001b[39m\u001b[32m824\u001b[39m     \u001b[38;5;28;01mreturn\u001b[39;00m \u001b[43mVariable\u001b[49m\u001b[43m.\u001b[49m\u001b[43m_execution_engine\u001b[49m\u001b[43m.\u001b[49m\u001b[43mrun_backward\u001b[49m\u001b[43m(\u001b[49m\u001b[43m  \u001b[49m\u001b[38;5;66;43;03m# Calls into the C++ engine to run the backward pass\u001b[39;49;00m\n\u001b[32m    825\u001b[39m \u001b[43m        \u001b[49m\u001b[43mt_outputs\u001b[49m\u001b[43m,\u001b[49m\u001b[43m \u001b[49m\u001b[43m*\u001b[49m\u001b[43margs\u001b[49m\u001b[43m,\u001b[49m\u001b[43m \u001b[49m\u001b[43m*\u001b[49m\u001b[43m*\u001b[49m\u001b[43mkwargs\u001b[49m\n\u001b[32m    826\u001b[39m \u001b[43m    \u001b[49m\u001b[43m)\u001b[49m  \u001b[38;5;66;03m# Calls into the C++ engine to run the backward pass\u001b[39;00m\n\u001b[32m    827\u001b[39m \u001b[38;5;28;01mfinally\u001b[39;00m:\n",
      "\u001b[31mKeyboardInterrupt\u001b[39m: ",
      "\nDuring handling of the above exception, another exception occurred:\n",
      "\u001b[31mNameError\u001b[39m                                 Traceback (most recent call last)",
      "\u001b[36mCell\u001b[39m\u001b[36m \u001b[39m\u001b[32mIn[37]\u001b[39m\u001b[32m, line 31\u001b[39m\n\u001b[32m     18\u001b[39m model_instance = ModelClass(\n\u001b[32m     19\u001b[39m     input_chunk_length=input_chunk_length,\n\u001b[32m     20\u001b[39m     output_chunk_length=output_chunk_length,\n\u001b[32m   (...)\u001b[39m\u001b[32m     27\u001b[39m     \u001b[38;5;66;03m# future_covariates=train_future_cov_scaled if all(cov is not None for cov in train_future_cov_scaled) else None,\u001b[39;00m\n\u001b[32m     28\u001b[39m )\n\u001b[32m     29\u001b[39m \u001b[38;5;66;03m# Для Эксперимента A используем только train_series и val_series\u001b[39;00m\n\u001b[32m     30\u001b[39m \u001b[38;5;66;03m# Если используются future_covariates, их также нужно передать здесь и в val_future_covariates\u001b[39;00m\n\u001b[32m---> \u001b[39m\u001b[32m31\u001b[39m \u001b[43mmodel_instance\u001b[49m\u001b[43m.\u001b[49m\u001b[43mfit\u001b[49m\u001b[43m(\u001b[49m\n\u001b[32m     32\u001b[39m \u001b[43m    \u001b[49m\u001b[43mseries\u001b[49m\u001b[43m=\u001b[49m\u001b[43mtrain_series_scaled\u001b[49m\u001b[43m,\u001b[49m\u001b[43m \u001b[49m\u001b[38;5;66;43;03m# Список масштабированных тренировочных серий\u001b[39;49;00m\n\u001b[32m     33\u001b[39m \u001b[43m    \u001b[49m\u001b[43mpast_covariates\u001b[49m\u001b[43m=\u001b[49m\u001b[43m \u001b[49m\u001b[43mtrain_past_cov_scaled\u001b[49m\u001b[43m,\u001b[49m\n\u001b[32m     34\u001b[39m \u001b[43m    \u001b[49m\u001b[38;5;66;43;03m# future_covariates=train_future_cov_scaled, # Список future covariates для train\u001b[39;49;00m\n\u001b[32m     35\u001b[39m \u001b[43m    \u001b[49m\u001b[43mval_series\u001b[49m\u001b[43m=\u001b[49m\u001b[43m \u001b[49m\u001b[43mval_series_scaled\u001b[49m\u001b[43m,\u001b[49m\u001b[43m \u001b[49m\u001b[38;5;66;43;03m# Используем test как val для ранней остановки\u001b[39;49;00m\n\u001b[32m     36\u001b[39m \u001b[43m    \u001b[49m\u001b[43mval_past_covariates\u001b[49m\u001b[43m=\u001b[49m\u001b[43m \u001b[49m\u001b[43mval_past_cov_scaled\u001b[49m\u001b[43m,\u001b[49m\n\u001b[32m     37\u001b[39m \u001b[43m    \u001b[49m\u001b[38;5;66;43;03m# val_future_covariates=val_future_cov_scaled\u001b[39;49;00m\n\u001b[32m     38\u001b[39m \u001b[43m\u001b[49m\u001b[43m)\u001b[49m\n\u001b[32m     39\u001b[39m fitted_models_A[name] = model_instance\n\u001b[32m     40\u001b[39m \u001b[38;5;28mprint\u001b[39m(\u001b[33mf\u001b[39m\u001b[33m\"\u001b[39m\u001b[33mГлобальная модель \u001b[39m\u001b[38;5;132;01m{\u001b[39;00mname\u001b[38;5;132;01m}\u001b[39;00m\u001b[33m обучена.\u001b[39m\u001b[33m\"\u001b[39m)\n",
      "\u001b[36mFile \u001b[39m\u001b[32mc:\\Users\\SUBRU\\VSCodeProjects\\project_1_new\\tasks_support_system_ai\\.venv\\Lib\\site-packages\\darts\\utils\\torch.py:103\u001b[39m, in \u001b[36mrandom_method.<locals>.decorator\u001b[39m\u001b[34m(self, *args, **kwargs)\u001b[39m\n\u001b[32m    101\u001b[39m \u001b[38;5;28;01mwith\u001b[39;00m fork_rng():\n\u001b[32m    102\u001b[39m     manual_seed(\u001b[38;5;28mself\u001b[39m._random_instance.randint(\u001b[32m0\u001b[39m, high=MAX_TORCH_SEED_VALUE))\n\u001b[32m--> \u001b[39m\u001b[32m103\u001b[39m     \u001b[38;5;28;01mreturn\u001b[39;00m \u001b[43mdecorated\u001b[49m\u001b[43m(\u001b[49m\u001b[38;5;28;43mself\u001b[39;49m\u001b[43m,\u001b[49m\u001b[43m \u001b[49m\u001b[43m*\u001b[49m\u001b[43margs\u001b[49m\u001b[43m,\u001b[49m\u001b[43m \u001b[49m\u001b[43m*\u001b[49m\u001b[43m*\u001b[49m\u001b[43mkwargs\u001b[49m\u001b[43m)\u001b[49m\n",
      "\u001b[36mFile \u001b[39m\u001b[32mc:\\Users\\SUBRU\\VSCodeProjects\\project_1_new\\tasks_support_system_ai\\.venv\\Lib\\site-packages\\darts\\models\\forecasting\\torch_forecasting_model.py:776\u001b[39m, in \u001b[36mTorchForecastingModel.fit\u001b[39m\u001b[34m(self, series, past_covariates, future_covariates, val_series, val_past_covariates, val_future_covariates, trainer, verbose, epochs, max_samples_per_ts, dataloader_kwargs, sample_weight, val_sample_weight)\u001b[39m\n\u001b[32m    770\u001b[39m \u001b[38;5;66;03m# call super fit only if user is actually fitting the model\u001b[39;00m\n\u001b[32m    771\u001b[39m \u001b[38;5;28msuper\u001b[39m().fit(\n\u001b[32m    772\u001b[39m     series=seq2series(series),\n\u001b[32m    773\u001b[39m     past_covariates=seq2series(past_covariates),\n\u001b[32m    774\u001b[39m     future_covariates=seq2series(future_covariates),\n\u001b[32m    775\u001b[39m )\n\u001b[32m--> \u001b[39m\u001b[32m776\u001b[39m \u001b[38;5;28;01mreturn\u001b[39;00m \u001b[38;5;28;43mself\u001b[39;49m\u001b[43m.\u001b[49m\u001b[43mfit_from_dataset\u001b[49m\u001b[43m(\u001b[49m\u001b[43m*\u001b[49m\u001b[43mparams\u001b[49m\u001b[43m)\u001b[49m\n",
      "\u001b[36mFile \u001b[39m\u001b[32mc:\\Users\\SUBRU\\VSCodeProjects\\project_1_new\\tasks_support_system_ai\\.venv\\Lib\\site-packages\\darts\\utils\\torch.py:103\u001b[39m, in \u001b[36mrandom_method.<locals>.decorator\u001b[39m\u001b[34m(self, *args, **kwargs)\u001b[39m\n\u001b[32m    101\u001b[39m \u001b[38;5;28;01mwith\u001b[39;00m fork_rng():\n\u001b[32m    102\u001b[39m     manual_seed(\u001b[38;5;28mself\u001b[39m._random_instance.randint(\u001b[32m0\u001b[39m, high=MAX_TORCH_SEED_VALUE))\n\u001b[32m--> \u001b[39m\u001b[32m103\u001b[39m     \u001b[38;5;28;01mreturn\u001b[39;00m \u001b[43mdecorated\u001b[49m\u001b[43m(\u001b[49m\u001b[38;5;28;43mself\u001b[39;49m\u001b[43m,\u001b[49m\u001b[43m \u001b[49m\u001b[43m*\u001b[49m\u001b[43margs\u001b[49m\u001b[43m,\u001b[49m\u001b[43m \u001b[49m\u001b[43m*\u001b[49m\u001b[43m*\u001b[49m\u001b[43mkwargs\u001b[49m\u001b[43m)\u001b[49m\n",
      "\u001b[36mFile \u001b[39m\u001b[32mc:\\Users\\SUBRU\\VSCodeProjects\\project_1_new\\tasks_support_system_ai\\.venv\\Lib\\site-packages\\darts\\models\\forecasting\\torch_forecasting_model.py:956\u001b[39m, in \u001b[36mTorchForecastingModel.fit_from_dataset\u001b[39m\u001b[34m(self, train_dataset, val_dataset, trainer, verbose, epochs, dataloader_kwargs)\u001b[39m\n\u001b[32m    903\u001b[39m \u001b[38;5;129m@random_method\u001b[39m\n\u001b[32m    904\u001b[39m \u001b[38;5;28;01mdef\u001b[39;00m\u001b[38;5;250m \u001b[39m\u001b[34mfit_from_dataset\u001b[39m(\n\u001b[32m    905\u001b[39m     \u001b[38;5;28mself\u001b[39m,\n\u001b[32m   (...)\u001b[39m\u001b[32m    911\u001b[39m     dataloader_kwargs: Optional[Dict[\u001b[38;5;28mstr\u001b[39m, Any]] = \u001b[38;5;28;01mNone\u001b[39;00m,\n\u001b[32m    912\u001b[39m ) -> \u001b[33m\"\u001b[39m\u001b[33mTorchForecastingModel\u001b[39m\u001b[33m\"\u001b[39m:\n\u001b[32m    913\u001b[39m \u001b[38;5;250m    \u001b[39m\u001b[33;03m\"\"\"\u001b[39;00m\n\u001b[32m    914\u001b[39m \u001b[33;03m    Train the model with a specific :class:`darts.utils.data.TrainingDataset` instance.\u001b[39;00m\n\u001b[32m    915\u001b[39m \u001b[33;03m    These datasets implement a PyTorch ``Dataset``, and specify how the target and covariates are sliced\u001b[39;00m\n\u001b[32m   (...)\u001b[39m\u001b[32m    954\u001b[39m \u001b[33;03m        Fitted model.\u001b[39;00m\n\u001b[32m    955\u001b[39m \u001b[33;03m    \"\"\"\u001b[39;00m\n\u001b[32m--> \u001b[39m\u001b[32m956\u001b[39m     \u001b[38;5;28;43mself\u001b[39;49m\u001b[43m.\u001b[49m\u001b[43m_train\u001b[49m\u001b[43m(\u001b[49m\n\u001b[32m    957\u001b[39m \u001b[43m        \u001b[49m\u001b[43m*\u001b[49m\u001b[38;5;28;43mself\u001b[39;49m\u001b[43m.\u001b[49m\u001b[43m_setup_for_train\u001b[49m\u001b[43m(\u001b[49m\n\u001b[32m    958\u001b[39m \u001b[43m            \u001b[49m\u001b[43mtrain_dataset\u001b[49m\u001b[43m=\u001b[49m\u001b[43mtrain_dataset\u001b[49m\u001b[43m,\u001b[49m\n\u001b[32m    959\u001b[39m \u001b[43m            \u001b[49m\u001b[43mval_dataset\u001b[49m\u001b[43m=\u001b[49m\u001b[43mval_dataset\u001b[49m\u001b[43m,\u001b[49m\n\u001b[32m    960\u001b[39m \u001b[43m            \u001b[49m\u001b[43mtrainer\u001b[49m\u001b[43m=\u001b[49m\u001b[43mtrainer\u001b[49m\u001b[43m,\u001b[49m\n\u001b[32m    961\u001b[39m \u001b[43m            \u001b[49m\u001b[43mverbose\u001b[49m\u001b[43m=\u001b[49m\u001b[43mverbose\u001b[49m\u001b[43m,\u001b[49m\n\u001b[32m    962\u001b[39m \u001b[43m            \u001b[49m\u001b[43mepochs\u001b[49m\u001b[43m=\u001b[49m\u001b[43mepochs\u001b[49m\u001b[43m,\u001b[49m\n\u001b[32m    963\u001b[39m \u001b[43m            \u001b[49m\u001b[43mdataloader_kwargs\u001b[49m\u001b[43m=\u001b[49m\u001b[43mdataloader_kwargs\u001b[49m\u001b[43m,\u001b[49m\n\u001b[32m    964\u001b[39m \u001b[43m        \u001b[49m\u001b[43m)\u001b[49m\n\u001b[32m    965\u001b[39m \u001b[43m    \u001b[49m\u001b[43m)\u001b[49m\n\u001b[32m    966\u001b[39m     \u001b[38;5;28;01mreturn\u001b[39;00m \u001b[38;5;28mself\u001b[39m\n",
      "\u001b[36mFile \u001b[39m\u001b[32mc:\\Users\\SUBRU\\VSCodeProjects\\project_1_new\\tasks_support_system_ai\\.venv\\Lib\\site-packages\\darts\\models\\forecasting\\torch_forecasting_model.py:1145\u001b[39m, in \u001b[36mTorchForecastingModel._train\u001b[39m\u001b[34m(self, trainer, model, train_loader, val_loader)\u001b[39m\n\u001b[32m   1142\u001b[39m \u001b[38;5;28mself\u001b[39m.load_ckpt_path = \u001b[38;5;28;01mNone\u001b[39;00m\n\u001b[32m   1144\u001b[39m \u001b[38;5;28;01mif\u001b[39;00m \u001b[38;5;28mself\u001b[39m._requires_training:\n\u001b[32m-> \u001b[39m\u001b[32m1145\u001b[39m     \u001b[43mtrainer\u001b[49m\u001b[43m.\u001b[49m\u001b[43mfit\u001b[49m\u001b[43m(\u001b[49m\n\u001b[32m   1146\u001b[39m \u001b[43m        \u001b[49m\u001b[43mmodel\u001b[49m\u001b[43m,\u001b[49m\n\u001b[32m   1147\u001b[39m \u001b[43m        \u001b[49m\u001b[43mtrain_dataloaders\u001b[49m\u001b[43m=\u001b[49m\u001b[43mtrain_loader\u001b[49m\u001b[43m,\u001b[49m\n\u001b[32m   1148\u001b[39m \u001b[43m        \u001b[49m\u001b[43mval_dataloaders\u001b[49m\u001b[43m=\u001b[49m\u001b[43mval_loader\u001b[49m\u001b[43m,\u001b[49m\n\u001b[32m   1149\u001b[39m \u001b[43m        \u001b[49m\u001b[43mckpt_path\u001b[49m\u001b[43m=\u001b[49m\u001b[43mckpt_path\u001b[49m\u001b[43m,\u001b[49m\n\u001b[32m   1150\u001b[39m \u001b[43m    \u001b[49m\u001b[43m)\u001b[49m\n\u001b[32m   1151\u001b[39m \u001b[38;5;28mself\u001b[39m.model = model\n\u001b[32m   1152\u001b[39m \u001b[38;5;28mself\u001b[39m.trainer = trainer\n",
      "\u001b[36mFile \u001b[39m\u001b[32mc:\\Users\\SUBRU\\VSCodeProjects\\project_1_new\\tasks_support_system_ai\\.venv\\Lib\\site-packages\\pytorch_lightning\\trainer\\trainer.py:561\u001b[39m, in \u001b[36mTrainer.fit\u001b[39m\u001b[34m(self, model, train_dataloaders, val_dataloaders, datamodule, ckpt_path)\u001b[39m\n\u001b[32m    559\u001b[39m \u001b[38;5;28mself\u001b[39m.training = \u001b[38;5;28;01mTrue\u001b[39;00m\n\u001b[32m    560\u001b[39m \u001b[38;5;28mself\u001b[39m.should_stop = \u001b[38;5;28;01mFalse\u001b[39;00m\n\u001b[32m--> \u001b[39m\u001b[32m561\u001b[39m \u001b[43mcall\u001b[49m\u001b[43m.\u001b[49m\u001b[43m_call_and_handle_interrupt\u001b[49m\u001b[43m(\u001b[49m\n\u001b[32m    562\u001b[39m \u001b[43m    \u001b[49m\u001b[38;5;28;43mself\u001b[39;49m\u001b[43m,\u001b[49m\u001b[43m \u001b[49m\u001b[38;5;28;43mself\u001b[39;49m\u001b[43m.\u001b[49m\u001b[43m_fit_impl\u001b[49m\u001b[43m,\u001b[49m\u001b[43m \u001b[49m\u001b[43mmodel\u001b[49m\u001b[43m,\u001b[49m\u001b[43m \u001b[49m\u001b[43mtrain_dataloaders\u001b[49m\u001b[43m,\u001b[49m\u001b[43m \u001b[49m\u001b[43mval_dataloaders\u001b[49m\u001b[43m,\u001b[49m\u001b[43m \u001b[49m\u001b[43mdatamodule\u001b[49m\u001b[43m,\u001b[49m\u001b[43m \u001b[49m\u001b[43mckpt_path\u001b[49m\n\u001b[32m    563\u001b[39m \u001b[43m\u001b[49m\u001b[43m)\u001b[49m\n",
      "\u001b[36mFile \u001b[39m\u001b[32mc:\\Users\\SUBRU\\VSCodeProjects\\project_1_new\\tasks_support_system_ai\\.venv\\Lib\\site-packages\\pytorch_lightning\\trainer\\call.py:65\u001b[39m, in \u001b[36m_call_and_handle_interrupt\u001b[39m\u001b[34m(trainer, trainer_fn, *args, **kwargs)\u001b[39m\n\u001b[32m     63\u001b[39m     \u001b[38;5;28;01mif\u001b[39;00m \u001b[38;5;28misinstance\u001b[39m(launcher, _SubprocessScriptLauncher):\n\u001b[32m     64\u001b[39m         launcher.kill(_get_sigkill_signal())\n\u001b[32m---> \u001b[39m\u001b[32m65\u001b[39m     \u001b[43mexit\u001b[49m(\u001b[32m1\u001b[39m)\n\u001b[32m     67\u001b[39m \u001b[38;5;28;01mexcept\u001b[39;00m \u001b[38;5;167;01mBaseException\u001b[39;00m \u001b[38;5;28;01mas\u001b[39;00m exception:\n\u001b[32m     68\u001b[39m     _interrupt(trainer, exception)\n",
      "\u001b[31mNameError\u001b[39m: name 'exit' is not defined"
     ]
    }
   ],
   "source": [
    "models_A = {\n",
    "    \"NBEATS_Global_A\": NBEATSModel,\n",
    "}\n",
    "\n",
    "logs_base_dir = \"notebooks\\TS\\extra\\lightning_logs\"\n",
    "\n",
    "fitted_models_A = {}\n",
    "loggers_A = {}\n",
    "for name, ModelClass in tqdm(models_A.items()):\n",
    "    print(f\"\\nОбучение глобальной модели {name}...\")\n",
    "    current_logger = CSVLogger(save_dir=logs_base_dir, name=name)\n",
    "    loggers_A[name] = current_logger\n",
    "\n",
    "    model_instance = ModelClass(\n",
    "        input_chunk_length=input_chunk_length,\n",
    "        output_chunk_length=output_chunk_length,\n",
    "        n_epochs=n_epochs,\n",
    "        batch_size=batch_size,\n",
    "        random_state=random_state,\n",
    "        optimizer_cls= torch.optim.AdamW,\n",
    "        optimizer_kwargs={\"lr\": 3e-4},\n",
    "        pl_trainer_kwargs={**trainer_kwargs, 'logger': current_logger}, \n",
    "    )\n",
    "    model_instance.fit(\n",
    "        series=train_series_scaled,\n",
    "        past_covariates= train_past_cov_scaled,\n",
    "        val_series= val_series_scaled,\n",
    "        val_past_covariates= val_past_cov_scaled,\n",
    "    )\n",
    "    fitted_models_A[name] = model_instance\n",
    "    print(f\"Глобальная модель {name} обучена.\")\n"
   ]
  },
  {
   "cell_type": "markdown",
   "id": "93727ab1",
   "metadata": {},
   "source": [
    "Модель слишком долго училась val_loss не уменьшался"
   ]
  },
  {
   "cell_type": "code",
   "execution_count": null,
   "id": "9320eeb7",
   "metadata": {},
   "outputs": [],
   "source": [
    "input_chunk_length = 30\n",
    "output_chunk_length = 7\n",
    "n_epochs = 100\n",
    "batch_size = 32\n",
    "random_state = 42\n",
    "\n",
    "early_stopping = EarlyStopping(\n",
    "    monitor='val_loss',\n",
    "    patience=10,\n",
    "    mode='min'\n",
    ")"
   ]
  },
  {
   "cell_type": "code",
   "execution_count": 102,
   "id": "6af7618b",
   "metadata": {},
   "outputs": [
    {
     "name": "stdout",
     "output_type": "stream",
     "text": [
      "GPU доступен. Использование GPU для обучения.\n"
     ]
    }
   ],
   "source": [
    "if torch.cuda.is_available():\n",
    "    print(\"GPU доступен. Использование GPU для обучения.\")\n",
    "    trainer_kwargs={\n",
    "        'callbacks': [early_stopping],\n",
    "        'accelerator': 'gpu',  \n",
    "        'devices': -1,           \n",
    "        'enable_progress_bar': True,\n",
    "        'check_val_every_n_epoch': 1,\n",
    "    }\n",
    "elif torch.backends.mps.is_available(): # Проверка для Apple\n",
    "    print(\"MPS (Apple Silicon GPU) доступен. Использование MPS для обучения.\")\n",
    "    trainer_kwargs={\n",
    "        'callbacks': [early_stopping],\n",
    "        'accelerator': 'mps',\n",
    "        'devices': -1,           \n",
    "        'enable_progress_bar': True,\n",
    "        'check_val_every_n_epoch': 1,\n",
    "    }\n",
    "else:\n",
    "    print(\"GPU не доступен. Обучение будет проходить на CPU.\")\n",
    "    trainer_kwargs={\n",
    "        'callbacks': [early_stopping],\n",
    "        'accelerator': 'cpu',\n",
    "        'check_val_every_n_epoch': 1,\n",
    "    }"
   ]
  },
  {
   "cell_type": "code",
   "execution_count": null,
   "id": "5ee54fe5",
   "metadata": {},
   "outputs": [
    {
     "name": "stderr",
     "output_type": "stream",
     "text": [
      "number of `future_covariates` features is <= `temporal_width_future`, leading to feature expansion.number of covariates: 3, `temporal_width_future=4`.\n",
      "GPU available: True (cuda), used: True\n",
      "TPU available: False, using: 0 TPU cores\n",
      "HPU available: False, using: 0 HPUs\n",
      "LOCAL_RANK: 0 - CUDA_VISIBLE_DEVICES: [0]\n",
      "\n",
      "   | Name                  | Type             | Params | Mode \n",
      "--------------------------------------------------------------------\n",
      "0  | criterion             | MSELoss          | 0      | train\n",
      "1  | train_criterion       | MSELoss          | 0      | train\n",
      "2  | val_criterion         | MSELoss          | 0      | train\n",
      "3  | train_metrics         | MetricCollection | 0      | train\n",
      "4  | val_metrics           | MetricCollection | 0      | train\n",
      "5  | past_cov_projection   | _ResidualBlock   | 5.4 K  | train\n",
      "6  | future_cov_projection | _ResidualBlock   | 1.0 K  | train\n",
      "7  | encoders              | Sequential       | 93.1 K | train\n",
      "8  | decoders              | Sequential       | 45.4 K | train\n",
      "9  | temporal_decoder      | _ResidualBlock   | 726    | train\n",
      "10 | lookback_skip         | Linear           | 217    | train\n",
      "--------------------------------------------------------------------\n",
      "145 K     Trainable params\n",
      "0         Non-trainable params\n",
      "145 K     Total params\n",
      "0.583     Total estimated model params size (MB)\n",
      "43        Modules in train mode\n",
      "0         Modules in eval mode\n"
     ]
    },
    {
     "name": "stdout",
     "output_type": "stream",
     "text": [
      "\n",
      "Обучение глобальной модели TiDE_Global_B...\n"
     ]
    },
    {
     "data": {
      "application/vnd.jupyter.widget-view+json": {
       "model_id": "e5d47e637e8d49858a66df62660c67ce",
       "version_major": 2,
       "version_minor": 0
      },
      "text/plain": [
       "Sanity Checking: |          | 0/? [00:00<?, ?it/s]"
      ]
     },
     "metadata": {},
     "output_type": "display_data"
    },
    {
     "data": {
      "application/vnd.jupyter.widget-view+json": {
       "model_id": "a41798af96f24ff39ecb891aeaf2475e",
       "version_major": 2,
       "version_minor": 0
      },
      "text/plain": [
       "Training: |          | 0/? [00:00<?, ?it/s]"
      ]
     },
     "metadata": {},
     "output_type": "display_data"
    },
    {
     "data": {
      "application/vnd.jupyter.widget-view+json": {
       "model_id": "a634382a215f4dada85c804dbd09b622",
       "version_major": 2,
       "version_minor": 0
      },
      "text/plain": [
       "Validation: |          | 0/? [00:00<?, ?it/s]"
      ]
     },
     "metadata": {},
     "output_type": "display_data"
    },
    {
     "data": {
      "application/vnd.jupyter.widget-view+json": {
       "model_id": "dbb163d862804b889ed3e6b8e86e8cce",
       "version_major": 2,
       "version_minor": 0
      },
      "text/plain": [
       "Validation: |          | 0/? [00:00<?, ?it/s]"
      ]
     },
     "metadata": {},
     "output_type": "display_data"
    },
    {
     "data": {
      "application/vnd.jupyter.widget-view+json": {
       "model_id": "c89fa70d68754b99b195a2c58d47f708",
       "version_major": 2,
       "version_minor": 0
      },
      "text/plain": [
       "Validation: |          | 0/? [00:00<?, ?it/s]"
      ]
     },
     "metadata": {},
     "output_type": "display_data"
    },
    {
     "data": {
      "application/vnd.jupyter.widget-view+json": {
       "model_id": "e07ed6139840458099630f26b9472c9e",
       "version_major": 2,
       "version_minor": 0
      },
      "text/plain": [
       "Validation: |          | 0/? [00:00<?, ?it/s]"
      ]
     },
     "metadata": {},
     "output_type": "display_data"
    },
    {
     "data": {
      "application/vnd.jupyter.widget-view+json": {
       "model_id": "f90c1af2a365403c9bda038c4e557e6d",
       "version_major": 2,
       "version_minor": 0
      },
      "text/plain": [
       "Validation: |          | 0/? [00:00<?, ?it/s]"
      ]
     },
     "metadata": {},
     "output_type": "display_data"
    },
    {
     "data": {
      "application/vnd.jupyter.widget-view+json": {
       "model_id": "70b974c228b64a92a733f1930b8f67a3",
       "version_major": 2,
       "version_minor": 0
      },
      "text/plain": [
       "Validation: |          | 0/? [00:00<?, ?it/s]"
      ]
     },
     "metadata": {},
     "output_type": "display_data"
    },
    {
     "data": {
      "application/vnd.jupyter.widget-view+json": {
       "model_id": "27e09ed8f60f4dd3823e2dff438165f8",
       "version_major": 2,
       "version_minor": 0
      },
      "text/plain": [
       "Validation: |          | 0/? [00:00<?, ?it/s]"
      ]
     },
     "metadata": {},
     "output_type": "display_data"
    },
    {
     "data": {
      "application/vnd.jupyter.widget-view+json": {
       "model_id": "d08d1bb894fe410a83b6187dc746cf0d",
       "version_major": 2,
       "version_minor": 0
      },
      "text/plain": [
       "Validation: |          | 0/? [00:00<?, ?it/s]"
      ]
     },
     "metadata": {},
     "output_type": "display_data"
    },
    {
     "data": {
      "application/vnd.jupyter.widget-view+json": {
       "model_id": "4413934420254a6d8abc320fc0d9cb08",
       "version_major": 2,
       "version_minor": 0
      },
      "text/plain": [
       "Validation: |          | 0/? [00:00<?, ?it/s]"
      ]
     },
     "metadata": {},
     "output_type": "display_data"
    },
    {
     "data": {
      "application/vnd.jupyter.widget-view+json": {
       "model_id": "98d0c4341bc14ef382652024ca9c6fb5",
       "version_major": 2,
       "version_minor": 0
      },
      "text/plain": [
       "Validation: |          | 0/? [00:00<?, ?it/s]"
      ]
     },
     "metadata": {},
     "output_type": "display_data"
    },
    {
     "data": {
      "application/vnd.jupyter.widget-view+json": {
       "model_id": "04a7004488ac4fd3aba42fcbb6e12517",
       "version_major": 2,
       "version_minor": 0
      },
      "text/plain": [
       "Validation: |          | 0/? [00:00<?, ?it/s]"
      ]
     },
     "metadata": {},
     "output_type": "display_data"
    },
    {
     "data": {
      "application/vnd.jupyter.widget-view+json": {
       "model_id": "2ec9fb89993649e1b4de9b5ffb12de2d",
       "version_major": 2,
       "version_minor": 0
      },
      "text/plain": [
       "Validation: |          | 0/? [00:00<?, ?it/s]"
      ]
     },
     "metadata": {},
     "output_type": "display_data"
    },
    {
     "data": {
      "application/vnd.jupyter.widget-view+json": {
       "model_id": "5dc37f0bd0374f0d96566bafc858ee98",
       "version_major": 2,
       "version_minor": 0
      },
      "text/plain": [
       "Validation: |          | 0/? [00:00<?, ?it/s]"
      ]
     },
     "metadata": {},
     "output_type": "display_data"
    },
    {
     "data": {
      "application/vnd.jupyter.widget-view+json": {
       "model_id": "c44d1c46465047f788f0f5d178625845",
       "version_major": 2,
       "version_minor": 0
      },
      "text/plain": [
       "Validation: |          | 0/? [00:00<?, ?it/s]"
      ]
     },
     "metadata": {},
     "output_type": "display_data"
    },
    {
     "name": "stderr",
     "output_type": "stream",
     "text": [
      "100%|██████████| 1/1 [02:45<00:00, 165.86s/it]"
     ]
    },
    {
     "name": "stdout",
     "output_type": "stream",
     "text": [
      "Глобальная модель TiDE_Global_B обучена.\n"
     ]
    },
    {
     "name": "stderr",
     "output_type": "stream",
     "text": [
      "\n"
     ]
    }
   ],
   "source": [
    "models_B = {\n",
    "    \"TiDE_Global_B\": TiDEModel,\n",
    "}\n",
    "\n",
    "logs_base_dir = \"notebooks\\TS\\extra\\lightning_logs\"\n",
    "\n",
    "fitted_models_B = {}\n",
    "loggers_B = {}\n",
    "for name, ModelClass in tqdm(models_B.items()):\n",
    "    print(f\"\\nОбучение глобальной модели {name}...\")\n",
    "    current_logger = CSVLogger(save_dir=logs_base_dir, name=name)\n",
    "    loggers_A[name] = current_logger\n",
    "    model_specific_params = {}\n",
    "\n",
    "    model_instance = ModelClass(\n",
    "        input_chunk_length=input_chunk_length,\n",
    "        output_chunk_length=output_chunk_length,\n",
    "        n_epochs=n_epochs,\n",
    "        batch_size=batch_size,\n",
    "        random_state=random_state,\n",
    "        optimizer_cls= torch.optim.AdamW,\n",
    "        optimizer_kwargs={\"lr\": 3e-4},\n",
    "        pl_trainer_kwargs={**trainer_kwargs, 'logger': current_logger},\n",
    "        **model_specific_params\n",
    "    )\n",
    "    model_instance.fit(\n",
    "        series=train_series_scaled,\n",
    "        past_covariates= train_past_cov_scaled,\n",
    "        future_covariates=train_future_cov_scaled,\n",
    "        val_series= val_series_scaled,\n",
    "        val_past_covariates= val_past_cov_scaled,\n",
    "        val_future_covariates=val_future_cov_scaled\n",
    "    )\n",
    "    fitted_models_B[name] = model_instance\n",
    "    print(f\"Глобальная модель {name} обучена.\")"
   ]
  },
  {
   "cell_type": "code",
   "execution_count": null,
   "id": "3403da1d",
   "metadata": {},
   "outputs": [],
   "source": [
    "input_chunk_length = 30\n",
    "output_chunk_length = 7\n",
    "n_epochs = 100\n",
    "batch_size = 32\n",
    "random_state = 42\n",
    "\n",
    "early_stopping = EarlyStopping(\n",
    "    monitor='val_loss',\n",
    "    patience=3,\n",
    "    mode='min'\n",
    ")"
   ]
  },
  {
   "cell_type": "code",
   "execution_count": null,
   "id": "c50b13d8",
   "metadata": {},
   "outputs": [
    {
     "name": "stdout",
     "output_type": "stream",
     "text": [
      "GPU доступен. Использование GPU для обучения.\n"
     ]
    }
   ],
   "source": [
    "if torch.cuda.is_available():\n",
    "    print(\"GPU доступен. Использование GPU для обучения.\")\n",
    "    trainer_kwargs={\n",
    "        'callbacks': [early_stopping],\n",
    "        'accelerator': 'gpu',  \n",
    "        'devices': -1,           \n",
    "        'enable_progress_bar': True,\n",
    "        'check_val_every_n_epoch': 1,\n",
    "    }\n",
    "elif torch.backends.mps.is_available():\n",
    "    print(\"MPS (Apple Silicon GPU) доступен. Использование MPS для обучения.\")\n",
    "    trainer_kwargs={\n",
    "        'callbacks': [early_stopping],\n",
    "        'accelerator': 'mps',\n",
    "        'devices': -1,           \n",
    "        'enable_progress_bar': True,\n",
    "        'check_val_every_n_epoch': 1,\n",
    "    }\n",
    "else:\n",
    "    print(\"GPU не доступен. Обучение будет проходить на CPU.\")\n",
    "    trainer_kwargs={\n",
    "        'callbacks': [early_stopping],\n",
    "        'accelerator': 'cpu',\n",
    "        'check_val_every_n_epoch': 1,\n",
    "    }"
   ]
  },
  {
   "cell_type": "code",
   "execution_count": null,
   "id": "c36455f6",
   "metadata": {},
   "outputs": [
    {
     "name": "stderr",
     "output_type": "stream",
     "text": [
      "GPU available: True (cuda), used: True\n",
      "TPU available: False, using: 0 TPU cores\n",
      "HPU available: False, using: 0 HPUs\n",
      "LOCAL_RANK: 0 - CUDA_VISIBLE_DEVICES: [0]\n",
      "\n",
      "  | Name            | Type             | Params | Mode \n",
      "-------------------------------------------------------------\n",
      "0 | criterion       | MSELoss          | 0      | train\n",
      "1 | train_criterion | MSELoss          | 0      | train\n",
      "2 | val_criterion   | MSELoss          | 0      | train\n",
      "3 | train_metrics   | MetricCollection | 0      | train\n",
      "4 | val_metrics     | MetricCollection | 0      | train\n",
      "5 | rnn             | LSTM             | 3.1 K  | train\n",
      "6 | V               | Linear           | 26     | train\n",
      "-------------------------------------------------------------\n",
      "3.1 K     Trainable params\n",
      "0         Non-trainable params\n",
      "3.1 K     Total params\n",
      "0.013     Total estimated model params size (MB)\n",
      "7         Modules in train mode\n",
      "0         Modules in eval mode\n"
     ]
    },
    {
     "name": "stdout",
     "output_type": "stream",
     "text": [
      "\n",
      "Обучение глобальной модели LSTM_Global_B...\n"
     ]
    },
    {
     "data": {
      "application/vnd.jupyter.widget-view+json": {
       "model_id": "f168913f09c24adc9dd360c22fd8daee",
       "version_major": 2,
       "version_minor": 0
      },
      "text/plain": [
       "Sanity Checking: |          | 0/? [00:00<?, ?it/s]"
      ]
     },
     "metadata": {},
     "output_type": "display_data"
    },
    {
     "data": {
      "application/vnd.jupyter.widget-view+json": {
       "model_id": "e1e7af79fdc34d178d7d98bd78992f46",
       "version_major": 2,
       "version_minor": 0
      },
      "text/plain": [
       "Training: |          | 0/? [00:00<?, ?it/s]"
      ]
     },
     "metadata": {},
     "output_type": "display_data"
    },
    {
     "data": {
      "application/vnd.jupyter.widget-view+json": {
       "model_id": "b41b4dd84320451d94c64134fde451a2",
       "version_major": 2,
       "version_minor": 0
      },
      "text/plain": [
       "Validation: |          | 0/? [00:00<?, ?it/s]"
      ]
     },
     "metadata": {},
     "output_type": "display_data"
    },
    {
     "data": {
      "application/vnd.jupyter.widget-view+json": {
       "model_id": "41848d0a589b434c998fa485774d3004",
       "version_major": 2,
       "version_minor": 0
      },
      "text/plain": [
       "Validation: |          | 0/? [00:00<?, ?it/s]"
      ]
     },
     "metadata": {},
     "output_type": "display_data"
    },
    {
     "data": {
      "application/vnd.jupyter.widget-view+json": {
       "model_id": "784c2b4c815a4dfc94df5c681df1fcda",
       "version_major": 2,
       "version_minor": 0
      },
      "text/plain": [
       "Validation: |          | 0/? [00:00<?, ?it/s]"
      ]
     },
     "metadata": {},
     "output_type": "display_data"
    },
    {
     "data": {
      "application/vnd.jupyter.widget-view+json": {
       "model_id": "ff6772df21fd4d7e9688b969159da9be",
       "version_major": 2,
       "version_minor": 0
      },
      "text/plain": [
       "Validation: |          | 0/? [00:00<?, ?it/s]"
      ]
     },
     "metadata": {},
     "output_type": "display_data"
    },
    {
     "data": {
      "application/vnd.jupyter.widget-view+json": {
       "model_id": "516ed47ed5dd4c818406ca5f84f79f58",
       "version_major": 2,
       "version_minor": 0
      },
      "text/plain": [
       "Validation: |          | 0/? [00:00<?, ?it/s]"
      ]
     },
     "metadata": {},
     "output_type": "display_data"
    },
    {
     "data": {
      "application/vnd.jupyter.widget-view+json": {
       "model_id": "8f79ff53ae4144b799ffdcf8db05368e",
       "version_major": 2,
       "version_minor": 0
      },
      "text/plain": [
       "Validation: |          | 0/? [00:00<?, ?it/s]"
      ]
     },
     "metadata": {},
     "output_type": "display_data"
    },
    {
     "data": {
      "application/vnd.jupyter.widget-view+json": {
       "model_id": "a320cc06eb1648c195f252089b240528",
       "version_major": 2,
       "version_minor": 0
      },
      "text/plain": [
       "Validation: |          | 0/? [00:00<?, ?it/s]"
      ]
     },
     "metadata": {},
     "output_type": "display_data"
    },
    {
     "data": {
      "application/vnd.jupyter.widget-view+json": {
       "model_id": "778ef5cf080447979288e27dd666ad03",
       "version_major": 2,
       "version_minor": 0
      },
      "text/plain": [
       "Validation: |          | 0/? [00:00<?, ?it/s]"
      ]
     },
     "metadata": {},
     "output_type": "display_data"
    },
    {
     "data": {
      "application/vnd.jupyter.widget-view+json": {
       "model_id": "08479375bfc541b3872d83277b5d26a5",
       "version_major": 2,
       "version_minor": 0
      },
      "text/plain": [
       "Validation: |          | 0/? [00:00<?, ?it/s]"
      ]
     },
     "metadata": {},
     "output_type": "display_data"
    },
    {
     "data": {
      "application/vnd.jupyter.widget-view+json": {
       "model_id": "964b19b849c645e08917ecfef3848954",
       "version_major": 2,
       "version_minor": 0
      },
      "text/plain": [
       "Validation: |          | 0/? [00:00<?, ?it/s]"
      ]
     },
     "metadata": {},
     "output_type": "display_data"
    },
    {
     "data": {
      "application/vnd.jupyter.widget-view+json": {
       "model_id": "afa59a6fffde4ff99489bfa2b3e4ba56",
       "version_major": 2,
       "version_minor": 0
      },
      "text/plain": [
       "Validation: |          | 0/? [00:00<?, ?it/s]"
      ]
     },
     "metadata": {},
     "output_type": "display_data"
    },
    {
     "data": {
      "application/vnd.jupyter.widget-view+json": {
       "model_id": "0a49b3e4ab5f4efcbf34f326ca671a05",
       "version_major": 2,
       "version_minor": 0
      },
      "text/plain": [
       "Validation: |          | 0/? [00:00<?, ?it/s]"
      ]
     },
     "metadata": {},
     "output_type": "display_data"
    },
    {
     "data": {
      "application/vnd.jupyter.widget-view+json": {
       "model_id": "762300de8bed405d86c5c0c30e637b1a",
       "version_major": 2,
       "version_minor": 0
      },
      "text/plain": [
       "Validation: |          | 0/? [00:00<?, ?it/s]"
      ]
     },
     "metadata": {},
     "output_type": "display_data"
    },
    {
     "name": "stderr",
     "output_type": "stream",
     "text": [
      "100%|██████████| 1/1 [01:53<00:00, 113.86s/it]"
     ]
    },
    {
     "name": "stdout",
     "output_type": "stream",
     "text": [
      "Глобальная модель LSTM_Global_B обучена.\n"
     ]
    },
    {
     "name": "stderr",
     "output_type": "stream",
     "text": [
      "\n"
     ]
    }
   ],
   "source": [
    "models_LSTM = {\n",
    "    \"LSTM_Global_B\": RNNModel,\n",
    "}\n",
    "\n",
    "logs_base_dir = \"notebooks\\TS\\extra\\lightning_logs\"\n",
    "\n",
    "fitted_models_LSTM = {}\n",
    "loggers_LSTM = {}\n",
    "for name, ModelClass in tqdm(models_LSTM.items()):\n",
    "    print(f\"\\nОбучение глобальной модели {name}...\")\n",
    "    current_logger = CSVLogger(save_dir=logs_base_dir, name=name)\n",
    "    loggers_LSTM[name] = current_logger\n",
    "    model_specific_params = {}\n",
    "\n",
    "    if name == \"LSTM_Global_B\":\n",
    "        model_specific_params['model'] = 'LSTM'\n",
    "    \n",
    "    if name == \"GRU_Global_B\":\n",
    "        model_specific_params['model'] = 'GRU'\n",
    "\n",
    "    model_instance = ModelClass(\n",
    "        input_chunk_length=input_chunk_length,\n",
    "        training_length=input_chunk_length + output_chunk_length - 1,\n",
    "        n_epochs=n_epochs,\n",
    "        batch_size=batch_size,\n",
    "        random_state=random_state,\n",
    "        optimizer_cls= torch.optim.AdamW,\n",
    "        optimizer_kwargs={\"lr\": 3e-4},\n",
    "        pl_trainer_kwargs={**trainer_kwargs, 'logger': current_logger},\n",
    "        **model_specific_params\n",
    "    )\n",
    "    model_instance.fit(\n",
    "        series=train_series_scaled,\n",
    "        future_covariates=train_future_cov_scaled,\n",
    "        val_series= val_series_scaled,\n",
    "        val_future_covariates=val_future_cov_scaled\n",
    "    )\n",
    "    fitted_models_LSTM[name] = model_instance\n",
    "    print(f\"Глобальная модель {name} обучена.\")"
   ]
  },
  {
   "cell_type": "code",
   "execution_count": null,
   "id": "6d530755",
   "metadata": {},
   "outputs": [],
   "source": [
    "input_chunk_length = 30\n",
    "output_chunk_length = 7\n",
    "n_epochs = 100\n",
    "batch_size = 32\n",
    "random_state = 42\n",
    "\n",
    "early_stopping = EarlyStopping(\n",
    "    monitor='val_loss',\n",
    "    patience=3,\n",
    "    mode='min'\n",
    ")"
   ]
  },
  {
   "cell_type": "code",
   "execution_count": 81,
   "id": "39191e28",
   "metadata": {},
   "outputs": [
    {
     "name": "stdout",
     "output_type": "stream",
     "text": [
      "GPU доступен. Использование GPU для обучения.\n"
     ]
    }
   ],
   "source": [
    "if torch.cuda.is_available():\n",
    "    print(\"GPU доступен. Использование GPU для обучения.\")\n",
    "    trainer_kwargs={\n",
    "        'callbacks': [early_stopping],\n",
    "        'accelerator': 'gpu',  \n",
    "        'devices': -1,           \n",
    "        'enable_progress_bar': True,\n",
    "        'check_val_every_n_epoch': 1,\n",
    "    }\n",
    "elif torch.backends.mps.is_available(): # Проверка для Apple\n",
    "    print(\"MPS (Apple Silicon GPU) доступен. Использование MPS для обучения.\")\n",
    "    trainer_kwargs={\n",
    "        'callbacks': [early_stopping],\n",
    "        'accelerator': 'mps',\n",
    "        'devices': -1,           \n",
    "        'enable_progress_bar': True,\n",
    "        'check_val_every_n_epoch': 1,\n",
    "    }\n",
    "else:\n",
    "    print(\"GPU не доступен. Обучение будет проходить на CPU.\")\n",
    "    trainer_kwargs={\n",
    "        'callbacks': [early_stopping],\n",
    "        'accelerator': 'cpu',\n",
    "        'check_val_every_n_epoch': 1,\n",
    "    }"
   ]
  },
  {
   "cell_type": "code",
   "execution_count": null,
   "id": "b8d3cc19",
   "metadata": {},
   "outputs": [
    {
     "name": "stderr",
     "output_type": "stream",
     "text": [
      "GPU available: True (cuda), used: True\n",
      "TPU available: False, using: 0 TPU cores\n",
      "HPU available: False, using: 0 HPUs\n",
      "LOCAL_RANK: 0 - CUDA_VISIBLE_DEVICES: [0]\n",
      "\n",
      "  | Name            | Type             | Params | Mode \n",
      "-------------------------------------------------------------\n",
      "0 | criterion       | MSELoss          | 0      | train\n",
      "1 | train_criterion | MSELoss          | 0      | train\n",
      "2 | val_criterion   | MSELoss          | 0      | train\n",
      "3 | train_metrics   | MetricCollection | 0      | train\n",
      "4 | val_metrics     | MetricCollection | 0      | train\n",
      "5 | rnn             | GRU              | 2.3 K  | train\n",
      "6 | V               | Linear           | 26     | train\n",
      "-------------------------------------------------------------\n",
      "2.4 K     Trainable params\n",
      "0         Non-trainable params\n",
      "2.4 K     Total params\n",
      "0.009     Total estimated model params size (MB)\n",
      "7         Modules in train mode\n",
      "0         Modules in eval mode\n"
     ]
    },
    {
     "name": "stdout",
     "output_type": "stream",
     "text": [
      "\n",
      "Обучение глобальной модели GRU_Global_B...\n"
     ]
    },
    {
     "data": {
      "application/vnd.jupyter.widget-view+json": {
       "model_id": "017b334e50a34c2a87dee7bb473f1033",
       "version_major": 2,
       "version_minor": 0
      },
      "text/plain": [
       "Sanity Checking: |          | 0/? [00:00<?, ?it/s]"
      ]
     },
     "metadata": {},
     "output_type": "display_data"
    },
    {
     "data": {
      "application/vnd.jupyter.widget-view+json": {
       "model_id": "b9004a024cf14533a25323a8b4aba4df",
       "version_major": 2,
       "version_minor": 0
      },
      "text/plain": [
       "Training: |          | 0/? [00:00<?, ?it/s]"
      ]
     },
     "metadata": {},
     "output_type": "display_data"
    },
    {
     "data": {
      "application/vnd.jupyter.widget-view+json": {
       "model_id": "ab38561abe2c4b7c85238461841dcb3e",
       "version_major": 2,
       "version_minor": 0
      },
      "text/plain": [
       "Validation: |          | 0/? [00:00<?, ?it/s]"
      ]
     },
     "metadata": {},
     "output_type": "display_data"
    },
    {
     "data": {
      "application/vnd.jupyter.widget-view+json": {
       "model_id": "da8dee48067d4158be494bfb9922ac6b",
       "version_major": 2,
       "version_minor": 0
      },
      "text/plain": [
       "Validation: |          | 0/? [00:00<?, ?it/s]"
      ]
     },
     "metadata": {},
     "output_type": "display_data"
    },
    {
     "data": {
      "application/vnd.jupyter.widget-view+json": {
       "model_id": "0cfe12b481cf4e7fb2e211e2c3403b4a",
       "version_major": 2,
       "version_minor": 0
      },
      "text/plain": [
       "Validation: |          | 0/? [00:00<?, ?it/s]"
      ]
     },
     "metadata": {},
     "output_type": "display_data"
    },
    {
     "data": {
      "application/vnd.jupyter.widget-view+json": {
       "model_id": "d2e800e4004743b48b93b98f9b072843",
       "version_major": 2,
       "version_minor": 0
      },
      "text/plain": [
       "Validation: |          | 0/? [00:00<?, ?it/s]"
      ]
     },
     "metadata": {},
     "output_type": "display_data"
    },
    {
     "data": {
      "application/vnd.jupyter.widget-view+json": {
       "model_id": "dc07db778734427ca8797373c7647ac5",
       "version_major": 2,
       "version_minor": 0
      },
      "text/plain": [
       "Validation: |          | 0/? [00:00<?, ?it/s]"
      ]
     },
     "metadata": {},
     "output_type": "display_data"
    },
    {
     "data": {
      "application/vnd.jupyter.widget-view+json": {
       "model_id": "191856a298b44a9a9eb949c3d17ceb39",
       "version_major": 2,
       "version_minor": 0
      },
      "text/plain": [
       "Validation: |          | 0/? [00:00<?, ?it/s]"
      ]
     },
     "metadata": {},
     "output_type": "display_data"
    },
    {
     "data": {
      "application/vnd.jupyter.widget-view+json": {
       "model_id": "d8264fb775c94005aaf7eeebfbc4f48d",
       "version_major": 2,
       "version_minor": 0
      },
      "text/plain": [
       "Validation: |          | 0/? [00:00<?, ?it/s]"
      ]
     },
     "metadata": {},
     "output_type": "display_data"
    },
    {
     "data": {
      "application/vnd.jupyter.widget-view+json": {
       "model_id": "f0a32d590e53417b8b21fb234d5138a3",
       "version_major": 2,
       "version_minor": 0
      },
      "text/plain": [
       "Validation: |          | 0/? [00:00<?, ?it/s]"
      ]
     },
     "metadata": {},
     "output_type": "display_data"
    },
    {
     "data": {
      "application/vnd.jupyter.widget-view+json": {
       "model_id": "dfac268cbe7b48af93b99891b0eee2fe",
       "version_major": 2,
       "version_minor": 0
      },
      "text/plain": [
       "Validation: |          | 0/? [00:00<?, ?it/s]"
      ]
     },
     "metadata": {},
     "output_type": "display_data"
    },
    {
     "data": {
      "application/vnd.jupyter.widget-view+json": {
       "model_id": "4e11aaae1f3e4cd9a7c80a482aae1e9f",
       "version_major": 2,
       "version_minor": 0
      },
      "text/plain": [
       "Validation: |          | 0/? [00:00<?, ?it/s]"
      ]
     },
     "metadata": {},
     "output_type": "display_data"
    },
    {
     "data": {
      "application/vnd.jupyter.widget-view+json": {
       "model_id": "e116a4d434db4f7a9a5363d72d7d8db0",
       "version_major": 2,
       "version_minor": 0
      },
      "text/plain": [
       "Validation: |          | 0/? [00:00<?, ?it/s]"
      ]
     },
     "metadata": {},
     "output_type": "display_data"
    },
    {
     "data": {
      "application/vnd.jupyter.widget-view+json": {
       "model_id": "fcde986c2db44c37858ff959609f3c65",
       "version_major": 2,
       "version_minor": 0
      },
      "text/plain": [
       "Validation: |          | 0/? [00:00<?, ?it/s]"
      ]
     },
     "metadata": {},
     "output_type": "display_data"
    },
    {
     "data": {
      "application/vnd.jupyter.widget-view+json": {
       "model_id": "9e00535cdcc74c23b2fe2ed1535501ac",
       "version_major": 2,
       "version_minor": 0
      },
      "text/plain": [
       "Validation: |          | 0/? [00:00<?, ?it/s]"
      ]
     },
     "metadata": {},
     "output_type": "display_data"
    },
    {
     "data": {
      "application/vnd.jupyter.widget-view+json": {
       "model_id": "5123034af730469a9c185e7a7999349b",
       "version_major": 2,
       "version_minor": 0
      },
      "text/plain": [
       "Validation: |          | 0/? [00:00<?, ?it/s]"
      ]
     },
     "metadata": {},
     "output_type": "display_data"
    },
    {
     "name": "stderr",
     "output_type": "stream",
     "text": [
      "100%|██████████| 1/1 [01:53<00:00, 113.21s/it]"
     ]
    },
    {
     "name": "stdout",
     "output_type": "stream",
     "text": [
      "Глобальная модель GRU_Global_B обучена.\n"
     ]
    },
    {
     "name": "stderr",
     "output_type": "stream",
     "text": [
      "\n"
     ]
    }
   ],
   "source": [
    "models_GRU = {\n",
    "    \"GRU_Global_B\": RNNModel\n",
    "}\n",
    "\n",
    "logs_base_dir = \"notebooks\\TS\\extra\\lightning_logs\"\n",
    "\n",
    "fitted_models_GRU = {}\n",
    "loggers_GRU = {}\n",
    "for name, ModelClass in tqdm(models_GRU.items()):\n",
    "    print(f\"\\nОбучение глобальной модели {name}...\")\n",
    "    current_logger = CSVLogger(save_dir=logs_base_dir, name=name)\n",
    "    loggers_GRU[name] = current_logger\n",
    "    model_specific_params = {}\n",
    "\n",
    "    if name == \"LSTM_Global_B\":\n",
    "        model_specific_params['model'] = 'LSTM'\n",
    "    \n",
    "    if name == \"GRU_Global_B\":\n",
    "        model_specific_params['model'] = 'GRU'\n",
    "\n",
    "    model_instance = ModelClass(\n",
    "        input_chunk_length=input_chunk_length,\n",
    "        training_length=input_chunk_length + output_chunk_length - 1,\n",
    "        n_epochs=n_epochs,\n",
    "        batch_size=batch_size,\n",
    "        random_state=random_state,\n",
    "        optimizer_cls= torch.optim.AdamW,\n",
    "        optimizer_kwargs={\"lr\": 3e-4},\n",
    "        pl_trainer_kwargs={**trainer_kwargs, 'logger': current_logger},\n",
    "        **model_specific_params\n",
    "    )\n",
    "    model_instance.fit(\n",
    "        series=train_series_scaled,\n",
    "        future_covariates=train_future_cov_scaled,\n",
    "        val_series= val_series_scaled,\n",
    "        val_future_covariates=val_future_cov_scaled\n",
    "    )\n",
    "    fitted_models_GRU[name] = model_instance\n",
    "    print(f\"Глобальная модель {name} обучена.\")"
   ]
  },
  {
   "cell_type": "code",
   "execution_count": null,
   "id": "51317e96",
   "metadata": {},
   "outputs": [],
   "source": [
    "input_chunk_length = 30\n",
    "output_chunk_length = 7\n",
    "n_epochs = 100\n",
    "batch_size = 32\n",
    "random_state = 42\n",
    "\n",
    "early_stopping = EarlyStopping(\n",
    "    monitor='val_loss',\n",
    "    patience=3,\n",
    "    mode='min'\n",
    ")"
   ]
  },
  {
   "cell_type": "code",
   "execution_count": 84,
   "id": "157d3f31",
   "metadata": {},
   "outputs": [
    {
     "name": "stdout",
     "output_type": "stream",
     "text": [
      "GPU доступен. Использование GPU для обучения.\n"
     ]
    }
   ],
   "source": [
    "if torch.cuda.is_available():\n",
    "    print(\"GPU доступен. Использование GPU для обучения.\")\n",
    "    trainer_kwargs={\n",
    "        'callbacks': [early_stopping],\n",
    "        'accelerator': 'gpu',  \n",
    "        'devices': -1,           \n",
    "        'enable_progress_bar': True,\n",
    "        'check_val_every_n_epoch': 1,\n",
    "    }\n",
    "elif torch.backends.mps.is_available(): # Проверка для Apple\n",
    "    print(\"MPS (Apple Silicon GPU) доступен. Использование MPS для обучения.\")\n",
    "    trainer_kwargs={\n",
    "        'callbacks': [early_stopping],\n",
    "        'accelerator': 'mps',\n",
    "        'devices': -1,           \n",
    "        'enable_progress_bar': True,\n",
    "        'check_val_every_n_epoch': 1,\n",
    "    }\n",
    "else:\n",
    "    print(\"GPU не доступен. Обучение будет проходить на CPU.\")\n",
    "    trainer_kwargs={\n",
    "        'callbacks': [early_stopping],\n",
    "        'accelerator': 'cpu',\n",
    "        'check_val_every_n_epoch': 1,\n",
    "    }"
   ]
  },
  {
   "cell_type": "code",
   "execution_count": null,
   "id": "21f1ee2c",
   "metadata": {},
   "outputs": [
    {
     "name": "stderr",
     "output_type": "stream",
     "text": [
      "c:\\Users\\SUBRU\\VSCodeProjects\\project_1_new\\tasks_support_system_ai\\.venv\\Lib\\site-packages\\torch\\nn\\modules\\transformer.py:382: UserWarning: enable_nested_tensor is True, but self.use_nested_tensor is False because encoder_layer.self_attn.batch_first was not True(use batch_first for better inference performance)\n",
      "  warnings.warn(\n",
      "GPU available: True (cuda), used: True\n",
      "TPU available: False, using: 0 TPU cores\n",
      "HPU available: False, using: 0 HPUs\n",
      "LOCAL_RANK: 0 - CUDA_VISIBLE_DEVICES: [0]\n",
      "\n",
      "  | Name                | Type                | Params | Mode \n",
      "--------------------------------------------------------------------\n",
      "0 | criterion           | MSELoss             | 0      | train\n",
      "1 | train_criterion     | MSELoss             | 0      | train\n",
      "2 | val_criterion       | MSELoss             | 0      | train\n",
      "3 | train_metrics       | MetricCollection    | 0      | train\n",
      "4 | val_metrics         | MetricCollection    | 0      | train\n",
      "5 | encoder             | Linear              | 2.4 K  | train\n",
      "6 | positional_encoding | _PositionalEncoding | 0      | train\n",
      "7 | transformer         | Transformer         | 548 K  | train\n",
      "8 | decoder             | Linear              | 455    | train\n",
      "--------------------------------------------------------------------\n",
      "551 K     Trainable params\n",
      "0         Non-trainable params\n",
      "551 K     Total params\n",
      "2.206     Total estimated model params size (MB)\n",
      "88        Modules in train mode\n",
      "0         Modules in eval mode\n"
     ]
    },
    {
     "name": "stdout",
     "output_type": "stream",
     "text": [
      "\n",
      "Обучение глобальной модели Transformer_Global_A...\n"
     ]
    },
    {
     "data": {
      "application/vnd.jupyter.widget-view+json": {
       "model_id": "0ba9259416d747408592e499839fd59b",
       "version_major": 2,
       "version_minor": 0
      },
      "text/plain": [
       "Sanity Checking: |          | 0/? [00:00<?, ?it/s]"
      ]
     },
     "metadata": {},
     "output_type": "display_data"
    },
    {
     "data": {
      "application/vnd.jupyter.widget-view+json": {
       "model_id": "dd3046933479454db79369f827aea848",
       "version_major": 2,
       "version_minor": 0
      },
      "text/plain": [
       "Training: |          | 0/? [00:00<?, ?it/s]"
      ]
     },
     "metadata": {},
     "output_type": "display_data"
    },
    {
     "data": {
      "application/vnd.jupyter.widget-view+json": {
       "model_id": "dca415713e054ee3861ebde70f2bd061",
       "version_major": 2,
       "version_minor": 0
      },
      "text/plain": [
       "Validation: |          | 0/? [00:00<?, ?it/s]"
      ]
     },
     "metadata": {},
     "output_type": "display_data"
    },
    {
     "data": {
      "application/vnd.jupyter.widget-view+json": {
       "model_id": "94e14288d07c4375a1757de0db593576",
       "version_major": 2,
       "version_minor": 0
      },
      "text/plain": [
       "Validation: |          | 0/? [00:00<?, ?it/s]"
      ]
     },
     "metadata": {},
     "output_type": "display_data"
    },
    {
     "data": {
      "application/vnd.jupyter.widget-view+json": {
       "model_id": "62642eb1490e43e194b3378acbbf3f69",
       "version_major": 2,
       "version_minor": 0
      },
      "text/plain": [
       "Validation: |          | 0/? [00:00<?, ?it/s]"
      ]
     },
     "metadata": {},
     "output_type": "display_data"
    },
    {
     "data": {
      "application/vnd.jupyter.widget-view+json": {
       "model_id": "4577d9521f23468b9b7c108d145f62eb",
       "version_major": 2,
       "version_minor": 0
      },
      "text/plain": [
       "Validation: |          | 0/? [00:00<?, ?it/s]"
      ]
     },
     "metadata": {},
     "output_type": "display_data"
    },
    {
     "data": {
      "application/vnd.jupyter.widget-view+json": {
       "model_id": "343f80023e5549b29fba3683efd559aa",
       "version_major": 2,
       "version_minor": 0
      },
      "text/plain": [
       "Validation: |          | 0/? [00:00<?, ?it/s]"
      ]
     },
     "metadata": {},
     "output_type": "display_data"
    },
    {
     "data": {
      "application/vnd.jupyter.widget-view+json": {
       "model_id": "921e9ea432ab4fd09f7dcb0c900bc04b",
       "version_major": 2,
       "version_minor": 0
      },
      "text/plain": [
       "Validation: |          | 0/? [00:00<?, ?it/s]"
      ]
     },
     "metadata": {},
     "output_type": "display_data"
    },
    {
     "name": "stderr",
     "output_type": "stream",
     "text": [
      "100%|██████████| 1/1 [03:02<00:00, 182.37s/it]"
     ]
    },
    {
     "name": "stdout",
     "output_type": "stream",
     "text": [
      "Глобальная модель Transformer_Global_A обучена.\n"
     ]
    },
    {
     "name": "stderr",
     "output_type": "stream",
     "text": [
      "\n"
     ]
    }
   ],
   "source": [
    "models_Transformer = {\n",
    "    \"Transformer_Global_A\": TransformerModel,\n",
    "}\n",
    "\n",
    "logs_base_dir = \"notebooks\\TS\\extra\\lightning_logs\"\n",
    "\n",
    "fitted_models_transformer = {}\n",
    "loggers_transformer = {}\n",
    "for name, ModelClass in tqdm(models_Transformer.items()):\n",
    "    print(f\"\\nОбучение глобальной модели {name}...\")\n",
    "    current_logger = CSVLogger(save_dir=logs_base_dir, name=name)\n",
    "    loggers_transformer[name] = current_logger\n",
    "\n",
    "    model_instance = ModelClass(\n",
    "        input_chunk_length=input_chunk_length,\n",
    "        output_chunk_length=output_chunk_length,\n",
    "        n_epochs=n_epochs,\n",
    "        batch_size=batch_size,\n",
    "        random_state=random_state,\n",
    "        optimizer_cls= torch.optim.AdamW,\n",
    "        optimizer_kwargs={\"lr\": 3e-4},\n",
    "        pl_trainer_kwargs={**trainer_kwargs, 'logger': current_logger}, \n",
    "    )\n",
    "    model_instance.fit(\n",
    "        series=train_series_scaled,\n",
    "        past_covariates= train_past_cov_scaled,\n",
    "        val_series= val_series_scaled,\n",
    "        val_past_covariates= val_past_cov_scaled,\n",
    "    )\n",
    "    fitted_models_transformer[name] = model_instance\n",
    "    print(f\"Глобальная модель {name} обучена.\")"
   ]
  },
  {
   "cell_type": "markdown",
   "id": "107b4558",
   "metadata": {},
   "source": [
    "Строим график изменения Loss"
   ]
  },
  {
   "cell_type": "code",
   "execution_count": null,
   "id": "3fcaeb1f",
   "metadata": {},
   "outputs": [
    {
     "data": {
      "image/png": "[encoded data removed]",
      "text/plain": [
       "<Figure size 1500x1000 with 1 Axes>"
      ]
     },
     "metadata": {},
     "output_type": "display_data"
    }
   ],
   "source": [
    "import os\n",
    "\n",
    "logs_base_dir = \"notebooks\\TS\\extra\\lightning_logs\" \n",
    "\n",
    "model_names_A = list(fitted_models_A.keys()) if 'fitted_models_A' in locals() and fitted_models_A else []\n",
    "model_names_B = list(fitted_models_B.keys()) if 'fitted_models_B' in locals() and fitted_models_B else []\n",
    "\n",
    "model_names_LSTM = list(fitted_models_LSTM.keys()) if 'fitted_models_LSTM' in locals() and fitted_models_LSTM else []\n",
    "model_names_GRU = list(fitted_models_GRU.keys()) if 'fitted_models_GRU' in locals() and fitted_models_GRU else []\n",
    "model_names_Transformer = list(fitted_models_transformer.keys()) if 'fitted_models_transformer' in locals() and fitted_models_transformer else []\n",
    "\n",
    "all_model_names_with_logs = list(set(model_names_A + model_names_B + model_names_LSTM + model_names_GRU + model_names_Transformer))\n",
    "\n",
    "\n",
    "if not all_model_names_with_logs:\n",
    "    print(\"Не найдены имена моделей для построения графиков Loss.\")\n",
    "else:\n",
    "    plt.figure(figsize=(15, 10))\n",
    "\n",
    "    for model_name in all_model_names_with_logs:\n",
    "        model_log_path_base = os.path.join(logs_base_dir, model_name)\n",
    "    \n",
    "\n",
    "        versions = [d for d in os.listdir(model_log_path_base) if os.path.isdir(os.path.join(model_log_path_base, d)) and d.startswith('version_')]\n",
    "        \n",
    "        latest_version_dir = sorted(versions)[-1]\n",
    "        metrics_file_path = os.path.join(model_log_path_base, latest_version_dir, \"metrics.csv\")\n",
    "\n",
    "        if not os.path.exists(metrics_file_path):\n",
    "            print(f\"Warning: Файл metrics.csv не найден для модели {model_name} по пути: {metrics_file_path}\")\n",
    "            continue\n",
    "            \n",
    "        try:\n",
    "            metrics_df = pd.read_csv(metrics_file_path)\n",
    "            \n",
    "            metrics_df = metrics_df.dropna(subset=['epoch', 'step'], how='all') \n",
    "            metrics_df = metrics_df.dropna(subset=['val_loss'], how='any')\n",
    "\n",
    "            if 'epoch' in metrics_df.columns and 'val_loss' in metrics_df.columns:\n",
    "                plot_df = metrics_df.dropna(subset=['epoch', 'val_loss'])\n",
    "                if not plot_df.empty:\n",
    "                    plt.plot(\n",
    "                        plot_df['epoch'], \n",
    "                        plot_df['val_loss'], \n",
    "                        label=f'{model_name} - Val Loss', \n",
    "                        marker='.', \n",
    "                        linestyle='-'\n",
    "                        )\n",
    "                    if 'train_loss' in plot_df.columns:\n",
    "                         if not plot_df['train_loss'].isnull().all():\n",
    "                            plt.plot(\n",
    "                                plot_df['epoch'], \n",
    "                                plot_df['train_loss'], \n",
    "                                label=f'{model_name} - Train Loss (end of epoch)', \n",
    "                                marker='.', \n",
    "                                linestyle=':'\n",
    "                                )\n",
    "                else:\n",
    "                    print(f\"Нет данных для построения графика val_loss для {model_name}.\")\n",
    "\n",
    "            else:\n",
    "                print(f\"Колонки 'epoch' или 'val_loss' не найдены в metrics.csv для {model_name}.\")\n",
    "\n",
    "        except FileNotFoundError:\n",
    "            print(f\"Файл логов не найден для {model_name} по пути: {metrics_file_path}\")\n",
    "        except pd.errors.EmptyDataError:\n",
    "            print(f\"Файл metrics.csv для {model_name} пуст: {metrics_file_path}\")\n",
    "        except Exception as e:\n",
    "            print(f\"Ошибка при чтении или построении графика логов для {model_name}: {e}\")\n",
    "\n",
    "    plt.xlabel('Epoch')\n",
    "    plt.ylabel('Loss')\n",
    "    plt.title('Validation Loss Curves per Epoch')\n",
    "    plt.legend(\n",
    "        loc='best', \n",
    "        bbox_to_anchor=(1.05, 1), \n",
    "        borderaxespad=0.\n",
    "        )\n",
    "    plt.grid(True)\n",
    "    plt.tight_layout()\n",
    "    plt.show()"
   ]
  },
  {
   "cell_type": "markdown",
   "id": "156b8dff",
   "metadata": {},
   "source": [
    "Из графика видно, что лчше относительно других обучилась TiDE "
   ]
  },
  {
   "cell_type": "code",
   "execution_count": 164,
   "id": "11688192",
   "metadata": {},
   "outputs": [],
   "source": [
    "test_series_before = test_series_scaled[0].slice_n_points_before(n=30, end_ts=pd.Timestamp(\"2017-04-01 00:00:00\"))\n",
    "\n",
    "test_future_cov_scaled_before = test_future_cov_scaled[0].slice_n_points_before(n=60, end_ts=pd.Timestamp(\"2017-05-01 00:00:00\"))"
   ]
  },
  {
   "cell_type": "code",
   "execution_count": 172,
   "id": "13ac7c48",
   "metadata": {},
   "outputs": [],
   "source": [
    "test_series_after = test_series_scaled[0].slice_n_points_after(n=30, start_ts=pd.Timestamp(\"2017-04-01 00:00:00\"))\n",
    "\n",
    "test_past_cov_scaled_after = test_past_cov_scaled[0].slice_n_points_after(n=60, start_ts=pd.Timestamp(\"2017-03-03 00:00:00\"))"
   ]
  },
  {
   "cell_type": "markdown",
   "id": "ac235d19",
   "metadata": {},
   "source": [
    "Делаем прогнозы"
   ]
  },
  {
   "cell_type": "code",
   "execution_count": null,
   "id": "bd28cbb4",
   "metadata": {},
   "outputs": [
    {
     "name": "stderr",
     "output_type": "stream",
     "text": [
      "GPU available: True (cuda), used: True\n",
      "TPU available: False, using: 0 TPU cores\n",
      "HPU available: False, using: 0 HPUs\n",
      "LOCAL_RANK: 0 - CUDA_VISIBLE_DEVICES: [0]\n"
     ]
    },
    {
     "name": "stdout",
     "output_type": "stream",
     "text": [
      "Горизонт прогнозирования для каждой серии: 1 шагов.\n",
      "Прогнозирование с моделью LSTM_Global_B...\n"
     ]
    },
    {
     "data": {
      "application/vnd.jupyter.widget-view+json": {
       "model_id": "750300f7bc144747aa18f14b214bdc17",
       "version_major": 2,
       "version_minor": 0
      },
      "text/plain": [
       "Predicting: |          | 0/? [00:00<?, ?it/s]"
      ]
     },
     "metadata": {},
     "output_type": "display_data"
    },
    {
     "name": "stdout",
     "output_type": "stream",
     "text": [
      "Прогноз для LSTM_Global_B получен.\n",
      "Прогнозирование с моделью GRU_Global_B...\n"
     ]
    },
    {
     "name": "stderr",
     "output_type": "stream",
     "text": [
      "GPU available: True (cuda), used: True\n",
      "TPU available: False, using: 0 TPU cores\n",
      "HPU available: False, using: 0 HPUs\n",
      "LOCAL_RANK: 0 - CUDA_VISIBLE_DEVICES: [0]\n"
     ]
    },
    {
     "data": {
      "application/vnd.jupyter.widget-view+json": {
       "model_id": "123b1b26d5c1417581c2481c84148b99",
       "version_major": 2,
       "version_minor": 0
      },
      "text/plain": [
       "Predicting: |          | 0/? [00:00<?, ?it/s]"
      ]
     },
     "metadata": {},
     "output_type": "display_data"
    },
    {
     "name": "stderr",
     "output_type": "stream",
     "text": [
      "`predict()` was called with `n > output_chunk_length`: using auto-regression to forecast the values after `output_chunk_length` points. The model will access `(n - output_chunk_length)` future values of your `past_covariates` (relative to the first predicted time step). To hide this warning, set `show_warnings=False`.\n"
     ]
    },
    {
     "name": "stdout",
     "output_type": "stream",
     "text": [
      "Прогноз для GRU_Global_B получен.\n",
      "Прогнозирование с моделью Transformer_Global_A...\n"
     ]
    },
    {
     "name": "stderr",
     "output_type": "stream",
     "text": [
      "GPU available: True (cuda), used: True\n",
      "TPU available: False, using: 0 TPU cores\n",
      "HPU available: False, using: 0 HPUs\n",
      "LOCAL_RANK: 0 - CUDA_VISIBLE_DEVICES: [0]\n"
     ]
    },
    {
     "data": {
      "application/vnd.jupyter.widget-view+json": {
       "model_id": "864919dc1ff242d3bc9749729f3ea1b8",
       "version_major": 2,
       "version_minor": 0
      },
      "text/plain": [
       "Predicting: |          | 0/? [00:00<?, ?it/s]"
      ]
     },
     "metadata": {},
     "output_type": "display_data"
    },
    {
     "name": "stdout",
     "output_type": "stream",
     "text": [
      "Прогноз для Transformer_Global_A получен."
     ]
    },
    {
     "name": "stderr",
     "output_type": "stream",
     "text": [
      "`predict()` was called with `n > output_chunk_length`: using auto-regression to forecast the values after `output_chunk_length` points. The model will access `(n - output_chunk_length)` future values of your `past_covariates` (relative to the first predicted time step). To hide this warning, set `show_warnings=False`.\n",
      "GPU available: True (cuda), used: True\n",
      "TPU available: False, using: 0 TPU cores\n",
      "HPU available: False, using: 0 HPUs\n",
      "LOCAL_RANK: 0 - CUDA_VISIBLE_DEVICES: [0]\n"
     ]
    },
    {
     "name": "stdout",
     "output_type": "stream",
     "text": [
      "\n",
      "Прогнозирование с моделью TiDE_Global_B С ковариатами...\n"
     ]
    },
    {
     "data": {
      "application/vnd.jupyter.widget-view+json": {
       "model_id": "032f94e335104da88ab1622f9caefa96",
       "version_major": 2,
       "version_minor": 0
      },
      "text/plain": [
       "Predicting: |          | 0/? [00:00<?, ?it/s]"
      ]
     },
     "metadata": {},
     "output_type": "display_data"
    },
    {
     "name": "stdout",
     "output_type": "stream",
     "text": [
      "Прогноз для TiDE_Global_B С ковариатами получен.\n"
     ]
    }
   ],
   "source": [
    "if not test_series_scaled:\n",
    "    print(\"Список тестовых рядов (test_series_for_metrics) пуст. Прогнозирование невозможно.\")\n",
    "else:\n",
    "    forecast_horizon = len(test_series_before[0])\n",
    "    print(f\"Горизонт прогнозирования для каждой серии: {forecast_horizon} шагов.\")\n",
    "\n",
    "    \n",
    "    forecasts_LSTM_scaled = {}\n",
    "    forecasts_GRU_scaled = {}\n",
    "    forecasts_Transformer_scaled = {}\n",
    "\n",
    "    for name, model in fitted_models_LSTM.items():\n",
    "        print(f\"Прогнозирование с моделью {name}...\")\n",
    "        try:\n",
    "            forecasts_LSTM_scaled[name] = model.predict(\n",
    "                30,\n",
    "                series=test_series_before,\n",
    "                future_covariates=test_future_cov_scaled_before,\n",
    "            )\n",
    "            print(f\"Прогноз для {name} получен.\")\n",
    "        except Exception as e:\n",
    "            print(f\"Ошибка при прогнозировании с моделью {name}: {e}\")\n",
    "            forecasts_LSTM_scaled[name] = [None] * len(test_series_scaled)\n",
    "    \n",
    "    for name, model in fitted_models_GRU.items():\n",
    "        print(f\"Прогнозирование с моделью {name}...\")\n",
    "        try:\n",
    "            forecasts_GRU_scaled[name] = model.predict(\n",
    "                30,\n",
    "                series=test_series_before,\n",
    "                future_covariates=test_future_cov_scaled_before,\n",
    "            )\n",
    "            print(f\"Прогноз для {name} получен.\")\n",
    "        except Exception as e:\n",
    "            print(f\"Ошибка при прогнозировании с моделью {name}: {e}\")\n",
    "            forecasts_GRU_scaled[name] = [None] * len(test_series_scaled)\n",
    "\n",
    "    for name, model in fitted_models_transformer.items():\n",
    "        print(f\"Прогнозирование с моделью {name}...\")\n",
    "        try:\n",
    "            forecasts_Transformer_scaled[name] = model.predict(\n",
    "                30,\n",
    "                series=test_series_before,\n",
    "                past_covariates=test_past_cov_scaled_after,\n",
    "            )\n",
    "            print(f\"Прогноз для {name} получен.\")\n",
    "        except Exception as e:\n",
    "            print(f\"Ошибка при прогнозировании с моделью {name}: {e}\")\n",
    "            forecasts_Transformer_scaled[name] = [None] * len(test_series_scaled)\n",
    "\n",
    "    forecasts_B_scaled = {}\n",
    "    for name, model in fitted_models_B.items():\n",
    "        print(f\"Прогнозирование с моделью {name} С ковариатами...\")\n",
    "        try:\n",
    "            forecasts_B_scaled[name] = model.predict(\n",
    "                30,\n",
    "                series=test_series_before,\n",
    "                past_covariates=test_past_cov_scaled_after,\n",
    "                future_covariates=test_future_cov_scaled_before,\n",
    "            )\n",
    "            print(f\"Прогноз для {name} С ковариатами получен.\")\n",
    "        except Exception as e:\n",
    "            print(f\"Ошибка при прогнозировании с моделью {name} С ковариатами: {e}\")\n",
    "            forecasts_B_scaled[name] = [None] * len(test_series_scaled)"
   ]
  },
  {
   "cell_type": "markdown",
   "id": "865ce6e2",
   "metadata": {},
   "source": [
    "Оцениваем качество прогнозов"
   ]
  },
  {
   "cell_type": "code",
   "execution_count": null,
   "id": "701a7f01",
   "metadata": {},
   "outputs": [
    {
     "name": "stderr",
     "output_type": "stream",
     "text": [
      "Only 1 TimeSeries (lists) were provided which is lower than the number of series (n=14) used to fit Scaler. This can result in a mismatch between the series and the underlying transformers.\n",
      "Only 1 TimeSeries (lists) were provided which is lower than the number of series (n=14) used to fit Scaler. This can result in a mismatch between the series and the underlying transformers.\n",
      "Only 1 TimeSeries (lists) were provided which is lower than the number of series (n=14) used to fit Scaler. This can result in a mismatch between the series and the underlying transformers.\n",
      "Only 1 TimeSeries (lists) were provided which is lower than the number of series (n=14) used to fit Scaler. This can result in a mismatch between the series and the underlying transformers.\n",
      "Only 1 TimeSeries (lists) were provided which is lower than the number of series (n=14) used to fit Scaler. This can result in a mismatch between the series and the underlying transformers.\n"
     ]
    },
    {
     "name": "stdout",
     "output_type": "stream",
     "text": [
      "Истинные значения для оценки (длина 30) подготовлены.\n",
      "LSTM_Global_B - MAE: 243.95, RMSE: 276.47, MAPE: 121.14%\n",
      "GRU_Global_B - MAE: 588.50, RMSE: 646.19, MAPE: 334.41%\n",
      "Transformer_Global_A - MAE: 201.26, RMSE: 236.45, MAPE: 111.86%\n",
      "TiDE_Global_B - MAE: 189.34, RMSE: 216.53, MAPE: 104.00%\n",
      "                             MAE        RMSE        MAPE\n",
      "LSTM_Global_B         243.950933  276.472245  121.136052\n",
      "GRU_Global_B          588.497743  646.186410  334.405930\n",
      "Transformer_Global_A  201.264933  236.450209  111.862018\n",
      "TiDE_Global_B         189.344362  216.528726  104.004639\n"
     ]
    },
    {
     "data": {
      "image/png": "[encoded data removed]",
      "text/plain": [
       "<Figure size 1400x700 with 1 Axes>"
      ]
     },
     "metadata": {},
     "output_type": "display_data"
    }
   ],
   "source": [
    "# Истинные значения для оценки (немасштабированные)\n",
    "try:\n",
    "    if test_series_after is not None:\n",
    "        actual_series_to_evaluate = scaler_target.inverse_transform(test_series_after)\n",
    "        print(f\"Истинные значения для оценки (длина {len(actual_series_to_evaluate)}) подготовлены.\")\n",
    "    else:\n",
    "        print(\"Ошибка: test_series_after пуст или None. Оценка невозможна.\")\n",
    "        actual_series_to_evaluate = None\n",
    "except Exception as e:\n",
    "    print(f\"Ошибка при обратном масштабировании test_series_after: {e}\")\n",
    "    actual_series_to_evaluate = None\n",
    "\n",
    "\n",
    "# Прогнозы (немасштабированные)\n",
    "forecasts_LSTM_eval = {}\n",
    "for name, forecast_scaled in forecasts_LSTM_scaled.items():\n",
    "    if forecast_scaled is not None:\n",
    "        try:\n",
    "            forecasts_LSTM_eval[name] = scaler_target.inverse_transform(forecast_scaled)\n",
    "        except Exception as e:\n",
    "            print(f\"Ошибка при обратном масштабировании прогноза {name}: {e}\")\n",
    "            forecasts_LSTM_eval[name] = None\n",
    "    else:\n",
    "        forecasts_LSTM_eval[name] = None\n",
    "\n",
    "\n",
    "forecasts_GRU_eval = {}\n",
    "for name, forecast_scaled in forecasts_GRU_scaled.items():\n",
    "    if forecast_scaled is not None:\n",
    "        try:\n",
    "            forecasts_GRU_eval[name] = scaler_target.inverse_transform(forecast_scaled)\n",
    "        except Exception as e:\n",
    "            print(f\"Ошибка при обратном масштабировании прогноза {name}: {e}\")\n",
    "            forecasts_GRU_eval[name] = None\n",
    "    else:\n",
    "        forecasts_GRU_eval[name] = None\n",
    "\n",
    "forecasts_Transformer_eval = {}\n",
    "for name, forecast_scaled in forecasts_Transformer_scaled.items():\n",
    "    if forecast_scaled is not None:\n",
    "        try:\n",
    "            forecasts_Transformer_eval[name] = scaler_target.inverse_transform(forecast_scaled)\n",
    "        except Exception as e:\n",
    "            print(f\"Ошибка при обратном масштабировании прогноза {name}: {e}\")\n",
    "            forecasts_Transformer_eval[name] = None\n",
    "    else:\n",
    "        forecasts_Transformer_eval[name] = None\n",
    "        \n",
    "forecasts_B_eval = {}\n",
    "for name, forecast_scaled in forecasts_B_scaled.items():\n",
    "    if forecast_scaled is not None:\n",
    "        try:\n",
    "            forecasts_B_eval[name] = scaler_target.inverse_transform(forecast_scaled)\n",
    "        except Exception as e:\n",
    "            print(f\"Ошибка при обратном масштабировании прогноза {name}: {e}\")\n",
    "            forecasts_B_eval[name] = None\n",
    "    else:\n",
    "        forecasts_B_eval[name] = None\n",
    "\n",
    "# Объединяем все прогнозы в один словарь для удобства оценки\n",
    "all_forecasts_eval = {\n",
    "    **forecasts_LSTM_eval,\n",
    "    **forecasts_GRU_eval,\n",
    "    **forecasts_Transformer_eval,\n",
    "    **forecasts_B_eval\n",
    "}\n",
    "\n",
    "results_first_series = {}\n",
    "\n",
    "if actual_series_to_evaluate is None:\n",
    "    print(\"Истинные значения для оценки отсутствуют. Расчет метрик невозможен.\")\n",
    "else:\n",
    "    for model_name, forecast_series in all_forecasts_eval.items():\n",
    "        if forecast_series is None:\n",
    "            print(f\"Прогноз для модели {model_name} отсутствует или пуст. Пропускаем оценку.\")\n",
    "            results_first_series[model_name] = {\"MAE\": float('nan'), \"RMSE\": float('nan'), \"MAPE\": float('nan')}\n",
    "            continue\n",
    "        \n",
    "        try:\n",
    "            current_mae = mae(actual_series_to_evaluate, forecast_series)\n",
    "            current_rmse = rmse(actual_series_to_evaluate, forecast_series)\n",
    "            current_mape = mape(actual_series_to_evaluate, forecast_series)\n",
    "            \n",
    "            results_first_series[model_name] = {\n",
    "                \"MAE\": current_mae,\n",
    "                \"RMSE\": current_rmse,\n",
    "                \"MAPE\": current_mape\n",
    "            }\n",
    "            print(f\"{model_name} - MAE: {current_mae:.2f}, RMSE: {current_rmse:.2f}, MAPE: {current_mape:.2f}%\")\n",
    "            \n",
    "        except Exception as e:\n",
    "            print(f\"Ошибка при расчете метрики для модели {model_name}: {e}\")\n",
    "            results_first_series[model_name] = {\"MAE\": float('nan'), \"RMSE\": float('nan'), \"MAPE\": float('nan')}\n",
    "\n",
    "if results_first_series:\n",
    "    results_df_first_series = pd.DataFrame.from_dict(results_first_series, orient='index')\n",
    "    print(results_df_first_series)\n",
    "else:\n",
    "    print(\"Словарь результатов для первой серии пуст.\")\n",
    "\n",
    "if actual_series_to_evaluate:\n",
    "    plt.figure(figsize=(14, 7))\n",
    "    \n",
    "    actual_series_to_evaluate.plot(label='Actual Test (30 days)', color='red')\n",
    "\n",
    "    for model_name, forecast_series in all_forecasts_eval.items():\n",
    "        if forecast_series is not None and not forecast_series:\n",
    "            forecast_to_plot = forecast_series\n",
    "            forecast_to_plot.plot(label=f'{model_name} Forecast (30 days)', linestyle='--')\n",
    "    \n",
    "    plt.title('Прогноз на 30 дней (первая тестовая серия)')\n",
    "    plt.legend()\n",
    "    plt.grid(True)\n",
    "    plt.show()\n",
    "else:\n",
    "    print(\"Не могу построить график: actual_series_to_evaluate отсутствует.\")"
   ]
  },
  {
   "cell_type": "markdown",
   "id": "762a3c0f",
   "metadata": {},
   "source": [
    "Модели продемонстрировали низкое качество. Попробуем добавить/изменить архитектуру, подобрать гиперпараметры"
   ]
  }
 ],
 "metadata": {
  "kernelspec": {
   "display_name": ".venv",
   "language": "python",
   "name": "python3"
  },
  "language_info": {
   "codemirror_mode": {
    "name": "ipython",
    "version": 3
   },
   "file_extension": ".py",
   "mimetype": "text/x-python",
   "name": "python",
   "nbconvert_exporter": "python",
   "pygments_lexer": "ipython3",
   "version": "3.12.7"
  }
 },
 "nbformat": 4,
 "nbformat_minor": 5
}
