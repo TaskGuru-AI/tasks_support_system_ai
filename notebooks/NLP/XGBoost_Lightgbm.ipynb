{
  "cells": [
    {
      "cell_type": "code",
      "execution_count": 151,
      "id": "4cfa9519-809a-4d05-9f13-9db6f53fbf7d",
      "metadata": {
        "id": "4cfa9519-809a-4d05-9f13-9db6f53fbf7d"
      },
      "outputs": [],
      "source": [
        "#!pip install catboost -q\n",
        "#!pip install optuna -q\n",
        "\n",
        "import pandas as pd\n",
        "import numpy as np\n",
        "import sklearn\n",
        "import ast\n",
        "import re\n",
        "import xgboost as xgb\n",
        "from sklearn.model_selection import train_test_split, GridSearchCV\n",
        "import lightgbm as lgb\n",
        "from sklearn.model_selection import RandomizedSearchCV, cross_val_score\n",
        "import matplotlib.pyplot as plt\n",
        "import seaborn as sns\n",
        "import pickle\n",
        "import matplotlib.gridspec as gridspec\n",
        "import matplotlib.pyplot as plt\n",
        "import numpy as np\n",
        "import pandas as pd\n",
        "from sklearn.model_selection import cross_validate, train_test_split\n",
        "import time\n",
        "from sklearn.metrics import classification_report, roc_auc_score\n",
        "import warnings\n",
        "\n",
        "sklearn.set_config(transform_output=\"pandas\")\n",
        "warnings.filterwarnings('ignore')"
      ]
    },
    {
      "cell_type": "code",
      "execution_count": 104,
      "id": "15f4cffc-69bb-4df8-9e0c-417fab5cf7a2",
      "metadata": {
        "id": "15f4cffc-69bb-4df8-9e0c-417fab5cf7a2"
      },
      "outputs": [],
      "source": [
        "df = pd.read_csv('nlp_tickets_train.csv', sep=';')\n",
        "dt = pd.read_csv('nlp_tickets_test.csv', sep=';')\n",
        "X_train, y_train = df[\"vector\"], df[\"cluster\"]\n",
        "X_test, y_test = dt[\"vector\"], dt[\"cluster\"]"
      ]
    },
    {
      "cell_type": "code",
      "source": [
        "def vector_transform(data) -> np.ndarray:\n",
        "    data = data.apply(ast.literal_eval)\n",
        "    return np.vstack(data)\n",
        "\n",
        "X_train = vector_transform(X_train)\n",
        "X_test = vector_transform(X_test)"
      ],
      "metadata": {
        "id": "ujV0eBIT3rD6"
      },
      "id": "ujV0eBIT3rD6",
      "execution_count": 106,
      "outputs": []
    },
    {
      "cell_type": "markdown",
      "id": "00575173-21a6-49ff-b9ad-a6dd729cb6cd",
      "metadata": {
        "id": "00575173-21a6-49ff-b9ad-a6dd729cb6cd"
      },
      "source": [
        "### Xgboost"
      ]
    },
    {
      "cell_type": "code",
      "execution_count": 110,
      "id": "6fbe6f4e-303a-4bda-aec9-9fe6c5e043ff",
      "metadata": {
        "colab": {
          "base_uri": "https://localhost:8080/"
        },
        "id": "6fbe6f4e-303a-4bda-aec9-9fe6c5e043ff",
        "outputId": "75a6794f-7fa9-4657-b8d9-9c3f94855860"
      },
      "outputs": [
        {
          "output_type": "stream",
          "name": "stdout",
          "text": [
            "XGBoost roc_auc 0.971614870462636\n"
          ]
        }
      ],
      "source": [
        "import xgboost as xgb\n",
        "\n",
        "yd_train = y_train - 1\n",
        "yd_test = y_test - 1\n",
        "\n",
        "params = {\n",
        "    'objective': 'multi:softprob',\n",
        "    'num_class': len(np.unique(yd_train)),\n",
        "    'max_depth': 6,\n",
        "    'learning_rate': 0.1,\n",
        "    'eval_metric': \"mlogloss\" ,\n",
        "    'random_seed': 42,\n",
        "    'num_boost_round': 1000,\n",
        "    'verbose_eval': 100\n",
        "    }\n",
        "\n",
        "dtrain = xgb.DMatrix(X_train, label=yd_train)\n",
        "dtest = xgb.DMatrix(X_test, label=yd_test)\n",
        "\n",
        "model = xgb.train(params, dtrain)\n",
        "y_pred_proba = model.predict(dtest)\n",
        "\n",
        "y_pred = np.argmax(y_pred_proba, axis=1)\n",
        "\n",
        "\n",
        "roc_auc = roc_auc_score(yd_test, y_pred_proba, multi_class=\"ovr\")\n",
        "\n",
        "print(f'XGBoost roc_auc {roc_auc}')"
      ]
    },
    {
      "cell_type": "code",
      "execution_count": 92,
      "id": "e8def9dd-a185-43d5-a5b0-deb4f03d20f7",
      "metadata": {
        "colab": {
          "base_uri": "https://localhost:8080/"
        },
        "id": "e8def9dd-a185-43d5-a5b0-deb4f03d20f7",
        "outputId": "041efae7-e4bd-485b-d304-b8f66e0c4810"
      },
      "outputs": [
        {
          "output_type": "stream",
          "name": "stdout",
          "text": [
            "\n",
            "Отчет о классификации:\n",
            "               precision    recall  f1-score   support\n",
            "\n",
            "           0       0.98      0.97      0.98      3066\n",
            "           1       0.72      0.49      0.58       133\n",
            "           2       0.76      0.63      0.69       310\n",
            "           3       0.73      0.84      0.78      1473\n",
            "           4       0.73      0.70      0.71       362\n",
            "           5       0.93      0.90      0.91       524\n",
            "           6       0.87      0.73      0.79       255\n",
            "           7       0.73      0.69      0.71       251\n",
            "           8       0.90      0.87      0.88       897\n",
            "           9       0.46      0.42      0.44       283\n",
            "\n",
            "    accuracy                           0.86      7554\n",
            "   macro avg       0.78      0.72      0.75      7554\n",
            "weighted avg       0.86      0.86      0.86      7554\n",
            "\n"
          ]
        }
      ],
      "source": [
        "print(\"\\nОтчет о классификации:\\n\", classification_report(yd_test, y_pred))"
      ]
    },
    {
      "cell_type": "markdown",
      "id": "2636ce5e-fa86-47ac-a683-a38617eeb5db",
      "metadata": {
        "id": "2636ce5e-fa86-47ac-a683-a38617eeb5db"
      },
      "source": [
        "### Optuna + xgboost"
      ]
    },
    {
      "cell_type": "code",
      "execution_count": 111,
      "id": "a1b44010-19e3-4bea-8629-cf7ef2a84c8c",
      "metadata": {
        "colab": {
          "base_uri": "https://localhost:8080/"
        },
        "id": "a1b44010-19e3-4bea-8629-cf7ef2a84c8c",
        "outputId": "a93551f5-7c14-4322-bfcf-b5c384fdfab6"
      },
      "outputs": [
        {
          "output_type": "stream",
          "name": "stderr",
          "text": [
            "[I 2025-03-14 10:15:52,869] A new study created in memory with name: no-name-3be257ce-d20b-4d55-b6fc-73898e41eb61\n",
            "[I 2025-03-14 10:16:19,945] Trial 0 finished with value: 0.9732796340119734 and parameters: {'learning_rate': 0.014238394391252926, 'max_depth': 4, 'subsample': 0.7098628614175935, 'colsample_bytree': 0.9669561315802901, 'n_estimators': 622, 'gamma': 7.804062040569442e-05, 'reg_alpha': 0.000570630573744654, 'reg_lambda': 0.06913576231446755}. Best is trial 0 with value: 0.9732796340119734.\n",
            "[I 2025-03-14 10:16:59,706] Trial 1 finished with value: 0.9730456393393616 and parameters: {'learning_rate': 0.012417218917014142, 'max_depth': 5, 'subsample': 0.7345540302395357, 'colsample_bytree': 0.9553019174138307, 'n_estimators': 741, 'gamma': 4.096595618745277e-05, 'reg_alpha': 0.0005528450154653273, 'reg_lambda': 0.000172775286530944}. Best is trial 0 with value: 0.9732796340119734.\n",
            "[I 2025-03-14 10:17:47,154] Trial 2 finished with value: 0.9721370895880991 and parameters: {'learning_rate': 0.016850985623354003, 'max_depth': 8, 'subsample': 0.8962140286842861, 'colsample_bytree': 0.674468370943277, 'n_estimators': 1097, 'gamma': 0.006276016613947771, 'reg_alpha': 0.0016354236556268978, 'reg_lambda': 0.9234156269393268}. Best is trial 0 with value: 0.9732796340119734.\n",
            "[I 2025-03-14 10:18:23,842] Trial 3 finished with value: 0.9737600069851137 and parameters: {'learning_rate': 0.01523375769193447, 'max_depth': 6, 'subsample': 0.7030502026379305, 'colsample_bytree': 0.6890706525499227, 'n_estimators': 1238, 'gamma': 0.07843116682291351, 'reg_alpha': 2.023177112402317e-05, 'reg_lambda': 5.205331905717177e-05}. Best is trial 3 with value: 0.9737600069851137.\n",
            "[I 2025-03-14 10:19:09,536] Trial 4 finished with value: 0.9726069162893909 and parameters: {'learning_rate': 0.01001145195807999, 'max_depth': 10, 'subsample': 0.8461035432609605, 'colsample_bytree': 0.6426866088509767, 'n_estimators': 1108, 'gamma': 0.1791403350564185, 'reg_alpha': 0.004445811393504314, 'reg_lambda': 0.0044561541668334615}. Best is trial 3 with value: 0.9737600069851137.\n",
            "[I 2025-03-14 10:19:20,155] Trial 5 finished with value: 0.9701191605922748 and parameters: {'learning_rate': 0.07673123924090122, 'max_depth': 4, 'subsample': 0.5009162480626264, 'colsample_bytree': 0.6157512134703117, 'n_estimators': 548, 'gamma': 0.012964989159346955, 'reg_alpha': 0.037124111952208716, 'reg_lambda': 0.384787412368195}. Best is trial 3 with value: 0.9737600069851137.\n",
            "[I 2025-03-14 10:19:59,434] Trial 6 finished with value: 0.9740398693855414 and parameters: {'learning_rate': 0.0146050885351563, 'max_depth': 9, 'subsample': 0.8564646870272621, 'colsample_bytree': 0.7695939339901934, 'n_estimators': 608, 'gamma': 0.0001583340752371673, 'reg_alpha': 0.04318800501290772, 'reg_lambda': 0.06808361434087933}. Best is trial 6 with value: 0.9740398693855414.\n",
            "[I 2025-03-14 10:20:12,846] Trial 7 finished with value: 0.9709371090946842 and parameters: {'learning_rate': 0.15011205507824396, 'max_depth': 9, 'subsample': 0.5921081764878986, 'colsample_bytree': 0.6096046608600261, 'n_estimators': 1440, 'gamma': 0.032766132979190996, 'reg_alpha': 0.00028845048444332545, 'reg_lambda': 6.513059959783894e-05}. Best is trial 6 with value: 0.9740398693855414.\n",
            "[I 2025-03-14 10:20:43,495] Trial 8 finished with value: 0.9728408573988112 and parameters: {'learning_rate': 0.02821595124866047, 'max_depth': 7, 'subsample': 0.7882671368287247, 'colsample_bytree': 0.8260507452634026, 'n_estimators': 1063, 'gamma': 0.003920109807987163, 'reg_alpha': 0.00028568334497677236, 'reg_lambda': 9.13401370492096e-05}. Best is trial 6 with value: 0.9740398693855414.\n",
            "[I 2025-03-14 10:21:08,983] Trial 9 finished with value: 0.971147964541372 and parameters: {'learning_rate': 0.038533941765674165, 'max_depth': 5, 'subsample': 0.5422006633243959, 'colsample_bytree': 0.8398761847812126, 'n_estimators': 1996, 'gamma': 0.7400141613058364, 'reg_alpha': 0.13266764278213775, 'reg_lambda': 0.0017320626866103043}. Best is trial 6 with value: 0.9740398693855414.\n",
            "[I 2025-03-14 10:21:29,583] Trial 10 finished with value: 0.9707077593595956 and parameters: {'learning_rate': 0.075741627895171, 'max_depth': 10, 'subsample': 0.9784949431577705, 'colsample_bytree': 0.5091639603357057, 'n_estimators': 1602, 'gamma': 0.0005002780429028669, 'reg_alpha': 0.5734344258432215, 'reg_lambda': 0.02892331249038511}. Best is trial 6 with value: 0.9740398693855414.\n",
            "[I 2025-03-14 10:21:58,896] Trial 11 finished with value: 0.9741773866173353 and parameters: {'learning_rate': 0.02440550143040263, 'max_depth': 7, 'subsample': 0.654591707913144, 'colsample_bytree': 0.7584940414627704, 'n_estimators': 895, 'gamma': 0.0005826272005405767, 'reg_alpha': 1.0287779298466717e-05, 'reg_lambda': 0.0010386135440166148}. Best is trial 11 with value: 0.9741773866173353.\n",
            "[I 2025-03-14 10:22:28,492] Trial 12 finished with value: 0.9744426705007628 and parameters: {'learning_rate': 0.02630122613225775, 'max_depth': 8, 'subsample': 0.6365724868580257, 'colsample_bytree': 0.7677219312972877, 'n_estimators': 852, 'gamma': 0.0005421262607180491, 'reg_alpha': 3.222420062941692e-05, 'reg_lambda': 0.0011160493915350282}. Best is trial 12 with value: 0.9744426705007628.\n",
            "[I 2025-03-14 10:22:56,252] Trial 13 finished with value: 0.972917421003622 and parameters: {'learning_rate': 0.029358403377271833, 'max_depth': 7, 'subsample': 0.6376869503212765, 'colsample_bytree': 0.8619727163865063, 'n_estimators': 879, 'gamma': 0.0015841264959796345, 'reg_alpha': 1.4605969576022034e-05, 'reg_lambda': 0.0008300785334345933}. Best is trial 12 with value: 0.9744426705007628.\n",
            "[I 2025-03-14 10:23:16,299] Trial 14 finished with value: 0.9739019618038561 and parameters: {'learning_rate': 0.047765660445794805, 'max_depth': 8, 'subsample': 0.6332608763858212, 'colsample_bytree': 0.7571450416934499, 'n_estimators': 874, 'gamma': 1.70753443358448e-05, 'reg_alpha': 5.532429299686208e-05, 'reg_lambda': 0.00044330987218895964}. Best is trial 12 with value: 0.9744426705007628.\n",
            "[I 2025-03-14 10:23:25,307] Trial 15 finished with value: 0.969262948336141 and parameters: {'learning_rate': 0.28014209799600726, 'max_depth': 8, 'subsample': 0.6555123617003082, 'colsample_bytree': 0.722125342673259, 'n_estimators': 883, 'gamma': 0.0004616140250714313, 'reg_alpha': 6.056505325375048e-05, 'reg_lambda': 0.006112966796237868}. Best is trial 12 with value: 0.9744426705007628.\n",
            "[I 2025-03-14 10:24:02,523] Trial 16 finished with value: 0.9731957938488163 and parameters: {'learning_rate': 0.024530355901325813, 'max_depth': 6, 'subsample': 0.5729509577916791, 'colsample_bytree': 0.8812645704545928, 'n_estimators': 1466, 'gamma': 0.0009533839097191236, 'reg_alpha': 1.0299150814963446e-05, 'reg_lambda': 1.04682147789911e-05}. Best is trial 12 with value: 0.9744426705007628.\n",
            "[I 2025-03-14 10:24:34,199] Trial 17 finished with value: 0.9729363903239021 and parameters: {'learning_rate': 0.020444639176062068, 'max_depth': 6, 'subsample': 0.7805821325131252, 'colsample_bytree': 0.7928704562507846, 'n_estimators': 797, 'gamma': 0.00018791062187308534, 'reg_alpha': 6.567033410183965e-05, 'reg_lambda': 0.011432181484206085}. Best is trial 12 with value: 0.9744426705007628.\n",
            "[I 2025-03-14 10:24:54,092] Trial 18 finished with value: 0.9729865837748413 and parameters: {'learning_rate': 0.0639362170487776, 'max_depth': 9, 'subsample': 0.67126536103654, 'colsample_bytree': 0.8948726621459343, 'n_estimators': 1016, 'gamma': 0.002037029058257099, 'reg_alpha': 0.005082036988316664, 'reg_lambda': 0.000456453412180523}. Best is trial 12 with value: 0.9744426705007628.\n",
            "[I 2025-03-14 10:25:09,114] Trial 19 finished with value: 0.9723085216743703 and parameters: {'learning_rate': 0.10971025962590474, 'max_depth': 7, 'subsample': 0.6040216325538941, 'colsample_bytree': 0.7253624659816522, 'n_estimators': 1263, 'gamma': 0.0002547632965137027, 'reg_alpha': 0.00010130155314206683, 'reg_lambda': 0.001180880416647852}. Best is trial 12 with value: 0.9744426705007628.\n",
            "[I 2025-03-14 10:25:34,066] Trial 20 finished with value: 0.9732521355357925 and parameters: {'learning_rate': 0.04304903973402722, 'max_depth': 8, 'subsample': 0.5198869650746725, 'colsample_bytree': 0.5569150841180609, 'n_estimators': 1754, 'gamma': 1.118190475083087e-05, 'reg_alpha': 2.0849203620133927e-05, 'reg_lambda': 0.01415946886275583}. Best is trial 12 with value: 0.9744426705007628.\n",
            "[I 2025-03-14 10:26:04,522] Trial 21 finished with value: 0.9731138608662873 and parameters: {'learning_rate': 0.021129430640463905, 'max_depth': 9, 'subsample': 0.8734686752070997, 'colsample_bytree': 0.7871378626339832, 'n_estimators': 512, 'gamma': 0.00010287895987444437, 'reg_alpha': 0.016095353096142358, 'reg_lambda': 0.0876442774056818}. Best is trial 12 with value: 0.9744426705007628.\n",
            "[I 2025-03-14 10:26:30,494] Trial 22 finished with value: 0.9704638687061055 and parameters: {'learning_rate': 0.034053634486040256, 'max_depth': 9, 'subsample': 0.9497973549381742, 'colsample_bytree': 0.7821901798172801, 'n_estimators': 701, 'gamma': 4.434663630975506e-05, 'reg_alpha': 0.0713136960440113, 'reg_lambda': 0.0025135096044747673}. Best is trial 12 with value: 0.9744426705007628.\n",
            "[I 2025-03-14 10:27:01,885] Trial 23 finished with value: 0.9716828921154239 and parameters: {'learning_rate': 0.023235353699729754, 'max_depth': 8, 'subsample': 0.8213135527081338, 'colsample_bytree': 0.7316062086772139, 'n_estimators': 659, 'gamma': 0.0005919824531127253, 'reg_alpha': 0.2810070415723113, 'reg_lambda': 0.08354879804782335}. Best is trial 12 with value: 0.9744426705007628.\n",
            "[I 2025-03-14 10:27:58,496] Trial 24 finished with value: 0.9735667973632761 and parameters: {'learning_rate': 0.011084475495436527, 'max_depth': 10, 'subsample': 0.7534889261722659, 'colsample_bytree': 0.7956409237742831, 'n_estimators': 930, 'gamma': 0.00015749731378486695, 'reg_alpha': 0.01600068955440619, 'reg_lambda': 0.0002168360002200524}. Best is trial 12 with value: 0.9744426705007628.\n",
            "[I 2025-03-14 10:28:35,748] Trial 25 finished with value: 0.974009394859579 and parameters: {'learning_rate': 0.01923406116992606, 'max_depth': 7, 'subsample': 0.6880521363036143, 'colsample_bytree': 0.9093854585358034, 'n_estimators': 783, 'gamma': 0.009688381383577678, 'reg_alpha': 0.0016523186495934156, 'reg_lambda': 0.2826107872279473}. Best is trial 12 with value: 0.9744426705007628.\n",
            "[I 2025-03-14 10:29:08,612] Trial 26 finished with value: 0.9724484444995006 and parameters: {'learning_rate': 0.03282409982010803, 'max_depth': 9, 'subsample': 0.923392559097936, 'colsample_bytree': 0.8291485329873179, 'n_estimators': 1204, 'gamma': 0.0012075732522906178, 'reg_alpha': 0.014194006903382088, 'reg_lambda': 0.02452398531331077}. Best is trial 12 with value: 0.9744426705007628.\n",
            "[I 2025-03-14 10:29:41,949] Trial 27 finished with value: 0.9736237741125692 and parameters: {'learning_rate': 0.01612767830446919, 'max_depth': 7, 'subsample': 0.8137446464446519, 'colsample_bytree': 0.689608151555142, 'n_estimators': 634, 'gamma': 0.0003141243715803936, 'reg_alpha': 0.00014715749739595266, 'reg_lambda': 0.007912719377181401}. Best is trial 12 with value: 0.9744426705007628.\n",
            "[I 2025-03-14 10:30:02,124] Trial 28 finished with value: 0.9725295857877573 and parameters: {'learning_rate': 0.05375978312744337, 'max_depth': 8, 'subsample': 0.740269051946066, 'colsample_bytree': 0.7662816317328027, 'n_estimators': 966, 'gamma': 4.031496553362025e-05, 'reg_alpha': 3.716091544031164e-05, 'reg_lambda': 0.0036673476820818823}. Best is trial 12 with value: 0.9744426705007628.\n",
            "[I 2025-03-14 10:30:47,013] Trial 29 finished with value: 0.9738570487538821 and parameters: {'learning_rate': 0.013926834892838899, 'max_depth': 9, 'subsample': 0.6180542491863013, 'colsample_bytree': 0.9904567498227423, 'n_estimators': 601, 'gamma': 8.56026545919062e-05, 'reg_alpha': 0.001393070596866188, 'reg_lambda': 0.000840624078538086}. Best is trial 12 with value: 0.9744426705007628.\n",
            "[I 2025-03-14 10:31:21,938] Trial 30 finished with value: 0.972405141284106 and parameters: {'learning_rate': 0.025491094165312533, 'max_depth': 6, 'subsample': 0.58121679118738, 'colsample_bytree': 0.944506371897567, 'n_estimators': 787, 'gamma': 0.002442233904984229, 'reg_alpha': 0.6677338178947775, 'reg_lambda': 1.9353048390128563e-05}. Best is trial 12 with value: 0.9744426705007628.\n",
            "[I 2025-03-14 10:31:59,284] Trial 31 finished with value: 0.9743376559646535 and parameters: {'learning_rate': 0.018345703416585386, 'max_depth': 7, 'subsample': 0.6913925783329304, 'colsample_bytree': 0.894951808903761, 'n_estimators': 787, 'gamma': 0.007494791366145361, 'reg_alpha': 0.0018001323815990677, 'reg_lambda': 0.18203173561094252}. Best is trial 12 with value: 0.9744426705007628.\n",
            "[I 2025-03-14 10:32:43,777] Trial 32 finished with value: 0.9732110884794978 and parameters: {'learning_rate': 0.01204044074975204, 'max_depth': 7, 'subsample': 0.7161253826726685, 'colsample_bytree': 0.8149463948516449, 'n_estimators': 726, 'gamma': 0.032014983054106536, 'reg_alpha': 0.0005312853576240772, 'reg_lambda': 0.14344363773752292}. Best is trial 12 with value: 0.9744426705007628.\n",
            "[I 2025-03-14 10:33:21,880] Trial 33 finished with value: 0.9743765507910416 and parameters: {'learning_rate': 0.016942460481439103, 'max_depth': 8, 'subsample': 0.6644930344908601, 'colsample_bytree': 0.9309788247048962, 'n_estimators': 627, 'gamma': 0.004452049152296464, 'reg_alpha': 2.9429361590550432e-05, 'reg_lambda': 0.030397553438242735}. Best is trial 12 with value: 0.9744426705007628.\n",
            "[I 2025-03-14 10:34:04,061] Trial 34 finished with value: 0.9744135453855952 and parameters: {'learning_rate': 0.01906746924376781, 'max_depth': 8, 'subsample': 0.6737827750440272, 'colsample_bytree': 0.9321950641964484, 'n_estimators': 827, 'gamma': 0.0050598898715627375, 'reg_alpha': 3.1332722634325416e-05, 'reg_lambda': 0.7292627982257797}. Best is trial 12 with value: 0.9744426705007628.\n",
            "[I 2025-03-14 10:34:54,382] Trial 35 finished with value: 0.9743222714262831 and parameters: {'learning_rate': 0.01807945739802021, 'max_depth': 8, 'subsample': 0.6799368712567622, 'colsample_bytree': 0.9427820146019344, 'n_estimators': 1157, 'gamma': 0.004304395357756569, 'reg_alpha': 3.3901585367956194e-05, 'reg_lambda': 0.6134260483040076}. Best is trial 12 with value: 0.9744426705007628.\n",
            "[I 2025-03-14 10:35:43,488] Trial 36 finished with value: 0.9735433798826818 and parameters: {'learning_rate': 0.014820605020626147, 'max_depth': 8, 'subsample': 0.7114638214539615, 'colsample_bytree': 0.9216621877795307, 'n_estimators': 806, 'gamma': 0.021051969235998638, 'reg_alpha': 0.00011506290360093249, 'reg_lambda': 0.8687513214269539}. Best is trial 12 with value: 0.9744426705007628.\n",
            "[I 2025-03-14 10:36:09,433] Trial 37 finished with value: 0.9731558359429485 and parameters: {'learning_rate': 0.0178698210404199, 'max_depth': 5, 'subsample': 0.5543585690643849, 'colsample_bytree': 0.9810776381794082, 'n_estimators': 500, 'gamma': 0.007607216003681193, 'reg_alpha': 0.00030452155629106007, 'reg_lambda': 0.2094939496693085}. Best is trial 12 with value: 0.9744426705007628.\n",
            "[I 2025-03-14 10:37:11,945] Trial 38 finished with value: 0.9738949330980852 and parameters: {'learning_rate': 0.01065996687894962, 'max_depth': 8, 'subsample': 0.7666604808684041, 'colsample_bytree': 0.9595625269453332, 'n_estimators': 1008, 'gamma': 0.013811153039721462, 'reg_alpha': 2.5155315227147322e-05, 'reg_lambda': 0.03836105459196671}. Best is trial 12 with value: 0.9744426705007628.\n",
            "[I 2025-03-14 10:38:02,684] Trial 39 finished with value: 0.9747475775961008 and parameters: {'learning_rate': 0.013839438293301354, 'max_depth': 7, 'subsample': 0.7000079378576259, 'colsample_bytree': 0.8690556604536873, 'n_estimators': 1292, 'gamma': 0.08192981009850758, 'reg_alpha': 0.0005572177818439023, 'reg_lambda': 0.44182409910719056}. Best is trial 39 with value: 0.9747475775961008.\n",
            "[I 2025-03-14 10:38:53,094] Trial 40 finished with value: 0.9724208279465965 and parameters: {'learning_rate': 0.01202936732830764, 'max_depth': 6, 'subsample': 0.7330966901598919, 'colsample_bytree': 0.8703366504760196, 'n_estimators': 1496, 'gamma': 0.21546256927943772, 'reg_alpha': 0.00018604284161598912, 'reg_lambda': 0.5322432360487843}. Best is trial 39 with value: 0.9747475775961008.\n",
            "[I 2025-03-14 10:39:42,783] Trial 41 finished with value: 0.9739869703102574 and parameters: {'learning_rate': 0.01369604152638876, 'max_depth': 7, 'subsample': 0.6984597304355561, 'colsample_bytree': 0.9156975885234108, 'n_estimators': 1285, 'gamma': 0.10391189871239295, 'reg_alpha': 0.0009398655542823746, 'reg_lambda': 0.15665423200106118}. Best is trial 39 with value: 0.9747475775961008.\n",
            "[I 2025-03-14 10:40:27,331] Trial 42 finished with value: 0.9736429840210976 and parameters: {'learning_rate': 0.016932757260579537, 'max_depth': 7, 'subsample': 0.6622110429677945, 'colsample_bytree': 0.8483995006807808, 'n_estimators': 1360, 'gamma': 0.05237343703634536, 'reg_alpha': 0.002999045079309107, 'reg_lambda': 0.32572920911437164}. Best is trial 39 with value: 0.9747475775961008.\n",
            "[I 2025-03-14 10:41:15,108] Trial 43 finished with value: 0.9737087390142879 and parameters: {'learning_rate': 0.021332621848024386, 'max_depth': 8, 'subsample': 0.7227507888243513, 'colsample_bytree': 0.9983022479902804, 'n_estimators': 1058, 'gamma': 0.00555374060164461, 'reg_alpha': 0.0005913585117645337, 'reg_lambda': 0.8905370300703765}. Best is trial 39 with value: 0.9747475775961008.\n",
            "[I 2025-03-14 10:41:54,821] Trial 44 finished with value: 0.9726102072700135 and parameters: {'learning_rate': 0.010201259866803524, 'max_depth': 8, 'subsample': 0.6122359709699722, 'colsample_bytree': 0.9308821270360661, 'n_estimators': 1124, 'gamma': 0.7005346892987717, 'reg_alpha': 0.007972388852882949, 'reg_lambda': 0.060045192471980015}. Best is trial 39 with value: 0.9747475775961008.\n",
            "[I 2025-03-14 10:42:18,544] Trial 45 finished with value: 0.9734121945078409 and parameters: {'learning_rate': 0.014118986397250408, 'max_depth': 4, 'subsample': 0.6323752013365864, 'colsample_bytree': 0.8916889450607639, 'n_estimators': 574, 'gamma': 0.002869547512797504, 'reg_alpha': 3.600082643012642e-05, 'reg_lambda': 0.45617874936418695}. Best is trial 39 with value: 0.9747475775961008.\n",
            "[I 2025-03-14 10:42:43,443] Trial 46 finished with value: 0.9733762362323628 and parameters: {'learning_rate': 0.028868001372445534, 'max_depth': 6, 'subsample': 0.6950356145548204, 'colsample_bytree': 0.8523215107816793, 'n_estimators': 698, 'gamma': 0.017059330258653436, 'reg_alpha': 0.002682865762890281, 'reg_lambda': 0.11172461616421771}. Best is trial 39 with value: 0.9747475775961008.\n",
            "[I 2025-03-14 10:43:09,779] Trial 47 finished with value: 0.9735379460468969 and parameters: {'learning_rate': 0.03537224503666412, 'max_depth': 7, 'subsample': 0.6493259974462902, 'colsample_bytree': 0.9678114109425049, 'n_estimators': 1358, 'gamma': 0.2268826355784721, 'reg_alpha': 8.374392794022535e-05, 'reg_lambda': 0.24664634270195376}. Best is trial 39 with value: 0.9747475775961008.\n",
            "[I 2025-03-14 10:43:50,727] Trial 48 finished with value: 0.9738094262653343 and parameters: {'learning_rate': 0.016038335894034767, 'max_depth': 8, 'subsample': 0.673722842525762, 'colsample_bytree': 0.8985739851771575, 'n_estimators': 814, 'gamma': 0.0010804428923726465, 'reg_alpha': 0.00022009280383275965, 'reg_lambda': 0.054609051186276424}. Best is trial 39 with value: 0.9747475775961008.\n",
            "[I 2025-03-14 10:44:18,693] Trial 49 finished with value: 0.9739019475884307 and parameters: {'learning_rate': 0.027008919965881527, 'max_depth': 7, 'subsample': 0.6311374062716074, 'colsample_bytree': 0.8783351420098707, 'n_estimators': 856, 'gamma': 0.028758117960174013, 'reg_alpha': 0.00044604631700969813, 'reg_lambda': 0.02426572896218715}. Best is trial 39 with value: 0.9747475775961008.\n"
          ]
        },
        {
          "output_type": "stream",
          "name": "stdout",
          "text": [
            "best_params {'learning_rate': 0.013839438293301354, 'max_depth': 7, 'subsample': 0.7000079378576259, 'colsample_bytree': 0.8690556604536873, 'n_estimators': 1292, 'gamma': 0.08192981009850758, 'reg_alpha': 0.0005572177818439023, 'reg_lambda': 0.44182409910719056}\n"
          ]
        }
      ],
      "source": [
        "import optuna\n",
        "\n",
        "def objective(trial):\n",
        "\n",
        "    params = {\n",
        "        \"objective\": \"multi:softprob\",\n",
        "        \"eval_metric\": \"mlogloss\",\n",
        "        \"num_class\": len(np.unique(y_train)),\n",
        "        \"learning_rate\": trial.suggest_loguniform(\"learning_rate\", 0.01, 0.3),\n",
        "        \"max_depth\": trial.suggest_int(\"max_depth\", 4, 10),\n",
        "        \"subsample\": trial.suggest_uniform(\"subsample\", 0.5, 1.0),\n",
        "        \"colsample_bytree\": trial.suggest_uniform(\"colsample_bytree\", 0.5, 1.0),\n",
        "        \"n_estimators\": trial.suggest_int(\"n_estimators\", 500, 2000),\n",
        "        \"gamma\": trial.suggest_loguniform(\"gamma\", 1e-5, 1),\n",
        "        \"reg_alpha\": trial.suggest_loguniform(\"reg_alpha\", 1e-5, 1),\n",
        "        \"reg_lambda\": trial.suggest_loguniform(\"reg_lambda\", 1e-5, 1),\n",
        "        \"random_state\": 42\n",
        "    }\n",
        "\n",
        "    model = xgb.XGBClassifier(**params)\n",
        "    model.fit(Xtrain, ytrain, eval_set=[(Xval, yval)], verbose=False)\n",
        "\n",
        "    y_pred_proba = model.predict_proba(Xval)\n",
        "    return roc_auc_score(yval, y_pred_proba, multi_class=\"ovr\")\n",
        "\n",
        "Xtrain, Xval, ytrain, yval = train_test_split(X_train, yd_train, test_size=0.2, random_state=42)\n",
        "\n",
        "study = optuna.create_study(direction=\"maximize\")\n",
        "study.optimize(objective, n_trials=50)\n",
        "best_params = study.best_params\n",
        "print('best_params', best_params)"
      ]
    },
    {
      "cell_type": "code",
      "source": [
        "best_params.update({\n",
        "    \"objective\": \"multi:softprob\",\n",
        "    \"eval_metric\": \"mlogloss\",\n",
        "    \"num_class\": len(np.unique(y_train))\n",
        "})"
      ],
      "metadata": {
        "id": "5mcgTvQ6cozl"
      },
      "id": "5mcgTvQ6cozl",
      "execution_count": 122,
      "outputs": []
    },
    {
      "cell_type": "code",
      "execution_count": 123,
      "id": "4873a725-794f-4f7f-9334-3ebed3b33fdc",
      "metadata": {
        "colab": {
          "base_uri": "https://localhost:8080/"
        },
        "id": "4873a725-794f-4f7f-9334-3ebed3b33fdc",
        "outputId": "ae9bb10e-0685-4913-ba7c-9e81977496b0"
      },
      "outputs": [
        {
          "output_type": "stream",
          "name": "stdout",
          "text": [
            "XGBoost roc_auc 0.9682486853623807\n"
          ]
        }
      ],
      "source": [
        "model = xgb.train(\n",
        "    params=best_params,\n",
        "    dtrain=dtrain\n",
        ")\n",
        "\n",
        "y_pred_proba = model.predict(dtest)\n",
        "\n",
        "y_pred = np.argmax(y_pred_proba, axis=1)\n",
        "\n",
        "\n",
        "roc_auc = roc_auc_score(yd_test, y_pred_proba, multi_class=\"ovr\")\n",
        "\n",
        "print(f'XGBoost roc_auc {roc_auc}')"
      ]
    },
    {
      "cell_type": "code",
      "execution_count": 124,
      "id": "f294b174-9e4c-4c09-afdf-9d5e6f3f28fc",
      "metadata": {
        "colab": {
          "base_uri": "https://localhost:8080/"
        },
        "id": "f294b174-9e4c-4c09-afdf-9d5e6f3f28fc",
        "outputId": "3aac46e2-375a-4e9d-f71d-ce4d667ec205"
      },
      "outputs": [
        {
          "output_type": "stream",
          "name": "stdout",
          "text": [
            "\n",
            "Отчет о классификации:\n",
            "               precision    recall  f1-score   support\n",
            "\n",
            "           0       0.98      0.98      0.98      3066\n",
            "           1       0.71      0.44      0.55       133\n",
            "           2       0.81      0.62      0.70       310\n",
            "           3       0.74      0.87      0.80      1473\n",
            "           4       0.75      0.72      0.73       362\n",
            "           5       0.91      0.90      0.91       524\n",
            "           6       0.81      0.70      0.75       255\n",
            "           7       0.83      0.73      0.78       251\n",
            "           8       0.89      0.88      0.89       897\n",
            "           9       0.52      0.42      0.46       283\n",
            "\n",
            "    accuracy                           0.86      7554\n",
            "   macro avg       0.79      0.73      0.75      7554\n",
            "weighted avg       0.86      0.86      0.86      7554\n",
            "\n"
          ]
        }
      ],
      "source": [
        "print(\"\\nОтчет о классификации:\\n\", classification_report(yd_test, y_pred))"
      ]
    },
    {
      "cell_type": "markdown",
      "source": [
        "### Lightgbm"
      ],
      "metadata": {
        "id": "YLe8EmBYlN4-"
      },
      "id": "YLe8EmBYlN4-"
    },
    {
      "cell_type": "code",
      "source": [
        "import lightgbm as lgb\n",
        "\n",
        "train_lgb = lgb.Dataset(X_train, label=yd_train)\n",
        "test_lgb = lgb.Dataset(X_test, label=yd_test, reference=train_lgb)\n",
        "\n",
        "params = {\n",
        "    \"objective\": \"multiclass\",\n",
        "    \"metric\": \"multi_logloss\",\n",
        "    \"num_class\": len(np.unique(y_train)),\n",
        "    \"learning_rate\": 0.05,\n",
        "    \"max_depth\": 6,\n",
        "    \"num_leaves\": 64,\n",
        "    \"subsample\": 0.7,\n",
        "    \"colsample_bytree\": 0.8,\n",
        "    \"n_estimators\": 1000,\n",
        "    \"verbose\": -1\n",
        "}\n",
        "\n",
        "model = lgb.train(params, train_lgb, num_boost_round=1000, valid_sets=[test_lgb])\n",
        "y_pred_proba = model.predict(X_test)\n",
        "\n",
        "y_pred = np.argmax(y_pred_proba, axis=1)\n",
        "roc_auc = roc_auc_score(y_test, y_pred_proba, multi_class=\"ovr\")\n",
        "\n",
        "print(f'LightGBM roc_auc {roc_auc}')\n"
      ],
      "metadata": {
        "colab": {
          "base_uri": "https://localhost:8080/"
        },
        "id": "MdVLL-sTlLgC",
        "outputId": "836f987f-8f58-4d75-e8b6-10c3932a6097"
      },
      "id": "MdVLL-sTlLgC",
      "execution_count": 147,
      "outputs": [
        {
          "output_type": "stream",
          "name": "stdout",
          "text": [
            "LightGBM roc_auc 0.9818035359569475\n"
          ]
        }
      ]
    },
    {
      "cell_type": "code",
      "source": [
        "print(\"\\nОтчет о классификации:\\n\", classification_report(yd_test, y_pred))"
      ],
      "metadata": {
        "colab": {
          "base_uri": "https://localhost:8080/"
        },
        "id": "l0r-DvOjyJ9J",
        "outputId": "166bf32f-fd07-4fb7-e710-a3947f56ab8e"
      },
      "id": "l0r-DvOjyJ9J",
      "execution_count": 148,
      "outputs": [
        {
          "output_type": "stream",
          "name": "stdout",
          "text": [
            "\n",
            "Отчет о классификации:\n",
            "               precision    recall  f1-score   support\n",
            "\n",
            "           0       0.97      0.98      0.98      3066\n",
            "           1       0.67      0.59      0.63       133\n",
            "           2       0.78      0.68      0.73       310\n",
            "           3       0.77      0.85      0.81      1473\n",
            "           4       0.77      0.73      0.75       362\n",
            "           5       0.93      0.92      0.92       524\n",
            "           6       0.81      0.80      0.81       255\n",
            "           7       0.85      0.75      0.79       251\n",
            "           8       0.90      0.89      0.90       897\n",
            "           9       0.55      0.46      0.50       283\n",
            "\n",
            "    accuracy                           0.87      7554\n",
            "   macro avg       0.80      0.76      0.78      7554\n",
            "weighted avg       0.87      0.87      0.87      7554\n",
            "\n"
          ]
        }
      ]
    },
    {
      "cell_type": "code",
      "source": [
        "Xtrain, Xval, ytrain, yval = train_test_split(X_train, yd_train, test_size=0.2, random_state=42)\n",
        "\n",
        "def objective(trial):\n",
        "    params = {\n",
        "        \"objective\": \"multiclass\",\n",
        "        \"metric\": \"multi_logloss\",\n",
        "        \"num_class\": len(np.unique(ytrain)),\n",
        "        \"learning_rate\": trial.suggest_loguniform(\"learning_rate\", 0.01, 0.3),\n",
        "        \"max_depth\": trial.suggest_int(\"max_depth\", 4, 10),\n",
        "        \"num_leaves\": trial.suggest_int(\"num_leaves\", 16, 128),\n",
        "        \"subsample\": trial.suggest_uniform(\"subsample\", 0.5, 1.0),\n",
        "        \"colsample_bytree\": trial.suggest_uniform(\"colsample_bytree\", 0.5, 1.0),\n",
        "        \"n_estimators\": trial.suggest_int(\"n_estimators\", 500, 2000),\n",
        "        \"min_data_in_leaf\": trial.suggest_int(\"min_data_in_leaf\", 5, 50),\n",
        "        \"min_gain_to_split\": trial.suggest_loguniform(\"min_gain_to_split\", 1e-5, 1),\n",
        "        \"reg_alpha\": trial.suggest_loguniform(\"reg_alpha\", 1e-5, 1),\n",
        "        \"reg_lambda\": trial.suggest_loguniform(\"reg_lambda\", 1e-5, 1),\n",
        "        \"feature_fraction\": trial.suggest_uniform(\"feature_fraction\", 0.5, 1.0),\n",
        "        \"bagging_fraction\": trial.suggest_uniform(\"bagging_fraction\", 0.5, 1.0),\n",
        "        \"bagging_freq\": trial.suggest_int(\"bagging_freq\", 1, 10),\n",
        "        \"verbose\": -1,\n",
        "        \"random_state\": 42\n",
        "    }\n",
        "\n",
        "    model = lgb.LGBMClassifier(**params)\n",
        "    model.fit(Xtrain, ytrain, eval_set=[(Xval, yval)], eval_metric=\"multi_logloss\")\n",
        "\n",
        "    y_pred_proba = model.predict_proba(Xval)\n",
        "    return roc_auc_score(yval, y_pred_proba, multi_class=\"ovr\")\n",
        "\n",
        "study = optuna.create_study(direction=\"maximize\")\n",
        "study.optimize(objective, n_trials=50)\n",
        "\n",
        "best_params = study.best_params\n",
        "print(\"Лучшие параметры:\", best_params)"
      ],
      "metadata": {
        "colab": {
          "base_uri": "https://localhost:8080/"
        },
        "id": "yJLOUy8fnjDr",
        "outputId": "138524bb-e290-4259-93af-83037c1269ca"
      },
      "id": "yJLOUy8fnjDr",
      "execution_count": 143,
      "outputs": [
        {
          "output_type": "stream",
          "name": "stderr",
          "text": [
            "[I 2025-03-14 12:29:06,411] A new study created in memory with name: no-name-8354df08-0ca2-463d-90f7-2a1974d91ac0\n",
            "[I 2025-03-14 12:29:35,705] Trial 0 finished with value: 0.9704236297607292 and parameters: {'learning_rate': 0.18280316778462588, 'max_depth': 4, 'num_leaves': 102, 'subsample': 0.738101338366429, 'colsample_bytree': 0.8550853112705568, 'n_estimators': 1194, 'min_data_in_leaf': 34, 'min_gain_to_split': 0.00010698949447368086, 'reg_alpha': 0.00016855930762693706, 'reg_lambda': 0.7770180697412187, 'feature_fraction': 0.9027797017288843, 'bagging_fraction': 0.5905272071453982, 'bagging_freq': 5}. Best is trial 0 with value: 0.9704236297607292.\n",
            "[I 2025-03-14 12:29:54,834] Trial 1 finished with value: 0.9741385376434298 and parameters: {'learning_rate': 0.034854403051285655, 'max_depth': 8, 'num_leaves': 119, 'subsample': 0.7292480170077216, 'colsample_bytree': 0.7741305628236206, 'n_estimators': 967, 'min_data_in_leaf': 5, 'min_gain_to_split': 1.23054149946957e-05, 'reg_alpha': 0.0036233950658910528, 'reg_lambda': 5.98407058907168e-05, 'feature_fraction': 0.5009326145402171, 'bagging_fraction': 0.7462141371598383, 'bagging_freq': 2}. Best is trial 1 with value: 0.9741385376434298.\n",
            "[I 2025-03-14 12:30:09,251] Trial 2 finished with value: 0.9761629385843846 and parameters: {'learning_rate': 0.056280364562601694, 'max_depth': 6, 'num_leaves': 35, 'subsample': 0.6245650558651259, 'colsample_bytree': 0.9653220192704053, 'n_estimators': 1637, 'min_data_in_leaf': 10, 'min_gain_to_split': 0.0015190511264268302, 'reg_alpha': 6.933035136285578e-05, 'reg_lambda': 0.00030248973857440955, 'feature_fraction': 0.5376635130546592, 'bagging_fraction': 0.9574075140874807, 'bagging_freq': 2}. Best is trial 2 with value: 0.9761629385843846.\n",
            "[I 2025-03-14 12:30:33,519] Trial 3 finished with value: 0.9727592520823249 and parameters: {'learning_rate': 0.011945438899971857, 'max_depth': 6, 'num_leaves': 73, 'subsample': 0.512733351010892, 'colsample_bytree': 0.8812699703574001, 'n_estimators': 753, 'min_data_in_leaf': 41, 'min_gain_to_split': 0.0655307503652077, 'reg_alpha': 0.020812800713440147, 'reg_lambda': 0.00015900680455236682, 'feature_fraction': 0.8214620335222488, 'bagging_fraction': 0.6365750565864969, 'bagging_freq': 10}. Best is trial 2 with value: 0.9761629385843846.\n",
            "[I 2025-03-14 12:30:52,752] Trial 4 finished with value: 0.9663527810550464 and parameters: {'learning_rate': 0.2037970936776055, 'max_depth': 5, 'num_leaves': 35, 'subsample': 0.6859334992743815, 'colsample_bytree': 0.6622270033280445, 'n_estimators': 1799, 'min_data_in_leaf': 13, 'min_gain_to_split': 0.07060628829077886, 'reg_alpha': 0.00030222205763265895, 'reg_lambda': 0.00018750499323651255, 'feature_fraction': 0.7471708392208454, 'bagging_fraction': 0.9017306007898186, 'bagging_freq': 5}. Best is trial 2 with value: 0.9761629385843846.\n",
            "[I 2025-03-14 12:31:11,957] Trial 5 finished with value: 0.9700517919422958 and parameters: {'learning_rate': 0.088977631526476, 'max_depth': 4, 'num_leaves': 33, 'subsample': 0.6974012294747232, 'colsample_bytree': 0.9471275242075532, 'n_estimators': 1669, 'min_data_in_leaf': 33, 'min_gain_to_split': 0.00806819440176809, 'reg_alpha': 0.0013609376005619305, 'reg_lambda': 0.0039130134194622305, 'feature_fraction': 0.6121058944784161, 'bagging_fraction': 0.6660338261468051, 'bagging_freq': 4}. Best is trial 2 with value: 0.9761629385843846.\n",
            "[I 2025-03-14 12:31:29,564] Trial 6 finished with value: 0.9736631889352724 and parameters: {'learning_rate': 0.03256448703835141, 'max_depth': 4, 'num_leaves': 115, 'subsample': 0.7231497223864878, 'colsample_bytree': 0.6461624115168465, 'n_estimators': 1160, 'min_data_in_leaf': 36, 'min_gain_to_split': 0.12629890058411786, 'reg_alpha': 0.023920528242527463, 'reg_lambda': 0.03454981880462538, 'feature_fraction': 0.909731900691321, 'bagging_fraction': 0.5616759093681261, 'bagging_freq': 2}. Best is trial 2 with value: 0.9761629385843846.\n",
            "[I 2025-03-14 12:32:13,739] Trial 7 finished with value: 0.973941439628414 and parameters: {'learning_rate': 0.010701237425097598, 'max_depth': 7, 'num_leaves': 75, 'subsample': 0.5376687856945734, 'colsample_bytree': 0.5599256763494509, 'n_estimators': 1990, 'min_data_in_leaf': 36, 'min_gain_to_split': 0.027329771156305912, 'reg_alpha': 0.0027851402235366755, 'reg_lambda': 0.0009124413744656378, 'feature_fraction': 0.9640148167130105, 'bagging_fraction': 0.5123819757919306, 'bagging_freq': 7}. Best is trial 2 with value: 0.9761629385843846.\n",
            "[I 2025-03-14 12:32:36,028] Trial 8 finished with value: 0.9731639499511964 and parameters: {'learning_rate': 0.13023135436361608, 'max_depth': 10, 'num_leaves': 46, 'subsample': 0.9876878245748741, 'colsample_bytree': 0.7551881389577333, 'n_estimators': 1157, 'min_data_in_leaf': 30, 'min_gain_to_split': 1.696175396543695e-05, 'reg_alpha': 0.0010991663168837596, 'reg_lambda': 0.11804299857300944, 'feature_fraction': 0.8218278804264191, 'bagging_fraction': 0.8744737785344354, 'bagging_freq': 7}. Best is trial 2 with value: 0.9761629385843846.\n",
            "[I 2025-03-14 12:32:50,330] Trial 9 finished with value: 0.9695692758340139 and parameters: {'learning_rate': 0.11666986359024865, 'max_depth': 9, 'num_leaves': 94, 'subsample': 0.8208381863399261, 'colsample_bytree': 0.5067122893889904, 'n_estimators': 1163, 'min_data_in_leaf': 5, 'min_gain_to_split': 0.0024195537785944277, 'reg_alpha': 0.3984959428728597, 'reg_lambda': 0.08630322711901774, 'feature_fraction': 0.8864245214974074, 'bagging_fraction': 0.53280473283007, 'bagging_freq': 6}. Best is trial 2 with value: 0.9761629385843846.\n",
            "[I 2025-03-14 12:33:02,967] Trial 10 finished with value: 0.9658928068490772 and parameters: {'learning_rate': 0.05323502883767971, 'max_depth': 6, 'num_leaves': 50, 'subsample': 0.6051385183130189, 'colsample_bytree': 0.9710601413540622, 'n_estimators': 1534, 'min_data_in_leaf': 19, 'min_gain_to_split': 0.9063106695537144, 'reg_alpha': 1.729862055958063e-05, 'reg_lambda': 1.2489078488793303e-05, 'feature_fraction': 0.6321830789644263, 'bagging_fraction': 0.9818096840131422, 'bagging_freq': 1}. Best is trial 2 with value: 0.9761629385843846.\n",
            "[I 2025-03-14 12:33:28,271] Trial 11 finished with value: 0.9751493644064642 and parameters: {'learning_rate': 0.028700163011642008, 'max_depth': 8, 'num_leaves': 124, 'subsample': 0.8524494406944925, 'colsample_bytree': 0.7880854356970965, 'n_estimators': 729, 'min_data_in_leaf': 5, 'min_gain_to_split': 0.00044700499570766024, 'reg_alpha': 1.0936025454647232e-05, 'reg_lambda': 1.2318501300712361e-05, 'feature_fraction': 0.5114051288883705, 'bagging_fraction': 0.7864189131723316, 'bagging_freq': 3}. Best is trial 2 with value: 0.9761629385843846.\n",
            "[I 2025-03-14 12:33:55,678] Trial 12 finished with value: 0.975402207065725 and parameters: {'learning_rate': 0.02382790876912085, 'max_depth': 8, 'num_leaves': 58, 'subsample': 0.8669662479277381, 'colsample_bytree': 0.8418383517259639, 'n_estimators': 731, 'min_data_in_leaf': 20, 'min_gain_to_split': 0.0004964375793845791, 'reg_alpha': 3.4004153034823185e-05, 'reg_lambda': 1.2661615034610908e-05, 'feature_fraction': 0.5143496788160707, 'bagging_fraction': 0.815541793051242, 'bagging_freq': 3}. Best is trial 2 with value: 0.9761629385843846.\n",
            "[I 2025-03-14 12:34:21,541] Trial 13 finished with value: 0.9757142265949831 and parameters: {'learning_rate': 0.018932949432279772, 'max_depth': 7, 'num_leaves': 19, 'subsample': 0.9347208782740057, 'colsample_bytree': 0.8823978557167967, 'n_estimators': 524, 'min_data_in_leaf': 22, 'min_gain_to_split': 0.0007419410889463328, 'reg_alpha': 7.944053016447772e-05, 'reg_lambda': 0.0014664158288931178, 'feature_fraction': 0.6038764639586371, 'bagging_fraction': 0.9770112158036848, 'bagging_freq': 1}. Best is trial 2 with value: 0.9761629385843846.\n",
            "[I 2025-03-14 12:34:30,999] Trial 14 finished with value: 0.9745979972574499 and parameters: {'learning_rate': 0.06288911034846917, 'max_depth': 6, 'num_leaves': 16, 'subsample': 0.9420298800246732, 'colsample_bytree': 0.9183142982040182, 'n_estimators': 522, 'min_data_in_leaf': 23, 'min_gain_to_split': 0.0015506495228507504, 'reg_alpha': 0.00010939429559046265, 'reg_lambda': 0.0013160794748160803, 'feature_fraction': 0.6332381206564222, 'bagging_fraction': 0.9891163925314214, 'bagging_freq': 1}. Best is trial 2 with value: 0.9761629385843846.\n",
            "[I 2025-03-14 12:35:11,320] Trial 15 finished with value: 0.9754095655762638 and parameters: {'learning_rate': 0.019291451453239947, 'max_depth': 7, 'num_leaves': 21, 'subsample': 0.6186449210666428, 'colsample_bytree': 0.9969409701454003, 'n_estimators': 1542, 'min_data_in_leaf': 13, 'min_gain_to_split': 0.00012298779843505092, 'reg_alpha': 6.714669190392119e-05, 'reg_lambda': 0.006450307986068238, 'feature_fraction': 0.6937829283319046, 'bagging_fraction': 0.9246095522199888, 'bagging_freq': 1}. Best is trial 2 with value: 0.9761629385843846.\n",
            "[I 2025-03-14 12:35:26,357] Trial 16 finished with value: 0.9751104951301045 and parameters: {'learning_rate': 0.04782060969562293, 'max_depth': 5, 'num_leaves': 32, 'subsample': 0.8032111699080007, 'colsample_bytree': 0.9079675732152741, 'n_estimators': 1417, 'min_data_in_leaf': 49, 'min_gain_to_split': 0.00783597712891292, 'reg_alpha': 0.0004137574220651443, 'reg_lambda': 0.0007541661741347686, 'feature_fraction': 0.5778242321913896, 'bagging_fraction': 0.8489510379149405, 'bagging_freq': 10}. Best is trial 2 with value: 0.9761629385843846.\n",
            "[I 2025-03-14 12:36:02,245] Trial 17 finished with value: 0.9747080993893427 and parameters: {'learning_rate': 0.015226811693128225, 'max_depth': 7, 'num_leaves': 61, 'subsample': 0.6260711313222174, 'colsample_bytree': 0.8385575475722565, 'n_estimators': 1876, 'min_data_in_leaf': 14, 'min_gain_to_split': 0.00047386993247291347, 'reg_alpha': 0.010238248467778155, 'reg_lambda': 0.01480284438779542, 'feature_fraction': 0.5699932461151174, 'bagging_fraction': 0.953883504526401, 'bagging_freq': 3}. Best is trial 2 with value: 0.9761629385843846.\n",
            "[I 2025-03-14 12:36:16,555] Trial 18 finished with value: 0.9714426203096099 and parameters: {'learning_rate': 0.07653200801619173, 'max_depth': 5, 'num_leaves': 26, 'subsample': 0.9154348797426489, 'colsample_bytree': 0.6974727025485049, 'n_estimators': 1377, 'min_data_in_leaf': 25, 'min_gain_to_split': 8.969966015048808e-05, 'reg_alpha': 0.15660307716787294, 'reg_lambda': 0.0002679389350791006, 'feature_fraction': 0.6889041998230067, 'bagging_fraction': 0.7008051533528996, 'bagging_freq': 2}. Best is trial 2 with value: 0.9761629385843846.\n",
            "[I 2025-03-14 12:36:29,451] Trial 19 finished with value: 0.9759450279054193 and parameters: {'learning_rate': 0.03908605378064949, 'max_depth': 10, 'num_leaves': 41, 'subsample': 0.563083886449814, 'colsample_bytree': 0.9406489928291729, 'n_estimators': 991, 'min_data_in_leaf': 10, 'min_gain_to_split': 0.007162816464578195, 'reg_alpha': 3.6111437064578865e-05, 'reg_lambda': 5.588950236513163e-05, 'feature_fraction': 0.5719094889822878, 'bagging_fraction': 0.9304281511190459, 'bagging_freq': 4}. Best is trial 2 with value: 0.9761629385843846.\n",
            "[I 2025-03-14 12:36:35,676] Trial 20 finished with value: 0.6074832022973355 and parameters: {'learning_rate': 0.27069829832007236, 'max_depth': 10, 'num_leaves': 44, 'subsample': 0.5645817005198338, 'colsample_bytree': 0.9952087484636206, 'n_estimators': 999, 'min_data_in_leaf': 11, 'min_gain_to_split': 0.009084813750610887, 'reg_alpha': 2.8943044714102806e-05, 'reg_lambda': 4.688121409550791e-05, 'feature_fraction': 0.6985571593535647, 'bagging_fraction': 0.8456327715023182, 'bagging_freq': 4}. Best is trial 2 with value: 0.9761629385843846.\n",
            "[I 2025-03-14 12:36:55,707] Trial 21 finished with value: 0.9765229985111477 and parameters: {'learning_rate': 0.019703973210840033, 'max_depth': 9, 'num_leaves': 39, 'subsample': 0.6520860233199335, 'colsample_bytree': 0.9384419675279526, 'n_estimators': 509, 'min_data_in_leaf': 18, 'min_gain_to_split': 0.0013579678422079352, 'reg_alpha': 5.910329135523303e-05, 'reg_lambda': 6.29724974380131e-05, 'feature_fraction': 0.5728725988799865, 'bagging_fraction': 0.9321732703916741, 'bagging_freq': 4}. Best is trial 21 with value: 0.9765229985111477.\n",
            "[I 2025-03-14 12:37:08,050] Trial 22 finished with value: 0.9761579452497289 and parameters: {'learning_rate': 0.04117363064695559, 'max_depth': 9, 'num_leaves': 62, 'subsample': 0.6578420331300374, 'colsample_bytree': 0.9373367536191288, 'n_estimators': 924, 'min_data_in_leaf': 17, 'min_gain_to_split': 0.0038714832360567026, 'reg_alpha': 0.00040928694600566283, 'reg_lambda': 5.405927927885185e-05, 'feature_fraction': 0.5609389683233431, 'bagging_fraction': 0.9261374299800467, 'bagging_freq': 4}. Best is trial 21 with value: 0.9765229985111477.\n",
            "[I 2025-03-14 12:37:20,237] Trial 23 finished with value: 0.9749911056755837 and parameters: {'learning_rate': 0.045971270765306264, 'max_depth': 9, 'num_leaves': 59, 'subsample': 0.6483411500377724, 'colsample_bytree': 0.8106692910069158, 'n_estimators': 886, 'min_data_in_leaf': 17, 'min_gain_to_split': 0.0012962892702330358, 'reg_alpha': 0.0004665381267548399, 'reg_lambda': 0.00035014128864193603, 'feature_fraction': 0.5458672713458047, 'bagging_fraction': 0.895068416718006, 'bagging_freq': 6}. Best is trial 21 with value: 0.9765229985111477.\n",
            "[I 2025-03-14 12:37:38,501] Trial 24 finished with value: 0.9768033215557705 and parameters: {'learning_rate': 0.024500855660379028, 'max_depth': 9, 'num_leaves': 91, 'subsample': 0.6659262278452804, 'colsample_bytree': 0.950474654951569, 'n_estimators': 617, 'min_data_in_leaf': 17, 'min_gain_to_split': 0.00299205836237472, 'reg_alpha': 0.00021601616073553222, 'reg_lambda': 3.517758163639993e-05, 'feature_fraction': 0.6672949962026654, 'bagging_fraction': 0.9344583241180056, 'bagging_freq': 4}. Best is trial 24 with value: 0.9768033215557705.\n",
            "[I 2025-03-14 12:38:06,608] Trial 25 finished with value: 0.9761059352139227 and parameters: {'learning_rate': 0.024421188914384544, 'max_depth': 9, 'num_leaves': 84, 'subsample': 0.772144276229435, 'colsample_bytree': 0.8929740455395174, 'n_estimators': 619, 'min_data_in_leaf': 9, 'min_gain_to_split': 0.00017285112876262127, 'reg_alpha': 0.00018325875592208705, 'reg_lambda': 0.00012141367879853816, 'feature_fraction': 0.7409422076005039, 'bagging_fraction': 0.7666661981751015, 'bagging_freq': 8}. Best is trial 24 with value: 0.9768033215557705.\n",
            "[I 2025-03-14 12:38:25,554] Trial 26 finished with value: 0.9748662229287317 and parameters: {'learning_rate': 0.016016258524344754, 'max_depth': 8, 'num_leaves': 102, 'subsample': 0.5856822435863723, 'colsample_bytree': 0.9626631299132353, 'n_estimators': 668, 'min_data_in_leaf': 27, 'min_gain_to_split': 0.01952122828292954, 'reg_alpha': 0.0009748135681303539, 'reg_lambda': 2.360222808824072e-05, 'feature_fraction': 0.6680394767157061, 'bagging_fraction': 0.86119623733199, 'bagging_freq': 3}. Best is trial 24 with value: 0.9768033215557705.\n",
            "[I 2025-03-14 12:38:37,976] Trial 27 finished with value: 0.9772964472563158 and parameters: {'learning_rate': 0.0710199032375748, 'max_depth': 9, 'num_leaves': 85, 'subsample': 0.6709572617675066, 'colsample_bytree': 0.7209379386470598, 'n_estimators': 1315, 'min_data_in_leaf': 16, 'min_gain_to_split': 0.002276948341835634, 'reg_alpha': 1.004413011993661e-05, 'reg_lambda': 2.9196525907592787e-05, 'feature_fraction': 0.65163101387557, 'bagging_fraction': 0.999141054404916, 'bagging_freq': 5}. Best is trial 27 with value: 0.9772964472563158.\n",
            "[I 2025-03-14 12:38:52,415] Trial 28 finished with value: 0.9742504117137454 and parameters: {'learning_rate': 0.07928346219646105, 'max_depth': 9, 'num_leaves': 84, 'subsample': 0.6915768287273583, 'colsample_bytree': 0.728950196313395, 'n_estimators': 1374, 'min_data_in_leaf': 16, 'min_gain_to_split': 3.67445583333625e-05, 'reg_alpha': 1.3575833279040303e-05, 'reg_lambda': 3.639931490447945e-05, 'feature_fraction': 0.669698274053613, 'bagging_fraction': 0.8246437164147449, 'bagging_freq': 5}. Best is trial 27 with value: 0.9772964472563158.\n",
            "[I 2025-03-14 12:39:20,487] Trial 29 finished with value: 0.9761263324695314 and parameters: {'learning_rate': 0.0241871501793664, 'max_depth': 10, 'num_leaves': 90, 'subsample': 0.6630126733310091, 'colsample_bytree': 0.595389709086654, 'n_estimators': 832, 'min_data_in_leaf': 22, 'min_gain_to_split': 0.0002396503781502257, 'reg_alpha': 0.00018386808192215692, 'reg_lambda': 2.279174997464455e-05, 'feature_fraction': 0.7908879971497667, 'bagging_fraction': 0.999435445685111, 'bagging_freq': 6}. Best is trial 27 with value: 0.9772964472563158.\n",
            "[I 2025-03-14 12:39:56,990] Trial 30 finished with value: 0.9768193864898462 and parameters: {'learning_rate': 0.013929697925651255, 'max_depth': 8, 'num_leaves': 109, 'subsample': 0.7622279925012319, 'colsample_bytree': 0.713547962555808, 'n_estimators': 1255, 'min_data_in_leaf': 26, 'min_gain_to_split': 0.0028449129474538105, 'reg_alpha': 2.481557881485798e-05, 'reg_lambda': 0.00011346313472696044, 'feature_fraction': 0.7281974968366989, 'bagging_fraction': 0.9512946959715667, 'bagging_freq': 7}. Best is trial 27 with value: 0.9772964472563158.\n",
            "[I 2025-03-14 12:40:31,190] Trial 31 finished with value: 0.9759164174394457 and parameters: {'learning_rate': 0.015268961592460781, 'max_depth': 8, 'num_leaves': 108, 'subsample': 0.7591148409501103, 'colsample_bytree': 0.7151892310372087, 'n_estimators': 1282, 'min_data_in_leaf': 30, 'min_gain_to_split': 0.0032261875621114114, 'reg_alpha': 2.6058257353522516e-05, 'reg_lambda': 8.882879770238128e-05, 'feature_fraction': 0.7303496475348406, 'bagging_fraction': 0.9506338824730227, 'bagging_freq': 5}. Best is trial 27 with value: 0.9772964472563158.\n",
            "[I 2025-03-14 12:41:03,858] Trial 32 finished with value: 0.9718986138216211 and parameters: {'learning_rate': 0.012562311775058989, 'max_depth': 9, 'num_leaves': 98, 'subsample': 0.721866489798251, 'colsample_bytree': 0.8020488121526781, 'n_estimators': 1257, 'min_data_in_leaf': 19, 'min_gain_to_split': 0.021048052602867223, 'reg_alpha': 4.982309857626284e-05, 'reg_lambda': 0.9975816276490621, 'feature_fraction': 0.7827266150140685, 'bagging_fraction': 0.894441111063984, 'bagging_freq': 8}. Best is trial 27 with value: 0.9772964472563158.\n",
            "[I 2025-03-14 12:41:28,008] Trial 33 finished with value: 0.9764356683881618 and parameters: {'learning_rate': 0.019329236594276815, 'max_depth': 8, 'num_leaves': 109, 'subsample': 0.7918125167333538, 'colsample_bytree': 0.6751161851671309, 'n_estimators': 625, 'min_data_in_leaf': 26, 'min_gain_to_split': 0.0010015015062143815, 'reg_alpha': 1.131369324394872e-05, 'reg_lambda': 0.00046861253959302833, 'feature_fraction': 0.6408066558794959, 'bagging_fraction': 0.9554445656694985, 'bagging_freq': 7}. Best is trial 27 with value: 0.9772964472563158.\n",
            "[I 2025-03-14 12:41:47,945] Trial 34 finished with value: 0.9758751676362178 and parameters: {'learning_rate': 0.029739259706515943, 'max_depth': 9, 'num_leaves': 81, 'subsample': 0.7479084186620556, 'colsample_bytree': 0.6252578912588151, 'n_estimators': 1083, 'min_data_in_leaf': 24, 'min_gain_to_split': 0.003728011665694623, 'reg_alpha': 2.1530223174002786e-05, 'reg_lambda': 0.00010425703160585913, 'feature_fraction': 0.7137980226037981, 'bagging_fraction': 0.9209151896416143, 'bagging_freq': 8}. Best is trial 27 with value: 0.9772964472563158.\n",
            "[I 2025-03-14 12:42:32,660] Trial 35 finished with value: 0.9754020128416437 and parameters: {'learning_rate': 0.010243569863342992, 'max_depth': 10, 'num_leaves': 69, 'subsample': 0.7126302009186695, 'colsample_bytree': 0.754906206042434, 'n_estimators': 1477, 'min_data_in_leaf': 29, 'min_gain_to_split': 0.002212702912290909, 'reg_alpha': 0.00014159851944380462, 'reg_lambda': 2.655941022281197e-05, 'feature_fraction': 0.6597854311295218, 'bagging_fraction': 0.7220203709752744, 'bagging_freq': 5}. Best is trial 27 with value: 0.9772964472563158.\n",
            "[I 2025-03-14 12:42:57,189] Trial 36 finished with value: 0.9751513984070123 and parameters: {'learning_rate': 0.013551267450370224, 'max_depth': 9, 'num_leaves': 91, 'subsample': 0.6746343150006279, 'colsample_bytree': 0.6902047650749512, 'n_estimators': 1058, 'min_data_in_leaf': 15, 'min_gain_to_split': 0.01313063689675722, 'reg_alpha': 5.132305060068657e-05, 'reg_lambda': 0.00019093712923629863, 'feature_fraction': 0.6017643782741942, 'bagging_fraction': 0.9660588281811063, 'bagging_freq': 9}. Best is trial 27 with value: 0.9772964472563158.\n",
            "[I 2025-03-14 12:43:05,581] Trial 37 finished with value: 0.6718883141941175 and parameters: {'learning_rate': 0.11804886273590298, 'max_depth': 8, 'num_leaves': 113, 'subsample': 0.6328181943575404, 'colsample_bytree': 0.8608783839897332, 'n_estimators': 1299, 'min_data_in_leaf': 20, 'min_gain_to_split': 0.03863935478556442, 'reg_alpha': 0.00012245936043087143, 'reg_lambda': 8.502847101742014e-05, 'feature_fraction': 0.7685302153108061, 'bagging_fraction': 0.6052507598697576, 'bagging_freq': 4}. Best is trial 27 with value: 0.9772964472563158.\n",
            "[I 2025-03-14 12:43:23,327] Trial 38 finished with value: 0.9766362593316357 and parameters: {'learning_rate': 0.06403171088645378, 'max_depth': 8, 'num_leaves': 103, 'subsample': 0.5009452697097247, 'colsample_bytree': 0.7336259572524637, 'n_estimators': 1674, 'min_data_in_leaf': 41, 'min_gain_to_split': 0.00522219505717992, 'reg_alpha': 0.0002482203462136473, 'reg_lambda': 2.5127599865613015e-05, 'feature_fraction': 0.8323154829401751, 'bagging_fraction': 0.8822806906119995, 'bagging_freq': 6}. Best is trial 27 with value: 0.9772964472563158.\n",
            "[I 2025-03-14 12:43:40,195] Trial 39 finished with value: 0.9720383691693424 and parameters: {'learning_rate': 0.061503319820433035, 'max_depth': 8, 'num_leaves': 104, 'subsample': 0.5010783144077134, 'colsample_bytree': 0.7319568835803264, 'n_estimators': 1757, 'min_data_in_leaf': 41, 'min_gain_to_split': 0.14102752653117243, 'reg_alpha': 0.0019142234891523326, 'reg_lambda': 2.3425177814010037e-05, 'feature_fraction': 0.8678003268636905, 'bagging_fraction': 0.8854303008607642, 'bagging_freq': 7}. Best is trial 27 with value: 0.9772964472563158.\n",
            "[I 2025-03-14 12:43:56,915] Trial 40 finished with value: 0.9732628297267135 and parameters: {'learning_rate': 0.09181771311227449, 'max_depth': 7, 'num_leaves': 123, 'subsample': 0.5365699131285959, 'colsample_bytree': 0.7707484407625431, 'n_estimators': 1646, 'min_data_in_leaf': 42, 'min_gain_to_split': 0.005592595572147089, 'reg_alpha': 0.0006116122417428249, 'reg_lambda': 0.33763758148356665, 'feature_fraction': 0.8291399655032566, 'bagging_fraction': 0.9956902789085412, 'bagging_freq': 6}. Best is trial 27 with value: 0.9772964472563158.\n",
            "[I 2025-03-14 12:44:18,718] Trial 41 finished with value: 0.9746411446380385 and parameters: {'learning_rate': 0.07005800914680603, 'max_depth': 9, 'num_leaves': 97, 'subsample': 0.5923514966735371, 'colsample_bytree': 0.6481052996660785, 'n_estimators': 1767, 'min_data_in_leaf': 47, 'min_gain_to_split': 0.0016812503156237368, 'reg_alpha': 0.00022797843400307801, 'reg_lambda': 3.636997153029304e-05, 'feature_fraction': 0.9517869411607883, 'bagging_fraction': 0.9083046391702879, 'bagging_freq': 5}. Best is trial 27 with value: 0.9772964472563158.\n",
            "[I 2025-03-14 12:44:40,233] Trial 42 finished with value: 0.976214430275634 and parameters: {'learning_rate': 0.03593351981551213, 'max_depth': 8, 'num_leaves': 77, 'subsample': 0.7063131478283614, 'colsample_bytree': 0.7060014377085653, 'n_estimators': 1544, 'min_data_in_leaf': 45, 'min_gain_to_split': 0.004444150982992989, 'reg_alpha': 0.007706009583759015, 'reg_lambda': 0.0001469007404843854, 'feature_fraction': 0.8515603625419972, 'bagging_fraction': 0.938679717688694, 'bagging_freq': 6}. Best is trial 27 with value: 0.9772964472563158.\n",
            "[I 2025-03-14 12:44:57,949] Trial 43 finished with value: 0.9749343341288519 and parameters: {'learning_rate': 0.09313489219656315, 'max_depth': 9, 'num_leaves': 88, 'subsample': 0.7312300515899509, 'colsample_bytree': 0.8127104474656298, 'n_estimators': 1983, 'min_data_in_leaf': 34, 'min_gain_to_split': 0.012285347414213634, 'reg_alpha': 1.931600681722407e-05, 'reg_lambda': 1.0023414538455758e-05, 'feature_fraction': 0.7620724132069188, 'bagging_fraction': 0.9637691004592142, 'bagging_freq': 4}. Best is trial 27 with value: 0.9772964472563158.\n",
            "[I 2025-03-14 12:45:12,338] Trial 44 finished with value: 0.9747892040987918 and parameters: {'learning_rate': 0.052225559353026196, 'max_depth': 8, 'num_leaves': 116, 'subsample': 0.8282290982115298, 'colsample_bytree': 0.7360188324107338, 'n_estimators': 828, 'min_data_in_leaf': 7, 'min_gain_to_split': 0.0009200383431602245, 'reg_alpha': 8.489453149383372e-05, 'reg_lambda': 1.7309036842746928e-05, 'feature_fraction': 0.7153050601654205, 'bagging_fraction': 0.8807277702244006, 'bagging_freq': 5}. Best is trial 27 with value: 0.9772964472563158.\n",
            "[I 2025-03-14 12:45:34,367] Trial 45 finished with value: 0.9767298621475137 and parameters: {'learning_rate': 0.022119874976734247, 'max_depth': 10, 'num_leaves': 98, 'subsample': 0.7757896357020553, 'colsample_bytree': 0.7759201188575982, 'n_estimators': 501, 'min_data_in_leaf': 36, 'min_gain_to_split': 0.0003132191315404788, 'reg_alpha': 5.052089893577871e-05, 'reg_lambda': 6.852048327041572e-05, 'feature_fraction': 0.61806457903324, 'bagging_fraction': 0.97613998493384, 'bagging_freq': 7}. Best is trial 27 with value: 0.9772964472563158.\n",
            "[I 2025-03-14 12:45:56,628] Trial 46 finished with value: 0.97689950995165 and parameters: {'learning_rate': 0.02863123087451309, 'max_depth': 10, 'num_leaves': 98, 'subsample': 0.777183334033865, 'colsample_bytree': 0.7755606180474809, 'n_estimators': 1203, 'min_data_in_leaf': 37, 'min_gain_to_split': 0.0002826003735288269, 'reg_alpha': 1.0587917799890213e-05, 'reg_lambda': 0.00024303396405678381, 'feature_fraction': 0.6216526901256714, 'bagging_fraction': 0.9733284466785064, 'bagging_freq': 7}. Best is trial 27 with value: 0.9772964472563158.\n",
            "[I 2025-03-14 12:46:22,148] Trial 47 finished with value: 0.9761015221678676 and parameters: {'learning_rate': 0.028627257890996002, 'max_depth': 10, 'num_leaves': 128, 'subsample': 0.774238376298092, 'colsample_bytree': 0.7866407669643916, 'n_estimators': 1203, 'min_data_in_leaf': 38, 'min_gain_to_split': 4.978233686702583e-05, 'reg_alpha': 1.4195930338867031e-05, 'reg_lambda': 0.0004950767451987926, 'feature_fraction': 0.627569921348103, 'bagging_fraction': 0.9811201169589925, 'bagging_freq': 7}. Best is trial 27 with value: 0.9772964472563158.\n",
            "[I 2025-03-14 12:46:47,970] Trial 48 finished with value: 0.9761434971961901 and parameters: {'learning_rate': 0.021158993365369864, 'max_depth': 10, 'num_leaves': 96, 'subsample': 0.817157210136014, 'colsample_bytree': 0.608068216258907, 'n_estimators': 1077, 'min_data_in_leaf': 39, 'min_gain_to_split': 0.0002697071265059555, 'reg_alpha': 1.0012308931490697e-05, 'reg_lambda': 0.0002686650581688545, 'feature_fraction': 0.5967827371317375, 'bagging_fraction': 0.9983805808728639, 'bagging_freq': 8}. Best is trial 27 with value: 0.9772964472563158.\n",
            "[I 2025-03-14 12:47:08,004] Trial 49 finished with value: 0.9763805060784281 and parameters: {'learning_rate': 0.027676304764865236, 'max_depth': 10, 'num_leaves': 70, 'subsample': 0.8538907552164428, 'colsample_bytree': 0.7735687311106146, 'n_estimators': 592, 'min_data_in_leaf': 32, 'min_gain_to_split': 0.0005734025260181119, 'reg_alpha': 4.002100552366786e-05, 'reg_lambda': 0.00018903587868429774, 'feature_fraction': 0.6514365008141192, 'bagging_fraction': 0.9722005783133353, 'bagging_freq': 9}. Best is trial 27 with value: 0.9772964472563158.\n"
          ]
        },
        {
          "output_type": "stream",
          "name": "stdout",
          "text": [
            "Лучшие параметры: {'learning_rate': 0.0710199032375748, 'max_depth': 9, 'num_leaves': 85, 'subsample': 0.6709572617675066, 'colsample_bytree': 0.7209379386470598, 'n_estimators': 1315, 'min_data_in_leaf': 16, 'min_gain_to_split': 0.002276948341835634, 'reg_alpha': 1.004413011993661e-05, 'reg_lambda': 2.9196525907592787e-05, 'feature_fraction': 0.65163101387557, 'bagging_fraction': 0.999141054404916, 'bagging_freq': 5}\n"
          ]
        }
      ]
    },
    {
      "cell_type": "code",
      "source": [
        "train_lgb = lgb.Dataset(X_train, label=yd_train)\n",
        "test_lgb = lgb.Dataset(X_test, label=yd_test, reference=train_lgb)\n",
        "\n",
        "best_params.update({\"objective\": \"multiclass\", \"metric\": \"multi_logloss\", \"num_class\": len(np.unique(y_train)), \"verbose\": -1})\n",
        "\n",
        "model = lgb.train(best_params, train_lgb, num_boost_round=1000, valid_sets=[test_lgb])\n",
        "\n",
        "y_pred_proba = model.predict(X_test)\n",
        "y_pred = np.argmax(y_pred_proba, axis=1)\n",
        "roc_auc = roc_auc_score(y_test, y_pred_proba, multi_class=\"ovr\")\n",
        "\n",
        "print(f\"LightGBM optuna optmized ROC AUC: {roc_auc:.4f}\")"
      ],
      "metadata": {
        "colab": {
          "base_uri": "https://localhost:8080/"
        },
        "id": "fDml8FWUoTz0",
        "outputId": "36a8ccd9-c4b1-4edc-cc07-68fb8a57a2d0"
      },
      "id": "fDml8FWUoTz0",
      "execution_count": 149,
      "outputs": [
        {
          "output_type": "stream",
          "name": "stdout",
          "text": [
            "LightGBM optuna optmized ROC AUC: 0.9822\n"
          ]
        }
      ]
    },
    {
      "cell_type": "code",
      "source": [
        "print(\"\\nОтчет о классификации:\\n\", classification_report(yd_test, y_pred))"
      ],
      "metadata": {
        "colab": {
          "base_uri": "https://localhost:8080/"
        },
        "id": "EuwemNfnx9hj",
        "outputId": "2db2ce9b-2262-4304-a5a4-5beca474ebb5"
      },
      "id": "EuwemNfnx9hj",
      "execution_count": 150,
      "outputs": [
        {
          "output_type": "stream",
          "name": "stdout",
          "text": [
            "\n",
            "Отчет о классификации:\n",
            "               precision    recall  f1-score   support\n",
            "\n",
            "           0       0.98      0.98      0.98      3066\n",
            "           1       0.69      0.53      0.60       133\n",
            "           2       0.82      0.66      0.73       310\n",
            "           3       0.75      0.87      0.81      1473\n",
            "           4       0.78      0.72      0.75       362\n",
            "           5       0.93      0.91      0.92       524\n",
            "           6       0.83      0.78      0.81       255\n",
            "           7       0.86      0.75      0.80       251\n",
            "           8       0.90      0.88      0.89       897\n",
            "           9       0.55      0.45      0.49       283\n",
            "\n",
            "    accuracy                           0.87      7554\n",
            "   macro avg       0.81      0.75      0.78      7554\n",
            "weighted avg       0.87      0.87      0.87      7554\n",
            "\n"
          ]
        }
      ]
    },
    {
      "cell_type": "markdown",
      "id": "85e4a1c6-c69e-4ba4-bba8-baef3276a145",
      "metadata": {
        "id": "85e4a1c6-c69e-4ba4-bba8-baef3276a145"
      },
      "source": [
        "### Выводы"
      ]
    },
    {
      "cell_type": "markdown",
      "id": "40fd5679-112c-4543-9c44-833c1fb29cf3",
      "metadata": {
        "id": "40fd5679-112c-4543-9c44-833c1fb29cf3"
      },
      "source": [
        "В дополнение к catboost, SVC и логистической регрессии опробованы бустинги:\n",
        "\n",
        "\n",
        "XGBoost \\\n",
        "Оптимизированный XGBoost  с Optuna\\\n",
        "Оценка моделей выполнена с помощью метрик ROC AUC, precision, recall, f1-score и accuracy.\n",
        "\n",
        "- Logistic Regression: 0.908\n",
        "- SVC: 0.935\n",
        "- CatBoost: 0.984\n",
        "- Optuna + CatBoost: 0.982\n",
        "- XGBoost:  0.971\n",
        "- Optuna + XGBoost: 0.968\n",
        "- Lightgbm: 0.981\n",
        "- Optuna + Lightgbm: 0.982\\\n",
        "CatBoost и его оптимизированная версия показали лучшие результаты по метрике ROC AUC, существенно превосходя линейные модели и немного превосходя другие бустинги.\n",
        "\n",
        "Сравнение по метрике accuracy (доля правильных ответов)\n",
        "- Logistic Regression: 0.70\n",
        "- SVC: 0.75\n",
        "- CatBoost: 0.88\n",
        "- Optuna + CatBoost: 0.88\n",
        "- XGBoost: 0.86\n",
        "- Optuna + XGBoost: 0.86\n",
        "- Lightgbm: 0.87\n",
        "- Optuna + Lightgbm: 0.87\\\n",
        "CatBoost и его оптимизированная версия также показывают наивысшую точность.\n",
        "\n",
        "\n",
        "Оптимизация несущественно улучшила метрики для LGBM, для XGBoost не дала значимого прироста.\n",
        "\n",
        "Catboost остался лучшим по качеству бустингом, чуть хуже сработал LightGBM, после него - XGBoost."
      ]
    }
  ],
  "metadata": {
    "kernelspec": {
      "display_name": "Python 3 (ipykernel)",
      "language": "python",
      "name": "python3"
    },
    "language_info": {
      "codemirror_mode": {
        "name": "ipython",
        "version": 3
      },
      "file_extension": ".py",
      "mimetype": "text/x-python",
      "name": "python",
      "nbconvert_exporter": "python",
      "pygments_lexer": "ipython3",
      "version": "3.11.7"
    },
    "colab": {
      "provenance": []
    }
  },
  "nbformat": 4,
  "nbformat_minor": 5
}