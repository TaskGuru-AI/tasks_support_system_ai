{
 "cells": [
  {
   "cell_type": "code",
   "execution_count": null,
   "id": "f316117a-91e4-4d43-bb71-dfdd44a42c50",
   "metadata": {},
   "outputs": [],
   "source": [
    "# !pip install mlxtend\n",
    "# !pip install imblearn"
   ]
  },
  {
   "cell_type": "code",
   "execution_count": 190,
   "id": "27fa1e53-c60d-4523-a8fb-363254783753",
   "metadata": {},
   "outputs": [],
   "source": [
    "import matplotlib.gridspec as gridspec\n",
    "import matplotlib.pyplot as plt\n",
    "import gensim\n",
    "import numpy as np\n",
    "import pandas as pd\n",
    "from mlxtend.plotting import plot_decision_regions\n",
    "from sklearn.datasets import load_iris\n",
    "from sklearn.linear_model import LogisticRegression\n",
    "from sklearn.metrics import (accuracy_score, auc, classification_report,\n",
    "                             confusion_matrix, f1_score, roc_curve)\n",
    "from sklearn.model_selection import cross_validate, train_test_split\n",
    "from sklearn.preprocessing import MinMaxScaler\n",
    "from sklearn.decomposition import PCA\n",
    "import numpy as np\n",
    "import seaborn as sns\n",
    "import copy\n",
    "import time\n",
    "from sklearn.metrics.pairwise import cosine_similarity\n",
    "from sklearn.metrics.pairwise import euclidean_distances\n",
    "from sklearn.metrics import silhouette_score\n",
    "from sklearn.feature_extraction.text import TfidfVectorizer\n",
    "from sklearn.svm import SVC\n",
    "from sklearn.metrics import accuracy_score, classification_report\n",
    "\n",
    "import warnings\n",
    "warnings.filterwarnings(\"ignore\")"
   ]
  },
  {
   "cell_type": "code",
   "execution_count": 149,
   "id": "6aaca398-be23-42f2-b747-4e7e8ecc9bda",
   "metadata": {},
   "outputs": [
    {
     "data": {
      "text/html": [
       "<div>\n",
       "<style scoped>\n",
       "    .dataframe tbody tr th:only-of-type {\n",
       "        vertical-align: middle;\n",
       "    }\n",
       "\n",
       "    .dataframe tbody tr th {\n",
       "        vertical-align: top;\n",
       "    }\n",
       "\n",
       "    .dataframe thead th {\n",
       "        text-align: right;\n",
       "    }\n",
       "</style>\n",
       "<table border=\"1\" class=\"dataframe\">\n",
       "  <thead>\n",
       "    <tr style=\"text-align: right;\">\n",
       "      <th></th>\n",
       "      <th>start_dt</th>\n",
       "      <th>end_dt</th>\n",
       "      <th>sender_name</th>\n",
       "      <th>sender_email</th>\n",
       "      <th>theme</th>\n",
       "      <th>descr</th>\n",
       "      <th>sender_name_cut</th>\n",
       "      <th>texts_cmb</th>\n",
       "      <th>topic</th>\n",
       "      <th>cluster</th>\n",
       "    </tr>\n",
       "  </thead>\n",
       "  <tbody>\n",
       "    <tr>\n",
       "      <th>0</th>\n",
       "      <td>01.01.2023 11:22</td>\n",
       "      <td>01.01.2023 22:14</td>\n",
       "      <td>content_problem</td>\n",
       "      <td>content_problem@tele2.ru</td>\n",
       "      <td>Жалоба абонента  TT20595877</td>\n",
       "      <td>. Доброго времени суток! ПРОСЬБА ПРИ ОТВЕТЕ НА...</td>\n",
       "      <td>content_problem</td>\n",
       "      <td>['жалоба', 'абонент', 'просьба', 'ответ', 'зап...</td>\n",
       "      <td>9</td>\n",
       "      <td>2</td>\n",
       "    </tr>\n",
       "    <tr>\n",
       "      <th>1</th>\n",
       "      <td>01.01.2023 14:18</td>\n",
       "      <td>01.01.2023 22:18</td>\n",
       "      <td>content_problem</td>\n",
       "      <td>content_problem@tele2.ru</td>\n",
       "      <td>Жалоба абонента  TT20592639</td>\n",
       "      <td>Доброго времени суток! Абонент утверждает, что...</td>\n",
       "      <td>content_problem</td>\n",
       "      <td>['жалоба', 'абонент', 'абонент', 'утверждать',...</td>\n",
       "      <td>5</td>\n",
       "      <td>1</td>\n",
       "    </tr>\n",
       "    <tr>\n",
       "      <th>2</th>\n",
       "      <td>01.01.2023 15:31</td>\n",
       "      <td>01.01.2023 21:52</td>\n",
       "      <td>content_problem</td>\n",
       "      <td>content_problem@tele2.ru</td>\n",
       "      <td>Жалоба абонента  TT20594559</td>\n",
       "      <td>Доброго времени суток! Абонент утверждает, что...</td>\n",
       "      <td>content_problem</td>\n",
       "      <td>['жалоба', 'абонент', 'абонент', 'утверждать',...</td>\n",
       "      <td>5</td>\n",
       "      <td>1</td>\n",
       "    </tr>\n",
       "    <tr>\n",
       "      <th>3</th>\n",
       "      <td>01.01.2023 16:15</td>\n",
       "      <td>01.01.2023 21:51</td>\n",
       "      <td>content_problem</td>\n",
       "      <td>content_problem@tele2.ru</td>\n",
       "      <td>Жалоба абонента  TT20593507</td>\n",
       "      <td>Доброго времени суток! Абонент утверждает, что...</td>\n",
       "      <td>content_problem</td>\n",
       "      <td>['жалоба', 'абонент', 'абонент', 'утверждать',...</td>\n",
       "      <td>5</td>\n",
       "      <td>1</td>\n",
       "    </tr>\n",
       "    <tr>\n",
       "      <th>4</th>\n",
       "      <td>01.01.2023 16:15</td>\n",
       "      <td>01.01.2023 21:52</td>\n",
       "      <td>content_problem</td>\n",
       "      <td>content_problem@tele2.ru</td>\n",
       "      <td>Жалоба абонента  TT20593899</td>\n",
       "      <td>Доброго времени суток! Абонент утверждает, что...</td>\n",
       "      <td>content_problem</td>\n",
       "      <td>['жалоба', 'абонент', 'абонент', 'утверждать',...</td>\n",
       "      <td>5</td>\n",
       "      <td>1</td>\n",
       "    </tr>\n",
       "  </tbody>\n",
       "</table>\n",
       "</div>"
      ],
      "text/plain": [
       "           start_dt            end_dt      sender_name  \\\n",
       "0  01.01.2023 11:22  01.01.2023 22:14  content_problem   \n",
       "1  01.01.2023 14:18  01.01.2023 22:18  content_problem   \n",
       "2  01.01.2023 15:31  01.01.2023 21:52  content_problem   \n",
       "3  01.01.2023 16:15  01.01.2023 21:51  content_problem   \n",
       "4  01.01.2023 16:15  01.01.2023 21:52  content_problem   \n",
       "\n",
       "               sender_email                        theme  \\\n",
       "0  content_problem@tele2.ru  Жалоба абонента  TT20595877   \n",
       "1  content_problem@tele2.ru  Жалоба абонента  TT20592639   \n",
       "2  content_problem@tele2.ru  Жалоба абонента  TT20594559   \n",
       "3  content_problem@tele2.ru  Жалоба абонента  TT20593507   \n",
       "4  content_problem@tele2.ru  Жалоба абонента  TT20593899   \n",
       "\n",
       "                                               descr  sender_name_cut  \\\n",
       "0  . Доброго времени суток! ПРОСЬБА ПРИ ОТВЕТЕ НА...  content_problem   \n",
       "1  Доброго времени суток! Абонент утверждает, что...  content_problem   \n",
       "2  Доброго времени суток! Абонент утверждает, что...  content_problem   \n",
       "3  Доброго времени суток! Абонент утверждает, что...  content_problem   \n",
       "4  Доброго времени суток! Абонент утверждает, что...  content_problem   \n",
       "\n",
       "                                           texts_cmb  topic cluster  \n",
       "0  ['жалоба', 'абонент', 'просьба', 'ответ', 'зап...      9       2  \n",
       "1  ['жалоба', 'абонент', 'абонент', 'утверждать',...      5       1  \n",
       "2  ['жалоба', 'абонент', 'абонент', 'утверждать',...      5       1  \n",
       "3  ['жалоба', 'абонент', 'абонент', 'утверждать',...      5       1  \n",
       "4  ['жалоба', 'абонент', 'абонент', 'утверждать',...      5       1  "
      ]
     },
     "execution_count": 149,
     "metadata": {},
     "output_type": "execute_result"
    }
   ],
   "source": [
    "df = pd.read_csv('labelled_data_1.csv', index_col=False)\n",
    "df.drop(columns=['Unnamed: 0.1', 'Column1', 'Unnamed: 0'], inplace=True)\n",
    "df.head()"
   ]
  },
  {
   "cell_type": "code",
   "execution_count": 124,
   "id": "977a6768-b289-4762-8a08-7c1c60099890",
   "metadata": {},
   "outputs": [
    {
     "data": {
      "text/plain": [
       "cluster\n",
       "1     0.405727\n",
       "4     0.191519\n",
       "9     0.118498\n",
       "6     0.072228\n",
       "5     0.048747\n",
       "3     0.042406\n",
       "10    0.036758\n",
       "7     0.032993\n",
       "8     0.032002\n",
       "2     0.017042\n",
       "?     0.002081\n",
       "Name: proportion, dtype: float64"
      ]
     },
     "execution_count": 124,
     "metadata": {},
     "output_type": "execute_result"
    }
   ],
   "source": [
    "df.cluster.value_counts(normalize=True)"
   ]
  },
  {
   "cell_type": "code",
   "execution_count": 176,
   "id": "37e12e4e-baaa-45cf-81d1-d5809e2909ff",
   "metadata": {},
   "outputs": [],
   "source": [
    "df.drop(df[df.cluster == '?'].index, inplace=True)"
   ]
  },
  {
   "cell_type": "code",
   "execution_count": 177,
   "id": "f16f651d-a22e-474b-a1a7-b5f7b7349537",
   "metadata": {},
   "outputs": [
    {
     "data": {
      "text/plain": [
       "10072"
      ]
     },
     "execution_count": 177,
     "metadata": {},
     "output_type": "execute_result"
    }
   ],
   "source": [
    "df['cluster'].notna().sum()"
   ]
  },
  {
   "cell_type": "code",
   "execution_count": 178,
   "id": "aa97b122-4276-4b2f-b4ae-dd8d4744e094",
   "metadata": {},
   "outputs": [],
   "source": [
    "df = df[df['cluster'].notna()]"
   ]
  },
  {
   "cell_type": "markdown",
   "id": "bccc076a-ec40-4cf7-bd2d-453465892b3f",
   "metadata": {},
   "source": [
    "Классы в датасете не сбалансированы. \n",
    "\n",
    "5 тема - 50% всего датасета.\n",
    "\n",
    "1. Обращения\n",
    "2. \n",
    "   1.1. Списания/денежные средства\n",
    "   1.2. Проблемы с сим-меню\n",
    "   1.3. Esim (проблемы подключения, код активации, qr-код)\n",
    "   1.4. Проблемы с контентом и отключение услуг/ подписок/ сервисов\n",
    "   1.5. Учетные записи\n",
    "3. Информация\n",
    "   1.6. Уведомления о технических работах\n",
    "   1.7. Сбой работы (в работе оператора)\n",
    "   1.8. Тесты, проблемы с доставкой, прочие тех. оповещения\n",
    "4. Черный список\n",
    "   1.9. Черный список\n",
    "5. Спам\n",
    "   1.10. Спам, реклама"
   ]
  },
  {
   "cell_type": "code",
   "execution_count": 131,
   "id": "5a447ae6-f4f3-439b-a2c0-ae879035d4c3",
   "metadata": {},
   "outputs": [
    {
     "data": {
      "text/html": [
       "<div>\n",
       "<style scoped>\n",
       "    .dataframe tbody tr th:only-of-type {\n",
       "        vertical-align: middle;\n",
       "    }\n",
       "\n",
       "    .dataframe tbody tr th {\n",
       "        vertical-align: top;\n",
       "    }\n",
       "\n",
       "    .dataframe thead th {\n",
       "        text-align: right;\n",
       "    }\n",
       "</style>\n",
       "<table border=\"1\" class=\"dataframe\">\n",
       "  <thead>\n",
       "    <tr style=\"text-align: right;\">\n",
       "      <th></th>\n",
       "      <th>topic</th>\n",
       "      <th>text</th>\n",
       "      <th>topic_text</th>\n",
       "    </tr>\n",
       "  </thead>\n",
       "  <tbody>\n",
       "    <tr>\n",
       "      <th>0</th>\n",
       "      <td>Списание денежных средств</td>\n",
       "      <td>Абонент обращается с жалобой на некорректные с...</td>\n",
       "      <td>Списание денежных средствАбонент обращается с ...</td>\n",
       "    </tr>\n",
       "    <tr>\n",
       "      <th>1</th>\n",
       "      <td>Отключение SIM-меню\\r</td>\n",
       "      <td>Эта статья описывает процедуру обработки жалоб...</td>\n",
       "      <td>Отключение SIM-меню\\rЭта статья описывает проц...</td>\n",
       "    </tr>\n",
       "    <tr>\n",
       "      <th>2</th>\n",
       "      <td>Обращения ESIM</td>\n",
       "      <td>Эта статья поможет вам решить проблемы, связан...</td>\n",
       "      <td>Обращения ESIMЭта статья поможет вам решить пр...</td>\n",
       "    </tr>\n",
       "    <tr>\n",
       "      <th>3</th>\n",
       "      <td>Проблемы с контентом и отключение услуг/ подпи...</td>\n",
       "      <td>Эта категория обращений связана с запросами аб...</td>\n",
       "      <td>Проблемы с контентом и отключение услуг/ подпи...</td>\n",
       "    </tr>\n",
       "    <tr>\n",
       "      <th>4</th>\n",
       "      <td>Учетные записи</td>\n",
       "      <td>В системе B2B используются учетные записи для ...</td>\n",
       "      <td>Учетные записиВ системе B2B используются учетн...</td>\n",
       "    </tr>\n",
       "  </tbody>\n",
       "</table>\n",
       "</div>"
      ],
      "text/plain": [
       "                                               topic  \\\n",
       "0                          Списание денежных средств   \n",
       "1                              Отключение SIM-меню\\r   \n",
       "2                                     Обращения ESIM   \n",
       "3  Проблемы с контентом и отключение услуг/ подпи...   \n",
       "4                                     Учетные записи   \n",
       "\n",
       "                                                text  \\\n",
       "0  Абонент обращается с жалобой на некорректные с...   \n",
       "1  Эта статья описывает процедуру обработки жалоб...   \n",
       "2  Эта статья поможет вам решить проблемы, связан...   \n",
       "3  Эта категория обращений связана с запросами аб...   \n",
       "4  В системе B2B используются учетные записи для ...   \n",
       "\n",
       "                                          topic_text  \n",
       "0  Списание денежных средствАбонент обращается с ...  \n",
       "1  Отключение SIM-меню\\rЭта статья описывает проц...  \n",
       "2  Обращения ESIMЭта статья поможет вам решить пр...  \n",
       "3  Проблемы с контентом и отключение услуг/ подпи...  \n",
       "4  Учетные записиВ системе B2B используются учетн...  "
      ]
     },
     "execution_count": 131,
     "metadata": {},
     "output_type": "execute_result"
    }
   ],
   "source": [
    "# Вики статьи для тикетов тех поддержки\n",
    "articles_df = pd.read_csv('articles.csv', index_col=False)\n",
    "articles_df['topic_text'] = articles_df['topic'].astype(str) + articles_df['text'].astype(str) \n",
    "\n",
    "articles_df.head()"
   ]
  },
  {
   "cell_type": "markdown",
   "id": "936b3382-ce2d-46f6-b4fc-c00961cf3be7",
   "metadata": {},
   "source": [
    "# Preprocess text"
   ]
  },
  {
   "cell_type": "code",
   "execution_count": 151,
   "id": "ed10c539-f8e2-428e-88fb-157c329b231f",
   "metadata": {},
   "outputs": [],
   "source": [
    "import pymorphy3\n",
    "from nltk.corpus import stopwords\n",
    "from collections import defaultdict\n",
    "from tqdm import tqdm\n",
    "import re\n",
    "import nltk\n",
    "\n",
    "\n",
    "class TextPreprocessor:\n",
    "    def __init__(self):\n",
    "        self.morph = pymorphy3.MorphAnalyzer()\n",
    "        self.stopwords_set = set(stopwords.words('russian')) \n",
    "        self.stopwords_set.update(['который', 'всё', 'добрый', 'время', 'сутки', '--', '00мск'])\n",
    "        self.morph_exceptions = {'сим'}\n",
    "        self.manual_corrections = {\n",
    "            'удали': 'удалить',\n",
    "            'использьзовать': 'использовать',\n",
    "            'теле': 'теле2'\n",
    "        }\n",
    "        self.phone_pattern = re.compile(r'^((8|\\+7)[\\- ]?)?(\\(?\\d{3}\\)?[\\- ]?)?[\\d\\- ]{7,10}$')\n",
    "        self.name_pattern = re.compile(r'\\b[А-ЯЁ][а-яё]+\\s[А-ЯЁ][а-яё]+\\b')\n",
    "        self.sim_card_pattern = re.compile(r'\\bсим-карт\\w*\\b')\n",
    "\n",
    "    def clean_key(self, key):\n",
    "        if isinstance(key, str):\n",
    "            key = self.phone_pattern.sub('номер телефона', key)\n",
    "            key = self.name_pattern.sub('фио', key)\n",
    "            key = re.sub(r'(?<![\\w])\\d+(?![\\w])', '', key)\n",
    "            key = re.sub(r'[!?]', '.', key)\n",
    "            key = re.sub(r'\\s-\\s', ' ', key)\n",
    "            key = re.sub(r'(?<!\\S)-|-(?!\\S)', '', key)  \n",
    "            return key\n",
    "        else:\n",
    "            return ''\n",
    "\n",
    "    def split_key(self, key_mod):\n",
    "        result = []\n",
    "        temp_word = []\n",
    "    \n",
    "        for char in key_mod:\n",
    "            if char.isalpha() or char.isdigit() or char == '-':\n",
    "                temp_word.append(char)\n",
    "            elif char == '.':\n",
    "                if temp_word:\n",
    "                    result.append(''.join(temp_word))\n",
    "                    temp_word = []\n",
    "                result.append('.')\n",
    "            elif char.isspace():\n",
    "                if temp_word:\n",
    "                    result.append(''.join(temp_word))\n",
    "                    temp_word = []\n",
    "    \n",
    "        if temp_word:\n",
    "            result.append(''.join(temp_word))\n",
    "    \n",
    "        return result\n",
    "\n",
    "    def clean_punctuation(self, list_elements):\n",
    "        return [element for element in list_elements if element != '.']\n",
    "\n",
    "    def preprocess_text(self, text):\n",
    "        cleaned_list = []\n",
    "        key_mod = self.clean_key(text)\n",
    "        words = self.split_key(key_mod.lower())\n",
    "\n",
    "        for token in words:\n",
    "            # if token == '.':\n",
    "            #     cleaned_list.append(token)\n",
    "            # else:\n",
    "                if self.sim_card_pattern.search(token):\n",
    "                    token = self.sim_card_pattern.sub('сим-карта', token)\n",
    "\n",
    "                token = self.manual_corrections.get(token, token)\n",
    "\n",
    "                if token not in self.morph_exceptions:\n",
    "                    normal_form = self.morph.parse(token)[0].normal_form\n",
    "                else:\n",
    "                    normal_form = token\n",
    "\n",
    "                if normal_form not in self.stopwords_set and normal_form != '.':\n",
    "                    cleaned_list.append(normal_form)\n",
    "\n",
    "        return cleaned_list\n",
    "\n",
    "\n"
   ]
  },
  {
   "cell_type": "code",
   "execution_count": 54,
   "id": "81734f67-07e5-43b0-a970-6fd751765681",
   "metadata": {},
   "outputs": [
    {
     "name": "stdout",
     "output_type": "stream",
     "text": [
      "['просьба', 'ответ', 'запрос', 'использовать', 'функция', 'ответить', 'весь', 'абонент', 'всплывать', 'sim-меню', 'блокировать', 'работа', 'телефон', 'просьба', 'отключить', 'функционал', 'сим-ремандёра', 'апплет', 'сим-карта', 'номер', 'абонент', 'дата', 'заказ', 'номер', 'провайдер', 'кц', 'invoice', 'розница', 'номер', 'подписка', 'wd', 'описание', 'проблема', 'отключаться', 'теле2', 'меню', 'текст', 'сообщение', 'эк']\n"
     ]
    }
   ],
   "source": [
    "text = \"\"\"\n",
    "Доброе время суток! ПРОСЬБА ПРИ ОТВЕТЕ НА ЗАПРОС ИСПОЛЬЗЬЗОВАТЬ ФУНКЦИЮ \"ОТВЕТИТЬ ВСЕМ\" У абонента всплывает SIM-меню и блокирует работу телефона. Просьба отключить функционал сим-ремандера на апплете сим-карты. \n",
    "0. Номер абонента : 79629002669 \n",
    "1. Дата и время заказа : 31,12,2022 \n",
    "2. Номер провайдера (для КЦ из InVoice / для розницы - номер подписки из WD) : - \n",
    "3. Описание проблемы : не отключается теле 2 меню \n",
    "4. Текст сообщения на эк.\n",
    "\n",
    "\"\"\"\n",
    "\n",
    "preprocessor = TextPreprocessor()\n",
    "processed_text = preprocessor.preprocess_text(text)\n",
    "print(processed_text)"
   ]
  },
  {
   "cell_type": "code",
   "execution_count": 168,
   "id": "0de7e6e6-7f3f-42ef-87cf-83edc0014741",
   "metadata": {},
   "outputs": [],
   "source": [
    "preprocessor = TextPreprocessor()\n",
    "for index, text in enumerate(df['texts_cmb']):\n",
    "    row = preprocessor.preprocess_text(text)\n",
    "    df.at[index, 'texts_cmb'] = ' '.join(row)"
   ]
  },
  {
   "cell_type": "code",
   "execution_count": 166,
   "id": "64f57664-e77d-446a-bab5-528472e22343",
   "metadata": {},
   "outputs": [],
   "source": [
    "for index, text in enumerate(articles_df['topic_text']):\n",
    "    row = preprocessor.preprocess_text(text)\n",
    "    articles_df.at[index, 'texts_cmb'] = ' '.join(row)"
   ]
  },
  {
   "cell_type": "code",
   "execution_count": 153,
   "id": "f0477bbc-3150-4a2d-b82e-67bee9057e82",
   "metadata": {},
   "outputs": [],
   "source": [
    "preprocessor = TextPreprocessor()\n",
    "new_df = pd.DataFrame(columns=['preprocessed_text'])\n",
    "\n",
    "data = [*df['descr'], *articles_df['topic_text']]\n",
    "\n",
    "for index, text in enumerate(data):\n",
    "    row = preprocessor.preprocess_text(text)\n",
    "    new_df.at[index, 'preprocessed_text'] = row"
   ]
  },
  {
   "cell_type": "code",
   "execution_count": 154,
   "id": "36e4fca8-5186-4d90-b09b-8c817645c93f",
   "metadata": {},
   "outputs": [],
   "source": [
    "preprocessed_text = []\n",
    "\n",
    "for row in new_df['preprocessed_text']:\n",
    "    preprocessed_text.append(row)"
   ]
  },
  {
   "cell_type": "code",
   "execution_count": 155,
   "id": "fe4d4479-e5c0-4c17-b6c6-8947bf292445",
   "metadata": {},
   "outputs": [
    {
     "name": "stdout",
     "output_type": "stream",
     "text": [
      "Сходство между 'ответ' и 'запрос': 0.4422121047973633\n"
     ]
    }
   ],
   "source": [
    "from gensim.models import Word2Vec\n",
    "\n",
    "w2v_model = Word2Vec(vector_size=100, window=5, min_count=1, sg=0, epochs=10)\n",
    "\n",
    "w2v_model.build_vocab(preprocessed_text)\n",
    "w2v_model.train(new_df['preprocessed_text'], total_examples=len(new_df['preprocessed_text']), epochs=model.epochs)\n",
    "\n",
    "\n",
    "similarity = w2v_model.wv.similarity('ответ', 'запрос')\n",
    "print(f\"Сходство между 'ответ' и 'запрос': {similarity}\")"
   ]
  },
  {
   "cell_type": "code",
   "execution_count": 156,
   "id": "7fd2d7f1-14bb-4b99-aca8-2dc582b170f5",
   "metadata": {},
   "outputs": [
    {
     "data": {
      "text/plain": [
       "[('внести', 0.6795409917831421),\n",
       " ('tele2-тема', 0.6454945802688599),\n",
       " ('push-уведомление', 0.6222384572029114),\n",
       " ('весь', 0.6056075692176819),\n",
       " ('ннажимать', 0.5958287119865417)]"
      ]
     },
     "execution_count": 156,
     "metadata": {},
     "output_type": "execute_result"
    }
   ],
   "source": [
    "w2v_model.wv.most_similar('список', topn=5)"
   ]
  },
  {
   "cell_type": "code",
   "execution_count": 158,
   "id": "42cf07b5-6437-4787-a77b-7a236d10a385",
   "metadata": {},
   "outputs": [],
   "source": [
    "# w2v_model.save(\"word2vec.model\")"
   ]
  },
  {
   "cell_type": "markdown",
   "id": "33e07fa3-f841-406d-870e-9962c635448b",
   "metadata": {},
   "source": [
    "# Word2Vec"
   ]
  },
  {
   "cell_type": "code",
   "execution_count": 170,
   "id": "fbe8bba7-e7ed-4055-ba66-510776c3f929",
   "metadata": {},
   "outputs": [],
   "source": [
    "w2v_model = gensim.models.Word2Vec.load(\"word2vec.model\")\n",
    "\n",
    "df.texts_cmb = df.texts_cmb.astype(str)\n",
    "texts_tokenized = [text.split() for text in df['texts_cmb']]"
   ]
  },
  {
   "cell_type": "code",
   "execution_count": 171,
   "id": "5a6c30fb-4432-4b8a-8710-901f6c26156c",
   "metadata": {},
   "outputs": [],
   "source": [
    "def get_mean_vector(text):\n",
    "    words = [w for w in text if w in w2v_model.wv]\n",
    "    return np.mean(w2v_model.wv[words], axis=0) if words else np.zeros(w2v_model.vector_size)\n",
    "\n",
    "df['mean_vector'] = df['texts_cmb'].apply(lambda x: get_mean_vector(x))"
   ]
  },
  {
   "cell_type": "code",
   "execution_count": 173,
   "id": "73c4331c-c84f-4b8e-93f8-9c0bb35ad103",
   "metadata": {},
   "outputs": [],
   "source": [
    "articles_df['mean_vector'] = articles_df['texts_cmb'].apply(lambda x: get_mean_vector(x))"
   ]
  },
  {
   "cell_type": "markdown",
   "id": "3583b82c-acbf-4559-b589-9eac485ba40e",
   "metadata": {},
   "source": [
    "## SVM"
   ]
  },
  {
   "cell_type": "code",
   "execution_count": 179,
   "id": "44e20c85-ac11-4bf9-832a-926e5a4938ec",
   "metadata": {},
   "outputs": [],
   "source": [
    "X = np.array([get_mean_vector(text) for text in df['texts_cmb']])\n",
    "y = df['cluster'].astype('int')"
   ]
  },
  {
   "cell_type": "code",
   "execution_count": 180,
   "id": "30961545-da5d-460a-8b34-ab5e6c619931",
   "metadata": {},
   "outputs": [],
   "source": [
    "X_train, X_test, y_train, y_test = train_test_split(X, y, test_size=0.75, random_state=42)"
   ]
  },
  {
   "cell_type": "code",
   "execution_count": 181,
   "id": "335639eb-91a3-4fdb-8a47-00159b4b31a2",
   "metadata": {},
   "outputs": [
    {
     "name": "stdout",
     "output_type": "stream",
     "text": [
      "y_train cluster\n",
      "1     0.408658\n",
      "4     0.182685\n",
      "9     0.118745\n",
      "6     0.081414\n",
      "5     0.051628\n",
      "3     0.046863\n",
      "10    0.034948\n",
      "7     0.030977\n",
      "8     0.028594\n",
      "2     0.015488\n",
      "Name: proportion, dtype: float64\n",
      "y_test cluster\n",
      "1     0.405878\n",
      "4     0.194996\n",
      "9     0.118745\n",
      "6     0.069367\n",
      "5     0.047922\n",
      "3     0.041038\n",
      "10    0.037464\n",
      "7     0.033757\n",
      "8     0.033227\n",
      "2     0.017607\n",
      "Name: proportion, dtype: float64\n"
     ]
    }
   ],
   "source": [
    "# Посмотрим на рапределение классов в тесте и трейне\n",
    "print('y_train', y_train.value_counts(normalize=True))\n",
    "print('y_test', y_test.value_counts(normalize=True))"
   ]
  },
  {
   "cell_type": "code",
   "execution_count": 182,
   "id": "51591127-2dfd-4aea-aebb-e5a62d60f1f9",
   "metadata": {},
   "outputs": [
    {
     "data": {
      "image/png": "[encoded data removed]",
      "text/plain": [
       "<Figure size 500x500 with 1 Axes>"
      ]
     },
     "metadata": {},
     "output_type": "display_data"
    }
   ],
   "source": [
    "scaler = MinMaxScaler()\n",
    "scaler.fit(X_train)\n",
    "X_train = scaler.transform(X_train)\n",
    "X_test = scaler.transform(X_test)\n",
    "\n",
    "# Perform PCA Decomposition on both train and test sets\n",
    "pca = PCA(n_components=2)\n",
    "pca.fit(X_train)\n",
    "X_train_pca = pca.transform(X_train)\n",
    "X_test_pca = pca.transform(X_test)\n",
    "\n",
    "def plot_data(X,y,ax,title):\n",
    "    ax.scatter(X[:, 0], X[:, 1], c=y, alpha=0.5, s = 30, edgecolor=(1, 0, 0, 0.5))\n",
    "    ax.set_ylabel('Principle Component 1')\n",
    "    ax.set_xlabel('Principle Component 2')\n",
    "    if title is not None:\n",
    "        ax.set_title(title)\n",
    "\n",
    "# Plot dataset\n",
    "fig,ax = plt.subplots(figsize=(5, 5))\n",
    "plot_data(X_train_pca, y_train, ax, title='Original Dataset')"
   ]
  },
  {
   "cell_type": "code",
   "execution_count": 189,
   "id": "4e98d340-605a-46a5-abf2-3d700dfa76f7",
   "metadata": {},
   "outputs": [
    {
     "name": "stdout",
     "output_type": "stream",
     "text": [
      "Best Parameters: {'C': 10, 'decision_function_shape': 'ovr', 'gamma': 1, 'kernel': 'poly'}\n",
      "Best Score: 0.8757045031398908\n"
     ]
    }
   ],
   "source": [
    "from sklearn.svm import SVC\n",
    "from sklearn.model_selection import GridSearchCV\n",
    "\n",
    "param_grid = {\n",
    "    'C': [0.1, 1, 10, 100],  # Regularization parameter\n",
    "    'kernel': ['linear', 'rbf', 'poly'], # Kernel type\n",
    "    'gamma': ['scale', 'auto', 0.1, 1, 10], # Kernel coefficient for 'rbf', 'poly' and 'sigmoid'\n",
    "    'decision_function_shape':['ovr']\n",
    "}\n",
    "\n",
    "svc = SVC()\n",
    "grid_search = GridSearchCV(estimator=svc, param_grid=param_grid, scoring='accuracy', cv=5)\n",
    "grid_search.fit(X_train, y_train)\n",
    "\n",
    "# Print the best parameters and score\n",
    "print(\"Best Parameters:\", grid_search.best_params_)\n",
    "print(\"Best Score:\", grid_search.best_score_)"
   ]
  },
  {
   "cell_type": "code",
   "execution_count": 194,
   "id": "70e518c4-24ad-4fce-9f1b-53f8406ed243",
   "metadata": {},
   "outputs": [
    {
     "name": "stdout",
     "output_type": "stream",
     "text": [
      "Точность классификации: 0.8786\n",
      "\n",
      "Отчет о классификации:\n",
      "               precision    recall  f1-score   support\n",
      "\n",
      "           1       0.99      0.98      0.98      3066\n",
      "           2       0.64      0.73      0.68       133\n",
      "           3       0.75      0.74      0.75       310\n",
      "           4       0.77      0.88      0.82      1473\n",
      "           5       0.86      0.83      0.85       362\n",
      "           6       0.94      0.93      0.93       524\n",
      "           7       0.73      0.80      0.76       255\n",
      "           8       0.67      0.48      0.56       251\n",
      "           9       0.90      0.88      0.89       897\n",
      "          10       0.66      0.42      0.52       283\n",
      "\n",
      "    accuracy                           0.88      7554\n",
      "   macro avg       0.79      0.77      0.77      7554\n",
      "weighted avg       0.88      0.88      0.88      7554\n",
      "\n"
     ]
    }
   ],
   "source": [
    "# Создаем модель SVM для многоклассовой классификации\n",
    "svm_model = SVC(kernel='poly', decision_function_shape='ovr', gamma=1)\n",
    "\n",
    "svm_model.fit(X_train, y_train)\n",
    "y_pred = svm_model.predict(X_test)\n",
    "\n",
    "\n",
    "accuracy = accuracy_score(y_test, y_pred)\n",
    "print(f\"Точность классификации: {accuracy:.4f}\")\n",
    "print(\"\\nОтчет о классификации:\\n\", classification_report(y_test, y_pred))"
   ]
  },
  {
   "cell_type": "markdown",
   "id": "ac492cd3-9135-488b-ada6-4b65f503c248",
   "metadata": {},
   "source": [
    "### Random Oversampling"
   ]
  },
  {
   "cell_type": "code",
   "execution_count": 195,
   "id": "89b17fc2-f21a-4b18-8463-5a339a61799e",
   "metadata": {},
   "outputs": [
    {
     "data": {
      "image/png": "[encoded data removed]",
      "text/plain": [
       "<Figure size 500x500 with 1 Axes>"
      ]
     },
     "metadata": {},
     "output_type": "display_data"
    }
   ],
   "source": [
    "from imblearn.over_sampling import RandomOverSampler\n",
    "\n",
    "# Perform random oversampling\n",
    "ros = RandomOverSampler(random_state=0)\n",
    "X_train_ros, y_train_ros = ros.fit_resample(X_train, y_train)\n",
    "\n",
    "fig,ax = plt.subplots(figsize=(5, 5))\n",
    "plot_data(X_train_ros, y_train_ros, ax, title='Original Dataset')"
   ]
  },
  {
   "cell_type": "code",
   "execution_count": 203,
   "id": "5efab19c-7eeb-4110-b608-a7a36b46f7ca",
   "metadata": {},
   "outputs": [
    {
     "name": "stdout",
     "output_type": "stream",
     "text": [
      "Точность классификации: 0.8786\n",
      "\n",
      "Отчет о классификации:\n",
      "               precision    recall  f1-score   support\n",
      "\n",
      "           1       0.98      0.98      0.98      3066\n",
      "           2       0.52      0.81      0.63       133\n",
      "           3       0.58      0.84      0.69       310\n",
      "           4       0.86      0.77      0.81      1473\n",
      "           5       0.84      0.83      0.84       362\n",
      "           6       0.94      0.91      0.93       524\n",
      "           7       0.80      0.86      0.83       255\n",
      "           8       0.72      0.86      0.79       251\n",
      "           9       0.91      0.88      0.90       897\n",
      "          10       0.61      0.52      0.56       283\n",
      "\n",
      "    accuracy                           0.88      7554\n",
      "   macro avg       0.78      0.83      0.79      7554\n",
      "weighted avg       0.89      0.88      0.88      7554\n",
      "\n"
     ]
    }
   ],
   "source": [
    "# Train SVC on randomly oversampled data\n",
    "clf_ros = SVC(kernel='poly', decision_function_shape='ovr', gamma=1)\n",
    "clf_ros.fit(X_train_ros, y_train_ros)\n",
    "y_pred_ros = clf_ros.predict(X_test)\n",
    "\n",
    "\n",
    "accuracy = accuracy_score(y_test, y_pred_ros)\n",
    "print(f\"Точность классификации: {accuracy:.4f}\")\n",
    "print(\"\\nОтчет о классификации:\\n\", classification_report(y_test, y_pred_ros))"
   ]
  },
  {
   "cell_type": "markdown",
   "id": "0e948482-5ad7-4750-933a-526449be8831",
   "metadata": {},
   "source": [
    "## Undersampling"
   ]
  },
  {
   "cell_type": "code",
   "execution_count": 198,
   "id": "36509bec-0d84-4ebe-bca7-c3ad6f366c79",
   "metadata": {},
   "outputs": [
    {
     "data": {
      "image/png": "[encoded data removed]",
      "text/plain": [
       "<Figure size 500x500 with 1 Axes>"
      ]
     },
     "metadata": {},
     "output_type": "display_data"
    }
   ],
   "source": [
    "from imblearn.under_sampling import RandomUnderSampler\n",
    "\n",
    "# Perform random sampling\n",
    "rus = RandomUnderSampler(random_state=0)\n",
    "X_train_rus, y_train_rus = rus.fit_resample(X_train, y_train)\n",
    "\n",
    "fig,ax = plt.subplots(figsize=(5, 5))\n",
    "plot_data(X_train_rus, y_train_rus, ax, title='Original Dataset')"
   ]
  },
  {
   "cell_type": "code",
   "execution_count": 200,
   "id": "7fa8c7d2-9b59-4bda-9230-59ece110a73a",
   "metadata": {},
   "outputs": [
    {
     "name": "stdout",
     "output_type": "stream",
     "text": [
      "Точность классификации: 0.8054\n",
      "\n",
      "Отчет о классификации:\n",
      "               precision    recall  f1-score   support\n",
      "\n",
      "           1       0.96      0.97      0.96      3066\n",
      "           2       0.43      0.83      0.56       133\n",
      "           3       0.41      0.77      0.54       310\n",
      "           4       0.80      0.50      0.61      1473\n",
      "           5       0.78      0.79      0.78       362\n",
      "           6       0.94      0.90      0.92       524\n",
      "           7       0.48      0.82      0.61       255\n",
      "           8       0.65      0.60      0.62       251\n",
      "           9       0.88      0.85      0.86       897\n",
      "          10       0.52      0.53      0.52       283\n",
      "\n",
      "    accuracy                           0.81      7554\n",
      "   macro avg       0.68      0.75      0.70      7554\n",
      "weighted avg       0.83      0.81      0.81      7554\n",
      "\n"
     ]
    }
   ],
   "source": [
    "# Train SVC on randomly undersampled data\n",
    "clf_rus = SVC(kernel='poly', decision_function_shape='ovr', gamma=1)\n",
    "clf_rus.fit(X_train_rus, y_train_rus)\n",
    "y_pred_rus = clf_rus.predict(X_test)\n",
    "\n",
    "\n",
    "accuracy = accuracy_score(y_test, y_pred_rus)\n",
    "print(f\"Точность классификации: {accuracy:.4f}\")\n",
    "print(\"\\nОтчет о классификации:\\n\", classification_report(y_test, y_pred_rus))"
   ]
  },
  {
   "cell_type": "markdown",
   "id": "93d97ba9-f235-4179-9bcd-e4400a09ba0f",
   "metadata": {},
   "source": [
    "## Class weights\n"
   ]
  },
  {
   "cell_type": "code",
   "execution_count": 201,
   "id": "0d91ddc6-23ad-4d2b-a159-83b3f574cfe1",
   "metadata": {},
   "outputs": [
    {
     "name": "stdout",
     "output_type": "stream",
     "text": [
      "Точность классификации: 0.8643\n",
      "\n",
      "Отчет о классификации:\n",
      "               precision    recall  f1-score   support\n",
      "\n",
      "           1       0.98      0.97      0.98      3066\n",
      "           2       0.50      0.79      0.61       133\n",
      "           3       0.63      0.84      0.72       310\n",
      "           4       0.85      0.69      0.76      1473\n",
      "           5       0.85      0.83      0.84       362\n",
      "           6       0.95      0.92      0.94       524\n",
      "           7       0.60      0.88      0.72       255\n",
      "           8       0.67      0.88      0.76       251\n",
      "           9       0.91      0.87      0.89       897\n",
      "          10       0.55      0.53      0.54       283\n",
      "\n",
      "    accuracy                           0.86      7554\n",
      "   macro avg       0.75      0.82      0.78      7554\n",
      "weighted avg       0.88      0.86      0.87      7554\n",
      "\n"
     ]
    }
   ],
   "source": [
    "# Train SVC on default data\n",
    "clf_bal = SVC(kernel='poly', decision_function_shape='ovr', gamma=1, class_weight='balanced')\n",
    "clf_bal.fit(X_train, y_train)\n",
    "y_pred_rus = clf_bal.predict(X_test)\n",
    "\n",
    "accuracy = accuracy_score(y_test, y_pred_rus)\n",
    "print(f\"Точность классификации: {accuracy:.4f}\")\n",
    "print(\"\\nОтчет о классификации:\\n\", classification_report(y_test, y_pred_rus))"
   ]
  },
  {
   "cell_type": "markdown",
   "id": "48072d35-79e4-44b3-a34c-6662aa671284",
   "metadata": {},
   "source": [
    "Анализ результатов SVM модели для многоклассовой классификации\n",
    "\n",
    "Общая точность 0.8786:\n",
    "\n",
    "1. Классы с высокой точностью:\n",
    "Класс 1:\n",
    "Precision = 0.99, Recall = 0.98, F1-score = 0.98.\n",
    "Модель практически всегда правильно классифицирует примеры этого класса.\n",
    "Этот класс содержит наибольшее количество тикетов, что может объяснять высокую точность.\n",
    "Классы 6 и 9:\n",
    "Класс 6: Precision = 0.94, Recall = 0.93, F1-score = 0.93.\n",
    "Класс 9: Precision = 0.90, Recall = 0.88, F1-score = 0.89.\n",
    "Оба класса имеют хорошие результаты, что указывает на уверенную работу модели.\n",
    "\n",
    "2. Классы со средней точностью:\n",
    "Класс 4:\n",
    "Precision = 0.77, Recall = 0.88, F1-score = 0.82.\n",
    "Несмотря на не самый высокий precision, модель хорошо классифиирует этого класса.\n",
    "Класс 5:\n",
    "Precision = 0.86, Recall = 0.83, F1-score = 0.85.\n",
    "Средняя точность, но приемлемые результаты.\n",
    "Класс 3:\n",
    "Precision = 0.75, Recall = 0.74, F1-score = 0.75.\n",
    "Значения сбалансированы, хотя точность и полнота могли бы быть выше.\n",
    "\n",
    "3. Классы с низкой точностью:\n",
    "Класс 8:\n",
    "Precision = 0.67, Recall = 0.48, F1-score = 0.56.\n",
    "Низкий recall (0.48) говорит о том, что модель пропускает значительное количество примеров этого класса.\n",
    "Возможно, проблема связана с малым количеством данных или схожестью признаков с другими классами.\n",
    "Класс 10:\n",
    "Precision = 0.66, Recall = 0.42, F1-score = 0.52.\n",
    "Очень низкий recall, так что модель плохо классифицирует этот класс.\n",
    "Класс 2:\n",
    "Precision = 0.64, Recall = 0.73, F1-score = 0.68.\n",
    "Сравнительно низкая точность, хотя recall выше.\n",
    "\n",
    "Общие выводы:\n",
    "Дисбаланс классов:\n",
    "Класс 1 содержит 40% тикетов, а некоторые другие классы, например, классы 2 (133) и 10 (283), содержат значительно меньше данных.\n",
    "\n",
    "Такой дисбаланс влияет на производительность модели, так как алгоритм SVM часто уделяет больше внимания более частым классам.\n",
    "\n",
    "Причины могут включать:\n",
    "- Плохое разделение признаков между этими классами и другими.\n",
    "- Малое количество данных в этих классах.\n",
    "\n",
    "Macro average: Precision = 0.79, Recall = 0.77, F1-score = 0.77.\n",
    "Эти значения усредняют метрики по всем классам и показывают, что модель работает не идеально для редких классов.\n",
    "Weighted average: Precision = 0.88, Recall = 0.88, F1-score = 0.88.\n",
    "Взвешенные значения выше из-за большого количества примеров класса 1.\n",
    "\n",
    "\n",
    "Таким образом, модель показывает хорошую производительность в целом, но требует доработки для редких классов (особенно классы 8 и 10). Использование взвешенных весов классов и оптимизация параметров поможет улучшить результаты."
   ]
  }
 ],
 "metadata": {
  "kernelspec": {
   "display_name": "Python 3 (ipykernel)",
   "language": "python",
   "name": "python3"
  },
  "language_info": {
   "codemirror_mode": {
    "name": "ipython",
    "version": 3
   },
   "file_extension": ".py",
   "mimetype": "text/x-python",
   "name": "python",
   "nbconvert_exporter": "python",
   "pygments_lexer": "ipython3",
   "version": "3.11.7"
  },
  "widgets": {
   "application/vnd.jupyter.widget-state+json": {
    "state": {},
    "version_major": 2,
    "version_minor": 0
   }
  }
 },
 "nbformat": 4,
 "nbformat_minor": 5
}
