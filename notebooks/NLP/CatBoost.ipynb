{
 "cells": [
  {
   "cell_type": "code",
   "execution_count": 1,
   "id": "4cfa9519-809a-4d05-9f13-9db6f53fbf7d",
   "metadata": {},
   "outputs": [],
   "source": [
    "# !pip install catboost -q\n",
    "# !pip install optuna -q\n",
    "\n",
    "import pandas as pd\n",
    "import numpy as np\n",
    "import sklearn\n",
    "from sentence_transformers import SentenceTransformer\n",
    "from sklearn.model_selection import train_test_split, GridSearchCV, RandomizedSearchCV\n",
    "from sklearn.compose import ColumnTransformer\n",
    "from sklearn.preprocessing import FunctionTransformer\n",
    "from sklearn.preprocessing import OneHotEncoder, StandardScaler, KBinsDiscretizer\n",
    "import lightgbm as lgb\n",
    "from sklearn.model_selection import RandomizedSearchCV, cross_val_score\n",
    "from sklearn.pipeline import Pipeline\n",
    "from sklearn.impute import SimpleImputer\n",
    "import matplotlib.pyplot as plt\n",
    "import seaborn as sns\n",
    "import pickle\n",
    "import category_encoders\n",
    "import matplotlib.gridspec as gridspec\n",
    "import matplotlib.pyplot as plt\n",
    "import numpy as np\n",
    "import pandas as pd\n",
    "from mlxtend.plotting import plot_decision_regions\n",
    "from sklearn.datasets import load_iris\n",
    "from sklearn.linear_model import LogisticRegression\n",
    "from catboost import CatBoostClassifier\n",
    "from sklearn.model_selection import cross_validate, train_test_split\n",
    "from sklearn.preprocessing import MinMaxScaler\n",
    "from sklearn.decomposition import PCA\n",
    "from sklearn.multiclass import OneVsRestClassifier\n",
    "import numpy as np\n",
    "import seaborn as sns\n",
    "import copy\n",
    "import time\n",
    "from sklearn.metrics.pairwise import cosine_similarity\n",
    "from sklearn.metrics.pairwise import euclidean_distances\n",
    "from sklearn.metrics import silhouette_score\n",
    "from sklearn.feature_extraction.text import TfidfVectorizer\n",
    "from sklearn.svm import SVC\n",
    "from sklearn.metrics import classification_report, roc_auc_score\n",
    "import ast\n",
    "import warnings\n",
    "\n",
    "sklearn.set_config(transform_output=\"pandas\")\n",
    "warnings.filterwarnings('ignore')"
   ]
  },
  {
   "cell_type": "code",
   "execution_count": 2,
   "id": "15f4cffc-69bb-4df8-9e0c-417fab5cf7a2",
   "metadata": {},
   "outputs": [],
   "source": [
    "df = pd.read_csv('../../data/nlp/nlp_tickets_train.csv', sep=';')\n",
    "dt = pd.read_csv('../../data/nlp/nlp_tickets_test.csv', sep=';')\n",
    "X_train, y_train = df[\"vector\"], df[\"cluster\"]\n",
    "X_test, y_test = dt[\"vector\"], dt[\"cluster\"]"
   ]
  },
  {
   "cell_type": "code",
   "execution_count": 3,
   "id": "9e018e62-9c1f-4495-bf20-cd149e17a664",
   "metadata": {},
   "outputs": [],
   "source": [
    "def vector_transform(data) -> np.ndarray:\n",
    "    \"\"\"\n",
    "    Transform the input data into a list of numpy arrays,\n",
    "    where each element is a vector representation of a text document.\n",
    "    :param data: pd.Series\n",
    "    :return: np.ndarray: Transformed data as a list of numpy arrays,\n",
    "    where each element is a vector representation of a text document.\n",
    "    \"\"\"\n",
    "    data = data.apply(ast.literal_eval)\n",
    "    return np.vstack(data)"
   ]
  },
  {
   "cell_type": "code",
   "execution_count": 4,
   "id": "0b5eefc6-4a2d-4207-924b-e4df85a469a5",
   "metadata": {},
   "outputs": [],
   "source": [
    "X_train = vector_transform(X_train)\n",
    "X_test = vector_transform(X_test)"
   ]
  },
  {
   "cell_type": "markdown",
   "id": "513a0d3d-2df6-4370-bf10-425eaf9137e0",
   "metadata": {
    "jp-MarkdownHeadingCollapsed": true
   },
   "source": [
    "### Logistic regression"
   ]
  },
  {
   "cell_type": "code",
   "execution_count": 60,
   "id": "5dbfb57e-4583-4ea3-8ed5-e33cd06ce4bc",
   "metadata": {},
   "outputs": [
    {
     "name": "stdout",
     "output_type": "stream",
     "text": [
      "Logistic regression roc_auc 0.9081537041286649\n"
     ]
    }
   ],
   "source": [
    "model = OneVsRestClassifier(LogisticRegression(solver='lbfgs'))\n",
    "model.fit(X_train, y_train)\n",
    "y_pred_proba = model.predict_proba(X_test)\n",
    "y_pred = model.predict(X_test)\n",
    "roc_auc = roc_auc_score(y_test, y_pred_proba, multi_class=\"ovr\")\n",
    "print(f'Logistic regression roc_auc {roc_auc}')"
   ]
  },
  {
   "cell_type": "code",
   "execution_count": 70,
   "id": "7a58320f-9127-4d7c-8573-cf0aad764876",
   "metadata": {},
   "outputs": [
    {
     "name": "stdout",
     "output_type": "stream",
     "text": [
      "\n",
      "Отчет о классификации:\n",
      "               precision    recall  f1-score   support\n",
      "\n",
      "           1       0.92      0.97      0.95      3066\n",
      "           2       0.00      0.00      0.00       133\n",
      "           3       0.80      0.01      0.03       310\n",
      "           4       0.52      0.77      0.62      1473\n",
      "           5       0.69      0.09      0.16       362\n",
      "           6       0.36      0.59      0.44       524\n",
      "           7       0.00      0.00      0.00       255\n",
      "           8       0.00      0.00      0.00       251\n",
      "           9       0.70      0.86      0.77       897\n",
      "          10       0.70      0.28      0.40       283\n",
      "\n",
      "    accuracy                           0.70      7554\n",
      "   macro avg       0.47      0.36      0.34      7554\n",
      "weighted avg       0.68      0.70      0.65      7554\n",
      "\n"
     ]
    }
   ],
   "source": [
    "print(\"\\nОтчет о классификации:\\n\", classification_report(y_test, y_pred))"
   ]
  },
  {
   "cell_type": "markdown",
   "id": "63ff0466-4c07-497c-93dd-b162dd8c1c30",
   "metadata": {
    "jp-MarkdownHeadingCollapsed": true
   },
   "source": [
    "### SVC"
   ]
  },
  {
   "cell_type": "code",
   "execution_count": 75,
   "id": "7cdef25f-6e22-490c-a7fc-ea9a820773c7",
   "metadata": {
    "scrolled": true
   },
   "outputs": [
    {
     "name": "stdout",
     "output_type": "stream",
     "text": [
      "SVC roc_auc 0.9350905553202118\n"
     ]
    }
   ],
   "source": [
    "class Config:\n",
    "    def __init__(self):\n",
    "        self.C = 1.0 \n",
    "        self.kernel = \"rbf\"\n",
    "        self.class_weight = \"balanced\"\n",
    "\n",
    "config = Config()\n",
    "\n",
    "# Обучение модели\n",
    "model = SVC(\n",
    "    C=config.C,\n",
    "    kernel=config.kernel,\n",
    "    class_weight=config.class_weight,\n",
    "    decision_function_shape=\"ovr\",\n",
    "    probability=True,\n",
    ")\n",
    "model.fit(X_train, y_train)\n",
    "y_pred_proba = model.predict_proba(X_test)\n",
    "y_pred = model.predict(X_test)\n",
    "\n",
    "roc_auc = roc_auc_score(y_test, y_pred_proba, multi_class=\"ovr\")\n",
    "print(f'SVC roc_auc {roc_auc}')"
   ]
  },
  {
   "cell_type": "code",
   "execution_count": 77,
   "id": "fd7b9384-a89c-4679-8f83-c4c80e02f139",
   "metadata": {},
   "outputs": [
    {
     "name": "stdout",
     "output_type": "stream",
     "text": [
      "\n",
      "Отчет о классификации:\n",
      "               precision    recall  f1-score   support\n",
      "\n",
      "           1       0.97      0.97      0.97      3066\n",
      "           2       0.25      0.77      0.38       133\n",
      "           3       0.53      0.60      0.56       310\n",
      "           4       0.79      0.46      0.58      1473\n",
      "           5       0.44      0.61      0.51       362\n",
      "           6       0.65      0.90      0.75       524\n",
      "           7       0.40      0.77      0.53       255\n",
      "           8       0.25      0.32      0.28       251\n",
      "           9       0.95      0.72      0.81       897\n",
      "          10       0.74      0.44      0.55       283\n",
      "\n",
      "    accuracy                           0.75      7554\n",
      "   macro avg       0.60      0.65      0.59      7554\n",
      "weighted avg       0.80      0.75      0.76      7554\n",
      "\n"
     ]
    }
   ],
   "source": [
    "print(\"\\nОтчет о классификации:\\n\", classification_report(y_test, y_pred))"
   ]
  },
  {
   "cell_type": "markdown",
   "id": "00575173-21a6-49ff-b9ad-a6dd729cb6cd",
   "metadata": {},
   "source": [
    "### Catboost"
   ]
  },
  {
   "cell_type": "code",
   "execution_count": 9,
   "id": "6fbe6f4e-303a-4bda-aec9-9fe6c5e043ff",
   "metadata": {},
   "outputs": [
    {
     "name": "stdout",
     "output_type": "stream",
     "text": [
      "0:\tlearn: 1.8545316\ttotal: 212ms\tremaining: 3m 32s\n",
      "100:\tlearn: 0.3423164\ttotal: 8.39s\tremaining: 1m 14s\n",
      "200:\tlearn: 0.2215941\ttotal: 16.6s\tremaining: 1m 5s\n",
      "300:\tlearn: 0.1592655\ttotal: 24.8s\tremaining: 57.7s\n",
      "400:\tlearn: 0.1186335\ttotal: 33.9s\tremaining: 50.6s\n",
      "500:\tlearn: 0.0949126\ttotal: 42.6s\tremaining: 42.4s\n",
      "600:\tlearn: 0.0759704\ttotal: 51.2s\tremaining: 34s\n",
      "700:\tlearn: 0.0635899\ttotal: 59.2s\tremaining: 25.3s\n",
      "800:\tlearn: 0.0553164\ttotal: 1m 7s\tremaining: 16.7s\n",
      "900:\tlearn: 0.0492554\ttotal: 1m 15s\tremaining: 8.28s\n",
      "999:\tlearn: 0.0439376\ttotal: 1m 23s\tremaining: 0us\n",
      "CatBoost roc_auc 0.9835091518154669\n"
     ]
    }
   ],
   "source": [
    "class Config:\n",
    "    def __init__(self):\n",
    "        self.iterations = 1000\n",
    "        self.learning_rate = 0.1 \n",
    "        self.depth = 6 \n",
    "        self.l2_leaf_reg = 3 \n",
    "        self.loss_function = \"MultiClass\"\n",
    "        self.eval_metric = \"MultiClass\"\n",
    "        self.verbose = 100\n",
    "        self.random_seed = 42\n",
    "\n",
    "config = Config()\n",
    "\n",
    "# Обучение модели\n",
    "model = CatBoostClassifier(\n",
    "    iterations=config.iterations,\n",
    "    learning_rate=config.learning_rate,\n",
    "    depth=config.depth,\n",
    "    l2_leaf_reg=config.l2_leaf_reg,\n",
    "    loss_function=config.loss_function,\n",
    "    eval_metric=config.eval_metric,\n",
    "    verbose=config.verbose,\n",
    "    random_seed=config.random_seed,\n",
    ")\n",
    "model.fit(X_train, y_train)\n",
    "\n",
    "y_pred_proba = model.predict_proba(X_test)\n",
    "y_pred = np.argmax(y_pred_proba, axis=1)\n",
    "y_pred = y_pred + 1\n",
    "roc_auc = roc_auc_score(y_test, y_pred_proba, multi_class=\"ovr\")\n",
    "\n",
    "print(f'CatBoost roc_auc {roc_auc}')"
   ]
  },
  {
   "cell_type": "code",
   "execution_count": 137,
   "id": "e8def9dd-a185-43d5-a5b0-deb4f03d20f7",
   "metadata": {},
   "outputs": [
    {
     "name": "stdout",
     "output_type": "stream",
     "text": [
      "\n",
      "Отчет о классификации:\n",
      "               precision    recall  f1-score   support\n",
      "\n",
      "           1       0.98      0.98      0.98      3066\n",
      "           2       0.72      0.59      0.65       133\n",
      "           3       0.83      0.69      0.75       310\n",
      "           4       0.78      0.88      0.82      1473\n",
      "           5       0.76      0.75      0.75       362\n",
      "           6       0.94      0.92      0.93       524\n",
      "           7       0.85      0.85      0.85       255\n",
      "           8       0.83      0.77      0.80       251\n",
      "           9       0.90      0.89      0.89       897\n",
      "          10       0.59      0.45      0.51       283\n",
      "\n",
      "    accuracy                           0.88      7554\n",
      "   macro avg       0.82      0.78      0.79      7554\n",
      "weighted avg       0.88      0.88      0.88      7554\n",
      "\n"
     ]
    }
   ],
   "source": [
    "print(\"\\nОтчет о классификации:\\n\", classification_report(y_test, y_pred))"
   ]
  },
  {
   "cell_type": "markdown",
   "id": "2636ce5e-fa86-47ac-a683-a38617eeb5db",
   "metadata": {},
   "source": [
    "### Optuna + CatBoost"
   ]
  },
  {
   "cell_type": "code",
   "execution_count": 13,
   "id": "a1b44010-19e3-4bea-8629-cf7ef2a84c8c",
   "metadata": {},
   "outputs": [
    {
     "name": "stderr",
     "output_type": "stream",
     "text": [
      "[I 2025-03-13 17:12:59,023] A new study created in memory with name: no-name-94b5666f-328f-4f30-8fd2-ee03546feb64\n",
      "[I 2025-03-13 17:14:46,991] Trial 0 finished with value: 0.9737443920986146 and parameters: {'iterations': 1256, 'learning_rate': 0.04641003910597425, 'depth': 6, 'l2_leaf_reg': 7.033466105378084}. Best is trial 0 with value: 0.9737443920986146.\n",
      "[I 2025-03-13 17:14:54,684] Trial 1 finished with value: 0.9720670592856127 and parameters: {'iterations': 1255, 'learning_rate': 0.11003676029958401, 'depth': 4, 'l2_leaf_reg': 1.5558775129112727}. Best is trial 0 with value: 0.9737443920986146.\n",
      "[I 2025-03-13 17:15:45,284] Trial 2 finished with value: 0.971423731198011 and parameters: {'iterations': 1502, 'learning_rate': 0.013716958648742216, 'depth': 5, 'l2_leaf_reg': 1.1459348912153393}. Best is trial 0 with value: 0.9737443920986146.\n",
      "[I 2025-03-13 17:19:21,046] Trial 3 finished with value: 0.9725469386047297 and parameters: {'iterations': 1200, 'learning_rate': 0.013789459956499248, 'depth': 7, 'l2_leaf_reg': 2.240705605041705}. Best is trial 0 with value: 0.9737443920986146.\n",
      "[I 2025-03-13 17:19:34,776] Trial 4 finished with value: 0.9730482540383413 and parameters: {'iterations': 731, 'learning_rate': 0.17991403319308938, 'depth': 5, 'l2_leaf_reg': 3.4890278567434927}. Best is trial 0 with value: 0.9737443920986146.\n",
      "[I 2025-03-13 17:26:24,117] Trial 5 finished with value: 0.9751116731823931 and parameters: {'iterations': 691, 'learning_rate': 0.22805672444373828, 'depth': 10, 'l2_leaf_reg': 5.345830154396855}. Best is trial 5 with value: 0.9751116731823931.\n",
      "[I 2025-03-13 17:29:29,990] Trial 6 finished with value: 0.9718144005268972 and parameters: {'iterations': 830, 'learning_rate': 0.1602413089525027, 'depth': 10, 'l2_leaf_reg': 1.1752913114855483}. Best is trial 5 with value: 0.9751116731823931.\n",
      "[I 2025-03-13 17:29:53,866] Trial 7 finished with value: 0.9740391206679343 and parameters: {'iterations': 1098, 'learning_rate': 0.04545450006101883, 'depth': 5, 'l2_leaf_reg': 1.4296279423192924}. Best is trial 5 with value: 0.9751116731823931.\n",
      "[I 2025-03-13 17:30:21,050] Trial 8 finished with value: 0.9699213709635343 and parameters: {'iterations': 1792, 'learning_rate': 0.029089270763923453, 'depth': 4, 'l2_leaf_reg': 4.833326044279646}. Best is trial 5 with value: 0.9751116731823931.\n",
      "[I 2025-03-13 17:30:25,574] Trial 9 finished with value: 0.9719089307668289 and parameters: {'iterations': 1199, 'learning_rate': 0.2089752009903079, 'depth': 4, 'l2_leaf_reg': 2.183715052499209}. Best is trial 5 with value: 0.9751116731823931.\n",
      "[I 2025-03-13 17:37:00,297] Trial 10 finished with value: 0.9748600058874823 and parameters: {'iterations': 675, 'learning_rate': 0.29258997594583375, 'depth': 10, 'l2_leaf_reg': 8.595448237379173}. Best is trial 5 with value: 0.9751116731823931.\n",
      "[I 2025-03-13 17:44:39,963] Trial 11 finished with value: 0.9731406838530455 and parameters: {'iterations': 507, 'learning_rate': 0.2876118275441433, 'depth': 10, 'l2_leaf_reg': 9.400227261148952}. Best is trial 5 with value: 0.9751116731823931.\n",
      "[I 2025-03-13 17:50:16,846] Trial 12 finished with value: 0.9751767742205268 and parameters: {'iterations': 500, 'learning_rate': 0.09566056576315336, 'depth': 9, 'l2_leaf_reg': 5.785909267738365}. Best is trial 12 with value: 0.9751767742205268.\n",
      "[I 2025-03-13 17:53:16,053] Trial 13 finished with value: 0.9762845960534966 and parameters: {'iterations': 510, 'learning_rate': 0.09211244667259973, 'depth': 8, 'l2_leaf_reg': 4.857966274106451}. Best is trial 13 with value: 0.9762845960534966.\n",
      "[I 2025-03-13 17:56:49,330] Trial 14 finished with value: 0.9746443770962271 and parameters: {'iterations': 939, 'learning_rate': 0.07912214091421753, 'depth': 8, 'l2_leaf_reg': 4.193363889077663}. Best is trial 13 with value: 0.9762845960534966.\n",
      "[I 2025-03-13 18:00:10,794] Trial 15 finished with value: 0.9741413500349136 and parameters: {'iterations': 564, 'learning_rate': 0.08448432648684331, 'depth': 8, 'l2_leaf_reg': 6.444794285505867}. Best is trial 13 with value: 0.9762845960534966.\n",
      "[I 2025-03-13 18:06:11,728] Trial 16 finished with value: 0.9739449790388821 and parameters: {'iterations': 905, 'learning_rate': 0.02719085019231715, 'depth': 8, 'l2_leaf_reg': 2.8216951536417625}. Best is trial 13 with value: 0.9762845960534966.\n",
      "[I 2025-03-13 18:10:32,272] Trial 17 finished with value: 0.9740777274418975 and parameters: {'iterations': 1841, 'learning_rate': 0.12122985751589667, 'depth': 9, 'l2_leaf_reg': 3.797352135254778}. Best is trial 13 with value: 0.9762845960534966.\n",
      "[I 2025-03-13 18:17:52,706] Trial 18 finished with value: 0.973968198462692 and parameters: {'iterations': 556, 'learning_rate': 0.0654052500728957, 'depth': 9, 'l2_leaf_reg': 5.835814214352802}. Best is trial 13 with value: 0.9762845960534966.\n",
      "[I 2025-03-13 18:21:35,756] Trial 19 finished with value: 0.9755209393124253 and parameters: {'iterations': 1462, 'learning_rate': 0.03212598541340329, 'depth': 7, 'l2_leaf_reg': 2.7678586023587517}. Best is trial 13 with value: 0.9762845960534966.\n",
      "[I 2025-03-13 18:25:42,771] Trial 20 finished with value: 0.975214501129682 and parameters: {'iterations': 1538, 'learning_rate': 0.02838038346191513, 'depth': 7, 'l2_leaf_reg': 2.724473513740331}. Best is trial 13 with value: 0.9762845960534966.\n",
      "[I 2025-03-13 18:29:32,296] Trial 21 finished with value: 0.9755706379820872 and parameters: {'iterations': 1561, 'learning_rate': 0.02684229874178262, 'depth': 7, 'l2_leaf_reg': 2.3122004891829353}. Best is trial 13 with value: 0.9762845960534966.\n",
      "[I 2025-03-13 18:31:44,657] Trial 22 finished with value: 0.9744814991373494 and parameters: {'iterations': 1518, 'learning_rate': 0.01936024732743039, 'depth': 6, 'l2_leaf_reg': 2.0499227958741666}. Best is trial 13 with value: 0.9762845960534966.\n",
      "[I 2025-03-13 18:35:15,412] Trial 23 finished with value: 0.9753115136686997 and parameters: {'iterations': 1991, 'learning_rate': 0.0342053540996845, 'depth': 7, 'l2_leaf_reg': 2.8162505633305988}. Best is trial 13 with value: 0.9762845960534966.\n",
      "[I 2025-03-13 18:37:54,385] Trial 24 finished with value: 0.9744249850379241 and parameters: {'iterations': 1642, 'learning_rate': 0.019703121098013247, 'depth': 6, 'l2_leaf_reg': 1.7079607197011302}. Best is trial 13 with value: 0.9762845960534966.\n",
      "[I 2025-03-13 18:41:15,552] Trial 25 finished with value: 0.975240447435265 and parameters: {'iterations': 1375, 'learning_rate': 0.05650355039174, 'depth': 7, 'l2_leaf_reg': 4.515841247876399}. Best is trial 13 with value: 0.9762845960534966.\n",
      "[I 2025-03-13 18:47:05,281] Trial 26 finished with value: 0.9738833434339232 and parameters: {'iterations': 1682, 'learning_rate': 0.037244060478087405, 'depth': 8, 'l2_leaf_reg': 3.098525643461571}. Best is trial 13 with value: 0.9762845960534966.\n",
      "[I 2025-03-13 18:50:56,016] Trial 27 finished with value: 0.9745827419081795 and parameters: {'iterations': 1400, 'learning_rate': 0.0195572234275165, 'depth': 7, 'l2_leaf_reg': 2.4119297479338693}. Best is trial 13 with value: 0.9762845960534966.\n",
      "[I 2025-03-13 18:51:53,929] Trial 28 finished with value: 0.9756136519660685 and parameters: {'iterations': 1078, 'learning_rate': 0.06427545072462416, 'depth': 6, 'l2_leaf_reg': 3.4918494876383868}. Best is trial 13 with value: 0.9762845960534966.\n",
      "[I 2025-03-13 18:53:21,794] Trial 29 finished with value: 0.974006484593677 and parameters: {'iterations': 1075, 'learning_rate': 0.04809945349807096, 'depth': 6, 'l2_leaf_reg': 3.4303446342047055}. Best is trial 13 with value: 0.9762845960534966.\n",
      "[I 2025-03-13 18:54:14,775] Trial 30 finished with value: 0.9748177203469979 and parameters: {'iterations': 1046, 'learning_rate': 0.06234390557710753, 'depth': 6, 'l2_leaf_reg': 1.940355892218512}. Best is trial 13 with value: 0.9762845960534966.\n",
      "[I 2025-03-13 18:57:25,087] Trial 31 finished with value: 0.9752657290221389 and parameters: {'iterations': 1362, 'learning_rate': 0.04066212142057183, 'depth': 7, 'l2_leaf_reg': 3.8893009725409886}. Best is trial 13 with value: 0.9762845960534966.\n",
      "[I 2025-03-13 18:58:57,275] Trial 32 finished with value: 0.9753298143721782 and parameters: {'iterations': 1646, 'learning_rate': 0.12697884927298764, 'depth': 8, 'l2_leaf_reg': 2.5072944630068097}. Best is trial 13 with value: 0.9762845960534966.\n",
      "[I 2025-03-13 19:00:43,832] Trial 33 finished with value: 0.9736052693687837 and parameters: {'iterations': 1292, 'learning_rate': 0.022604211825193014, 'depth': 6, 'l2_leaf_reg': 3.202627694800092}. Best is trial 13 with value: 0.9762845960534966.\n",
      "[I 2025-03-13 19:04:47,005] Trial 34 finished with value: 0.9722922427513527 and parameters: {'iterations': 1472, 'learning_rate': 0.010154279541690873, 'depth': 7, 'l2_leaf_reg': 1.7676461431215251}. Best is trial 13 with value: 0.9762845960534966.\n",
      "[I 2025-03-13 19:05:02,985] Trial 35 finished with value: 0.9731675827259659 and parameters: {'iterations': 1268, 'learning_rate': 0.07288710658858721, 'depth': 5, 'l2_leaf_reg': 1.4477311325056201}. Best is trial 13 with value: 0.9762845960534966.\n",
      "[I 2025-03-13 19:06:08,657] Trial 36 finished with value: 0.9745613045660315 and parameters: {'iterations': 1564, 'learning_rate': 0.09620110187970449, 'depth': 6, 'l2_leaf_reg': 4.968926829486804}. Best is trial 13 with value: 0.9762845960534966.\n",
      "[I 2025-03-13 19:15:37,316] Trial 37 finished with value: 0.9742102362009222 and parameters: {'iterations': 1749, 'learning_rate': 0.014894812931572769, 'depth': 8, 'l2_leaf_reg': 3.718988083446412}. Best is trial 13 with value: 0.9762845960534966.\n",
      "[I 2025-03-13 19:18:50,932] Trial 38 finished with value: 0.9741671827372296 and parameters: {'iterations': 1177, 'learning_rate': 0.05205802440890922, 'depth': 7, 'l2_leaf_reg': 7.07071370122176}. Best is trial 13 with value: 0.9762845960534966.\n",
      "[I 2025-03-13 19:26:56,774] Trial 39 finished with value: 0.9746136715169358 and parameters: {'iterations': 772, 'learning_rate': 0.0423680418695296, 'depth': 9, 'l2_leaf_reg': 4.408001983690684}. Best is trial 13 with value: 0.9762845960534966.\n",
      "[I 2025-03-13 19:27:04,421] Trial 40 finished with value: 0.9726102583033208 and parameters: {'iterations': 1913, 'learning_rate': 0.14505180368691617, 'depth': 5, 'l2_leaf_reg': 1.0123189454449257}. Best is trial 13 with value: 0.9762845960534966.\n",
      "[I 2025-03-13 19:28:40,568] Trial 41 finished with value: 0.9748228296525688 and parameters: {'iterations': 1613, 'learning_rate': 0.1174685759476286, 'depth': 8, 'l2_leaf_reg': 2.422355299363348}. Best is trial 13 with value: 0.9762845960534966.\n",
      "[I 2025-03-13 19:29:51,655] Trial 42 finished with value: 0.973071360779603 and parameters: {'iterations': 1705, 'learning_rate': 0.15339816364599282, 'depth': 8, 'l2_leaf_reg': 2.501662467351078}. Best is trial 13 with value: 0.9762845960534966.\n",
      "[I 2025-03-13 19:32:03,964] Trial 43 finished with value: 0.9751008620476908 and parameters: {'iterations': 1446, 'learning_rate': 0.09373394081796245, 'depth': 8, 'l2_leaf_reg': 2.8758188610353965}. Best is trial 13 with value: 0.9762845960534966.\n",
      "[I 2025-03-13 19:33:05,411] Trial 44 finished with value: 0.9757929352601801 and parameters: {'iterations': 1598, 'learning_rate': 0.13095726194750523, 'depth': 7, 'l2_leaf_reg': 3.2738727223142066}. Best is trial 13 with value: 0.9762845960534966.\n",
      "[I 2025-03-13 19:34:48,481] Trial 45 finished with value: 0.9742527053416122 and parameters: {'iterations': 1337, 'learning_rate': 0.03251389137886214, 'depth': 6, 'l2_leaf_reg': 3.123080569844801}. Best is trial 13 with value: 0.9762845960534966.\n",
      "[I 2025-03-13 19:35:30,902] Trial 46 finished with value: 0.9722716326052261 and parameters: {'iterations': 1570, 'learning_rate': 0.19526674196231059, 'depth': 7, 'l2_leaf_reg': 3.3362447103615933}. Best is trial 13 with value: 0.9762845960534966.\n",
      "[I 2025-03-13 19:38:12,027] Trial 47 finished with value: 0.972166573688173 and parameters: {'iterations': 979, 'learning_rate': 0.02324941829279891, 'depth': 7, 'l2_leaf_reg': 4.060894201243176}. Best is trial 13 with value: 0.9762845960534966.\n",
      "[I 2025-03-13 19:39:12,455] Trial 48 finished with value: 0.974269138750597 and parameters: {'iterations': 1151, 'learning_rate': 0.10499690219793409, 'depth': 7, 'l2_leaf_reg': 2.211043554196045}. Best is trial 13 with value: 0.9762845960534966.\n",
      "[I 2025-03-13 19:39:31,359] Trial 49 finished with value: 0.9714835193584233 and parameters: {'iterations': 657, 'learning_rate': 0.0693615754928189, 'depth': 5, 'l2_leaf_reg': 5.04785615828887}. Best is trial 13 with value: 0.9762845960534966.\n"
     ]
    },
    {
     "name": "stdout",
     "output_type": "stream",
     "text": [
      "best_params {'iterations': 510, 'learning_rate': 0.09211244667259973, 'depth': 8, 'l2_leaf_reg': 4.857966274106451}\n"
     ]
    }
   ],
   "source": [
    "import numpy as np\n",
    "import optuna\n",
    "from catboost import CatBoostClassifier\n",
    "from sklearn.metrics import roc_auc_score, classification_report\n",
    "from sklearn.model_selection import train_test_split\n",
    "\n",
    "class Config:\n",
    "    def __init__(self):\n",
    "        self.verbose = 0\n",
    "        self.random_seed = 42\n",
    "\n",
    "config = Config()\n",
    "\n",
    "def objective(trial):\n",
    "    params = {\n",
    "        \"iterations\": trial.suggest_int(\"iterations\", 500, 2000),\n",
    "        \"learning_rate\": trial.suggest_loguniform(\"learning_rate\", 0.01, 0.3),\n",
    "        \"depth\": trial.suggest_int(\"depth\", 4, 10),\n",
    "        \"l2_leaf_reg\": trial.suggest_loguniform(\"l2_leaf_reg\", 1, 10),\n",
    "        \"loss_function\": \"MultiClass\",\n",
    "        \"eval_metric\": \"MultiClass\",\n",
    "        \"verbose\": config.verbose,\n",
    "        \"random_seed\": config.random_seed,\n",
    "    }\n",
    "    \n",
    "    model = CatBoostClassifier(**params)\n",
    "    model.fit(X_train, y_train, eval_set=(X_valid, y_valid), early_stopping_rounds=50, verbose=False)\n",
    "    \n",
    "    y_pred_proba = model.predict_proba(X_valid)\n",
    "    return roc_auc_score(y_valid, y_pred_proba, multi_class=\"ovr\")\n",
    "\n",
    "X_train, X_valid, y_train, y_valid = train_test_split(X_train, y_train, test_size=0.2, random_state=config.random_seed)\n",
    "\n",
    "study = optuna.create_study(direction=\"maximize\")\n",
    "study.optimize(objective, n_trials=50)\n",
    "best_params = study.best_params\n",
    "print('best_params', best_params)"
   ]
  },
  {
   "cell_type": "code",
   "execution_count": 15,
   "id": "4873a725-794f-4f7f-9334-3ebed3b33fdc",
   "metadata": {},
   "outputs": [],
   "source": [
    "model = CatBoostClassifier(**best_params, loss_function=\"MultiClass\", eval_metric=\"MultiClass\", verbose=config.verbose, random_seed=config.random_seed)\n",
    "model.fit(X_train, y_train)\n",
    "\n",
    "y_pred_proba = model.predict_proba(X_test)\n",
    "y_pred = np.argmax(y_pred_proba, axis=1)\n",
    "y_pred = y_pred + 1\n",
    "\n",
    "roc_auc = roc_auc_score(y_test, y_pred_proba, multi_class=\"ovr\")"
   ]
  },
  {
   "cell_type": "code",
   "execution_count": 17,
   "id": "f6b8311e-67e1-49d3-8cb6-794fbeac57dc",
   "metadata": {},
   "outputs": [
    {
     "data": {
      "text/plain": [
       "0.9820860126791173"
      ]
     },
     "execution_count": 17,
     "metadata": {},
     "output_type": "execute_result"
    }
   ],
   "source": [
    "roc_auc"
   ]
  },
  {
   "cell_type": "code",
   "execution_count": 19,
   "id": "f294b174-9e4c-4c09-afdf-9d5e6f3f28fc",
   "metadata": {},
   "outputs": [
    {
     "name": "stdout",
     "output_type": "stream",
     "text": [
      "\n",
      "Отчет о классификации:\n",
      "               precision    recall  f1-score   support\n",
      "\n",
      "           1       0.98      0.98      0.98      3066\n",
      "           2       0.81      0.58      0.68       133\n",
      "           3       0.83      0.65      0.73       310\n",
      "           4       0.76      0.88      0.81      1473\n",
      "           5       0.72      0.74      0.73       362\n",
      "           6       0.92      0.92      0.92       524\n",
      "           7       0.85      0.82      0.83       255\n",
      "           8       0.85      0.77      0.81       251\n",
      "           9       0.91      0.88      0.90       897\n",
      "          10       0.62      0.45      0.52       283\n",
      "\n",
      "    accuracy                           0.88      7554\n",
      "   macro avg       0.83      0.77      0.79      7554\n",
      "weighted avg       0.88      0.88      0.88      7554\n",
      "\n"
     ]
    }
   ],
   "source": [
    "print(\"\\nОтчет о классификации:\\n\", classification_report(y_test, y_pred))"
   ]
  },
  {
   "cell_type": "markdown",
   "id": "43cff6d2-f2c4-44a4-b45f-599c75c72dc5",
   "metadata": {},
   "source": [
    "- Классы с высокими показателями (f1-score > 0.80)\\\n",
    "Класс 1: (f1-score 0.98) – очень высокая точность и полнота, модель отлично классифицирует этот класс.\\\n",
    "Класс 6: (f1-score 0.92) – сбалансированная и высокая точность/полнота.\\\n",
    "Класс 7: (f1-score 0.83) – хороший баланс между precision и recall.\\\n",
    "Класс 9: (f1-score 0.90) – высокая точность и полнота.\\\n",
    "Класс 4: (f1-score 0.81) – хороший результат.\\\n",
    "Вывод: Для этих классов модель работает почти идеально, можно сказать, что она хорошо распознает их.\n",
    "\n",
    "- Классы со средними результатами (f1-score 0.70 - 0.79)\\\n",
    "Класс 3: (f1-score 0.73) – precision 0.83, но recall 0.65, что указывает на наличие ложноотрицательных.\\\n",
    "Класс 5: (f1-score 0.73) – precision 0.72 и recall 0.74, сбалансированное предсказание.\\\n",
    "Класс 8: (f1-score 0.81) – precision выше (0.85), но recall ниже (0.77), возможны ложноотрицательные.\\\n",
    "Вывод: Модель в целом хорошо распознает эти классы, но recall немного ниже, что говорит о возможных пропущенных объектах.\\\n",
    "\n",
    "- Классы с низкими результатами (f1-score < 0.70)\\\n",
    "Класс 2: (f1-score 0.68) – высокая precision (0.81), но низкий recall (0.58), модель часто ошибается в сторону \"непредсказания\" этого класса.\\\n",
    "Класс 10: (f1-score 0.52) – самый слабый класс, recall всего 0.45, означает, что модель плохо находит объекты этого класса.\\\n",
    "Вывод: Класс 10 - самый проблемный, модель часто не распознает его, что вызвано малым количеством обучающих данных или высокой схожестью с другими классами."
   ]
  },
  {
   "cell_type": "markdown",
   "id": "85e4a1c6-c69e-4ba4-bba8-baef3276a145",
   "metadata": {},
   "source": [
    "### Выводы"
   ]
  },
  {
   "cell_type": "markdown",
   "id": "40fd5679-112c-4543-9c44-833c1fb29cf3",
   "metadata": {},
   "source": [
    "1. В анализе представлены результаты четырех моделей классификации:\n",
    "\n",
    "Логистическая регрессия\\\n",
    "SVC (Support Vector Classifier)\\\n",
    "CatBoost\\\n",
    "Оптимизированный CatBoost с Optuna\\\n",
    "Оценка моделей выполнена с помощью метрик ROC AUC, precision, recall, f1-score и accuracy.\n",
    "\n",
    "2. Сравнение моделей по метрике ROC AUC\n",
    "ROC AUC отражает способность модели различать классы. Чем выше значение, тем лучше модель:\n",
    "\n",
    "- Logistic Regression: 0.908\n",
    "- SVC: 0.935\n",
    "- CatBoost: 0.984\n",
    "- Optuna + CatBoost: 0.982\\\n",
    "CatBoost и его оптимизированная версия показали лучшие результаты по метрике ROC AUC, существенно превосходя линейные модели.\n",
    "\n",
    "3. Сравнение по метрике accuracy (доля правильных ответов)\n",
    "- Logistic Regression: 0.70\n",
    "- SVC: 0.75\n",
    "- CatBoost: 0.88\n",
    "- Optuna + CatBoost: 0.88\\\n",
    "CatBoost и его оптимизированная версия также показывают наивысшую точность.\n",
    "\n",
    "4. Анализ precision, recall и f1-score по классам\n",
    "\n",
    "Логистическая регрессия:\n",
    "Хорошие результаты по классу 1 (f1-score 0.95) и 9 (f1-score 0.77).\n",
    "Провал на классах 2, 3, 7, 8 (f1-score ≈ 0).\n",
    "В целом, модель не справляется с дисбалансом классов.\n",
    "\n",
    "SVC:\n",
    "Значительное улучшение по большинству классов.\n",
    "Например, класс 2 теперь имеет recall 0.77 (значительно лучше, чем 0 в логистической регрессии).\n",
    "Улучшились результаты на классах 3, 5, 6, 7, 8, но класс 4 стал хуже (recall 0.46).\n",
    "SVC лучше справляется с редкими классами, но все еще далек от оптимального.\n",
    "\n",
    "CatBoost:\n",
    "Существенный рост f1-score для всех классов.\n",
    "Класс 2 (f1-score 0.65) и 10 (f1-score 0.51) показывают заметное улучшение.\n",
    "Большинство классов имеют f1-score > 0.75, что говорит о сбалансированном распознавании.\n",
    "Модель явно лучше улавливает сложные зависимости в данных.\n",
    "\n",
    "Optuna + CatBoost:\n",
    "Почти идентичные результаты с обычным CatBoost.\n",
    "Незначительные улучшения для классов 2, 3, 7.\n",
    "Однако f1-score по классу 10 слегка упал (с 0.51 до 0.52).\n",
    "\n",
    "Оптимизация дала минимальные улучшения, но незначительно повлияла на метрики.\n",
    "\n",
    "5. Выводы\n",
    "\n",
    "Логистическая регрессия — худший вариант, плохо обрабатывает редкие классы.\n",
    "SVC показал улучшение, но все еще плохо работает с некоторыми редкими классами.\n",
    "CatBoost однозначно лучшая модель, обеспечивающая наивысшую точность и сбалансированность по всем классам.\n",
    "Оптимизация CatBoost через Optuna не дала значительных улучшений, но подтвердила, что градиентный бустинг уже является оптимальным выбором."
   ]
  },
  {
   "cell_type": "code",
   "execution_count": null,
   "id": "b866c937-80ca-4de7-b2b1-fc6fc2c40dfc",
   "metadata": {},
   "outputs": [],
   "source": []
  }
 ],
 "metadata": {
  "kernelspec": {
   "display_name": "Python 3 (ipykernel)",
   "language": "python",
   "name": "python3"
  },
  "language_info": {
   "codemirror_mode": {
    "name": "ipython",
    "version": 3
   },
   "file_extension": ".py",
   "mimetype": "text/x-python",
   "name": "python",
   "nbconvert_exporter": "python",
   "pygments_lexer": "ipython3",
   "version": "3.11.7"
  },
  "widgets": {
   "application/vnd.jupyter.widget-state+json": {
    "state": {},
    "version_major": 2,
    "version_minor": 0
   }
  }
 },
 "nbformat": 4,
 "nbformat_minor": 5
}
