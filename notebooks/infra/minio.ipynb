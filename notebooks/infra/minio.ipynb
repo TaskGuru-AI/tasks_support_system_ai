{
 "cells": [
  {
   "cell_type": "markdown",
   "metadata": {},
   "source": [
    "# Как работать с MiniO вручную"
   ]
  },
  {
   "cell_type": "code",
   "execution_count": 1,
   "metadata": {},
   "outputs": [],
   "source": [
    "from minio import Minio\n",
    "import os\n",
    "from dotenv import load_dotenv, find_dotenv\n",
    "\n",
    "load_dotenv(find_dotenv())\n",
    "\n",
    "access_key = os.environ.get(\"MINIO_ACCESS_KEY\")\n",
    "secret_key = os.environ.get(\"MINIO_SECRET_KEY\")\n",
    "\n",
    "client = Minio(\n",
    "    \"data.pyrogn.ru\",\n",
    "    access_key=access_key,\n",
    "    secret_key=secret_key,\n",
    "    secure=True,\n",
    ")\n",
    "\n",
    "BUCKET_NAME = \"tasksai\"\n"
   ]
  },
  {
   "cell_type": "code",
   "execution_count": 2,
   "metadata": {},
   "outputs": [
    {
     "data": {
      "text/plain": [
       "['.gitkeep',\n",
       " 'tickets_src.csv',\n",
       " 'custom_data/',\n",
       " 'dataset_tickets_timeseries/',\n",
       " 'nlp/',\n",
       " 'tickets_daily/']"
      ]
     },
     "execution_count": 2,
     "metadata": {},
     "output_type": "execute_result"
    }
   ],
   "source": [
    "[obj.object_name for obj in client.list_objects(\"tasksai\")]"
   ]
  }
 ],
 "metadata": {
  "kernelspec": {
   "display_name": ".venv",
   "language": "python",
   "name": "python3"
  },
  "language_info": {
   "codemirror_mode": {
    "name": "ipython",
    "version": 3
   },
   "file_extension": ".py",
   "mimetype": "text/x-python",
   "name": "python",
   "nbconvert_exporter": "python",
   "pygments_lexer": "ipython3",
   "version": "3.12.4"
  }
 },
 "nbformat": 4,
 "nbformat_minor": 2
}
