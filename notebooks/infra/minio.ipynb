{
 "cells": [
  {
   "cell_type": "code",
   "execution_count": null,
   "metadata": {},
   "outputs": [],
   "source": [
    "from minio import Minio\n",
    "import os\n",
    "from dotenv import load_dotenv, find_dotenv\n",
    "\n",
    "load_dotenv(find_dotenv())\n",
    "\n",
    "access_key = os.environ.get(\"MINIO_ACCESS_KEY\")\n",
    "secret_key = os.environ.get(\"MINIO_SECRET_KEY\")\n",
    "\n",
    "client = Minio(\n",
    "    \"data.pyrogn.ru:9000\",\n",
    "    access_key=access_key,\n",
    "    secret_key=secret_key,\n",
    "    secure=False,\n",
    "    # http_client=None,\n",
    "    cert_check=False,\n",
    ")\n",
    "\n",
    "BUCKET_NAME = \"tasksai\"\n"
   ]
  },
  {
   "cell_type": "code",
   "execution_count": null,
   "metadata": {},
   "outputs": [
    {
     "data": {
      "text/plain": [
       "['__class__',\n",
       " '__delattr__',\n",
       " '__dict__',\n",
       " '__dir__',\n",
       " '__doc__',\n",
       " '__eq__',\n",
       " '__format__',\n",
       " '__ge__',\n",
       " '__getattribute__',\n",
       " '__getstate__',\n",
       " '__gt__',\n",
       " '__hash__',\n",
       " '__init__',\n",
       " '__init_subclass__',\n",
       " '__le__',\n",
       " '__lt__',\n",
       " '__module__',\n",
       " '__ne__',\n",
       " '__new__',\n",
       " '__reduce__',\n",
       " '__reduce_ex__',\n",
       " '__repr__',\n",
       " '__setattr__',\n",
       " '__sizeof__',\n",
       " '__str__',\n",
       " '__subclasshook__',\n",
       " '__weakref__',\n",
       " '_bucket_name',\n",
       " '_content_type',\n",
       " '_etag',\n",
       " '_is_delete_marker',\n",
       " '_is_latest',\n",
       " '_last_modified',\n",
       " '_metadata',\n",
       " '_object_name',\n",
       " '_owner_id',\n",
       " '_owner_name',\n",
       " '_size',\n",
       " '_storage_class',\n",
       " '_tags',\n",
       " '_version_id',\n",
       " 'bucket_name',\n",
       " 'content_type',\n",
       " 'etag',\n",
       " 'fromxml',\n",
       " 'is_delete_marker',\n",
       " 'is_dir',\n",
       " 'is_latest',\n",
       " 'last_modified',\n",
       " 'metadata',\n",
       " 'object_name',\n",
       " 'owner_id',\n",
       " 'owner_name',\n",
       " 'size',\n",
       " 'storage_class',\n",
       " 'tags',\n",
       " 'version_id']"
      ]
     },
     "execution_count": 11,
     "metadata": {},
     "output_type": "execute_result"
    }
   ],
   "source": [
    "dir(list(client.list_objects(\"tasksai-backup-20241214155639\"))[0])\n"
   ]
  },
  {
   "cell_type": "code",
   "execution_count": null,
   "metadata": {},
   "outputs": [
    {
     "data": {
      "text/plain": [
       "'.gitkeep'"
      ]
     },
     "execution_count": 17,
     "metadata": {},
     "output_type": "execute_result"
    }
   ],
   "source": [
    "list(client.list_objects(\"tasksai-backup-20241214155639\"))[0].object_name\n"
   ]
  }
 ],
 "metadata": {
  "kernelspec": {
   "display_name": ".venv",
   "language": "python",
   "name": "python3"
  },
  "language_info": {
   "codemirror_mode": {
    "name": "ipython",
    "version": 3
   },
   "file_extension": ".py",
   "mimetype": "text/x-python",
   "name": "python",
   "nbconvert_exporter": "python",
   "pygments_lexer": "ipython3",
   "version": "3.12.4"
  }
 },
 "nbformat": 4,
 "nbformat_minor": 2
}
