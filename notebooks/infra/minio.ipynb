{
 "cells": [
  {
   "cell_type": "markdown",
   "metadata": {},
   "source": [
    "# Как работать с MiniO вручную"
   ]
  },
  {
   "cell_type": "code",
   "execution_count": 3,
   "metadata": {},
   "outputs": [],
   "source": [
    "from minio import Minio\n",
    "import os\n",
    "from dotenv import load_dotenv, find_dotenv\n",
    "\n",
    "load_dotenv(find_dotenv())\n",
    "\n",
    "access_key = os.environ.get(\"MINIO_ACCESS_KEY\")\n",
    "secret_key = os.environ.get(\"MINIO_SECRET_KEY\")\n",
    "\n",
    "client = Minio(\n",
    "    \"s3.pyrogn.ru\",\n",
    "    access_key=access_key,\n",
    "    secret_key=secret_key,\n",
    "    secure=True,\n",
    ")\n",
    "\n",
    "BUCKET_NAME = \"tasksai\"\n"
   ]
  },
  {
   "cell_type": "code",
   "execution_count": 4,
   "metadata": {},
   "outputs": [
    {
     "data": {
      "text/plain": [
       "['.gitkeep',\n",
       " 'tickets_src.csv',\n",
       " 'custom_data/',\n",
       " 'dataset_tickets_timeseries/',\n",
       " 'nlp/',\n",
       " 'tickets_daily/']"
      ]
     },
     "execution_count": 4,
     "metadata": {},
     "output_type": "execute_result"
    }
   ],
   "source": [
    "[obj.object_name for obj in client.list_objects(\"tasksai\")]"
   ]
  },
  {
   "cell_type": "code",
   "execution_count": 11,
   "metadata": {},
   "outputs": [
    {
     "data": {
      "text/plain": [
       "[Bucket('tasksai'),\n",
       " Bucket('tasksai-backup-20250112224354'),\n",
       " Bucket('tasksai-backup-20250112224924'),\n",
       " Bucket('tasksai-backup-20250112225031')]"
      ]
     },
     "execution_count": 11,
     "metadata": {},
     "output_type": "execute_result"
    }
   ],
   "source": [
    "client.list_buckets()"
   ]
  },
  {
   "cell_type": "code",
   "execution_count": null,
   "metadata": {},
   "outputs": [
    {
     "name": "stdout",
     "output_type": "stream",
     "text": [
      "Test 1: Listing buckets\n",
      "['tasksai', 'tasksai-backup-20250112224354', 'tasksai-backup-20250112224924', 'tasksai-backup-20250112225031']\n",
      "\n",
      "Test 2: Creating bucket\n",
      "Bucket tasksai already exists\n",
      "\n",
      "Test 3: Uploading test file\n",
      "Upload successful\n",
      "\n",
      "Test 4: Listing objects\n",
      "['.gitkeep', 'test.txt', 'tickets_src.csv', 'custom_data/', 'dataset_tickets_timeseries/', 'nlp/', 'tickets_daily/']\n",
      "\n",
      "Test 5: Downloading test file\n",
      "Downloaded content: Hello, MinIO!\n"
     ]
    }
   ],
   "source": [
    "from minio import Minio\n",
    "import os\n",
    "from dotenv import load_dotenv, find_dotenv\n",
    "import io\n",
    "\n",
    "def test_minio_operations():\n",
    "    client = Minio(\n",
    "        \"s3.pyrogn.ru\",\n",
    "        access_key=os.environ.get(\"MINIO_ACCESS_KEY\"),\n",
    "        secret_key=os.environ.get(\"MINIO_SECRET_KEY\"),\n",
    "        secure=True,\n",
    "    )\n",
    "\n",
    "    bucket_name = \"tasksai\"\n",
    "\n",
    "    # Test 1: List buckets\n",
    "    print(\"Test 1: Listing buckets\")\n",
    "    buckets = client.list_buckets()\n",
    "    print([b.name for b in buckets])\n",
    "\n",
    "    # Test 2: Create bucket if not exists\n",
    "    print(\"\\nTest 2: Creating bucket\")\n",
    "    if not client.bucket_exists(bucket_name):\n",
    "        client.make_bucket(bucket_name)\n",
    "        print(f\"Created bucket: {bucket_name}\")\n",
    "    else:\n",
    "        print(f\"Bucket {bucket_name} already exists\")\n",
    "\n",
    "    # Test 3: Upload small test file\n",
    "    print(\"\\nTest 3: Uploading test file\")\n",
    "    test_data = io.BytesIO(b\"Hello, MinIO!\")\n",
    "    try:\n",
    "        client.put_object(\n",
    "            bucket_name,\n",
    "            \"test.txt\",\n",
    "            test_data,\n",
    "            length=len(test_data.getvalue())\n",
    "        )\n",
    "        print(\"Upload successful\")\n",
    "    except Exception as e:\n",
    "        print(f\"Upload failed: {e}\")\n",
    "\n",
    "    # Test 4: List objects\n",
    "    print(\"\\nTest 4: Listing objects\")\n",
    "    try:\n",
    "        objects = list(client.list_objects(bucket_name))\n",
    "        print([obj.object_name for obj in objects])\n",
    "    except Exception as e:\n",
    "        print(f\"List failed: {e}\")\n",
    "\n",
    "    # Test 5: Download test file\n",
    "    print(\"\\nTest 5: Downloading test file\")\n",
    "    try:\n",
    "        data = client.get_object(bucket_name, \"test.txt\")\n",
    "        print(f\"Downloaded content: {data.read().decode()}\")\n",
    "    except Exception as e:\n",
    "        print(f\"Download failed: {e}\")\n",
    "\n",
    "if __name__ == \"__main__\":\n",
    "    test_minio_operations()"
   ]
  },
  {
   "cell_type": "code",
   "execution_count": null,
   "metadata": {},
   "outputs": [
    {
     "name": "stdout",
     "output_type": "stream",
     "text": [
      "Listing buckets:\n",
      "- tasksai\n",
      "- tasksai-backup-20250112224354\n",
      "- tasksai-backup-20250112224924\n",
      "- tasksai-backup-20250112225031\n",
      "\n",
      "Listing objects in tasksai:\n",
      "- .gitkeep (size: 0 bytes)\n",
      "  Can access: Yes\n",
      "- custom_data/tree_proper.csv (size: 61728 bytes)\n",
      "  Can access: No - S3 operation failed; code: AccessDenied, message: Access denied, resource: /tasksai/custom_data/tree_proper.csv, request_id: 181A0B1DAD52B714, host_id: dd9025bab4ad464b049177c95eb6ebf374d3b3fd1af9251148b658df7ac2e3e8, bucket_name: tasksai, object_name: custom_data/tree_proper.csv\n",
      "- custom_data/tree_proper_slice.csv (size: 61407 bytes)\n",
      "  Can access: No - S3 operation failed; code: AccessDenied, message: Access denied, resource: /tasksai/custom_data/tree_proper_slice.csv, request_id: 181A0B1DB3E904A5, host_id: dd9025bab4ad464b049177c95eb6ebf374d3b3fd1af9251148b658df7ac2e3e8, bucket_name: tasksai, object_name: custom_data/tree_proper_slice.csv\n",
      "- dataset_tickets_timeseries/all_tickets.tsv (size: 28973112 bytes)\n",
      "  Can access: Yes\n",
      "- dataset_tickets_timeseries/read.txt (size: 390 bytes)\n",
      "  Can access: Yes\n",
      "- dataset_tickets_timeseries/tree_queue.tsv (size: 22863 bytes)\n",
      "  Can access: Yes\n",
      "- nlp/nlp_tickets_test.csv (size: 15244699 bytes)\n",
      "  Can access: No - S3 operation failed; code: AccessDenied, message: Access denied, resource: /tasksai/nlp/nlp_tickets_test.csv, request_id: 181A0B1DC5E35498, host_id: dd9025bab4ad464b049177c95eb6ebf374d3b3fd1af9251148b658df7ac2e3e8, bucket_name: tasksai, object_name: nlp/nlp_tickets_test.csv\n",
      "- nlp/nlp_tickets_train.csv (size: 5086644 bytes)\n",
      "  Can access: No - S3 operation failed; code: AccessDenied, message: Access denied, resource: /tasksai/nlp/nlp_tickets_train.csv, request_id: 181A0B1DCC086553, host_id: dd9025bab4ad464b049177c95eb6ebf374d3b3fd1af9251148b658df7ac2e3e8, bucket_name: tasksai, object_name: nlp/nlp_tickets_train.csv\n",
      "- nlp/word2vec.model (size: 8090365 bytes)\n",
      "  Can access: Yes\n",
      "- tickets_daily/read.txt (size: 154 bytes)\n",
      "  Can access: Yes\n",
      "- tickets_daily/tickets_daily.csv (size: 8311237 bytes)\n",
      "  Can access: No - S3 operation failed; code: AccessDenied, message: Access denied, resource: /tasksai/tickets_daily/tickets_daily.csv, request_id: 181A0B1DDA905EFA, host_id: dd9025bab4ad464b049177c95eb6ebf374d3b3fd1af9251148b658df7ac2e3e8, bucket_name: tasksai, object_name: tickets_daily/tickets_daily.csv\n",
      "- tickets_daily/tickets_daily_slice.csv (size: 2459027 bytes)\n",
      "  Can access: No - S3 operation failed; code: AccessDenied, message: Access denied, resource: /tasksai/tickets_daily/tickets_daily_slice.csv, request_id: 181A0B1DE11C392B, host_id: dd9025bab4ad464b049177c95eb6ebf374d3b3fd1af9251148b658df7ac2e3e8, bucket_name: tasksai, object_name: tickets_daily/tickets_daily_slice.csv\n",
      "- tickets_src.csv (size: 5905586 bytes)\n",
      "  Can access: No - S3 operation failed; code: AccessDenied, message: Access denied, resource: /tasksai/tickets_src.csv, request_id: 181A0B1DE7234A71, host_id: dd9025bab4ad464b049177c95eb6ebf374d3b3fd1af9251148b658df7ac2e3e8, bucket_name: tasksai, object_name: tickets_src.csv\n"
     ]
    }
   ],
   "source": [
    "from minio import Minio\n",
    "import os\n",
    "from dotenv import load_dotenv\n",
    "\n",
    "load_dotenv()\n",
    "\n",
    "def test_minio_access():\n",
    "    client = Minio(\n",
    "        \"s3.pyrogn.ru\",\n",
    "        access_key=os.getenv(\"MINIO_ACCESS_KEY\"),\n",
    "        secret_key=os.getenv(\"MINIO_SECRET_KEY\"),\n",
    "        secure=True\n",
    "    )\n",
    "\n",
    "    # Test bucket listing\n",
    "    print(\"Listing buckets:\")\n",
    "    buckets = client.list_buckets()\n",
    "    for bucket in buckets:\n",
    "        print(f\"- {bucket.name}\")\n",
    "\n",
    "    bucket_name = \"tasksai\"\n",
    "\n",
    "    # Test object listing\n",
    "    print(\"\\nListing objects in tasksai:\")\n",
    "    objects = client.list_objects(bucket_name, recursive=True)\n",
    "    for obj in objects:\n",
    "        print(f\"- {obj.object_name} (size: {obj.size} bytes)\")\n",
    "        # Try to get object stats\n",
    "        try:\n",
    "            stat = client.stat_object(bucket_name, obj.object_name)\n",
    "            print(f\"  Can access: Yes\")\n",
    "        except Exception as e:\n",
    "            print(f\"  Can access: No - {str(e)}\")\n",
    "\n",
    "\n",
    "test_minio_access()"
   ]
  }
 ],
 "metadata": {
  "kernelspec": {
   "display_name": ".venv",
   "language": "python",
   "name": "python3"
  },
  "language_info": {
   "codemirror_mode": {
    "name": "ipython",
    "version": 3
   },
   "file_extension": ".py",
   "mimetype": "text/x-python",
   "name": "python",
   "nbconvert_exporter": "python",
   "pygments_lexer": "ipython3",
   "version": "3.12.8"
  }
 },
 "nbformat": 4,
 "nbformat_minor": 2
}
